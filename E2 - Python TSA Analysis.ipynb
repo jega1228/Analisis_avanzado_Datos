{
 "cells": [
  {
   "cell_type": "code",
   "execution_count": null,
   "id": "87502a7d",
   "metadata": {},
   "outputs": [],
   "source": [
    "# Importar Librerias\n",
    "\n",
    "import pandas as pd\n",
    "import numpy as np\n",
    "import matplotlib.pyplot as plt\n",
    "import seaborn as sns\n",
    "import csv\n",
    "import sys\n",
    "import plotly as pt\n",
    "import plotly.express as px\n",
    "\n",
    "from statsmodels.tsa.stattools import adfuller\n",
    "%matplotlib inline\n",
    "sns.set()  "
   ]
  },
  {
   "cell_type": "code",
   "execution_count": null,
   "id": "80ca2428",
   "metadata": {},
   "outputs": [],
   "source": [
    "# Leer el archivo 'datos.csv'\n",
    "df = pd.read_csv(\"DataSet/Vicente_Fernandez_TSA.csv\")\n",
    "\n",
    "# Ajuste de Dataframe\n",
    "df.columns  =[\"Mes\", \"Vicente\"]\n",
    "\n",
    "df.Mes = pd.to_datetime(df.Mes)\n",
    "df.set_index('Mes', inplace=True)"
   ]
  },
  {
   "cell_type": "code",
   "execution_count": null,
   "id": "cf27eb65",
   "metadata": {},
   "outputs": [],
   "source": [
    "# Información del dataframe\n",
    "df.info()"
   ]
  },
  {
   "cell_type": "markdown",
   "id": "65df87be",
   "metadata": {},
   "source": [
    "### $\\color{red}{\\text{Distribucción inicial de la serie}}$"
   ]
  },
  {
   "cell_type": "code",
   "execution_count": null,
   "id": "563377c8",
   "metadata": {},
   "outputs": [],
   "source": [
    "df.plot(figsize=(17,4),linewidth=4, fontsize=15)"
   ]
  },
  {
   "cell_type": "markdown",
   "id": "e9d482af",
   "metadata": {},
   "source": [
    "### $\\color{red}{\\text{Identificación de tendencias en series temporales - Promedio Movil -12 meses}}$"
   ]
  },
  {
   "cell_type": "code",
   "execution_count": null,
   "id": "8c0ead01",
   "metadata": {},
   "outputs": [],
   "source": [
    "df.rolling(12).mean().plot(figsize=(17,5), linewidth=5, fontsize=20)\n",
    "plt.xlabel('Mes', fontsize=15);"
   ]
  },
  {
   "cell_type": "markdown",
   "id": "efca1e20",
   "metadata": {},
   "source": [
    "### $\\color{red}{\\text{Esta serie es estacionaria?}}$"
   ]
  },
  {
   "cell_type": "code",
   "execution_count": null,
   "id": "12300599",
   "metadata": {},
   "outputs": [],
   "source": [
    "result = adfuller(df['Vicente'])\n",
    "print('ADF Statistic: %f' % result[0])\n",
    "print('p-value: %f' % result[1])\n",
    "print('Critical Values:')\n",
    "for key, value in result[4].items():\n",
    "    print('\\t%s: %.3f' % (key, value))"
   ]
  },
  {
   "cell_type": "markdown",
   "id": "bc55ad3b",
   "metadata": {},
   "source": [
    "### $\\color{black}{\\text{ En este caso, el test rechaza la Ho de que la serie no es estacionaria, luego la seria es estacionaria}}$"
   ]
  },
  {
   "cell_type": "markdown",
   "id": "200cdcb1",
   "metadata": {},
   "source": [
    "### $\\color{red}{\\text{Construya y grafique el componente de tendencia de la serie de tiempo}}$"
   ]
  },
  {
   "cell_type": "code",
   "execution_count": null,
   "id": "89fc99b0",
   "metadata": {},
   "outputs": [],
   "source": []
  }
 ],
 "metadata": {
  "kernelspec": {
   "display_name": "Python 3",
   "language": "python",
   "name": "python3"
  },
  "language_info": {
   "codemirror_mode": {
    "name": "ipython",
    "version": 3
   },
   "file_extension": ".py",
   "mimetype": "text/x-python",
   "name": "python",
   "nbconvert_exporter": "python",
   "pygments_lexer": "ipython3",
   "version": "3.8.8"
  }
 },
 "nbformat": 4,
 "nbformat_minor": 5
}
