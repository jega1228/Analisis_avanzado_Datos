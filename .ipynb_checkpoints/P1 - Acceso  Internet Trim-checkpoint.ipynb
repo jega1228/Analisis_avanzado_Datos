{
 "cells": [
  {
   "cell_type": "markdown",
   "metadata": {},
   "source": [
    "# P1 - TSA - Acceso a Internet en Colombia"
   ]
  },
  {
   "cell_type": "markdown",
   "metadata": {},
   "source": [
    "Elaborado por GRUPO 1:\n",
    "- Juanita Piraban Barbosa - 201216313\n",
    "- Lorena Morales Rodríguez - 202027957\n",
    "- Alejandro Barinas Guio - 201628859\n",
    "- Jaime Humberto Trujillo Perea - 201920366\n",
    "- Alexander Zapata Galindo - 201425426"
   ]
  },
  {
   "cell_type": "code",
   "execution_count": 2,
   "metadata": {},
   "outputs": [
    {
     "name": "stdout",
     "output_type": "stream",
     "text": [
      "Requirement already satisfied: pystan==2.19.1.1 in c:\\users\\57310\\anaconda3\\lib\\site-packages (2.19.1.1)\n",
      "Requirement already satisfied: Cython!=0.25.1,>=0.22 in c:\\users\\57310\\anaconda3\\lib\\site-packages (from pystan==2.19.1.1) (0.29.15)\n",
      "Requirement already satisfied: numpy>=1.7 in c:\\users\\57310\\anaconda3\\lib\\site-packages (from pystan==2.19.1.1) (1.18.1)\n"
     ]
    }
   ],
   "source": [
    "#Paquetes necesarios\n",
    "!pip install pystan==2.19.1.1\n",
    "#conda install -c conda-forge prophet"
   ]
  },
  {
   "cell_type": "code",
   "execution_count": null,
   "metadata": {},
   "outputs": [],
   "source": [
    "conda install -c conda-forge prophet"
   ]
  },
  {
   "cell_type": "code",
   "execution_count": null,
   "metadata": {},
   "outputs": [],
   "source": [
    "# Importar Librerias\n",
    "import pandas as pd\n",
    "import numpy as np\n",
    "import matplotlib.pyplot as plt\n",
    "import seaborn as sns\n",
    "import csv\n",
    "import sys\n",
    "import plotly as pt\n",
    "import plotly.express as px\n",
    "import warnings\n",
    "\n",
    "from statsmodels.tsa.stattools import adfuller\n",
    "from statsmodels.tsa.seasonal import seasonal_decompose\n",
    "from statsmodels.graphics.tsaplots import plot_acf\n",
    "from statsmodels.graphics.tsaplots import plot_pacf\n",
    "from statsmodels.tsa.arima_model import ARIMA\n",
    "from sklearn.metrics import mean_squared_error\n",
    "\n",
    "from matplotlib import pyplot\n",
    "from pandas import DatetimeIndex\n",
    "from pandas import Series\n",
    "from tabulate import tabulate\n",
    "from pandas import DataFrame\n",
    "\n",
    "from prophet import Prophet\n",
    "from prophet.plot import add_changepoints_to_plot\n",
    "from prophet.diagnostics import performance_metrics\n",
    "from prophet.plot import plot_cross_validation_metric\n",
    "from prophet.diagnostics import cross_validation\n",
    "\n",
    "%matplotlib inline\n",
    "sns.set()  "
   ]
  },
  {
   "cell_type": "code",
   "execution_count": null,
   "metadata": {},
   "outputs": [],
   "source": [
    "# Leer el archivo 'datos.csv'\n",
    "df = pd.read_excel(\"DataSet/P1_Serie_Acceso_Internet_Trim.xlsx\",index_col=0)"
   ]
  },
  {
   "cell_type": "markdown",
   "metadata": {},
   "source": [
    "# Parte A. Contexto y relevancia del problema"
   ]
  },
  {
   "cell_type": "markdown",
   "metadata": {},
   "source": [
    "Para el desarrollo del proyecto, se utilizó la serie de tiempo del porcentaje de penetración de Internet dedicado en Colombia (% de la población).\n",
    "\n",
    "Número de suscriptores con acceso a Internet, fijo y móvil, según los datos reportados por los proveedores al último día de cada trimestre como porcentaje de la población basados en las proyecciones de población del DANE, entre diciembre de 2008 y diciembre de 2020.\n",
    "\n",
    "Fuente: Ministerio de las TIC https://colombiatic.mintic.gov.co/\n",
    "\n",
    "El análisis se centra en estos datos, dada la importancia de conocer cómo ha cambiado a través de los años la forma de conectarse a la red de internet, teniendo en cuenta que hace unos años, se dimensionaban las redes de conectividad 2G y 3G para comunicación por voz, la cual podía ser limitada por usuario: una persona solo puede hablar 60 minutos al día, 365 días al año. \n",
    "\n",
    "Sin embargo, con la revolución del internet un usuario puede contar con gran cantidad dispositivos conectados a las redes de internet, cifra que tiende a 10 o 20 aparatos por persona en los próximos años. Crecimiento que obliga al estado a pensar en soluciones de conectividad que sirvan para dar respeusta a esta demanda. Un claro ejemplo de esto es que al teléfono fijo le costó 75 años alcanzar los 100 millones de usuarios, y a Pokemon Go le costó tan solo 23 días alcanzar 50 millones de usuarios.\n",
    "\n",
    "A pesar de que Colombia ha avanzado en la infraestructura de las redes, el 38% de las personas en Colombia no usa internet y el 50% de los hogares no lo tienen, lo que deja al país en un escenario poco competitivo frente a otras regiones. Pues los profesionales colombianos, al no contar con una infraestuctura robusta de datos, no pueden acceder a las tecnologías más desarrolladas en otras partes del mundo.\n",
    "\n",
    "El análisis presentado en este documento permite dar un insight del crecimiento de tráfico de internet en los últimos años para tomar decisiones acerca de la legislación y los incentivos para continuar con el crecimiento de las autopistas digitales que el país necesita para ir al corriente con la cuarta revolución industrial."
   ]
  },
  {
   "cell_type": "code",
   "execution_count": null,
   "metadata": {},
   "outputs": [],
   "source": [
    "df.plot(figsize=(12, 6),linewidth=3, fontsize=15, title='Acceso a Internet en Colombia 4T-2008 / 4T-2020');"
   ]
  },
  {
   "cell_type": "markdown",
   "metadata": {},
   "source": [
    "# Análisis descriptivo "
   ]
  },
  {
   "cell_type": "code",
   "execution_count": null,
   "metadata": {},
   "outputs": [],
   "source": [
    "df.Internet.describe()"
   ]
  },
  {
   "cell_type": "code",
   "execution_count": null,
   "metadata": {},
   "outputs": [],
   "source": [
    "df.head()"
   ]
  },
  {
   "cell_type": "markdown",
   "metadata": {},
   "source": [
    "### Suscripciones a banda ancha fija (por cada 100 personas) en Latam"
   ]
  },
  {
   "cell_type": "code",
   "execution_count": null,
   "metadata": {},
   "outputs": [],
   "source": [
    "table_Latam = [['Colombia','13.8%'],['Argentina','19.6%'],['Brasil','15.6%'],['Ecuador','12.0%'],['Latam','14.1%'],['México','15.2%']]\n",
    "headers = ['País', 'año 2018']\n",
    "print(tabulate(table_Latam,headers))"
   ]
  },
  {
   "cell_type": "markdown",
   "metadata": {},
   "source": [
    "### Suscripciones a banda ancha fija (por cada 100 personas) en Países Desarrollados"
   ]
  },
  {
   "cell_type": "code",
   "execution_count": null,
   "metadata": {},
   "outputs": [],
   "source": [
    "table_GP = [['Alemania','42.0%'],['China','31.3%'],['Estados Unidos','34.7%'],['Japón','33.5%'],['OECD','31.8%'],['Reino Unido','39.7%']]\n",
    "headers = ['País', 'año 2018']\n",
    "print(tabulate(table_GP,headers))"
   ]
  },
  {
   "cell_type": "markdown",
   "metadata": {},
   "source": [
    "# Parte B. Análisis de los principales componentes de la serie"
   ]
  },
  {
   "cell_type": "markdown",
   "metadata": {},
   "source": [
    "## Serie Original"
   ]
  },
  {
   "cell_type": "code",
   "execution_count": null,
   "metadata": {},
   "outputs": [],
   "source": [
    "original=df['Internet']\n",
    "original.plot(figsize=(17,5), linewidth=3, fontsize=15)"
   ]
  },
  {
   "cell_type": "code",
   "execution_count": null,
   "metadata": {},
   "outputs": [],
   "source": [
    "#DF Test\n",
    "result = adfuller(df['Internet'])\n",
    "print('ADF Statistic: %f' % result[0])\n",
    "print('p-value: %f' % result[1])\n",
    "print('Critical Values:')\n",
    "for key, value in result[4].items():\n",
    "    print('\\t%s: %.3f' % (key, value))"
   ]
  },
  {
   "cell_type": "markdown",
   "metadata": {},
   "source": [
    "En este caso, el test no rechaza la Ho de que la serie no es estacionaria."
   ]
  },
  {
   "cell_type": "markdown",
   "metadata": {},
   "source": [
    "## Tendencia"
   ]
  },
  {
   "cell_type": "code",
   "execution_count": null,
   "metadata": {},
   "outputs": [],
   "source": [
    "tendencia=df['Internet'].rolling(window = 4).mean()\n",
    "tendencia.plot(figsize=(17,5), linewidth=3, fontsize=15)"
   ]
  },
  {
   "cell_type": "markdown",
   "metadata": {},
   "source": [
    "## Serie sin Tendencia"
   ]
  },
  {
   "cell_type": "code",
   "execution_count": null,
   "metadata": {},
   "outputs": [],
   "source": [
    "sin_tendencia=df['Internet']-tendencia\n",
    "sin_tendencia.plot(figsize=(17,5), linewidth=3, fontsize=15)\n",
    "plt.xlabel('Periodo', fontsize=20);"
   ]
  },
  {
   "cell_type": "code",
   "execution_count": null,
   "metadata": {},
   "outputs": [],
   "source": [
    "result = adfuller(sin_tendencia.dropna()) \n",
    "print('ADF Statistic: %f' % result[0])\n",
    "print('p-value: %f' % result[1])\n",
    "print('Critical Values:')\n",
    "for key, value in result[4].items():\n",
    "    print('\\t%s: %.3f' % (key, value))"
   ]
  },
  {
   "cell_type": "markdown",
   "metadata": {},
   "source": [
    "Al eliminar la tendencia, la serie es estacionaria al 5% de significancia pero no al 1% de significancia."
   ]
  },
  {
   "cell_type": "markdown",
   "metadata": {},
   "source": [
    "## Serie sin Componente Estacional "
   ]
  },
  {
   "cell_type": "markdown",
   "metadata": {},
   "source": [
    "Para eliminar el componente estacional se calcula la diferencia entre la tendencia y su rezago:"
   ]
  },
  {
   "cell_type": "code",
   "execution_count": null,
   "metadata": {},
   "outputs": [],
   "source": [
    "residuo = sin_tendencia-sin_tendencia.shift()\n",
    "residuo.plot(figsize=(17,5), linewidth=3, fontsize=15)"
   ]
  },
  {
   "cell_type": "code",
   "execution_count": null,
   "metadata": {},
   "outputs": [],
   "source": [
    "result = adfuller(residuo.dropna()) \n",
    "print('ADF Statistic: %f' % result[0])\n",
    "print('p-value: %f' % result[1])\n",
    "print('Critical Values:')\n",
    "for key, value in result[4].items():\n",
    "    print('\\t%s: %.3f' % (key, value))"
   ]
  },
  {
   "cell_type": "markdown",
   "metadata": {},
   "source": [
    "En este caso, el test rechaza la Ho de que la serie no es estacionaria; luego la serie sin tendencia ni componente estacional (es decir, el componente residual) es estacionaria."
   ]
  },
  {
   "cell_type": "markdown",
   "metadata": {},
   "source": [
    "## Estacionalidad"
   ]
  },
  {
   "cell_type": "code",
   "execution_count": null,
   "metadata": {},
   "outputs": [],
   "source": [
    "estacional = sin_tendencia-residuo\n",
    "estacional.plot(figsize=(17,5), linewidth=3, fontsize=15)\n",
    "plt.xlabel('Periodo', fontsize=20);"
   ]
  },
  {
   "cell_type": "markdown",
   "metadata": {},
   "source": [
    "No es claro un componente estacional."
   ]
  },
  {
   "cell_type": "markdown",
   "metadata": {},
   "source": [
    "Esto se confirma al no observar cambios repetitivos en la funcion de autocorrelación siguiente:"
   ]
  },
  {
   "cell_type": "code",
   "execution_count": null,
   "metadata": {},
   "outputs": [],
   "source": [
    "plt.figure(figsize=(14,5))\n",
    "pd.plotting.autocorrelation_plot(df['Internet']);"
   ]
  },
  {
   "cell_type": "markdown",
   "metadata": {},
   "source": [
    "# Descomposición Automática de la Serie"
   ]
  },
  {
   "cell_type": "code",
   "execution_count": null,
   "metadata": {},
   "outputs": [],
   "source": [
    "from statsmodels.tsa.seasonal import seasonal_decompose\n",
    "decomposition = seasonal_decompose(df.Internet,model='additive')\n",
    "decomposition.plot();"
   ]
  },
  {
   "cell_type": "markdown",
   "metadata": {},
   "source": [
    "# Parte C. Modelos y Proyecciones"
   ]
  },
  {
   "cell_type": "code",
   "execution_count": null,
   "metadata": {},
   "outputs": [],
   "source": [
    "warnings.filterwarnings('ignore')"
   ]
  },
  {
   "cell_type": "markdown",
   "metadata": {},
   "source": [
    "## C.1. Modelos ARIMA"
   ]
  },
  {
   "cell_type": "markdown",
   "metadata": {},
   "source": [
    "## 1. Modelos"
   ]
  },
  {
   "cell_type": "markdown",
   "metadata": {},
   "source": [
    "Se transforma la serie en logaritmo y se diferencia una vez:"
   ]
  },
  {
   "cell_type": "code",
   "execution_count": null,
   "metadata": {},
   "outputs": [],
   "source": [
    "df['log_Internet'] = np.log(df['Internet'])\n",
    "df_log=df.iloc[:,1:3]\n",
    "df_log= df.log_Internet.diff()\n",
    "df_log=df_log.dropna()\n",
    "df_log.plot(figsize=(12, 6),linewidth=3, fontsize=15);"
   ]
  },
  {
   "cell_type": "code",
   "execution_count": null,
   "metadata": {},
   "outputs": [],
   "source": [
    "result = adfuller(df_log)\n",
    "print('ADF Statistic: %f' % result[0])\n",
    "print('p-value: %f' % result[1])\n",
    "print('Critical Values:')\n",
    "for key, value in result[4].items():\n",
    "    print('\\t%s: %.3f' % (key, value))"
   ]
  },
  {
   "cell_type": "markdown",
   "metadata": {},
   "source": [
    "La serie diferenciada es estacionaria, dado que se rechaza la Ho de que la serie es no estacionaria."
   ]
  },
  {
   "cell_type": "code",
   "execution_count": null,
   "metadata": {},
   "outputs": [],
   "source": [
    "# Función de Autocorrelación\n",
    "serie = np.log(df['Internet']).diff().dropna()\n",
    "plot_acf(serie,lags=20);"
   ]
  },
  {
   "cell_type": "markdown",
   "metadata": {},
   "source": [
    "La ACF sugiere un proceso MA de orden 3."
   ]
  },
  {
   "cell_type": "code",
   "execution_count": null,
   "metadata": {},
   "outputs": [],
   "source": [
    "#Función de Autocorrelación Parcial\n",
    "plot_pacf(serie,lags=20);"
   ]
  },
  {
   "cell_type": "markdown",
   "metadata": {},
   "source": [
    "La PACF sugiere un autorregresivo de orden 2."
   ]
  },
  {
   "cell_type": "markdown",
   "metadata": {},
   "source": [
    "A continuación se definen las bases de entrenamiento (80%) y de pruebas (20%):"
   ]
  },
  {
   "cell_type": "code",
   "execution_count": null,
   "metadata": {},
   "outputs": [],
   "source": [
    "#Bases de train y test\n",
    "X = df['Internet'].values\n",
    "size = int(len(X) * 0.80) # 80% train, 20% test\n",
    "train, test = X[0:size], X[size:len(X)]\n",
    "history = [x for x in train]\n",
    "future = [x for x in test]"
   ]
  },
  {
   "cell_type": "markdown",
   "metadata": {},
   "source": [
    "Se proceden a estimar ahora los siguientes modelos:"
   ]
  },
  {
   "cell_type": "markdown",
   "metadata": {},
   "source": [
    "### a. Modelo ARIMA(2,1,3)"
   ]
  },
  {
   "cell_type": "code",
   "execution_count": null,
   "metadata": {},
   "outputs": [],
   "source": [
    "# fit modelo 1 - ARIMA(2,1,3)\n",
    "model1 = ARIMA(np.log(history), order=(2,1,3))\n",
    "model1_fit = model1.fit(disp=0)\n",
    "print(model1_fit.summary())"
   ]
  },
  {
   "cell_type": "code",
   "execution_count": null,
   "metadata": {},
   "outputs": [],
   "source": [
    "# plot residual errors\n",
    "residuals = pd.DataFrame(model1_fit.resid)\n",
    "fig, ax = plt.subplots(1,2)\n",
    "residuals.plot(title=\"Residuals\", ax=ax[0])\n",
    "residuals.plot(kind='kde', title='Density', ax=ax[1])\n",
    "plt.show()"
   ]
  },
  {
   "cell_type": "code",
   "execution_count": null,
   "metadata": {},
   "outputs": [],
   "source": [
    "# Real vs Proyectado\n",
    "output = model1_fit.forecast(steps=len(test))[0]\n",
    "yhat = output\n",
    "predictions = np.exp(yhat)\n",
    "real_values = future\n",
    "print(pd.DataFrame({'predict':predictions, 'real':real_values}))\n",
    "plt.plot(test)\n",
    "plt.plot(predictions, color='red')\n",
    "plt.show()\n",
    "\n",
    "# MSE\n",
    "mse1 = mean_squared_error(test, predictions)\n",
    "print('Test MSE: %.3f' % mse1)"
   ]
  },
  {
   "cell_type": "markdown",
   "metadata": {},
   "source": [
    "### b. Modelo ARIMA(2,1,1)"
   ]
  },
  {
   "cell_type": "code",
   "execution_count": null,
   "metadata": {},
   "outputs": [],
   "source": [
    "# fit modelo 2 - ARIMA(2,1,1)\n",
    "model2 = ARIMA(np.log(history), order=(2,1,1))\n",
    "model2_fit = model2.fit(disp=0)\n",
    "print(model2_fit.summary())"
   ]
  },
  {
   "cell_type": "code",
   "execution_count": null,
   "metadata": {},
   "outputs": [],
   "source": [
    "# plot residual errors\n",
    "residuals = pd.DataFrame(model2_fit.resid)\n",
    "fig, ax = plt.subplots(1,2)\n",
    "residuals.plot(title=\"Residuals\", ax=ax[0])\n",
    "residuals.plot(kind='kde', title='Density', ax=ax[1])\n",
    "plt.show()"
   ]
  },
  {
   "cell_type": "code",
   "execution_count": null,
   "metadata": {},
   "outputs": [],
   "source": [
    "#Real vs Proyectado\n",
    "output = model2_fit.forecast(steps=len(test))[0]\n",
    "yhat = output\n",
    "predictions = np.exp(yhat)\n",
    "real_values = future\n",
    "print(pd.DataFrame({'predict':predictions, 'real':real_values}))\n",
    "plt.plot(test)\n",
    "plt.plot(predictions, color='red')\n",
    "plt.show()\n",
    "\n",
    "# MSE\n",
    "mse2 = mean_squared_error(test, predictions)\n",
    "print('Test MSE: %.3f' % mse2)"
   ]
  },
  {
   "cell_type": "markdown",
   "metadata": {},
   "source": [
    "### c. Modelo ARIMA(2,1,0)"
   ]
  },
  {
   "cell_type": "code",
   "execution_count": null,
   "metadata": {},
   "outputs": [],
   "source": [
    "# fit modelo 3 - ARIMA(2,1,0)\n",
    "model3 = ARIMA(np.log(history), order=(2,1,0))\n",
    "model3_fit = model3.fit(disp=0)\n",
    "print(model3_fit.summary())"
   ]
  },
  {
   "cell_type": "code",
   "execution_count": null,
   "metadata": {},
   "outputs": [],
   "source": [
    "#Real vs Proyectado\n",
    "output = model3_fit.forecast(steps=len(test))[0]\n",
    "yhat = output\n",
    "predictions = np.exp(yhat)\n",
    "real_values = future\n",
    "#print(pd.DataFrame({'predict':predictions, 'real':real_values}))\n",
    "plt.plot(test)\n",
    "plt.plot(predictions, color='red')\n",
    "plt.show()\n",
    "\n",
    "# MSE\n",
    "mse3 = mean_squared_error(test, predictions)\n",
    "print('Test MSE: %.3f' % mse3)"
   ]
  },
  {
   "cell_type": "markdown",
   "metadata": {},
   "source": [
    "### d. Modelo ARIMA(1,1,1)"
   ]
  },
  {
   "cell_type": "code",
   "execution_count": null,
   "metadata": {},
   "outputs": [],
   "source": [
    "# fit modelo 4 - ARIMA(1,1,1)\n",
    "model4 = ARIMA(np.log(history), order=(1,1,1))\n",
    "model4_fit = model4.fit(disp=0)\n",
    "print(model4_fit.summary())"
   ]
  },
  {
   "cell_type": "code",
   "execution_count": null,
   "metadata": {},
   "outputs": [],
   "source": [
    "#Real vs Proyectado\n",
    "output = model4_fit.forecast(steps=len(test))[0]\n",
    "yhat = output\n",
    "predictions = np.exp(yhat)\n",
    "real_values = future\n",
    "print(pd.DataFrame({'predict':predictions, 'real':real_values}))\n",
    "plt.plot(test)\n",
    "plt.plot(predictions, color='red')\n",
    "plt.show()\n",
    "\n",
    "# MSE\n",
    "mse4 = mean_squared_error(test, predictions)\n",
    "print('Test MSE: %.3f' % mse4)"
   ]
  },
  {
   "cell_type": "markdown",
   "metadata": {},
   "source": [
    "### e. Modelo ARIMA(1,2,1)"
   ]
  },
  {
   "cell_type": "code",
   "execution_count": null,
   "metadata": {},
   "outputs": [],
   "source": [
    "# fit modelo 5 - ARIMA(1,2,1)\n",
    "model5 = ARIMA(np.log(history), order=(1,2,1))\n",
    "model5_fit = model5.fit(disp=0)\n",
    "print(model5_fit.summary())"
   ]
  },
  {
   "cell_type": "code",
   "execution_count": null,
   "metadata": {},
   "outputs": [],
   "source": [
    "#Real vs Proyectado\n",
    "output = model5_fit.forecast(steps=len(test))[0]\n",
    "yhat = output\n",
    "predictions = np.exp(yhat)\n",
    "real_values = future\n",
    "print(pd.DataFrame({'predict':predictions, 'real':real_values}))\n",
    "plt.plot(test)\n",
    "plt.plot(predictions, color='red')\n",
    "plt.show()\n",
    "\n",
    "# MSE\n",
    "mse5 = mean_squared_error(test, predictions)\n",
    "print('Test MSE: %.3f' % mse5)"
   ]
  },
  {
   "cell_type": "markdown",
   "metadata": {},
   "source": [
    "### f. Modelo ARIMA(1,2,0)"
   ]
  },
  {
   "cell_type": "code",
   "execution_count": null,
   "metadata": {},
   "outputs": [],
   "source": [
    "# fit modelo 6 - ARIMA(1,2,0)\n",
    "model6 = ARIMA(np.log(history), order=(1,2,0))\n",
    "model6_fit = model6.fit(disp=0)\n",
    "print(model6_fit.summary())"
   ]
  },
  {
   "cell_type": "code",
   "execution_count": null,
   "metadata": {},
   "outputs": [],
   "source": [
    "#Real vs Proyectado\n",
    "output = model6_fit.forecast(steps=len(test))[0]\n",
    "yhat = output\n",
    "predictions = np.exp(yhat)\n",
    "real_values = future\n",
    "print(pd.DataFrame({'predict':predictions, 'real':real_values}))\n",
    "plt.plot(test)\n",
    "plt.plot(predictions, color='red')\n",
    "plt.show()\n",
    "\n",
    "# MSE\n",
    "mse6 = mean_squared_error(test, predictions)\n",
    "print('Test MSE: %.3f' % mse6)"
   ]
  },
  {
   "cell_type": "markdown",
   "metadata": {},
   "source": [
    "### Comparación de modelos ARIMA"
   ]
  },
  {
   "cell_type": "code",
   "execution_count": null,
   "metadata": {},
   "outputs": [],
   "source": [
    "# Comparación de MSE\n",
    "table_MSE = [['ARIMA (2,1,3)', round(mse1,3)],['ARIMA (2,1,1)', round(mse2,3)],['ARIMA (2,1,0)', round(mse3,3)],\n",
    "            ['ARIMA (1,1,1)', round(mse4,3)],['ARIMA (1,2,1)', round(mse5,3)],['ARIMA (1,2,0)', round(mse6,3)]]\n",
    "headers = ['Modelo', 'MSE ']\n",
    "print(tabulate(table_MSE,headers,stralign=\"decimal\"))"
   ]
  },
  {
   "cell_type": "markdown",
   "metadata": {},
   "source": [
    "Se selecciona el modelo ARIMA(1,2,0) por tener menor MSE."
   ]
  },
  {
   "cell_type": "markdown",
   "metadata": {},
   "source": [
    "## 2. Proyección a 2 años (fuera de la muestra)"
   ]
  },
  {
   "cell_type": "code",
   "execution_count": null,
   "metadata": {},
   "outputs": [],
   "source": [
    "#Modelo final con todos los datos\n",
    "model_def = ARIMA(np.log(X), order=(1,2,0))\n",
    "model_def_fit = model_def.fit(disp=0)\n",
    "print(model_def_fit.summary())"
   ]
  },
  {
   "cell_type": "code",
   "execution_count": null,
   "metadata": {},
   "outputs": [],
   "source": [
    "# plot residual errors\n",
    "residuals = pd.DataFrame(model_def_fit.resid)\n",
    "fig, ax = plt.subplots(1,2)\n",
    "residuals.plot(title=\"Residuals\", ax=ax[0])\n",
    "residuals.plot(kind='kde', title='Density', ax=ax[1])\n",
    "plt.show()"
   ]
  },
  {
   "cell_type": "code",
   "execution_count": null,
   "metadata": {},
   "outputs": [],
   "source": [
    "#Proyección por fuera de la muestra\n",
    "n_periods = 8\n",
    "fc, se, conf = model_def_fit.forecast(steps=n_periods)\n",
    "\n",
    "#Extraer series\n",
    "index_of_fc = np.arange(len(X), len(X)+n_periods)\n",
    "fc_serie = np.exp(pd.Series(fc, index=index_of_fc))\n",
    "lower_serie = np.exp(pd.Series(conf[:, 0], index=index_of_fc))\n",
    "upper_serie = np.exp(pd.Series(conf[:, 1], index=index_of_fc))\n",
    "\n",
    "# Gráfico\n",
    "plt.plot(X)\n",
    "plt.plot(fc_serie, color='red')\n",
    "plt.fill_between(lower_serie.index,lower_serie, upper_serie, \n",
    "                 color='k', alpha=.15)\n",
    "plt.title(\"Final Forecast Original Serie\")\n",
    "plt.show()"
   ]
  },
  {
   "cell_type": "code",
   "execution_count": null,
   "metadata": {},
   "outputs": [],
   "source": [
    "trimestres=['1T-21','2T-21','3T-21','4T-21','1T-22','2T-22','3T-22','4T-22']\n",
    "trimestres=pd.DataFrame(trimestres)\n",
    "table_proy = [[trimestres[-0],round(fc_serie[:],1), round(lower_serie,1), round(upper_serie,1)]]\n",
    "headers = ['Periodo','Proyección', 'Límite inferior','Límite superior']\n",
    "print(tabulate(table_proy,headers))"
   ]
  },
  {
   "cell_type": "markdown",
   "metadata": {},
   "source": [
    "## C.2. Modelo Prophet"
   ]
  },
  {
   "cell_type": "markdown",
   "metadata": {},
   "source": [
    "## 1. Modelo ###"
   ]
  },
  {
   "cell_type": "code",
   "execution_count": null,
   "metadata": {},
   "outputs": [],
   "source": [
    "df2 = pd.read_csv(\"DataSet/P1_Serie_Acceso_Internet_Trim.csv\",sep=';',decimal=',')\n",
    "df2.columns = ['ds', 'y']\n",
    "df2['ds'] = pd.DatetimeIndex(df2['ds'])\n",
    "df2.head()"
   ]
  },
  {
   "cell_type": "code",
   "execution_count": null,
   "metadata": {
    "scrolled": false
   },
   "outputs": [],
   "source": [
    "m = Prophet(yearly_seasonality=4)\n",
    "m.fit(df2)"
   ]
  },
  {
   "cell_type": "markdown",
   "metadata": {},
   "source": [
    "## 2. Proyección a 2 años (fuera de la muestra) ###"
   ]
  },
  {
   "cell_type": "code",
   "execution_count": null,
   "metadata": {},
   "outputs": [],
   "source": [
    "future = m.make_future_dataframe(periods=8, freq='Q')\n",
    "forecast = m.predict(future)\n",
    "forecast[['ds', 'yhat', 'yhat_lower', 'yhat_upper']].tail(8)"
   ]
  },
  {
   "cell_type": "markdown",
   "metadata": {},
   "source": [
    "### Plotting the Forecast"
   ]
  },
  {
   "cell_type": "code",
   "execution_count": null,
   "metadata": {},
   "outputs": [],
   "source": [
    "m.plot(forecast);"
   ]
  },
  {
   "cell_type": "code",
   "execution_count": null,
   "metadata": {},
   "outputs": [],
   "source": [
    "y_true = df2['y'][-4:].values\n",
    "y_pred = forecast['yhat'][-12:].values\n",
    "y_pred_lower = forecast['yhat_lower'][-12:].values\n",
    "y_pred_upper = forecast['yhat_upper'][-12:].values\n",
    "\n",
    "pyplot.plot(y_true, label='Actual')\n",
    "pyplot.plot(y_pred, label='Predicted')\n",
    "pyplot.plot(y_pred_lower, label='Lower Predicted')\n",
    "pyplot.plot(y_pred_upper, label='Upper Predicted')\n",
    "pyplot.legend()\n",
    "pyplot.show()"
   ]
  },
  {
   "cell_type": "markdown",
   "metadata": {},
   "source": [
    "### Decomposing the Forecast"
   ]
  },
  {
   "cell_type": "code",
   "execution_count": null,
   "metadata": {},
   "outputs": [],
   "source": [
    "m.plot_components(forecast);"
   ]
  },
  {
   "cell_type": "markdown",
   "metadata": {},
   "source": [
    "### Cross-validation"
   ]
  },
  {
   "cell_type": "code",
   "execution_count": null,
   "metadata": {},
   "outputs": [],
   "source": [
    "cutoffs = pd.date_range(start='2016-06-30', end='2018-06-30', freq='3MS')\n",
    "print(cutoffs)\n",
    "\n",
    "df_cv = cross_validation(model=m, horizon='730 days', cutoffs=cutoffs)"
   ]
  },
  {
   "cell_type": "code",
   "execution_count": null,
   "metadata": {},
   "outputs": [],
   "source": [
    "performance_metrics(df_cv)"
   ]
  },
  {
   "cell_type": "code",
   "execution_count": null,
   "metadata": {},
   "outputs": [],
   "source": [
    "performance_metrics(df_cv).describe()"
   ]
  },
  {
   "cell_type": "code",
   "execution_count": null,
   "metadata": {},
   "outputs": [],
   "source": [
    "# Cálculo del RMSE de Prophet\n",
    "y_pred = forecast['yhat']\n"
   ]
  },
  {
   "cell_type": "markdown",
   "metadata": {},
   "source": [
    "# Conclusiones"
   ]
  },
  {
   "cell_type": "code",
   "execution_count": null,
   "metadata": {},
   "outputs": [],
   "source": []
  },
  {
   "cell_type": "markdown",
   "metadata": {},
   "source": [
    "### $\\color{red}{\\text{TODOS}}$ "
   ]
  },
  {
   "cell_type": "code",
   "execution_count": null,
   "metadata": {},
   "outputs": [],
   "source": []
  },
  {
   "cell_type": "markdown",
   "metadata": {},
   "source": [
    "## Bibliografía"
   ]
  }
 ],
 "metadata": {
  "kernelspec": {
   "display_name": "Python 3",
   "language": "python",
   "name": "python3"
  },
  "language_info": {
   "codemirror_mode": {
    "name": "ipython",
    "version": 3
   },
   "file_extension": ".py",
   "mimetype": "text/x-python",
   "name": "python",
   "nbconvert_exporter": "python",
   "pygments_lexer": "ipython3",
   "version": "3.7.6"
  }
 },
 "nbformat": 4,
 "nbformat_minor": 5
}
