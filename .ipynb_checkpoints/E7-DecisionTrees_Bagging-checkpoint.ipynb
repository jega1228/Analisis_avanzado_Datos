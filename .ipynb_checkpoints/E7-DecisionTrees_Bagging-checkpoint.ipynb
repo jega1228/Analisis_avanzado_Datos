{
 "cells": [
  {
   "cell_type": "markdown",
   "metadata": {},
   "source": [
    "# E7 - Decision Trees - Bagging"
   ]
  },
  {
   "cell_type": "markdown",
   "metadata": {},
   "source": [
    "Elaborado por GRUPO 1:\n",
    "\n",
    "- Juanita Piraban Barbosa - 201216313\n",
    "- Lorena Morales Rodríguez - 202027957\n",
    "- Alejandro Barinas Guio - 201628859\n",
    "- Jaime Humberto Trujillo Perea - 201920366\n",
    "- Alexander Zapata Galindo - 201425426"
   ]
  },
  {
   "cell_type": "code",
   "execution_count": 229,
   "metadata": {},
   "outputs": [],
   "source": [
    "# Librerías\n",
    "%matplotlib inline\n",
    "import pandas as pd\n",
    "import numpy as np\n",
    "import matplotlib.pyplot as plt\n",
    "\n",
    "from sklearn.model_selection import cross_val_score\n",
    "from sklearn.linear_model import LinearRegression\n",
    "from sklearn.tree import DecisionTreeRegressor, export_graphviz\n",
    "from sklearn.tree import DecisionTreeClassifier \n",
    "from sklearn.model_selection import train_test_split \n",
    "from sklearn import metrics \n",
    "from sklearn.linear_model import LogisticRegression\n",
    "from sklearn.ensemble import BaggingRegressor\n",
    "from sklearn.metrics import mean_squared_error\n",
    "from sklearn.linear_model import LogisticRegressionCV\n",
    "from sklearn.ensemble import BaggingClassifier\n",
    "\n",
    "from sklearn.metrics import mean_squared_error\n",
    "\n",
    "#from tabulate import tabulate\n",
    "\n",
    "import statsmodels.api as sm\n",
    "import seaborn as sns\n",
    "\n",
    "import warnings\n",
    "warnings.filterwarnings('ignore')"
   ]
  },
  {
   "cell_type": "markdown",
   "metadata": {},
   "source": [
    "# Parte 1 - Capital Bikeshare data"
   ]
  },
  {
   "cell_type": "markdown",
   "metadata": {},
   "source": [
    "## Introduction\n",
    "\n",
    "- Capital Bikeshare dataset from Kaggle: [data](https://github.com/justmarkham/DAT8/blob/master/data/bikeshare.csv), [data dictionary](https://www.kaggle.com/c/bike-sharing-demand/data)\n",
    "- Each observation represents the bikeshare rentals initiated during a given hour of a given day"
   ]
  },
  {
   "cell_type": "code",
   "execution_count": 3,
   "metadata": {},
   "outputs": [
    {
     "data": {
      "text/html": [
       "<div>\n",
       "<style scoped>\n",
       "    .dataframe tbody tr th:only-of-type {\n",
       "        vertical-align: middle;\n",
       "    }\n",
       "\n",
       "    .dataframe tbody tr th {\n",
       "        vertical-align: top;\n",
       "    }\n",
       "\n",
       "    .dataframe thead th {\n",
       "        text-align: right;\n",
       "    }\n",
       "</style>\n",
       "<table border=\"1\" class=\"dataframe\">\n",
       "  <thead>\n",
       "    <tr style=\"text-align: right;\">\n",
       "      <th></th>\n",
       "      <th>season</th>\n",
       "      <th>holiday</th>\n",
       "      <th>workingday</th>\n",
       "      <th>weather</th>\n",
       "      <th>temp</th>\n",
       "      <th>atemp</th>\n",
       "      <th>humidity</th>\n",
       "      <th>windspeed</th>\n",
       "      <th>casual</th>\n",
       "      <th>registered</th>\n",
       "      <th>total</th>\n",
       "      <th>hour</th>\n",
       "    </tr>\n",
       "    <tr>\n",
       "      <th>datetime</th>\n",
       "      <th></th>\n",
       "      <th></th>\n",
       "      <th></th>\n",
       "      <th></th>\n",
       "      <th></th>\n",
       "      <th></th>\n",
       "      <th></th>\n",
       "      <th></th>\n",
       "      <th></th>\n",
       "      <th></th>\n",
       "      <th></th>\n",
       "      <th></th>\n",
       "    </tr>\n",
       "  </thead>\n",
       "  <tbody>\n",
       "    <tr>\n",
       "      <th>2011-01-01 00:00:00</th>\n",
       "      <td>1</td>\n",
       "      <td>0</td>\n",
       "      <td>0</td>\n",
       "      <td>1</td>\n",
       "      <td>9.84</td>\n",
       "      <td>14.395</td>\n",
       "      <td>81</td>\n",
       "      <td>0.0</td>\n",
       "      <td>3</td>\n",
       "      <td>13</td>\n",
       "      <td>16</td>\n",
       "      <td>0</td>\n",
       "    </tr>\n",
       "    <tr>\n",
       "      <th>2011-01-01 01:00:00</th>\n",
       "      <td>1</td>\n",
       "      <td>0</td>\n",
       "      <td>0</td>\n",
       "      <td>1</td>\n",
       "      <td>9.02</td>\n",
       "      <td>13.635</td>\n",
       "      <td>80</td>\n",
       "      <td>0.0</td>\n",
       "      <td>8</td>\n",
       "      <td>32</td>\n",
       "      <td>40</td>\n",
       "      <td>1</td>\n",
       "    </tr>\n",
       "    <tr>\n",
       "      <th>2011-01-01 02:00:00</th>\n",
       "      <td>1</td>\n",
       "      <td>0</td>\n",
       "      <td>0</td>\n",
       "      <td>1</td>\n",
       "      <td>9.02</td>\n",
       "      <td>13.635</td>\n",
       "      <td>80</td>\n",
       "      <td>0.0</td>\n",
       "      <td>5</td>\n",
       "      <td>27</td>\n",
       "      <td>32</td>\n",
       "      <td>2</td>\n",
       "    </tr>\n",
       "    <tr>\n",
       "      <th>2011-01-01 03:00:00</th>\n",
       "      <td>1</td>\n",
       "      <td>0</td>\n",
       "      <td>0</td>\n",
       "      <td>1</td>\n",
       "      <td>9.84</td>\n",
       "      <td>14.395</td>\n",
       "      <td>75</td>\n",
       "      <td>0.0</td>\n",
       "      <td>3</td>\n",
       "      <td>10</td>\n",
       "      <td>13</td>\n",
       "      <td>3</td>\n",
       "    </tr>\n",
       "    <tr>\n",
       "      <th>2011-01-01 04:00:00</th>\n",
       "      <td>1</td>\n",
       "      <td>0</td>\n",
       "      <td>0</td>\n",
       "      <td>1</td>\n",
       "      <td>9.84</td>\n",
       "      <td>14.395</td>\n",
       "      <td>75</td>\n",
       "      <td>0.0</td>\n",
       "      <td>0</td>\n",
       "      <td>1</td>\n",
       "      <td>1</td>\n",
       "      <td>4</td>\n",
       "    </tr>\n",
       "  </tbody>\n",
       "</table>\n",
       "</div>"
      ],
      "text/plain": [
       "                     season  holiday  workingday  weather  temp   atemp  \\\n",
       "datetime                                                                  \n",
       "2011-01-01 00:00:00       1        0           0        1  9.84  14.395   \n",
       "2011-01-01 01:00:00       1        0           0        1  9.02  13.635   \n",
       "2011-01-01 02:00:00       1        0           0        1  9.02  13.635   \n",
       "2011-01-01 03:00:00       1        0           0        1  9.84  14.395   \n",
       "2011-01-01 04:00:00       1        0           0        1  9.84  14.395   \n",
       "\n",
       "                     humidity  windspeed  casual  registered  total  hour  \n",
       "datetime                                                                   \n",
       "2011-01-01 00:00:00        81        0.0       3          13     16     0  \n",
       "2011-01-01 01:00:00        80        0.0       8          32     40     1  \n",
       "2011-01-01 02:00:00        80        0.0       5          27     32     2  \n",
       "2011-01-01 03:00:00        75        0.0       3          10     13     3  \n",
       "2011-01-01 04:00:00        75        0.0       0           1      1     4  "
      ]
     },
     "execution_count": 3,
     "metadata": {},
     "output_type": "execute_result"
    }
   ],
   "source": [
    "# read the data and set \"datetime\" as the index\n",
    "bikes = pd.read_csv('Dataset/bikeshare.csv', index_col='datetime', parse_dates=True)\n",
    "\n",
    "# \"count\" is a method, so it's best to rename that column\n",
    "bikes.rename(columns={'count':'total'}, inplace=True)\n",
    "\n",
    "# create \"hour\" as its own feature\n",
    "bikes['hour'] = bikes.index.hour\n",
    "bikes.head()"
   ]
  },
  {
   "cell_type": "code",
   "execution_count": 98,
   "metadata": {},
   "outputs": [
    {
     "data": {
      "text/html": [
       "<div>\n",
       "<style scoped>\n",
       "    .dataframe tbody tr th:only-of-type {\n",
       "        vertical-align: middle;\n",
       "    }\n",
       "\n",
       "    .dataframe tbody tr th {\n",
       "        vertical-align: top;\n",
       "    }\n",
       "\n",
       "    .dataframe thead th {\n",
       "        text-align: right;\n",
       "    }\n",
       "</style>\n",
       "<table border=\"1\" class=\"dataframe\">\n",
       "  <thead>\n",
       "    <tr style=\"text-align: right;\">\n",
       "      <th></th>\n",
       "      <th>season</th>\n",
       "      <th>holiday</th>\n",
       "      <th>workingday</th>\n",
       "      <th>weather</th>\n",
       "      <th>temp</th>\n",
       "      <th>atemp</th>\n",
       "      <th>humidity</th>\n",
       "      <th>windspeed</th>\n",
       "      <th>casual</th>\n",
       "      <th>registered</th>\n",
       "      <th>total</th>\n",
       "      <th>hour</th>\n",
       "    </tr>\n",
       "    <tr>\n",
       "      <th>datetime</th>\n",
       "      <th></th>\n",
       "      <th></th>\n",
       "      <th></th>\n",
       "      <th></th>\n",
       "      <th></th>\n",
       "      <th></th>\n",
       "      <th></th>\n",
       "      <th></th>\n",
       "      <th></th>\n",
       "      <th></th>\n",
       "      <th></th>\n",
       "      <th></th>\n",
       "    </tr>\n",
       "  </thead>\n",
       "  <tbody>\n",
       "    <tr>\n",
       "      <th>2012-12-19 19:00:00</th>\n",
       "      <td>4</td>\n",
       "      <td>0</td>\n",
       "      <td>1</td>\n",
       "      <td>1</td>\n",
       "      <td>15.58</td>\n",
       "      <td>19.695</td>\n",
       "      <td>50</td>\n",
       "      <td>26.0027</td>\n",
       "      <td>7</td>\n",
       "      <td>329</td>\n",
       "      <td>336</td>\n",
       "      <td>19</td>\n",
       "    </tr>\n",
       "    <tr>\n",
       "      <th>2012-12-19 20:00:00</th>\n",
       "      <td>4</td>\n",
       "      <td>0</td>\n",
       "      <td>1</td>\n",
       "      <td>1</td>\n",
       "      <td>14.76</td>\n",
       "      <td>17.425</td>\n",
       "      <td>57</td>\n",
       "      <td>15.0013</td>\n",
       "      <td>10</td>\n",
       "      <td>231</td>\n",
       "      <td>241</td>\n",
       "      <td>20</td>\n",
       "    </tr>\n",
       "    <tr>\n",
       "      <th>2012-12-19 21:00:00</th>\n",
       "      <td>4</td>\n",
       "      <td>0</td>\n",
       "      <td>1</td>\n",
       "      <td>1</td>\n",
       "      <td>13.94</td>\n",
       "      <td>15.910</td>\n",
       "      <td>61</td>\n",
       "      <td>15.0013</td>\n",
       "      <td>4</td>\n",
       "      <td>164</td>\n",
       "      <td>168</td>\n",
       "      <td>21</td>\n",
       "    </tr>\n",
       "    <tr>\n",
       "      <th>2012-12-19 22:00:00</th>\n",
       "      <td>4</td>\n",
       "      <td>0</td>\n",
       "      <td>1</td>\n",
       "      <td>1</td>\n",
       "      <td>13.94</td>\n",
       "      <td>17.425</td>\n",
       "      <td>61</td>\n",
       "      <td>6.0032</td>\n",
       "      <td>12</td>\n",
       "      <td>117</td>\n",
       "      <td>129</td>\n",
       "      <td>22</td>\n",
       "    </tr>\n",
       "    <tr>\n",
       "      <th>2012-12-19 23:00:00</th>\n",
       "      <td>4</td>\n",
       "      <td>0</td>\n",
       "      <td>1</td>\n",
       "      <td>1</td>\n",
       "      <td>13.12</td>\n",
       "      <td>16.665</td>\n",
       "      <td>66</td>\n",
       "      <td>8.9981</td>\n",
       "      <td>4</td>\n",
       "      <td>84</td>\n",
       "      <td>88</td>\n",
       "      <td>23</td>\n",
       "    </tr>\n",
       "  </tbody>\n",
       "</table>\n",
       "</div>"
      ],
      "text/plain": [
       "                     season  holiday  workingday  weather   temp   atemp  \\\n",
       "datetime                                                                   \n",
       "2012-12-19 19:00:00       4        0           1        1  15.58  19.695   \n",
       "2012-12-19 20:00:00       4        0           1        1  14.76  17.425   \n",
       "2012-12-19 21:00:00       4        0           1        1  13.94  15.910   \n",
       "2012-12-19 22:00:00       4        0           1        1  13.94  17.425   \n",
       "2012-12-19 23:00:00       4        0           1        1  13.12  16.665   \n",
       "\n",
       "                     humidity  windspeed  casual  registered  total  hour  \n",
       "datetime                                                                   \n",
       "2012-12-19 19:00:00        50    26.0027       7         329    336    19  \n",
       "2012-12-19 20:00:00        57    15.0013      10         231    241    20  \n",
       "2012-12-19 21:00:00        61    15.0013       4         164    168    21  \n",
       "2012-12-19 22:00:00        61     6.0032      12         117    129    22  \n",
       "2012-12-19 23:00:00        66     8.9981       4          84     88    23  "
      ]
     },
     "execution_count": 98,
     "metadata": {},
     "output_type": "execute_result"
    }
   ],
   "source": [
    "bikes.tail()"
   ]
  },
  {
   "cell_type": "markdown",
   "metadata": {},
   "source": [
    "- **hour** ranges from 0 (midnight) through 23 (11pm)\n",
    "- **workingday** is either 0 (weekend or holiday) or 1 (non-holiday weekday)"
   ]
  },
  {
   "cell_type": "markdown",
   "metadata": {},
   "source": [
    "# Exercise 7.1\n",
    "\n",
    "Run these two `groupby` statements and figure out what they tell you about the data."
   ]
  },
  {
   "cell_type": "code",
   "execution_count": 99,
   "metadata": {},
   "outputs": [
    {
     "data": {
      "text/plain": [
       "workingday\n",
       "0    188.506621\n",
       "1    193.011873\n",
       "Name: total, dtype: float64"
      ]
     },
     "execution_count": 99,
     "metadata": {},
     "output_type": "execute_result"
    }
   ],
   "source": [
    "# mean rentals for each value of \"workingday\"\n",
    "bikes.groupby('workingday').total.mean()"
   ]
  },
  {
   "cell_type": "code",
   "execution_count": 100,
   "metadata": {},
   "outputs": [
    {
     "data": {
      "text/plain": [
       "hour\n",
       "0      55.138462\n",
       "1      33.859031\n",
       "2      22.899554\n",
       "3      11.757506\n",
       "4       6.407240\n",
       "5      19.767699\n",
       "6      76.259341\n",
       "7     213.116484\n",
       "8     362.769231\n",
       "9     221.780220\n",
       "10    175.092308\n",
       "11    210.674725\n",
       "12    256.508772\n",
       "13    257.787281\n",
       "14    243.442982\n",
       "15    254.298246\n",
       "16    316.372807\n",
       "17    468.765351\n",
       "18    430.859649\n",
       "19    315.278509\n",
       "20    228.517544\n",
       "21    173.370614\n",
       "22    133.576754\n",
       "23     89.508772\n",
       "Name: total, dtype: float64"
      ]
     },
     "execution_count": 100,
     "metadata": {},
     "output_type": "execute_result"
    }
   ],
   "source": [
    "# mean rentals for each value of \"hour\"\n",
    "bikes.groupby('hour').total.mean()"
   ]
  },
  {
   "cell_type": "markdown",
   "metadata": {},
   "source": [
    "# Exercise 7.2\n",
    "\n",
    "Run this plotting code, and make sure you understand the output. Then, separate this plot into two separate plots conditioned on \"workingday\". (In other words, one plot should display the hourly trend for \"workingday=0\", and the other should display the hourly trend for \"workingday=1\".)"
   ]
  },
  {
   "cell_type": "code",
   "execution_count": 101,
   "metadata": {},
   "outputs": [
    {
     "data": {
      "text/plain": [
       "<AxesSubplot:xlabel='hour'>"
      ]
     },
     "execution_count": 101,
     "metadata": {},
     "output_type": "execute_result"
    },
    {
     "data": {
      "image/png": "[encoded data removed]",
      "text/plain": [
       "<Figure size 432x288 with 1 Axes>"
      ]
     },
     "metadata": {
      "needs_background": "light"
     },
     "output_type": "display_data"
    }
   ],
   "source": [
    "# mean rentals for each value of \"hour\"\n",
    "bikes.groupby('hour').total.mean().plot()"
   ]
  },
  {
   "cell_type": "markdown",
   "metadata": {},
   "source": [
    "Plot for workingday == 0 and workingday == 1"
   ]
  },
  {
   "cell_type": "code",
   "execution_count": 102,
   "metadata": {},
   "outputs": [
    {
     "data": {
      "text/plain": [
       "<AxesSubplot:xlabel='hour'>"
      ]
     },
     "execution_count": 102,
     "metadata": {},
     "output_type": "execute_result"
    },
    {
     "data": {
      "image/png": "[encoded data removed]",
      "text/plain": [
       "<Figure size 432x288 with 1 Axes>"
      ]
     },
     "metadata": {
      "needs_background": "light"
     },
     "output_type": "display_data"
    }
   ],
   "source": [
    "# hourly rental trend for \"workingday=0\"\n",
    "f_semana=bikes[(bikes['workingday'] == 0)]\n",
    "f_semana.groupby('hour').total.sum().plot()"
   ]
  },
  {
   "cell_type": "code",
   "execution_count": 103,
   "metadata": {},
   "outputs": [
    {
     "data": {
      "text/plain": [
       "<AxesSubplot:xlabel='hour'>"
      ]
     },
     "execution_count": 103,
     "metadata": {},
     "output_type": "execute_result"
    },
    {
     "data": {
      "image/png": "[encoded data removed]",
      "text/plain": [
       "<Figure size 432x288 with 1 Axes>"
      ]
     },
     "metadata": {
      "needs_background": "light"
     },
     "output_type": "display_data"
    }
   ],
   "source": [
    "# hourly rental trend for \"workingday=1\"\n",
    "e_semana=bikes[(bikes['workingday'] == 1)]\n",
    "e_semana.groupby('hour').total.sum().plot()"
   ]
  },
  {
   "cell_type": "code",
   "execution_count": 104,
   "metadata": {},
   "outputs": [
    {
     "data": {
      "image/png": "[encoded data removed]",
      "text/plain": [
       "<Figure size 432x288 with 1 Axes>"
      ]
     },
     "metadata": {
      "needs_background": "light"
     },
     "output_type": "display_data"
    }
   ],
   "source": [
    "# combine the two plots\n",
    "plt.plot (f_semana.groupby('hour').total.sum())+ plt.plot (e_semana.groupby('hour').total.sum())\n",
    "plt.gca().legend(('Fin semana','Día Laborable'))\n",
    "plt.show()"
   ]
  },
  {
   "cell_type": "markdown",
   "metadata": {},
   "source": [
    "Write about your findings"
   ]
  },
  {
   "cell_type": "markdown",
   "metadata": {},
   "source": [
    "# Exercise 7.3\n",
    "\n",
    "Fit a linear regression model to the entire dataset, using \"total\" as the response and \"hour\" and \"workingday\" as the only features. Then, print the coefficients and interpret them. What are the limitations of linear regression in this instance?"
   ]
  },
  {
   "cell_type": "markdown",
   "metadata": {},
   "source": [
    "1- Revisamos el Dataframe revisando que no presente valores nulos, asi evitar problemas en la aplicación de los algoritmos."
   ]
  },
  {
   "cell_type": "code",
   "execution_count": 105,
   "metadata": {},
   "outputs": [
    {
     "name": "stdout",
     "output_type": "stream",
     "text": [
      "season        0\n",
      "holiday       0\n",
      "workingday    0\n",
      "weather       0\n",
      "temp          0\n",
      "atemp         0\n",
      "humidity      0\n",
      "windspeed     0\n",
      "casual        0\n",
      "registered    0\n",
      "total         0\n",
      "hour          0\n",
      "dtype: int64\n"
     ]
    }
   ],
   "source": [
    "print(bikes.isnull().sum(axis= 0))"
   ]
  },
  {
   "cell_type": "markdown",
   "metadata": {},
   "source": [
    "2- Damos un vistazo a la distribucción de la variable a explicar a fin de identificar posibles inconsistencias"
   ]
  },
  {
   "cell_type": "code",
   "execution_count": 106,
   "metadata": {},
   "outputs": [
    {
     "data": {
      "text/plain": [
       "<AxesSubplot:ylabel='Frequency'>"
      ]
     },
     "execution_count": 106,
     "metadata": {},
     "output_type": "execute_result"
    },
    {
     "data": {
      "image/png": "[encoded data removed]",
      "text/plain": [
       "<Figure size 432x288 with 1 Axes>"
      ]
     },
     "metadata": {
      "needs_background": "light"
     },
     "output_type": "display_data"
    }
   ],
   "source": [
    "df = pd.DataFrame(bikes.loc[:, ['total', 'hour', 'workingday']])\n",
    "df['total'].plot(kind = 'hist', bins=50, legend = True)"
   ]
  },
  {
   "cell_type": "code",
   "execution_count": 107,
   "metadata": {},
   "outputs": [
    {
     "data": {
      "text/plain": [
       "<AxesSubplot:ylabel='Frequency'>"
      ]
     },
     "execution_count": 107,
     "metadata": {},
     "output_type": "execute_result"
    },
    {
     "data": {
      "image/png": "[encoded data removed]",
      "text/plain": [
       "<Figure size 1440x360 with 2 Axes>"
      ]
     },
     "metadata": {
      "needs_background": "light"
     },
     "output_type": "display_data"
    }
   ],
   "source": [
    "fig,ax = plt.subplots(1, 2)\n",
    "fig.set_size_inches(20,5)\n",
    "df['workingday'].plot(kind = 'hist',bins = 3, legend = True, ax =ax[0])\n",
    "df['hour'].plot(kind = 'hist',bins = 50, legend = True, ax =ax[1])"
   ]
  },
  {
   "cell_type": "code",
   "execution_count": 108,
   "metadata": {},
   "outputs": [
    {
     "data": {
      "image/png": "[encoded data removed]",
      "text/plain": [
       "<Figure size 432x276.48 with 1 Axes>"
      ]
     },
     "metadata": {
      "needs_background": "light"
     },
     "output_type": "display_data"
    }
   ],
   "source": [
    "fig, ax = plt.subplots(figsize=(6, 3.84))\n",
    "\n",
    "df.plot(\n",
    "    x    = 'hour',\n",
    "    y    = 'total',     \n",
    "    kind = \"scatter\",\n",
    "    ax   = ax)\n",
    "ax.set_title('Distribución de horas y total de alquiler');"
   ]
  },
  {
   "cell_type": "code",
   "execution_count": 211,
   "metadata": {},
   "outputs": [],
   "source": [
    "# División de los datos en train y test y ajuste de parametros para la regresión\n",
    "# ==============================================================================\n",
    "X = df[['hour', 'workingday']]\n",
    "y = df['total']\n",
    "\n",
    "X_train, X_test, y_train, y_test = train_test_split(\n",
    "                                        X,\n",
    "                                        y.values.reshape(-1,1),\n",
    "                                        train_size   = 0.8,\n",
    "                                        random_state = 1234,\n",
    "                                        shuffle      = True\n",
    "                                    )"
   ]
  },
  {
   "cell_type": "code",
   "execution_count": 212,
   "metadata": {},
   "outputs": [
    {
     "name": "stdout",
     "output_type": "stream",
     "text": [
      "                            OLS Regression Results                            \n",
      "==============================================================================\n",
      "Dep. Variable:                      y   R-squared:                       0.157\n",
      "Model:                            OLS   Adj. R-squared:                  0.157\n",
      "Method:                 Least Squares   F-statistic:                     811.2\n",
      "Date:                Tue, 20 Jul 2021   Prob (F-statistic):          9.88e-324\n",
      "Time:                        21:44:46   Log-Likelihood:                -56905.\n",
      "No. Observations:                8708   AIC:                         1.138e+05\n",
      "Df Residuals:                    8705   BIC:                         1.138e+05\n",
      "Df Model:                           2                                         \n",
      "Covariance Type:            nonrobust                                         \n",
      "==============================================================================\n",
      "                 coef    std err          t      P>|t|      [0.025      0.975]\n",
      "------------------------------------------------------------------------------\n",
      "const         67.2782      4.305     15.627      0.000      58.839      75.717\n",
      "hour          10.3292      0.257     40.196      0.000       9.826      10.833\n",
      "workingday     7.0503      3.837      1.837      0.066      -0.472      14.573\n",
      "==============================================================================\n",
      "Omnibus:                     1835.036   Durbin-Watson:                   1.995\n",
      "Prob(Omnibus):                  0.000   Jarque-Bera (JB):             3571.072\n",
      "Skew:                           1.281   Prob(JB):                         0.00\n",
      "Kurtosis:                       4.812   Cond. No.                         39.0\n",
      "==============================================================================\n",
      "\n",
      "Notes:\n",
      "[1] Standard Errors assume that the covariance matrix of the errors is correctly specified.\n"
     ]
    }
   ],
   "source": [
    "# Modelo\n",
    "X_train = sm.add_constant(X_train, prepend=True)\n",
    "modelo = sm.OLS(endog=y_train, exog=X_train,)\n",
    "modelo = modelo.fit()\n",
    "print(modelo.summary())"
   ]
  },
  {
   "cell_type": "code",
   "execution_count": 213,
   "metadata": {},
   "outputs": [],
   "source": [
    "# Prediccion del modelo con muestra de entrenamiento\n",
    "prediccion_train = modelo.predict(exog = X_train)"
   ]
  },
  {
   "cell_type": "code",
   "execution_count": 214,
   "metadata": {},
   "outputs": [],
   "source": [
    "# Diagnóstico errores (residuos) de las predicciones de entrenamiento\n",
    "# ==============================================================================\n",
    "y_train = y_train.flatten()\n",
    "prediccion_train = modelo.predict(exog = X_train)\n",
    "residuos_train   = prediccion_train - y_train"
   ]
  },
  {
   "cell_type": "code",
   "execution_count": 215,
   "metadata": {},
   "outputs": [
    {
     "data": {
      "image/png": "[encoded data removed]",
      "text/plain": [
       "<Figure size 648x576 with 5 Axes>"
      ]
     },
     "metadata": {
      "needs_background": "light"
     },
     "output_type": "display_data"
    }
   ],
   "source": [
    "#Gráficos\n",
    "# ==============================================================================\n",
    "fig, axes = plt.subplots(nrows=3, ncols=2, figsize=(9, 8))\n",
    "\n",
    "axes[0, 0].scatter(y_train, prediccion_train, edgecolors=(0, 0, 0), alpha = 0.4)\n",
    "axes[0, 0].plot([y_train.min(), y_train.max()], [y_train.min(), y_train.max()],\n",
    "                'k--', color = 'Red', lw=2)\n",
    "axes[0, 0].set_title('Valor predicho vs valor real', fontsize = 10, fontweight = \"bold\")\n",
    "axes[0, 0].set_xlabel('Real')\n",
    "axes[0, 0].set_ylabel('Predicción')\n",
    "axes[0, 0].tick_params(labelsize = 7)\n",
    "\n",
    "axes[0, 1].scatter(list(range(len(y_train))), residuos_train,\n",
    "                   edgecolors=(0, 0, 0), alpha = 0.4)\n",
    "axes[0, 1].axhline(y = 0, linestyle = '--', color = 'black', lw=2)\n",
    "axes[0, 1].set_title('Residuos del modelo', fontsize = 10, fontweight = \"bold\")\n",
    "axes[0, 1].set_xlabel('id')\n",
    "axes[0, 1].set_ylabel('Residuo')\n",
    "axes[0, 1].tick_params(labelsize = 7)\n",
    "\n",
    "sns.histplot(\n",
    "    data    = residuos_train,\n",
    "    stat    = \"density\",\n",
    "    kde     = True,\n",
    "    line_kws= {'linewidth': 1},\n",
    "    color   = \"firebrick\",\n",
    "    alpha   = 0.3,\n",
    "    ax      = axes[1, 0]\n",
    ")\n",
    "\n",
    "axes[1, 0].set_title('Distribución residuos del modelo', fontsize = 10,\n",
    "                     fontweight = \"bold\")\n",
    "axes[1, 0].set_xlabel(\"Residuo\")\n",
    "axes[1, 0].tick_params(labelsize = 7)\n",
    "\n",
    "\n",
    "sm.qqplot(\n",
    "    residuos_train,\n",
    "    fit   = True,\n",
    "    line  = 'q',\n",
    "    ax    = axes[1, 1], \n",
    "    color = 'firebrick',\n",
    "    alpha = 0.4,\n",
    "    lw    = 2\n",
    ")\n",
    "axes[1, 1].set_title('Q-Q residuos del modelo', fontsize = 10, fontweight = \"bold\")\n",
    "axes[1, 1].tick_params(labelsize = 7)\n",
    "\n",
    "axes[2, 0].scatter(prediccion_train, residuos_train,\n",
    "                   edgecolors=(0, 0, 0), alpha = 0.4)\n",
    "axes[2, 0].axhline(y = 0, linestyle = '--', color = 'black', lw=2)\n",
    "axes[2, 0].set_title('Residuos del modelo vs predicción', fontsize = 10, fontweight = \"bold\")\n",
    "axes[2, 0].set_xlabel('Predicción')\n",
    "axes[2, 0].set_ylabel('Residuo')\n",
    "axes[2, 0].tick_params(labelsize = 7)\n",
    "\n",
    "# Se eliminan los axes vacíos\n",
    "fig.delaxes(axes[2,1])\n",
    "\n",
    "fig.tight_layout()\n",
    "plt.subplots_adjust(top=0.9)\n",
    "fig.suptitle('Diagnóstico residuos', fontsize = 12, fontweight = \"bold\");"
   ]
  },
  {
   "cell_type": "code",
   "execution_count": 216,
   "metadata": {},
   "outputs": [
    {
     "name": "stdout",
     "output_type": "stream",
     "text": [
      "\n",
      "El rmse de la regresión es: 163.2399717241645)\n"
     ]
    }
   ],
   "source": [
    "# Error de test del modelo\n",
    "# ==============================================================================\n",
    "X_test = sm.add_constant(X_test, prepend=True)\n",
    "predicciones = modelo.predict(exog = X_test)\n",
    "rmse_reg = mean_squared_error(\n",
    "        y_true  = y_test,\n",
    "        y_pred  = predicciones,\n",
    "        squared = False\n",
    "       )\n",
    "print(\"\")\n",
    "print(f\"El rmse de la regresión es: {rmse_reg})\")"
   ]
  },
  {
   "cell_type": "markdown",
   "metadata": {},
   "source": [
    "### Evaluacion Modelo: \n",
    "- El modelo de regresión lineal utilizando las variables (Hora, workingday) como predictores, alcanza un R2 muy bajo (.157), la regresión lineal es capaz de explicar tan solo el 15,7% de la variabilidad observada en la variable (Total).\n",
    "- Modelo estimado: Total = 67.2782 + 10.3292(Hour) + 7.0503(Workingday)\n",
    "- Evaluando el p-value obtenido para el coeficiente parcial de regresión de Workingday (0.066), esta variable no contribuye de forma significativa en el modelo.\n",
    "- Al interpretar los coeficientes encontramos que la utlización aumenta 7 unidades en días laborables y aumenta 10 unidades por cada hora transcurrida entre las 0:00 horas y las 11:00 pm."
   ]
  },
  {
   "cell_type": "markdown",
   "metadata": {},
   "source": [
    "# Exercice 7.4\n",
    "\n",
    "Create a Decision Tree to forecast \"total\" by manually iterating over the features \"hour\" and \"workingday\". The algorithm must at least have 6 end nodes."
   ]
  },
  {
   "cell_type": "code",
   "execution_count": 217,
   "metadata": {},
   "outputs": [],
   "source": [
    "class DecisionTreeRegressor:\n",
    "  \n",
    "  def fit(self, X, y, min_leaf = 6):\n",
    "    self.dtree = Node(X, y, np.array(np.arange(len(y))), min_leaf)\n",
    "    return self\n",
    "  \n",
    "  def predict(self, X):\n",
    "    return self.dtree.predict(X.values)"
   ]
  },
  {
   "cell_type": "code",
   "execution_count": 218,
   "metadata": {},
   "outputs": [],
   "source": [
    "class Node:\n",
    "\n",
    "    def __init__(self, x, y, idxs, min_leaf=5):\n",
    "        self.x = x \n",
    "        self.y = y\n",
    "        self.idxs = idxs \n",
    "        self.min_leaf = min_leaf\n",
    "        self.row_count = len(idxs)\n",
    "        self.col_count = x.shape[1]\n",
    "        self.val = np.mean(y[idxs])\n",
    "        self.score = float('inf')\n",
    "        self.find_varsplit()\n",
    "        \n",
    "    def find_varsplit(self):\n",
    "        for c in range(self.col_count): self.find_better_split(c)\n",
    "        if self.is_leaf: return\n",
    "        x = self.split_col\n",
    "        lhs = np.nonzero(x <= self.split)[0]\n",
    "        rhs = np.nonzero(x > self.split)[0]\n",
    "        self.lhs = Node(self.x, self.y, self.idxs[lhs], self.min_leaf)\n",
    "        self.rhs = Node(self.x, self.y, self.idxs[rhs], self.min_leaf)\n",
    "        \n",
    "    def find_better_split(self, var_idx):\n",
    "      \n",
    "        x = self.x.values[self.idxs, var_idx]\n",
    "\n",
    "        for r in range(self.row_count):\n",
    "            lhs = x <= x[r]\n",
    "            rhs = x > x[r]\n",
    "            if rhs.sum() < self.min_leaf or lhs.sum() < self.min_leaf: continue\n",
    "\n",
    "            curr_score = self.find_score(lhs, rhs)\n",
    "            if curr_score < self.score: \n",
    "                self.var_idx = var_idx\n",
    "                self.score = curr_score\n",
    "                self.split = x[r]\n",
    "                \n",
    "    def find_score(self, lhs, rhs):\n",
    "        y = self.y[self.idxs]\n",
    "        lhs_std = y[lhs].std()\n",
    "        rhs_std = y[rhs].std()\n",
    "        return lhs_std * lhs.sum() + rhs_std * rhs.sum()\n",
    "                \n",
    "    @property\n",
    "    def split_col(self): return self.x.values[self.idxs,self.var_idx]\n",
    "                \n",
    "    @property\n",
    "    def is_leaf(self): return self.score == float('inf')                \n",
    "\n",
    "    def predict(self, x):\n",
    "        return np.array([self.predict_row(xi) for xi in x])\n",
    "\n",
    "    def predict_row(self, xi):\n",
    "        if self.is_leaf: return self.val\n",
    "        node = self.lhs if xi[self.var_idx] <= self.split else self.rhs\n",
    "        return node.predict_row(xi)"
   ]
  },
  {
   "cell_type": "code",
   "execution_count": 219,
   "metadata": {},
   "outputs": [],
   "source": [
    "regressor = DecisionTreeRegressor().fit(X_train, y_test)"
   ]
  },
  {
   "cell_type": "code",
   "execution_count": 220,
   "metadata": {},
   "outputs": [],
   "source": [
    "y_pred = regressor.predict(X_test)"
   ]
  },
  {
   "cell_type": "code",
   "execution_count": 235,
   "metadata": {},
   "outputs": [
    {
     "name": "stdout",
     "output_type": "stream",
     "text": [
      "\n",
      "El rmse del Arbol construido de forma manual es: 109.62941339498562\n"
     ]
    }
   ],
   "source": [
    "rmse_tree_manual = np.sqrt(mean_squared_error(y_pred, y_test))\n",
    "print(\"\")\n",
    "print(f\"El rmse del Arbol construido de forma manual es: {rmse_tree_manual}\")"
   ]
  },
  {
   "cell_type": "markdown",
   "metadata": {},
   "source": [
    "El desarrollo de este punto se soporto en la siguiente referencia\n",
    "\n",
    "https://levelup.gitconnected.com/building-a-decision-tree-from-scratch-in-python-machine-learning-from-scratch-part-ii-6e2e56265b19"
   ]
  },
  {
   "cell_type": "markdown",
   "metadata": {},
   "source": [
    "# Exercise 7.5\n",
    "\n",
    "Train a Decision Tree using scikit-learn. Comment about the performance of the models."
   ]
  },
  {
   "cell_type": "code",
   "execution_count": 230,
   "metadata": {},
   "outputs": [],
   "source": [
    "X = df[['hour', 'workingday']]\n",
    "y = df['total']\n",
    "\n",
    "X_train, X_test, y_train, y_test = train_test_split(X, y, test_size=0.20,\n",
    "                                                    random_state=123,\n",
    "                                                    shuffle=True)"
   ]
  },
  {
   "cell_type": "code",
   "execution_count": 231,
   "metadata": {},
   "outputs": [
    {
     "data": {
      "text/plain": [
       "Text(0.5, 1.0, 'Ajuste del arbol con Tuning')"
      ]
     },
     "execution_count": 231,
     "metadata": {},
     "output_type": "execute_result"
    },
    {
     "data": {
      "image/png": "[encoded data removed]",
      "text/plain": [
       "<Figure size 432x288 with 1 Axes>"
      ]
     },
     "metadata": {
      "needs_background": "light"
     },
     "output_type": "display_data"
    }
   ],
   "source": [
    "from sklearn.metrics import mean_squared_error as mse\n",
    "\n",
    "max_depths = range(1, 10) \n",
    "\n",
    "training_error = []\n",
    "for max_depth in max_depths:\n",
    "    model_1 = DecisionTreeRegressor(max_depth=max_depth)\n",
    "    model_1.fit(X, y)\n",
    "    training_error.append(mse(y, model_1.predict(X)))\n",
    "    \n",
    "testing_error = []\n",
    "for max_depth in max_depths:\n",
    "    model_2 = DecisionTreeRegressor(max_depth=max_depth)\n",
    "    model_2.fit(X_train, y_train)\n",
    "    testing_error.append(mse(y_test, model_2.predict(X_test)))\n",
    "\n",
    "plt.plot(max_depths, training_error, color='blue', label='Error en Training')\n",
    "plt.plot(max_depths, testing_error, color='red', label='Error en Testing')\n",
    "plt.xlabel('Profundidad del Arbol ')\n",
    "plt.axvline(x=6, color='green', linestyle='--')\n",
    "plt.annotate('optimum = 10', xy=(5, 1.17), color='red')\n",
    "plt.ylabel('MSE- Mean squared error')\n",
    "plt.title('Ajuste del arbol con Tuning', pad=20, size=15)"
   ]
  },
  {
   "cell_type": "code",
   "execution_count": 232,
   "metadata": {},
   "outputs": [],
   "source": [
    "# Prediccion del modelo\n",
    "model_1.fit(X_train, y_train)\n",
    "y_pred = model_1.predict (X_test)"
   ]
  },
  {
   "cell_type": "code",
   "execution_count": 233,
   "metadata": {},
   "outputs": [
    {
     "name": "stdout",
     "output_type": "stream",
     "text": [
      "\n",
      "El rmse del Arbol con sklearn.tree es: 109.62941339498562\n"
     ]
    }
   ],
   "source": [
    "# Error\n",
    "mse = mean_squared_error(y_test, y_pred)\n",
    "rmse_Tree = np.sqrt(mse)\n",
    "print(\"\")\n",
    "print(f\"El rmse del Arbol con sklearn.tree es: {rmse_Tree}\")"
   ]
  },
  {
   "cell_type": "markdown",
   "metadata": {},
   "source": [
    "### Evaluacion Modelo\n",
    "\n",
    "- En punto optimo de profundidad del Arbol es 6, al observar los valores que toma el MSE en la muestra de entrenamiento en este punto se mantiene estable sin cambios, entre tanto en Testing el error mejora manteniendo si caida en este punto.\n",
    "- El arbol de decisión evaluado en su MSE mejora su error respecto a la regresión y el arbol construido de forma manual, llegando a 109.62."
   ]
  },
  {
   "cell_type": "markdown",
   "metadata": {},
   "source": [
    "### Evaluacion finales del Modelo\n",
    "\n",
    "- El mse de la regresión es: 163.23\n",
    "- El mse del Arbol construido de forma manual es: 182.84\n",
    "- El mse del Arbol por sklearn.tree es: 109.62\n",
    "\n",
    "### Al evaluar los resultados el modelo con mejor desempeño es el Arbol por sklearn.tree\n"
   ]
  },
  {
   "cell_type": "markdown",
   "metadata": {},
   "source": [
    "# Parte 2 - Bagging"
   ]
  },
  {
   "cell_type": "markdown",
   "metadata": {},
   "source": [
    "## Mashable news stories analysis\n",
    "\n",
    "Predicting if a news story is going to be popular"
   ]
  },
  {
   "cell_type": "code",
   "execution_count": 10,
   "metadata": {},
   "outputs": [
    {
     "data": {
      "text/html": [
       "<div>\n",
       "<style scoped>\n",
       "    .dataframe tbody tr th:only-of-type {\n",
       "        vertical-align: middle;\n",
       "    }\n",
       "\n",
       "    .dataframe tbody tr th {\n",
       "        vertical-align: top;\n",
       "    }\n",
       "\n",
       "    .dataframe thead th {\n",
       "        text-align: right;\n",
       "    }\n",
       "</style>\n",
       "<table border=\"1\" class=\"dataframe\">\n",
       "  <thead>\n",
       "    <tr style=\"text-align: right;\">\n",
       "      <th></th>\n",
       "      <th>url</th>\n",
       "      <th>timedelta</th>\n",
       "      <th>n_tokens_title</th>\n",
       "      <th>n_tokens_content</th>\n",
       "      <th>n_unique_tokens</th>\n",
       "      <th>n_non_stop_words</th>\n",
       "      <th>n_non_stop_unique_tokens</th>\n",
       "      <th>num_hrefs</th>\n",
       "      <th>num_self_hrefs</th>\n",
       "      <th>num_imgs</th>\n",
       "      <th>...</th>\n",
       "      <th>min_positive_polarity</th>\n",
       "      <th>max_positive_polarity</th>\n",
       "      <th>avg_negative_polarity</th>\n",
       "      <th>min_negative_polarity</th>\n",
       "      <th>max_negative_polarity</th>\n",
       "      <th>title_subjectivity</th>\n",
       "      <th>title_sentiment_polarity</th>\n",
       "      <th>abs_title_subjectivity</th>\n",
       "      <th>abs_title_sentiment_polarity</th>\n",
       "      <th>Popular</th>\n",
       "    </tr>\n",
       "  </thead>\n",
       "  <tbody>\n",
       "    <tr>\n",
       "      <th>0</th>\n",
       "      <td>http://mashable.com/2014/12/10/cia-torture-rep...</td>\n",
       "      <td>28.0</td>\n",
       "      <td>9.0</td>\n",
       "      <td>188.0</td>\n",
       "      <td>0.732620</td>\n",
       "      <td>1.0</td>\n",
       "      <td>0.844262</td>\n",
       "      <td>5.0</td>\n",
       "      <td>1.0</td>\n",
       "      <td>1.0</td>\n",
       "      <td>...</td>\n",
       "      <td>0.200000</td>\n",
       "      <td>0.80</td>\n",
       "      <td>-0.487500</td>\n",
       "      <td>-0.60</td>\n",
       "      <td>-0.250000</td>\n",
       "      <td>0.9</td>\n",
       "      <td>0.8</td>\n",
       "      <td>0.4</td>\n",
       "      <td>0.8</td>\n",
       "      <td>1</td>\n",
       "    </tr>\n",
       "    <tr>\n",
       "      <th>1</th>\n",
       "      <td>http://mashable.com/2013/10/18/bitlock-kicksta...</td>\n",
       "      <td>447.0</td>\n",
       "      <td>7.0</td>\n",
       "      <td>297.0</td>\n",
       "      <td>0.653199</td>\n",
       "      <td>1.0</td>\n",
       "      <td>0.815789</td>\n",
       "      <td>9.0</td>\n",
       "      <td>4.0</td>\n",
       "      <td>1.0</td>\n",
       "      <td>...</td>\n",
       "      <td>0.160000</td>\n",
       "      <td>0.50</td>\n",
       "      <td>-0.135340</td>\n",
       "      <td>-0.40</td>\n",
       "      <td>-0.050000</td>\n",
       "      <td>0.1</td>\n",
       "      <td>-0.1</td>\n",
       "      <td>0.4</td>\n",
       "      <td>0.1</td>\n",
       "      <td>0</td>\n",
       "    </tr>\n",
       "    <tr>\n",
       "      <th>2</th>\n",
       "      <td>http://mashable.com/2013/07/24/google-glass-po...</td>\n",
       "      <td>533.0</td>\n",
       "      <td>11.0</td>\n",
       "      <td>181.0</td>\n",
       "      <td>0.660377</td>\n",
       "      <td>1.0</td>\n",
       "      <td>0.775701</td>\n",
       "      <td>4.0</td>\n",
       "      <td>3.0</td>\n",
       "      <td>1.0</td>\n",
       "      <td>...</td>\n",
       "      <td>0.136364</td>\n",
       "      <td>1.00</td>\n",
       "      <td>0.000000</td>\n",
       "      <td>0.00</td>\n",
       "      <td>0.000000</td>\n",
       "      <td>0.3</td>\n",
       "      <td>1.0</td>\n",
       "      <td>0.2</td>\n",
       "      <td>1.0</td>\n",
       "      <td>0</td>\n",
       "    </tr>\n",
       "    <tr>\n",
       "      <th>3</th>\n",
       "      <td>http://mashable.com/2013/11/21/these-are-the-m...</td>\n",
       "      <td>413.0</td>\n",
       "      <td>12.0</td>\n",
       "      <td>781.0</td>\n",
       "      <td>0.497409</td>\n",
       "      <td>1.0</td>\n",
       "      <td>0.677350</td>\n",
       "      <td>10.0</td>\n",
       "      <td>3.0</td>\n",
       "      <td>1.0</td>\n",
       "      <td>...</td>\n",
       "      <td>0.100000</td>\n",
       "      <td>1.00</td>\n",
       "      <td>-0.195701</td>\n",
       "      <td>-0.40</td>\n",
       "      <td>-0.071429</td>\n",
       "      <td>0.0</td>\n",
       "      <td>0.0</td>\n",
       "      <td>0.5</td>\n",
       "      <td>0.0</td>\n",
       "      <td>0</td>\n",
       "    </tr>\n",
       "    <tr>\n",
       "      <th>4</th>\n",
       "      <td>http://mashable.com/2014/02/11/parking-ticket-...</td>\n",
       "      <td>331.0</td>\n",
       "      <td>8.0</td>\n",
       "      <td>177.0</td>\n",
       "      <td>0.685714</td>\n",
       "      <td>1.0</td>\n",
       "      <td>0.830357</td>\n",
       "      <td>3.0</td>\n",
       "      <td>2.0</td>\n",
       "      <td>1.0</td>\n",
       "      <td>...</td>\n",
       "      <td>0.100000</td>\n",
       "      <td>0.55</td>\n",
       "      <td>-0.175000</td>\n",
       "      <td>-0.25</td>\n",
       "      <td>-0.100000</td>\n",
       "      <td>0.0</td>\n",
       "      <td>0.0</td>\n",
       "      <td>0.5</td>\n",
       "      <td>0.0</td>\n",
       "      <td>0</td>\n",
       "    </tr>\n",
       "  </tbody>\n",
       "</table>\n",
       "<p>5 rows × 61 columns</p>\n",
       "</div>"
      ],
      "text/plain": [
       "                                                 url  timedelta  \\\n",
       "0  http://mashable.com/2014/12/10/cia-torture-rep...       28.0   \n",
       "1  http://mashable.com/2013/10/18/bitlock-kicksta...      447.0   \n",
       "2  http://mashable.com/2013/07/24/google-glass-po...      533.0   \n",
       "3  http://mashable.com/2013/11/21/these-are-the-m...      413.0   \n",
       "4  http://mashable.com/2014/02/11/parking-ticket-...      331.0   \n",
       "\n",
       "   n_tokens_title  n_tokens_content  n_unique_tokens  n_non_stop_words  \\\n",
       "0             9.0             188.0         0.732620               1.0   \n",
       "1             7.0             297.0         0.653199               1.0   \n",
       "2            11.0             181.0         0.660377               1.0   \n",
       "3            12.0             781.0         0.497409               1.0   \n",
       "4             8.0             177.0         0.685714               1.0   \n",
       "\n",
       "   n_non_stop_unique_tokens  num_hrefs  num_self_hrefs  num_imgs  ...  \\\n",
       "0                  0.844262        5.0             1.0       1.0  ...   \n",
       "1                  0.815789        9.0             4.0       1.0  ...   \n",
       "2                  0.775701        4.0             3.0       1.0  ...   \n",
       "3                  0.677350       10.0             3.0       1.0  ...   \n",
       "4                  0.830357        3.0             2.0       1.0  ...   \n",
       "\n",
       "   min_positive_polarity  max_positive_polarity  avg_negative_polarity  \\\n",
       "0               0.200000                   0.80              -0.487500   \n",
       "1               0.160000                   0.50              -0.135340   \n",
       "2               0.136364                   1.00               0.000000   \n",
       "3               0.100000                   1.00              -0.195701   \n",
       "4               0.100000                   0.55              -0.175000   \n",
       "\n",
       "   min_negative_polarity  max_negative_polarity  title_subjectivity  \\\n",
       "0                  -0.60              -0.250000                 0.9   \n",
       "1                  -0.40              -0.050000                 0.1   \n",
       "2                   0.00               0.000000                 0.3   \n",
       "3                  -0.40              -0.071429                 0.0   \n",
       "4                  -0.25              -0.100000                 0.0   \n",
       "\n",
       "   title_sentiment_polarity  abs_title_subjectivity  \\\n",
       "0                       0.8                     0.4   \n",
       "1                      -0.1                     0.4   \n",
       "2                       1.0                     0.2   \n",
       "3                       0.0                     0.5   \n",
       "4                       0.0                     0.5   \n",
       "\n",
       "   abs_title_sentiment_polarity  Popular  \n",
       "0                           0.8        1  \n",
       "1                           0.1        0  \n",
       "2                           1.0        0  \n",
       "3                           0.0        0  \n",
       "4                           0.0        0  \n",
       "\n",
       "[5 rows x 61 columns]"
      ]
     },
     "execution_count": 10,
     "metadata": {},
     "output_type": "execute_result"
    }
   ],
   "source": [
    "df = pd.read_csv('Dataset/mashable.csv', index_col=0)\n",
    "df.head()"
   ]
  },
  {
   "cell_type": "code",
   "execution_count": 11,
   "metadata": {},
   "outputs": [],
   "source": [
    "X = df.drop(['url', 'Popular'], axis=1)\n",
    "y = df['Popular']"
   ]
  },
  {
   "cell_type": "code",
   "execution_count": 12,
   "metadata": {},
   "outputs": [
    {
     "data": {
      "text/plain": [
       "count    6000.000000\n",
       "mean        0.500000\n",
       "std         0.500042\n",
       "min         0.000000\n",
       "25%         0.000000\n",
       "50%         0.500000\n",
       "75%         1.000000\n",
       "max         1.000000\n",
       "Name: Popular, dtype: float64"
      ]
     },
     "execution_count": 12,
     "metadata": {},
     "output_type": "execute_result"
    }
   ],
   "source": [
    "y.describe()"
   ]
  },
  {
   "cell_type": "code",
   "execution_count": 13,
   "metadata": {},
   "outputs": [
    {
     "data": {
      "text/html": [
       "<div>\n",
       "<style scoped>\n",
       "    .dataframe tbody tr th:only-of-type {\n",
       "        vertical-align: middle;\n",
       "    }\n",
       "\n",
       "    .dataframe tbody tr th {\n",
       "        vertical-align: top;\n",
       "    }\n",
       "\n",
       "    .dataframe thead th {\n",
       "        text-align: right;\n",
       "    }\n",
       "</style>\n",
       "<table border=\"1\" class=\"dataframe\">\n",
       "  <thead>\n",
       "    <tr style=\"text-align: right;\">\n",
       "      <th></th>\n",
       "      <th>count</th>\n",
       "      <th>percentage</th>\n",
       "    </tr>\n",
       "  </thead>\n",
       "  <tbody>\n",
       "    <tr>\n",
       "      <th>1</th>\n",
       "      <td>3000</td>\n",
       "      <td>0.5</td>\n",
       "    </tr>\n",
       "    <tr>\n",
       "      <th>0</th>\n",
       "      <td>3000</td>\n",
       "      <td>0.5</td>\n",
       "    </tr>\n",
       "  </tbody>\n",
       "</table>\n",
       "</div>"
      ],
      "text/plain": [
       "   count  percentage\n",
       "1   3000         0.5\n",
       "0   3000         0.5"
      ]
     },
     "execution_count": 13,
     "metadata": {},
     "output_type": "execute_result"
    }
   ],
   "source": [
    "y.value_counts().to_frame('count').assign(percentage = lambda x: x/x.sum())"
   ]
  },
  {
   "cell_type": "code",
   "execution_count": 14,
   "metadata": {},
   "outputs": [
    {
     "data": {
      "text/html": [
       "<div>\n",
       "<style scoped>\n",
       "    .dataframe tbody tr th:only-of-type {\n",
       "        vertical-align: middle;\n",
       "    }\n",
       "\n",
       "    .dataframe tbody tr th {\n",
       "        vertical-align: top;\n",
       "    }\n",
       "\n",
       "    .dataframe thead th {\n",
       "        text-align: right;\n",
       "    }\n",
       "</style>\n",
       "<table border=\"1\" class=\"dataframe\">\n",
       "  <thead>\n",
       "    <tr style=\"text-align: right;\">\n",
       "      <th></th>\n",
       "      <th>timedelta</th>\n",
       "      <th>n_tokens_title</th>\n",
       "      <th>n_tokens_content</th>\n",
       "      <th>n_unique_tokens</th>\n",
       "      <th>n_non_stop_words</th>\n",
       "      <th>n_non_stop_unique_tokens</th>\n",
       "      <th>num_hrefs</th>\n",
       "      <th>num_self_hrefs</th>\n",
       "      <th>num_imgs</th>\n",
       "      <th>num_videos</th>\n",
       "      <th>...</th>\n",
       "      <th>avg_positive_polarity</th>\n",
       "      <th>min_positive_polarity</th>\n",
       "      <th>max_positive_polarity</th>\n",
       "      <th>avg_negative_polarity</th>\n",
       "      <th>min_negative_polarity</th>\n",
       "      <th>max_negative_polarity</th>\n",
       "      <th>title_subjectivity</th>\n",
       "      <th>title_sentiment_polarity</th>\n",
       "      <th>abs_title_subjectivity</th>\n",
       "      <th>abs_title_sentiment_polarity</th>\n",
       "    </tr>\n",
       "  </thead>\n",
       "  <tbody>\n",
       "    <tr>\n",
       "      <th>count</th>\n",
       "      <td>6000.000000</td>\n",
       "      <td>6000.000000</td>\n",
       "      <td>6000.000000</td>\n",
       "      <td>6000.000000</td>\n",
       "      <td>6000.000000</td>\n",
       "      <td>6000.000000</td>\n",
       "      <td>6000.000000</td>\n",
       "      <td>6000.000000</td>\n",
       "      <td>6000.000000</td>\n",
       "      <td>6000.000000</td>\n",
       "      <td>...</td>\n",
       "      <td>6000.000000</td>\n",
       "      <td>6000.000000</td>\n",
       "      <td>6000.000000</td>\n",
       "      <td>6000.000000</td>\n",
       "      <td>6000.000000</td>\n",
       "      <td>6000.000000</td>\n",
       "      <td>6000.000000</td>\n",
       "      <td>6000.000000</td>\n",
       "      <td>6000.000000</td>\n",
       "      <td>6000.000000</td>\n",
       "    </tr>\n",
       "    <tr>\n",
       "      <th>mean</th>\n",
       "      <td>358.138833</td>\n",
       "      <td>10.368667</td>\n",
       "      <td>547.428833</td>\n",
       "      <td>0.527732</td>\n",
       "      <td>0.961333</td>\n",
       "      <td>0.665823</td>\n",
       "      <td>11.874000</td>\n",
       "      <td>3.272500</td>\n",
       "      <td>4.954667</td>\n",
       "      <td>1.463167</td>\n",
       "      <td>...</td>\n",
       "      <td>0.357497</td>\n",
       "      <td>0.097194</td>\n",
       "      <td>0.762009</td>\n",
       "      <td>-0.265334</td>\n",
       "      <td>-0.530531</td>\n",
       "      <td>-0.110047</td>\n",
       "      <td>0.296854</td>\n",
       "      <td>0.077178</td>\n",
       "      <td>0.343496</td>\n",
       "      <td>0.167633</td>\n",
       "    </tr>\n",
       "    <tr>\n",
       "      <th>std</th>\n",
       "      <td>210.734614</td>\n",
       "      <td>2.106140</td>\n",
       "      <td>510.232776</td>\n",
       "      <td>0.148356</td>\n",
       "      <td>0.192815</td>\n",
       "      <td>0.167740</td>\n",
       "      <td>13.444103</td>\n",
       "      <td>4.262895</td>\n",
       "      <td>8.635916</td>\n",
       "      <td>4.508144</td>\n",
       "      <td>...</td>\n",
       "      <td>0.112586</td>\n",
       "      <td>0.076585</td>\n",
       "      <td>0.256845</td>\n",
       "      <td>0.133800</td>\n",
       "      <td>0.294477</td>\n",
       "      <td>0.100482</td>\n",
       "      <td>0.334117</td>\n",
       "      <td>0.282790</td>\n",
       "      <td>0.186815</td>\n",
       "      <td>0.240462</td>\n",
       "    </tr>\n",
       "    <tr>\n",
       "      <th>min</th>\n",
       "      <td>9.000000</td>\n",
       "      <td>3.000000</td>\n",
       "      <td>0.000000</td>\n",
       "      <td>0.000000</td>\n",
       "      <td>0.000000</td>\n",
       "      <td>0.000000</td>\n",
       "      <td>0.000000</td>\n",
       "      <td>0.000000</td>\n",
       "      <td>0.000000</td>\n",
       "      <td>0.000000</td>\n",
       "      <td>...</td>\n",
       "      <td>0.000000</td>\n",
       "      <td>0.000000</td>\n",
       "      <td>0.000000</td>\n",
       "      <td>-1.000000</td>\n",
       "      <td>-1.000000</td>\n",
       "      <td>-1.000000</td>\n",
       "      <td>0.000000</td>\n",
       "      <td>-1.000000</td>\n",
       "      <td>0.000000</td>\n",
       "      <td>0.000000</td>\n",
       "    </tr>\n",
       "    <tr>\n",
       "      <th>25%</th>\n",
       "      <td>175.000000</td>\n",
       "      <td>9.000000</td>\n",
       "      <td>231.000000</td>\n",
       "      <td>0.465950</td>\n",
       "      <td>1.000000</td>\n",
       "      <td>0.619624</td>\n",
       "      <td>4.000000</td>\n",
       "      <td>1.000000</td>\n",
       "      <td>1.000000</td>\n",
       "      <td>0.000000</td>\n",
       "      <td>...</td>\n",
       "      <td>0.308693</td>\n",
       "      <td>0.050000</td>\n",
       "      <td>0.600000</td>\n",
       "      <td>-0.340000</td>\n",
       "      <td>-0.714286</td>\n",
       "      <td>-0.125000</td>\n",
       "      <td>0.000000</td>\n",
       "      <td>0.000000</td>\n",
       "      <td>0.166667</td>\n",
       "      <td>0.000000</td>\n",
       "    </tr>\n",
       "    <tr>\n",
       "      <th>50%</th>\n",
       "      <td>345.000000</td>\n",
       "      <td>10.000000</td>\n",
       "      <td>391.000000</td>\n",
       "      <td>0.541477</td>\n",
       "      <td>1.000000</td>\n",
       "      <td>0.689119</td>\n",
       "      <td>8.000000</td>\n",
       "      <td>2.000000</td>\n",
       "      <td>1.000000</td>\n",
       "      <td>0.000000</td>\n",
       "      <td>...</td>\n",
       "      <td>0.364237</td>\n",
       "      <td>0.100000</td>\n",
       "      <td>0.800000</td>\n",
       "      <td>-0.260185</td>\n",
       "      <td>-0.500000</td>\n",
       "      <td>-0.100000</td>\n",
       "      <td>0.200000</td>\n",
       "      <td>0.000000</td>\n",
       "      <td>0.500000</td>\n",
       "      <td>0.016667</td>\n",
       "    </tr>\n",
       "    <tr>\n",
       "      <th>75%</th>\n",
       "      <td>544.250000</td>\n",
       "      <td>12.000000</td>\n",
       "      <td>719.000000</td>\n",
       "      <td>0.614980</td>\n",
       "      <td>1.000000</td>\n",
       "      <td>0.756237</td>\n",
       "      <td>15.000000</td>\n",
       "      <td>4.000000</td>\n",
       "      <td>7.000000</td>\n",
       "      <td>1.000000</td>\n",
       "      <td>...</td>\n",
       "      <td>0.419669</td>\n",
       "      <td>0.100000</td>\n",
       "      <td>1.000000</td>\n",
       "      <td>-0.191273</td>\n",
       "      <td>-0.300000</td>\n",
       "      <td>-0.050000</td>\n",
       "      <td>0.500000</td>\n",
       "      <td>0.166667</td>\n",
       "      <td>0.500000</td>\n",
       "      <td>0.250000</td>\n",
       "    </tr>\n",
       "    <tr>\n",
       "      <th>max</th>\n",
       "      <td>731.000000</td>\n",
       "      <td>19.000000</td>\n",
       "      <td>8474.000000</td>\n",
       "      <td>0.967742</td>\n",
       "      <td>1.000000</td>\n",
       "      <td>1.000000</td>\n",
       "      <td>304.000000</td>\n",
       "      <td>116.000000</td>\n",
       "      <td>111.000000</td>\n",
       "      <td>91.000000</td>\n",
       "      <td>...</td>\n",
       "      <td>1.000000</td>\n",
       "      <td>1.000000</td>\n",
       "      <td>1.000000</td>\n",
       "      <td>0.000000</td>\n",
       "      <td>0.000000</td>\n",
       "      <td>0.000000</td>\n",
       "      <td>1.000000</td>\n",
       "      <td>1.000000</td>\n",
       "      <td>0.500000</td>\n",
       "      <td>1.000000</td>\n",
       "    </tr>\n",
       "  </tbody>\n",
       "</table>\n",
       "<p>8 rows × 59 columns</p>\n",
       "</div>"
      ],
      "text/plain": [
       "         timedelta  n_tokens_title  n_tokens_content  n_unique_tokens  \\\n",
       "count  6000.000000     6000.000000       6000.000000      6000.000000   \n",
       "mean    358.138833       10.368667        547.428833         0.527732   \n",
       "std     210.734614        2.106140        510.232776         0.148356   \n",
       "min       9.000000        3.000000          0.000000         0.000000   \n",
       "25%     175.000000        9.000000        231.000000         0.465950   \n",
       "50%     345.000000       10.000000        391.000000         0.541477   \n",
       "75%     544.250000       12.000000        719.000000         0.614980   \n",
       "max     731.000000       19.000000       8474.000000         0.967742   \n",
       "\n",
       "       n_non_stop_words  n_non_stop_unique_tokens    num_hrefs  \\\n",
       "count       6000.000000               6000.000000  6000.000000   \n",
       "mean           0.961333                  0.665823    11.874000   \n",
       "std            0.192815                  0.167740    13.444103   \n",
       "min            0.000000                  0.000000     0.000000   \n",
       "25%            1.000000                  0.619624     4.000000   \n",
       "50%            1.000000                  0.689119     8.000000   \n",
       "75%            1.000000                  0.756237    15.000000   \n",
       "max            1.000000                  1.000000   304.000000   \n",
       "\n",
       "       num_self_hrefs     num_imgs   num_videos  ...  avg_positive_polarity  \\\n",
       "count     6000.000000  6000.000000  6000.000000  ...            6000.000000   \n",
       "mean         3.272500     4.954667     1.463167  ...               0.357497   \n",
       "std          4.262895     8.635916     4.508144  ...               0.112586   \n",
       "min          0.000000     0.000000     0.000000  ...               0.000000   \n",
       "25%          1.000000     1.000000     0.000000  ...               0.308693   \n",
       "50%          2.000000     1.000000     0.000000  ...               0.364237   \n",
       "75%          4.000000     7.000000     1.000000  ...               0.419669   \n",
       "max        116.000000   111.000000    91.000000  ...               1.000000   \n",
       "\n",
       "       min_positive_polarity  max_positive_polarity  avg_negative_polarity  \\\n",
       "count            6000.000000            6000.000000            6000.000000   \n",
       "mean                0.097194               0.762009              -0.265334   \n",
       "std                 0.076585               0.256845               0.133800   \n",
       "min                 0.000000               0.000000              -1.000000   \n",
       "25%                 0.050000               0.600000              -0.340000   \n",
       "50%                 0.100000               0.800000              -0.260185   \n",
       "75%                 0.100000               1.000000              -0.191273   \n",
       "max                 1.000000               1.000000               0.000000   \n",
       "\n",
       "       min_negative_polarity  max_negative_polarity  title_subjectivity  \\\n",
       "count            6000.000000            6000.000000         6000.000000   \n",
       "mean               -0.530531              -0.110047            0.296854   \n",
       "std                 0.294477               0.100482            0.334117   \n",
       "min                -1.000000              -1.000000            0.000000   \n",
       "25%                -0.714286              -0.125000            0.000000   \n",
       "50%                -0.500000              -0.100000            0.200000   \n",
       "75%                -0.300000              -0.050000            0.500000   \n",
       "max                 0.000000               0.000000            1.000000   \n",
       "\n",
       "       title_sentiment_polarity  abs_title_subjectivity  \\\n",
       "count               6000.000000             6000.000000   \n",
       "mean                   0.077178                0.343496   \n",
       "std                    0.282790                0.186815   \n",
       "min                   -1.000000                0.000000   \n",
       "25%                    0.000000                0.166667   \n",
       "50%                    0.000000                0.500000   \n",
       "75%                    0.166667                0.500000   \n",
       "max                    1.000000                0.500000   \n",
       "\n",
       "       abs_title_sentiment_polarity  \n",
       "count                   6000.000000  \n",
       "mean                       0.167633  \n",
       "std                        0.240462  \n",
       "min                        0.000000  \n",
       "25%                        0.000000  \n",
       "50%                        0.016667  \n",
       "75%                        0.250000  \n",
       "max                        1.000000  \n",
       "\n",
       "[8 rows x 59 columns]"
      ]
     },
     "execution_count": 14,
     "metadata": {},
     "output_type": "execute_result"
    }
   ],
   "source": [
    "X.describe()"
   ]
  },
  {
   "cell_type": "code",
   "execution_count": 15,
   "metadata": {},
   "outputs": [
    {
     "name": "stdout",
     "output_type": "stream",
     "text": [
      "Train                          Test\n",
      "-----------------------------  -----------------------------\n",
      "count    4500.000000           count    1500.000000\n",
      "mean        0.502444           mean        0.492667\n",
      "std         0.500050           std         0.500113\n",
      "min         0.000000           min         0.000000\n",
      "25%         0.000000           25%         0.000000\n",
      "50%         1.000000           50%         0.000000\n",
      "75%         1.000000           75%         1.000000\n",
      "max         1.000000           max         1.000000\n",
      "Name: Popular, dtype: float64  Name: Popular, dtype: float64\n"
     ]
    }
   ],
   "source": [
    "# train/test split\n",
    "from sklearn.model_selection import train_test_split\n",
    "X_train, X_test, y_train, y_test = train_test_split(X, y, random_state=123)\n",
    "\n",
    "# Train vs test\n",
    "table = [[y_train.describe(), y_test.describe()]]\n",
    "headers = ['Train', 'Test']\n",
    "print(tabulate(table,headers))"
   ]
  },
  {
   "cell_type": "code",
   "execution_count": 16,
   "metadata": {},
   "outputs": [
    {
     "data": {
      "text/html": [
       "<div>\n",
       "<style scoped>\n",
       "    .dataframe tbody tr th:only-of-type {\n",
       "        vertical-align: middle;\n",
       "    }\n",
       "\n",
       "    .dataframe tbody tr th {\n",
       "        vertical-align: top;\n",
       "    }\n",
       "\n",
       "    .dataframe thead th {\n",
       "        text-align: right;\n",
       "    }\n",
       "</style>\n",
       "<table border=\"1\" class=\"dataframe\">\n",
       "  <thead>\n",
       "    <tr style=\"text-align: right;\">\n",
       "      <th></th>\n",
       "      <th>count</th>\n",
       "      <th>percentage</th>\n",
       "    </tr>\n",
       "  </thead>\n",
       "  <tbody>\n",
       "    <tr>\n",
       "      <th>1</th>\n",
       "      <td>2261</td>\n",
       "      <td>0.502444</td>\n",
       "    </tr>\n",
       "    <tr>\n",
       "      <th>0</th>\n",
       "      <td>2239</td>\n",
       "      <td>0.497556</td>\n",
       "    </tr>\n",
       "  </tbody>\n",
       "</table>\n",
       "</div>"
      ],
      "text/plain": [
       "   count  percentage\n",
       "1   2261    0.502444\n",
       "0   2239    0.497556"
      ]
     },
     "execution_count": 16,
     "metadata": {},
     "output_type": "execute_result"
    }
   ],
   "source": [
    "y_train.value_counts().to_frame('count').assign(percentage = lambda x: x/x.sum())"
   ]
  },
  {
   "cell_type": "code",
   "execution_count": 17,
   "metadata": {},
   "outputs": [
    {
     "data": {
      "text/html": [
       "<div>\n",
       "<style scoped>\n",
       "    .dataframe tbody tr th:only-of-type {\n",
       "        vertical-align: middle;\n",
       "    }\n",
       "\n",
       "    .dataframe tbody tr th {\n",
       "        vertical-align: top;\n",
       "    }\n",
       "\n",
       "    .dataframe thead th {\n",
       "        text-align: right;\n",
       "    }\n",
       "</style>\n",
       "<table border=\"1\" class=\"dataframe\">\n",
       "  <thead>\n",
       "    <tr style=\"text-align: right;\">\n",
       "      <th></th>\n",
       "      <th>count</th>\n",
       "      <th>percentage</th>\n",
       "    </tr>\n",
       "  </thead>\n",
       "  <tbody>\n",
       "    <tr>\n",
       "      <th>0</th>\n",
       "      <td>761</td>\n",
       "      <td>0.507333</td>\n",
       "    </tr>\n",
       "    <tr>\n",
       "      <th>1</th>\n",
       "      <td>739</td>\n",
       "      <td>0.492667</td>\n",
       "    </tr>\n",
       "  </tbody>\n",
       "</table>\n",
       "</div>"
      ],
      "text/plain": [
       "   count  percentage\n",
       "0    761    0.507333\n",
       "1    739    0.492667"
      ]
     },
     "execution_count": 17,
     "metadata": {},
     "output_type": "execute_result"
    }
   ],
   "source": [
    "y_test.value_counts().to_frame('count').assign(percentage = lambda x: x/x.sum())"
   ]
  },
  {
   "cell_type": "markdown",
   "metadata": {},
   "source": [
    "# Exercise 7.6\n",
    "\n",
    "Estimate a Decision Tree Classifier and a Logistic Regression\n",
    "\n",
    "Evaluate using the following metrics:\n",
    "* Accuracy\n",
    "* F1-Score"
   ]
  },
  {
   "cell_type": "markdown",
   "metadata": {},
   "source": [
    "### i) Árbol de Decisión"
   ]
  },
  {
   "cell_type": "code",
   "execution_count": 18,
   "metadata": {},
   "outputs": [],
   "source": [
    "# list of values to try for max_depth\n",
    "max_depth_range = range(1, 31)\n",
    "\n",
    "# list to store the average RMSE for each value of max_depth\n",
    "accuracy_scores = []\n",
    "\n",
    "# use 10-fold cross-validation with each value of max_depth\n",
    "for depth in max_depth_range:\n",
    "    clf = DecisionTreeClassifier(max_depth=depth, random_state=1)\n",
    "    accuracy_scores.append(cross_val_score(clf, X_train, y_train, cv=10, scoring='accuracy').mean())"
   ]
  },
  {
   "cell_type": "code",
   "execution_count": 19,
   "metadata": {},
   "outputs": [
    {
     "data": {
      "text/plain": [
       "Text(0, 0.5, 'Accuracy')"
      ]
     },
     "execution_count": 19,
     "metadata": {},
     "output_type": "execute_result"
    },
    {
     "data": {
      "image/png": "[encoded data removed]",
      "text/plain": [
       "<Figure size 432x288 with 1 Axes>"
      ]
     },
     "metadata": {
      "needs_background": "light"
     },
     "output_type": "display_data"
    }
   ],
   "source": [
    "# plot max_depth (x-axis) versus Accuracy (y-axis)\n",
    "plt.plot(max_depth_range, accuracy_scores)\n",
    "plt.xlabel('max_depth')\n",
    "plt.ylabel('Accuracy')"
   ]
  },
  {
   "cell_type": "code",
   "execution_count": 20,
   "metadata": {},
   "outputs": [
    {
     "name": "stdout",
     "output_type": "stream",
     "text": [
      "Best accuracy 0.6304444444444444\n",
      "Max Depth 3\n"
     ]
    }
   ],
   "source": [
    "# show the best accuracy and the corresponding max_depth\n",
    "tunning=sorted(zip(accuracy_scores, max_depth_range))[::-1][0]\n",
    "print(\"Best accuracy\",tunning[0])\n",
    "print(\"Max Depth\",tunning[1])"
   ]
  },
  {
   "cell_type": "code",
   "execution_count": 21,
   "metadata": {},
   "outputs": [
    {
     "data": {
      "text/plain": [
       "DecisionTreeClassifier(max_depth=3, random_state=123)"
      ]
     },
     "execution_count": 21,
     "metadata": {},
     "output_type": "execute_result"
    }
   ],
   "source": [
    "# once best max_depth is selected, so fit a tree using that parameter\n",
    "clf = DecisionTreeClassifier(max_depth=tunning[1], random_state=123)\n",
    "accuracy_scores.append(cross_val_score(clf, X_train, y_train, cv=10, scoring='accuracy').mean())\n",
    "clf.fit(X_train, y_train)"
   ]
  },
  {
   "cell_type": "code",
   "execution_count": 22,
   "metadata": {},
   "outputs": [
    {
     "data": {
      "text/html": [
       "<div>\n",
       "<style scoped>\n",
       "    .dataframe tbody tr th:only-of-type {\n",
       "        vertical-align: middle;\n",
       "    }\n",
       "\n",
       "    .dataframe tbody tr th {\n",
       "        vertical-align: top;\n",
       "    }\n",
       "\n",
       "    .dataframe thead th {\n",
       "        text-align: right;\n",
       "    }\n",
       "</style>\n",
       "<table border=\"1\" class=\"dataframe\">\n",
       "  <thead>\n",
       "    <tr style=\"text-align: right;\">\n",
       "      <th></th>\n",
       "      <th>feature</th>\n",
       "      <th>importance</th>\n",
       "    </tr>\n",
       "  </thead>\n",
       "  <tbody>\n",
       "    <tr>\n",
       "      <th>26</th>\n",
       "      <td>kw_avg_avg</td>\n",
       "      <td>0.719798</td>\n",
       "    </tr>\n",
       "    <tr>\n",
       "      <th>21</th>\n",
       "      <td>kw_min_max</td>\n",
       "      <td>0.104722</td>\n",
       "    </tr>\n",
       "    <tr>\n",
       "      <th>25</th>\n",
       "      <td>kw_max_avg</td>\n",
       "      <td>0.090037</td>\n",
       "    </tr>\n",
       "    <tr>\n",
       "      <th>20</th>\n",
       "      <td>kw_avg_min</td>\n",
       "      <td>0.049868</td>\n",
       "    </tr>\n",
       "    <tr>\n",
       "      <th>23</th>\n",
       "      <td>kw_avg_max</td>\n",
       "      <td>0.035574</td>\n",
       "    </tr>\n",
       "    <tr>\n",
       "      <th>0</th>\n",
       "      <td>timedelta</td>\n",
       "      <td>0.000000</td>\n",
       "    </tr>\n",
       "    <tr>\n",
       "      <th>32</th>\n",
       "      <td>weekday_is_wednesday</td>\n",
       "      <td>0.000000</td>\n",
       "    </tr>\n",
       "    <tr>\n",
       "      <th>34</th>\n",
       "      <td>weekday_is_friday</td>\n",
       "      <td>0.000000</td>\n",
       "    </tr>\n",
       "    <tr>\n",
       "      <th>35</th>\n",
       "      <td>weekday_is_saturday</td>\n",
       "      <td>0.000000</td>\n",
       "    </tr>\n",
       "    <tr>\n",
       "      <th>36</th>\n",
       "      <td>weekday_is_sunday</td>\n",
       "      <td>0.000000</td>\n",
       "    </tr>\n",
       "  </tbody>\n",
       "</table>\n",
       "</div>"
      ],
      "text/plain": [
       "                 feature  importance\n",
       "26            kw_avg_avg    0.719798\n",
       "21            kw_min_max    0.104722\n",
       "25            kw_max_avg    0.090037\n",
       "20            kw_avg_min    0.049868\n",
       "23            kw_avg_max    0.035574\n",
       "0              timedelta    0.000000\n",
       "32  weekday_is_wednesday    0.000000\n",
       "34     weekday_is_friday    0.000000\n",
       "35   weekday_is_saturday    0.000000\n",
       "36     weekday_is_sunday    0.000000"
      ]
     },
     "execution_count": 22,
     "metadata": {},
     "output_type": "execute_result"
    }
   ],
   "source": [
    "# compute feature importances (top 10)\n",
    "feature_cols = X.columns[X.columns.str.startswith('C') == False]\n",
    "\n",
    "pd.DataFrame({'feature':feature_cols, 'importance':clf.feature_importances_}).sort_values('importance',ascending=False).head(10)"
   ]
  },
  {
   "cell_type": "code",
   "execution_count": 23,
   "metadata": {},
   "outputs": [
    {
     "name": "stdout",
     "output_type": "stream",
     "text": [
      "Real                           Predict\n",
      "-----------------------------  -----------------------\n",
      "count    1500.000000           count    1500.000000\n",
      "mean        0.492667           mean        0.462667\n",
      "std         0.500113           std         0.498771\n",
      "min         0.000000           min         0.000000\n",
      "25%         0.000000           25%         0.000000\n",
      "50%         0.000000           50%         0.000000\n",
      "75%         1.000000           75%         1.000000\n",
      "max         1.000000           max         1.000000\n",
      "Name: Popular, dtype: float64  Name: 0, dtype: float64\n"
     ]
    }
   ],
   "source": [
    "# predict \n",
    "y_pred = clf.predict(X_test)\n",
    "y_pred=pd.DataFrame(y_pred)\n",
    "\n",
    "# real vs predict\n",
    "table = [[y_test.describe(), y_pred.describe()[-0]]]\n",
    "headers = ['Real', 'Predict']\n",
    "print(tabulate(table,headers))"
   ]
  },
  {
   "cell_type": "code",
   "execution_count": 24,
   "metadata": {},
   "outputs": [
    {
     "data": {
      "text/plain": [
       "array([[522, 239],\n",
       "       [284, 455]])"
      ]
     },
     "execution_count": 24,
     "metadata": {},
     "output_type": "execute_result"
    }
   ],
   "source": [
    "# confusion matrix\n",
    "cnf_matrix = metrics.confusion_matrix(y_test, y_pred)\n",
    "cnf_matrix"
   ]
  },
  {
   "cell_type": "code",
   "execution_count": 25,
   "metadata": {},
   "outputs": [
    {
     "name": "stdout",
     "output_type": "stream",
     "text": [
      "Accuracy: 0.6513333333333333\n",
      "F1 score: 0.6350314026517794\n",
      "Precision: 0.6556195965417867\n",
      "Recall: 0.6156968876860622\n"
     ]
    }
   ],
   "source": [
    "# metrics\n",
    "print(\"Accuracy:\",metrics.accuracy_score(y_test, y_pred))\n",
    "print(\"F1 score:\",metrics.f1_score(y_test, y_pred))\n",
    "\n",
    "print(\"Precision:\",metrics.precision_score(y_test, y_pred))\n",
    "print(\"Recall:\",metrics.recall_score(y_test, y_pred))"
   ]
  },
  {
   "cell_type": "markdown",
   "metadata": {},
   "source": [
    "### ii) Regresión Logistica"
   ]
  },
  {
   "cell_type": "code",
   "execution_count": 26,
   "metadata": {},
   "outputs": [],
   "source": [
    "# model\n",
    "logreg = LogisticRegression()\n",
    "\n",
    "# fit and predict\n",
    "logreg.fit(X_train,y_train)\n",
    "y_pred = logreg.predict(X_test)\n",
    "y_pred=pd.DataFrame(y_pred)"
   ]
  },
  {
   "cell_type": "code",
   "execution_count": 27,
   "metadata": {},
   "outputs": [
    {
     "name": "stdout",
     "output_type": "stream",
     "text": [
      "Real                           Predict\n",
      "-----------------------------  -----------------------\n",
      "count    1500.000000           count    1500.000000\n",
      "mean        0.492667           mean        0.494000\n",
      "std         0.500113           std         0.500131\n",
      "min         0.000000           min         0.000000\n",
      "25%         0.000000           25%         0.000000\n",
      "50%         0.000000           50%         0.000000\n",
      "75%         1.000000           75%         1.000000\n",
      "max         1.000000           max         1.000000\n",
      "Name: Popular, dtype: float64  Name: 0, dtype: float64\n"
     ]
    }
   ],
   "source": [
    "# real vs predict\n",
    "table = [[y_test.describe(), y_pred.describe()[-0]]]\n",
    "headers = ['Real', 'Predict']\n",
    "print(tabulate(table,headers))"
   ]
  },
  {
   "cell_type": "code",
   "execution_count": 28,
   "metadata": {},
   "outputs": [
    {
     "data": {
      "text/plain": [
       "array([[501, 260],\n",
       "       [258, 481]])"
      ]
     },
     "execution_count": 28,
     "metadata": {},
     "output_type": "execute_result"
    }
   ],
   "source": [
    "# confusion matrix\n",
    "cnf_matrix = metrics.confusion_matrix(y_test, y_pred)\n",
    "cnf_matrix"
   ]
  },
  {
   "cell_type": "code",
   "execution_count": 29,
   "metadata": {},
   "outputs": [
    {
     "name": "stdout",
     "output_type": "stream",
     "text": [
      "Accuracy: 0.6546666666666666\n",
      "F1 score: 0.6500000000000001\n",
      "Precision: 0.6491228070175439\n",
      "Recall: 0.6508795669824087\n"
     ]
    }
   ],
   "source": [
    "# metrics\n",
    "print(\"Accuracy:\",metrics.accuracy_score(y_test, y_pred))\n",
    "print(\"F1 score:\",metrics.f1_score(y_test, y_pred))\n",
    "\n",
    "print(\"Precision:\",metrics.precision_score(y_test, y_pred))\n",
    "print(\"Recall:\",metrics.recall_score(y_test, y_pred))"
   ]
  },
  {
   "cell_type": "markdown",
   "metadata": {},
   "source": [
    "# Exercise 7.7\n",
    "\n",
    "i) Estimate 300 bagged samples"
   ]
  },
  {
   "cell_type": "markdown",
   "metadata": {},
   "source": [
    "### 300 bagged samples"
   ]
  },
  {
   "cell_type": "code",
   "execution_count": 30,
   "metadata": {},
   "outputs": [
    {
     "data": {
      "text/html": [
       "<div>\n",
       "<style scoped>\n",
       "    .dataframe tbody tr th:only-of-type {\n",
       "        vertical-align: middle;\n",
       "    }\n",
       "\n",
       "    .dataframe tbody tr th {\n",
       "        vertical-align: top;\n",
       "    }\n",
       "\n",
       "    .dataframe thead th {\n",
       "        text-align: right;\n",
       "    }\n",
       "</style>\n",
       "<table border=\"1\" class=\"dataframe\">\n",
       "  <thead>\n",
       "    <tr style=\"text-align: right;\">\n",
       "      <th></th>\n",
       "      <th>0</th>\n",
       "      <th>1</th>\n",
       "      <th>2</th>\n",
       "      <th>3</th>\n",
       "      <th>4</th>\n",
       "      <th>5</th>\n",
       "      <th>6</th>\n",
       "      <th>7</th>\n",
       "      <th>8</th>\n",
       "      <th>9</th>\n",
       "      <th>...</th>\n",
       "      <th>290</th>\n",
       "      <th>291</th>\n",
       "      <th>292</th>\n",
       "      <th>293</th>\n",
       "      <th>294</th>\n",
       "      <th>295</th>\n",
       "      <th>296</th>\n",
       "      <th>297</th>\n",
       "      <th>298</th>\n",
       "      <th>299</th>\n",
       "    </tr>\n",
       "  </thead>\n",
       "  <tbody>\n",
       "    <tr>\n",
       "      <th>0</th>\n",
       "      <td>0</td>\n",
       "      <td>1</td>\n",
       "      <td>1</td>\n",
       "      <td>0</td>\n",
       "      <td>1</td>\n",
       "      <td>1</td>\n",
       "      <td>0</td>\n",
       "      <td>0</td>\n",
       "      <td>1</td>\n",
       "      <td>0</td>\n",
       "      <td>...</td>\n",
       "      <td>1</td>\n",
       "      <td>1</td>\n",
       "      <td>0</td>\n",
       "      <td>1</td>\n",
       "      <td>0</td>\n",
       "      <td>1</td>\n",
       "      <td>1</td>\n",
       "      <td>1</td>\n",
       "      <td>1</td>\n",
       "      <td>0</td>\n",
       "    </tr>\n",
       "    <tr>\n",
       "      <th>1</th>\n",
       "      <td>0</td>\n",
       "      <td>1</td>\n",
       "      <td>1</td>\n",
       "      <td>0</td>\n",
       "      <td>1</td>\n",
       "      <td>1</td>\n",
       "      <td>0</td>\n",
       "      <td>1</td>\n",
       "      <td>0</td>\n",
       "      <td>0</td>\n",
       "      <td>...</td>\n",
       "      <td>0</td>\n",
       "      <td>1</td>\n",
       "      <td>0</td>\n",
       "      <td>1</td>\n",
       "      <td>1</td>\n",
       "      <td>1</td>\n",
       "      <td>1</td>\n",
       "      <td>0</td>\n",
       "      <td>1</td>\n",
       "      <td>1</td>\n",
       "    </tr>\n",
       "    <tr>\n",
       "      <th>2</th>\n",
       "      <td>1</td>\n",
       "      <td>1</td>\n",
       "      <td>1</td>\n",
       "      <td>1</td>\n",
       "      <td>0</td>\n",
       "      <td>0</td>\n",
       "      <td>1</td>\n",
       "      <td>1</td>\n",
       "      <td>0</td>\n",
       "      <td>0</td>\n",
       "      <td>...</td>\n",
       "      <td>1</td>\n",
       "      <td>0</td>\n",
       "      <td>0</td>\n",
       "      <td>1</td>\n",
       "      <td>0</td>\n",
       "      <td>1</td>\n",
       "      <td>1</td>\n",
       "      <td>1</td>\n",
       "      <td>1</td>\n",
       "      <td>0</td>\n",
       "    </tr>\n",
       "    <tr>\n",
       "      <th>3</th>\n",
       "      <td>0</td>\n",
       "      <td>1</td>\n",
       "      <td>0</td>\n",
       "      <td>0</td>\n",
       "      <td>0</td>\n",
       "      <td>0</td>\n",
       "      <td>0</td>\n",
       "      <td>0</td>\n",
       "      <td>1</td>\n",
       "      <td>0</td>\n",
       "      <td>...</td>\n",
       "      <td>0</td>\n",
       "      <td>0</td>\n",
       "      <td>0</td>\n",
       "      <td>0</td>\n",
       "      <td>0</td>\n",
       "      <td>1</td>\n",
       "      <td>0</td>\n",
       "      <td>0</td>\n",
       "      <td>1</td>\n",
       "      <td>0</td>\n",
       "    </tr>\n",
       "    <tr>\n",
       "      <th>4</th>\n",
       "      <td>0</td>\n",
       "      <td>0</td>\n",
       "      <td>1</td>\n",
       "      <td>0</td>\n",
       "      <td>1</td>\n",
       "      <td>1</td>\n",
       "      <td>0</td>\n",
       "      <td>1</td>\n",
       "      <td>1</td>\n",
       "      <td>1</td>\n",
       "      <td>...</td>\n",
       "      <td>1</td>\n",
       "      <td>0</td>\n",
       "      <td>1</td>\n",
       "      <td>1</td>\n",
       "      <td>1</td>\n",
       "      <td>1</td>\n",
       "      <td>1</td>\n",
       "      <td>1</td>\n",
       "      <td>1</td>\n",
       "      <td>1</td>\n",
       "    </tr>\n",
       "    <tr>\n",
       "      <th>...</th>\n",
       "      <td>...</td>\n",
       "      <td>...</td>\n",
       "      <td>...</td>\n",
       "      <td>...</td>\n",
       "      <td>...</td>\n",
       "      <td>...</td>\n",
       "      <td>...</td>\n",
       "      <td>...</td>\n",
       "      <td>...</td>\n",
       "      <td>...</td>\n",
       "      <td>...</td>\n",
       "      <td>...</td>\n",
       "      <td>...</td>\n",
       "      <td>...</td>\n",
       "      <td>...</td>\n",
       "      <td>...</td>\n",
       "      <td>...</td>\n",
       "      <td>...</td>\n",
       "      <td>...</td>\n",
       "      <td>...</td>\n",
       "      <td>...</td>\n",
       "    </tr>\n",
       "    <tr>\n",
       "      <th>1495</th>\n",
       "      <td>1</td>\n",
       "      <td>1</td>\n",
       "      <td>0</td>\n",
       "      <td>0</td>\n",
       "      <td>0</td>\n",
       "      <td>0</td>\n",
       "      <td>0</td>\n",
       "      <td>1</td>\n",
       "      <td>1</td>\n",
       "      <td>0</td>\n",
       "      <td>...</td>\n",
       "      <td>1</td>\n",
       "      <td>0</td>\n",
       "      <td>0</td>\n",
       "      <td>0</td>\n",
       "      <td>0</td>\n",
       "      <td>0</td>\n",
       "      <td>0</td>\n",
       "      <td>0</td>\n",
       "      <td>0</td>\n",
       "      <td>0</td>\n",
       "    </tr>\n",
       "    <tr>\n",
       "      <th>1496</th>\n",
       "      <td>1</td>\n",
       "      <td>0</td>\n",
       "      <td>1</td>\n",
       "      <td>1</td>\n",
       "      <td>1</td>\n",
       "      <td>1</td>\n",
       "      <td>1</td>\n",
       "      <td>1</td>\n",
       "      <td>1</td>\n",
       "      <td>0</td>\n",
       "      <td>...</td>\n",
       "      <td>1</td>\n",
       "      <td>0</td>\n",
       "      <td>1</td>\n",
       "      <td>0</td>\n",
       "      <td>1</td>\n",
       "      <td>1</td>\n",
       "      <td>1</td>\n",
       "      <td>0</td>\n",
       "      <td>1</td>\n",
       "      <td>0</td>\n",
       "    </tr>\n",
       "    <tr>\n",
       "      <th>1497</th>\n",
       "      <td>0</td>\n",
       "      <td>0</td>\n",
       "      <td>0</td>\n",
       "      <td>0</td>\n",
       "      <td>1</td>\n",
       "      <td>1</td>\n",
       "      <td>1</td>\n",
       "      <td>0</td>\n",
       "      <td>1</td>\n",
       "      <td>1</td>\n",
       "      <td>...</td>\n",
       "      <td>1</td>\n",
       "      <td>0</td>\n",
       "      <td>0</td>\n",
       "      <td>1</td>\n",
       "      <td>0</td>\n",
       "      <td>0</td>\n",
       "      <td>0</td>\n",
       "      <td>0</td>\n",
       "      <td>0</td>\n",
       "      <td>0</td>\n",
       "    </tr>\n",
       "    <tr>\n",
       "      <th>1498</th>\n",
       "      <td>1</td>\n",
       "      <td>0</td>\n",
       "      <td>0</td>\n",
       "      <td>0</td>\n",
       "      <td>1</td>\n",
       "      <td>0</td>\n",
       "      <td>0</td>\n",
       "      <td>0</td>\n",
       "      <td>0</td>\n",
       "      <td>0</td>\n",
       "      <td>...</td>\n",
       "      <td>0</td>\n",
       "      <td>0</td>\n",
       "      <td>1</td>\n",
       "      <td>0</td>\n",
       "      <td>0</td>\n",
       "      <td>0</td>\n",
       "      <td>0</td>\n",
       "      <td>0</td>\n",
       "      <td>0</td>\n",
       "      <td>0</td>\n",
       "    </tr>\n",
       "    <tr>\n",
       "      <th>1499</th>\n",
       "      <td>0</td>\n",
       "      <td>0</td>\n",
       "      <td>0</td>\n",
       "      <td>0</td>\n",
       "      <td>1</td>\n",
       "      <td>1</td>\n",
       "      <td>0</td>\n",
       "      <td>0</td>\n",
       "      <td>1</td>\n",
       "      <td>1</td>\n",
       "      <td>...</td>\n",
       "      <td>0</td>\n",
       "      <td>0</td>\n",
       "      <td>0</td>\n",
       "      <td>0</td>\n",
       "      <td>0</td>\n",
       "      <td>1</td>\n",
       "      <td>0</td>\n",
       "      <td>0</td>\n",
       "      <td>0</td>\n",
       "      <td>0</td>\n",
       "    </tr>\n",
       "  </tbody>\n",
       "</table>\n",
       "<p>1500 rows × 300 columns</p>\n",
       "</div>"
      ],
      "text/plain": [
       "      0    1    2    3    4    5    6    7    8    9    ...  290  291  292  \\\n",
       "0       0    1    1    0    1    1    0    0    1    0  ...    1    1    0   \n",
       "1       0    1    1    0    1    1    0    1    0    0  ...    0    1    0   \n",
       "2       1    1    1    1    0    0    1    1    0    0  ...    1    0    0   \n",
       "3       0    1    0    0    0    0    0    0    1    0  ...    0    0    0   \n",
       "4       0    0    1    0    1    1    0    1    1    1  ...    1    0    1   \n",
       "...   ...  ...  ...  ...  ...  ...  ...  ...  ...  ...  ...  ...  ...  ...   \n",
       "1495    1    1    0    0    0    0    0    1    1    0  ...    1    0    0   \n",
       "1496    1    0    1    1    1    1    1    1    1    0  ...    1    0    1   \n",
       "1497    0    0    0    0    1    1    1    0    1    1  ...    1    0    0   \n",
       "1498    1    0    0    0    1    0    0    0    0    0  ...    0    0    1   \n",
       "1499    0    0    0    0    1    1    0    0    1    1  ...    0    0    0   \n",
       "\n",
       "      293  294  295  296  297  298  299  \n",
       "0       1    0    1    1    1    1    0  \n",
       "1       1    1    1    1    0    1    1  \n",
       "2       1    0    1    1    1    1    0  \n",
       "3       0    0    1    0    0    1    0  \n",
       "4       1    1    1    1    1    1    1  \n",
       "...   ...  ...  ...  ...  ...  ...  ...  \n",
       "1495    0    0    0    0    0    0    0  \n",
       "1496    0    1    1    1    0    1    0  \n",
       "1497    1    0    0    0    0    0    0  \n",
       "1498    0    0    0    0    0    0    0  \n",
       "1499    0    0    1    0    0    0    0  \n",
       "\n",
       "[1500 rows x 300 columns]"
      ]
     },
     "execution_count": 30,
     "metadata": {},
     "output_type": "execute_result"
    }
   ],
   "source": [
    "# set a seed for reproducibility\n",
    "seed = np.random.seed(123)\n",
    "n_samples = X_train.shape[0]\n",
    "n_B = 300\n",
    "\n",
    "# create bootstrap samples (will be used to select rows from the DataFrame)\n",
    "samples = [np.random.choice(a=n_samples, size=n_samples, replace=True) for _ in range(1, n_B +1 )]\n",
    "\n",
    "# grow each tree deep\n",
    "#bagclf = BaggingClassifier(base_estimator=DecisionTreeClassifier(), n_estimators=n_B, bootstrap=True,\n",
    "#                        random_state=seed, n_jobs=-1, oob_score=True)\n",
    "\n",
    "bagclf = DecisionTreeClassifier()\n",
    "\n",
    "# DataFrame for storing predicted from each tree\n",
    "y_pred_all = []\n",
    "\n",
    "# grow one tree for each bootstrap sample and make predictions on testing data\n",
    "for i in range(n_B):\n",
    "    X_train_1 = X_train.iloc[samples[i], :]\n",
    "    y_train_1 = y_train.iloc[samples[i]]\n",
    "    bagclf.fit(X_train_1, y_train_1)\n",
    "    y_pred_all.append(bagclf.predict(X_test))\n",
    "    \n",
    "y_pred_1 = np.transpose(pd.DataFrame(y_pred_all))\n",
    "y_pred_1   "
   ]
  },
  {
   "cell_type": "markdown",
   "metadata": {},
   "source": [
    "ii) Estimate the following set of classifiers:\n",
    "\n",
    "* 100 Decision Trees where max_depth=None\n",
    "* 100 Decision Trees where max_depth=2\n",
    "* 100 Logistic Regressions"
   ]
  },
  {
   "cell_type": "markdown",
   "metadata": {},
   "source": [
    "### 100 Decision Trees where max_depth=None"
   ]
  },
  {
   "cell_type": "code",
   "execution_count": 31,
   "metadata": {},
   "outputs": [
    {
     "data": {
      "text/html": [
       "<div>\n",
       "<style scoped>\n",
       "    .dataframe tbody tr th:only-of-type {\n",
       "        vertical-align: middle;\n",
       "    }\n",
       "\n",
       "    .dataframe tbody tr th {\n",
       "        vertical-align: top;\n",
       "    }\n",
       "\n",
       "    .dataframe thead th {\n",
       "        text-align: right;\n",
       "    }\n",
       "</style>\n",
       "<table border=\"1\" class=\"dataframe\">\n",
       "  <thead>\n",
       "    <tr style=\"text-align: right;\">\n",
       "      <th></th>\n",
       "      <th>0</th>\n",
       "      <th>1</th>\n",
       "      <th>2</th>\n",
       "      <th>3</th>\n",
       "      <th>4</th>\n",
       "      <th>5</th>\n",
       "      <th>6</th>\n",
       "      <th>7</th>\n",
       "      <th>8</th>\n",
       "      <th>9</th>\n",
       "      <th>...</th>\n",
       "      <th>90</th>\n",
       "      <th>91</th>\n",
       "      <th>92</th>\n",
       "      <th>93</th>\n",
       "      <th>94</th>\n",
       "      <th>95</th>\n",
       "      <th>96</th>\n",
       "      <th>97</th>\n",
       "      <th>98</th>\n",
       "      <th>99</th>\n",
       "    </tr>\n",
       "  </thead>\n",
       "  <tbody>\n",
       "    <tr>\n",
       "      <th>0</th>\n",
       "      <td>0</td>\n",
       "      <td>1</td>\n",
       "      <td>1</td>\n",
       "      <td>1</td>\n",
       "      <td>0</td>\n",
       "      <td>1</td>\n",
       "      <td>0</td>\n",
       "      <td>0</td>\n",
       "      <td>1</td>\n",
       "      <td>0</td>\n",
       "      <td>...</td>\n",
       "      <td>1</td>\n",
       "      <td>1</td>\n",
       "      <td>0</td>\n",
       "      <td>0</td>\n",
       "      <td>0</td>\n",
       "      <td>1</td>\n",
       "      <td>1</td>\n",
       "      <td>0</td>\n",
       "      <td>1</td>\n",
       "      <td>1</td>\n",
       "    </tr>\n",
       "    <tr>\n",
       "      <th>1</th>\n",
       "      <td>1</td>\n",
       "      <td>0</td>\n",
       "      <td>1</td>\n",
       "      <td>0</td>\n",
       "      <td>1</td>\n",
       "      <td>1</td>\n",
       "      <td>1</td>\n",
       "      <td>1</td>\n",
       "      <td>0</td>\n",
       "      <td>0</td>\n",
       "      <td>...</td>\n",
       "      <td>0</td>\n",
       "      <td>1</td>\n",
       "      <td>1</td>\n",
       "      <td>0</td>\n",
       "      <td>1</td>\n",
       "      <td>0</td>\n",
       "      <td>1</td>\n",
       "      <td>1</td>\n",
       "      <td>0</td>\n",
       "      <td>1</td>\n",
       "    </tr>\n",
       "    <tr>\n",
       "      <th>2</th>\n",
       "      <td>1</td>\n",
       "      <td>1</td>\n",
       "      <td>1</td>\n",
       "      <td>1</td>\n",
       "      <td>1</td>\n",
       "      <td>0</td>\n",
       "      <td>1</td>\n",
       "      <td>1</td>\n",
       "      <td>0</td>\n",
       "      <td>0</td>\n",
       "      <td>...</td>\n",
       "      <td>1</td>\n",
       "      <td>1</td>\n",
       "      <td>0</td>\n",
       "      <td>1</td>\n",
       "      <td>0</td>\n",
       "      <td>1</td>\n",
       "      <td>0</td>\n",
       "      <td>1</td>\n",
       "      <td>0</td>\n",
       "      <td>1</td>\n",
       "    </tr>\n",
       "    <tr>\n",
       "      <th>3</th>\n",
       "      <td>0</td>\n",
       "      <td>0</td>\n",
       "      <td>0</td>\n",
       "      <td>0</td>\n",
       "      <td>0</td>\n",
       "      <td>0</td>\n",
       "      <td>0</td>\n",
       "      <td>0</td>\n",
       "      <td>1</td>\n",
       "      <td>0</td>\n",
       "      <td>...</td>\n",
       "      <td>0</td>\n",
       "      <td>1</td>\n",
       "      <td>0</td>\n",
       "      <td>0</td>\n",
       "      <td>0</td>\n",
       "      <td>0</td>\n",
       "      <td>0</td>\n",
       "      <td>0</td>\n",
       "      <td>1</td>\n",
       "      <td>1</td>\n",
       "    </tr>\n",
       "    <tr>\n",
       "      <th>4</th>\n",
       "      <td>1</td>\n",
       "      <td>0</td>\n",
       "      <td>1</td>\n",
       "      <td>1</td>\n",
       "      <td>1</td>\n",
       "      <td>1</td>\n",
       "      <td>0</td>\n",
       "      <td>1</td>\n",
       "      <td>0</td>\n",
       "      <td>1</td>\n",
       "      <td>...</td>\n",
       "      <td>1</td>\n",
       "      <td>1</td>\n",
       "      <td>1</td>\n",
       "      <td>1</td>\n",
       "      <td>0</td>\n",
       "      <td>1</td>\n",
       "      <td>1</td>\n",
       "      <td>1</td>\n",
       "      <td>1</td>\n",
       "      <td>1</td>\n",
       "    </tr>\n",
       "    <tr>\n",
       "      <th>...</th>\n",
       "      <td>...</td>\n",
       "      <td>...</td>\n",
       "      <td>...</td>\n",
       "      <td>...</td>\n",
       "      <td>...</td>\n",
       "      <td>...</td>\n",
       "      <td>...</td>\n",
       "      <td>...</td>\n",
       "      <td>...</td>\n",
       "      <td>...</td>\n",
       "      <td>...</td>\n",
       "      <td>...</td>\n",
       "      <td>...</td>\n",
       "      <td>...</td>\n",
       "      <td>...</td>\n",
       "      <td>...</td>\n",
       "      <td>...</td>\n",
       "      <td>...</td>\n",
       "      <td>...</td>\n",
       "      <td>...</td>\n",
       "      <td>...</td>\n",
       "    </tr>\n",
       "    <tr>\n",
       "      <th>1495</th>\n",
       "      <td>1</td>\n",
       "      <td>1</td>\n",
       "      <td>1</td>\n",
       "      <td>0</td>\n",
       "      <td>0</td>\n",
       "      <td>0</td>\n",
       "      <td>0</td>\n",
       "      <td>1</td>\n",
       "      <td>1</td>\n",
       "      <td>0</td>\n",
       "      <td>...</td>\n",
       "      <td>0</td>\n",
       "      <td>0</td>\n",
       "      <td>0</td>\n",
       "      <td>1</td>\n",
       "      <td>0</td>\n",
       "      <td>0</td>\n",
       "      <td>0</td>\n",
       "      <td>0</td>\n",
       "      <td>0</td>\n",
       "      <td>0</td>\n",
       "    </tr>\n",
       "    <tr>\n",
       "      <th>1496</th>\n",
       "      <td>1</td>\n",
       "      <td>0</td>\n",
       "      <td>1</td>\n",
       "      <td>1</td>\n",
       "      <td>1</td>\n",
       "      <td>1</td>\n",
       "      <td>1</td>\n",
       "      <td>1</td>\n",
       "      <td>1</td>\n",
       "      <td>0</td>\n",
       "      <td>...</td>\n",
       "      <td>1</td>\n",
       "      <td>1</td>\n",
       "      <td>1</td>\n",
       "      <td>0</td>\n",
       "      <td>0</td>\n",
       "      <td>1</td>\n",
       "      <td>1</td>\n",
       "      <td>1</td>\n",
       "      <td>1</td>\n",
       "      <td>0</td>\n",
       "    </tr>\n",
       "    <tr>\n",
       "      <th>1497</th>\n",
       "      <td>0</td>\n",
       "      <td>0</td>\n",
       "      <td>0</td>\n",
       "      <td>0</td>\n",
       "      <td>0</td>\n",
       "      <td>0</td>\n",
       "      <td>1</td>\n",
       "      <td>1</td>\n",
       "      <td>1</td>\n",
       "      <td>1</td>\n",
       "      <td>...</td>\n",
       "      <td>0</td>\n",
       "      <td>0</td>\n",
       "      <td>1</td>\n",
       "      <td>0</td>\n",
       "      <td>0</td>\n",
       "      <td>0</td>\n",
       "      <td>0</td>\n",
       "      <td>0</td>\n",
       "      <td>1</td>\n",
       "      <td>1</td>\n",
       "    </tr>\n",
       "    <tr>\n",
       "      <th>1498</th>\n",
       "      <td>1</td>\n",
       "      <td>0</td>\n",
       "      <td>0</td>\n",
       "      <td>0</td>\n",
       "      <td>0</td>\n",
       "      <td>0</td>\n",
       "      <td>0</td>\n",
       "      <td>0</td>\n",
       "      <td>0</td>\n",
       "      <td>1</td>\n",
       "      <td>...</td>\n",
       "      <td>0</td>\n",
       "      <td>0</td>\n",
       "      <td>1</td>\n",
       "      <td>1</td>\n",
       "      <td>0</td>\n",
       "      <td>0</td>\n",
       "      <td>1</td>\n",
       "      <td>0</td>\n",
       "      <td>0</td>\n",
       "      <td>0</td>\n",
       "    </tr>\n",
       "    <tr>\n",
       "      <th>1499</th>\n",
       "      <td>0</td>\n",
       "      <td>0</td>\n",
       "      <td>0</td>\n",
       "      <td>0</td>\n",
       "      <td>1</td>\n",
       "      <td>1</td>\n",
       "      <td>0</td>\n",
       "      <td>0</td>\n",
       "      <td>0</td>\n",
       "      <td>1</td>\n",
       "      <td>...</td>\n",
       "      <td>1</td>\n",
       "      <td>0</td>\n",
       "      <td>1</td>\n",
       "      <td>0</td>\n",
       "      <td>0</td>\n",
       "      <td>0</td>\n",
       "      <td>1</td>\n",
       "      <td>1</td>\n",
       "      <td>0</td>\n",
       "      <td>1</td>\n",
       "    </tr>\n",
       "  </tbody>\n",
       "</table>\n",
       "<p>1500 rows × 100 columns</p>\n",
       "</div>"
      ],
      "text/plain": [
       "      0   1   2   3   4   5   6   7   8   9   ...  90  91  92  93  94  95  96  \\\n",
       "0      0   1   1   1   0   1   0   0   1   0  ...   1   1   0   0   0   1   1   \n",
       "1      1   0   1   0   1   1   1   1   0   0  ...   0   1   1   0   1   0   1   \n",
       "2      1   1   1   1   1   0   1   1   0   0  ...   1   1   0   1   0   1   0   \n",
       "3      0   0   0   0   0   0   0   0   1   0  ...   0   1   0   0   0   0   0   \n",
       "4      1   0   1   1   1   1   0   1   0   1  ...   1   1   1   1   0   1   1   \n",
       "...   ..  ..  ..  ..  ..  ..  ..  ..  ..  ..  ...  ..  ..  ..  ..  ..  ..  ..   \n",
       "1495   1   1   1   0   0   0   0   1   1   0  ...   0   0   0   1   0   0   0   \n",
       "1496   1   0   1   1   1   1   1   1   1   0  ...   1   1   1   0   0   1   1   \n",
       "1497   0   0   0   0   0   0   1   1   1   1  ...   0   0   1   0   0   0   0   \n",
       "1498   1   0   0   0   0   0   0   0   0   1  ...   0   0   1   1   0   0   1   \n",
       "1499   0   0   0   0   1   1   0   0   0   1  ...   1   0   1   0   0   0   1   \n",
       "\n",
       "      97  98  99  \n",
       "0      0   1   1  \n",
       "1      1   0   1  \n",
       "2      1   0   1  \n",
       "3      0   1   1  \n",
       "4      1   1   1  \n",
       "...   ..  ..  ..  \n",
       "1495   0   0   0  \n",
       "1496   1   1   0  \n",
       "1497   0   1   1  \n",
       "1498   0   0   0  \n",
       "1499   1   0   1  \n",
       "\n",
       "[1500 rows x 100 columns]"
      ]
     },
     "execution_count": 31,
     "metadata": {},
     "output_type": "execute_result"
    }
   ],
   "source": [
    "# set a seed for reproducibility\n",
    "np.random.seed(123)\n",
    "n_samples = X_train.shape[0]\n",
    "n_B = 100\n",
    "\n",
    "# create bootstrap samples (will be used to select rows from the DataFrame)\n",
    "samples = [np.random.choice(a=n_samples, size=n_samples, replace=True) for _ in range(1, n_B +1 )]\n",
    "\n",
    "# grow each tree deep\n",
    "treeclf = DecisionTreeClassifier(max_depth=None, random_state=123)\n",
    "\n",
    "# DataFrame for storing predicted price from each tree\n",
    "y_pred_all = []\n",
    "\n",
    "# grow one tree for each bootstrap sample and make predictions on testing data\n",
    "for i in range(n_B):\n",
    "    X_train_2 = X_train.iloc[samples[i], :]\n",
    "    y_train_2 = y_train.iloc[samples[i]]\n",
    "    treeclf.fit(X_train_2, y_train_2)\n",
    "    y_pred_all.append(treeclf.predict(X_test))\n",
    "    \n",
    "y_pred_2 = np.transpose(pd.DataFrame(y_pred_all))\n",
    "y_pred_2"
   ]
  },
  {
   "cell_type": "markdown",
   "metadata": {},
   "source": [
    "### 100 Decision Trees where max_depth=2"
   ]
  },
  {
   "cell_type": "code",
   "execution_count": 32,
   "metadata": {},
   "outputs": [
    {
     "data": {
      "text/html": [
       "<div>\n",
       "<style scoped>\n",
       "    .dataframe tbody tr th:only-of-type {\n",
       "        vertical-align: middle;\n",
       "    }\n",
       "\n",
       "    .dataframe tbody tr th {\n",
       "        vertical-align: top;\n",
       "    }\n",
       "\n",
       "    .dataframe thead th {\n",
       "        text-align: right;\n",
       "    }\n",
       "</style>\n",
       "<table border=\"1\" class=\"dataframe\">\n",
       "  <thead>\n",
       "    <tr style=\"text-align: right;\">\n",
       "      <th></th>\n",
       "      <th>0</th>\n",
       "      <th>1</th>\n",
       "      <th>2</th>\n",
       "      <th>3</th>\n",
       "      <th>4</th>\n",
       "      <th>5</th>\n",
       "      <th>6</th>\n",
       "      <th>7</th>\n",
       "      <th>8</th>\n",
       "      <th>9</th>\n",
       "      <th>...</th>\n",
       "      <th>90</th>\n",
       "      <th>91</th>\n",
       "      <th>92</th>\n",
       "      <th>93</th>\n",
       "      <th>94</th>\n",
       "      <th>95</th>\n",
       "      <th>96</th>\n",
       "      <th>97</th>\n",
       "      <th>98</th>\n",
       "      <th>99</th>\n",
       "    </tr>\n",
       "  </thead>\n",
       "  <tbody>\n",
       "    <tr>\n",
       "      <th>0</th>\n",
       "      <td>0</td>\n",
       "      <td>0</td>\n",
       "      <td>0</td>\n",
       "      <td>0</td>\n",
       "      <td>0</td>\n",
       "      <td>1</td>\n",
       "      <td>0</td>\n",
       "      <td>1</td>\n",
       "      <td>0</td>\n",
       "      <td>0</td>\n",
       "      <td>...</td>\n",
       "      <td>0</td>\n",
       "      <td>0</td>\n",
       "      <td>0</td>\n",
       "      <td>0</td>\n",
       "      <td>1</td>\n",
       "      <td>0</td>\n",
       "      <td>1</td>\n",
       "      <td>0</td>\n",
       "      <td>0</td>\n",
       "      <td>0</td>\n",
       "    </tr>\n",
       "    <tr>\n",
       "      <th>1</th>\n",
       "      <td>0</td>\n",
       "      <td>0</td>\n",
       "      <td>0</td>\n",
       "      <td>0</td>\n",
       "      <td>0</td>\n",
       "      <td>1</td>\n",
       "      <td>0</td>\n",
       "      <td>1</td>\n",
       "      <td>0</td>\n",
       "      <td>0</td>\n",
       "      <td>...</td>\n",
       "      <td>0</td>\n",
       "      <td>0</td>\n",
       "      <td>0</td>\n",
       "      <td>0</td>\n",
       "      <td>0</td>\n",
       "      <td>0</td>\n",
       "      <td>1</td>\n",
       "      <td>0</td>\n",
       "      <td>0</td>\n",
       "      <td>0</td>\n",
       "    </tr>\n",
       "    <tr>\n",
       "      <th>2</th>\n",
       "      <td>1</td>\n",
       "      <td>1</td>\n",
       "      <td>1</td>\n",
       "      <td>1</td>\n",
       "      <td>1</td>\n",
       "      <td>1</td>\n",
       "      <td>0</td>\n",
       "      <td>1</td>\n",
       "      <td>1</td>\n",
       "      <td>1</td>\n",
       "      <td>...</td>\n",
       "      <td>1</td>\n",
       "      <td>1</td>\n",
       "      <td>1</td>\n",
       "      <td>1</td>\n",
       "      <td>1</td>\n",
       "      <td>1</td>\n",
       "      <td>1</td>\n",
       "      <td>1</td>\n",
       "      <td>1</td>\n",
       "      <td>1</td>\n",
       "    </tr>\n",
       "    <tr>\n",
       "      <th>3</th>\n",
       "      <td>0</td>\n",
       "      <td>0</td>\n",
       "      <td>0</td>\n",
       "      <td>0</td>\n",
       "      <td>0</td>\n",
       "      <td>0</td>\n",
       "      <td>0</td>\n",
       "      <td>0</td>\n",
       "      <td>0</td>\n",
       "      <td>0</td>\n",
       "      <td>...</td>\n",
       "      <td>0</td>\n",
       "      <td>0</td>\n",
       "      <td>0</td>\n",
       "      <td>0</td>\n",
       "      <td>0</td>\n",
       "      <td>0</td>\n",
       "      <td>0</td>\n",
       "      <td>0</td>\n",
       "      <td>0</td>\n",
       "      <td>0</td>\n",
       "    </tr>\n",
       "    <tr>\n",
       "      <th>4</th>\n",
       "      <td>1</td>\n",
       "      <td>1</td>\n",
       "      <td>1</td>\n",
       "      <td>1</td>\n",
       "      <td>1</td>\n",
       "      <td>1</td>\n",
       "      <td>1</td>\n",
       "      <td>1</td>\n",
       "      <td>1</td>\n",
       "      <td>1</td>\n",
       "      <td>...</td>\n",
       "      <td>1</td>\n",
       "      <td>1</td>\n",
       "      <td>1</td>\n",
       "      <td>1</td>\n",
       "      <td>1</td>\n",
       "      <td>1</td>\n",
       "      <td>1</td>\n",
       "      <td>1</td>\n",
       "      <td>1</td>\n",
       "      <td>1</td>\n",
       "    </tr>\n",
       "    <tr>\n",
       "      <th>...</th>\n",
       "      <td>...</td>\n",
       "      <td>...</td>\n",
       "      <td>...</td>\n",
       "      <td>...</td>\n",
       "      <td>...</td>\n",
       "      <td>...</td>\n",
       "      <td>...</td>\n",
       "      <td>...</td>\n",
       "      <td>...</td>\n",
       "      <td>...</td>\n",
       "      <td>...</td>\n",
       "      <td>...</td>\n",
       "      <td>...</td>\n",
       "      <td>...</td>\n",
       "      <td>...</td>\n",
       "      <td>...</td>\n",
       "      <td>...</td>\n",
       "      <td>...</td>\n",
       "      <td>...</td>\n",
       "      <td>...</td>\n",
       "      <td>...</td>\n",
       "    </tr>\n",
       "    <tr>\n",
       "      <th>1495</th>\n",
       "      <td>1</td>\n",
       "      <td>1</td>\n",
       "      <td>1</td>\n",
       "      <td>1</td>\n",
       "      <td>1</td>\n",
       "      <td>1</td>\n",
       "      <td>0</td>\n",
       "      <td>1</td>\n",
       "      <td>1</td>\n",
       "      <td>1</td>\n",
       "      <td>...</td>\n",
       "      <td>1</td>\n",
       "      <td>1</td>\n",
       "      <td>1</td>\n",
       "      <td>1</td>\n",
       "      <td>1</td>\n",
       "      <td>1</td>\n",
       "      <td>0</td>\n",
       "      <td>1</td>\n",
       "      <td>1</td>\n",
       "      <td>1</td>\n",
       "    </tr>\n",
       "    <tr>\n",
       "      <th>1496</th>\n",
       "      <td>1</td>\n",
       "      <td>1</td>\n",
       "      <td>1</td>\n",
       "      <td>1</td>\n",
       "      <td>1</td>\n",
       "      <td>0</td>\n",
       "      <td>1</td>\n",
       "      <td>0</td>\n",
       "      <td>1</td>\n",
       "      <td>1</td>\n",
       "      <td>...</td>\n",
       "      <td>1</td>\n",
       "      <td>1</td>\n",
       "      <td>1</td>\n",
       "      <td>1</td>\n",
       "      <td>1</td>\n",
       "      <td>1</td>\n",
       "      <td>0</td>\n",
       "      <td>1</td>\n",
       "      <td>1</td>\n",
       "      <td>1</td>\n",
       "    </tr>\n",
       "    <tr>\n",
       "      <th>1497</th>\n",
       "      <td>0</td>\n",
       "      <td>0</td>\n",
       "      <td>0</td>\n",
       "      <td>0</td>\n",
       "      <td>0</td>\n",
       "      <td>0</td>\n",
       "      <td>0</td>\n",
       "      <td>0</td>\n",
       "      <td>0</td>\n",
       "      <td>0</td>\n",
       "      <td>...</td>\n",
       "      <td>0</td>\n",
       "      <td>0</td>\n",
       "      <td>0</td>\n",
       "      <td>0</td>\n",
       "      <td>0</td>\n",
       "      <td>0</td>\n",
       "      <td>0</td>\n",
       "      <td>0</td>\n",
       "      <td>0</td>\n",
       "      <td>0</td>\n",
       "    </tr>\n",
       "    <tr>\n",
       "      <th>1498</th>\n",
       "      <td>0</td>\n",
       "      <td>0</td>\n",
       "      <td>0</td>\n",
       "      <td>0</td>\n",
       "      <td>0</td>\n",
       "      <td>1</td>\n",
       "      <td>0</td>\n",
       "      <td>1</td>\n",
       "      <td>0</td>\n",
       "      <td>0</td>\n",
       "      <td>...</td>\n",
       "      <td>0</td>\n",
       "      <td>0</td>\n",
       "      <td>0</td>\n",
       "      <td>0</td>\n",
       "      <td>0</td>\n",
       "      <td>0</td>\n",
       "      <td>1</td>\n",
       "      <td>0</td>\n",
       "      <td>0</td>\n",
       "      <td>0</td>\n",
       "    </tr>\n",
       "    <tr>\n",
       "      <th>1499</th>\n",
       "      <td>0</td>\n",
       "      <td>0</td>\n",
       "      <td>0</td>\n",
       "      <td>0</td>\n",
       "      <td>0</td>\n",
       "      <td>0</td>\n",
       "      <td>0</td>\n",
       "      <td>0</td>\n",
       "      <td>0</td>\n",
       "      <td>0</td>\n",
       "      <td>...</td>\n",
       "      <td>0</td>\n",
       "      <td>0</td>\n",
       "      <td>0</td>\n",
       "      <td>0</td>\n",
       "      <td>0</td>\n",
       "      <td>0</td>\n",
       "      <td>0</td>\n",
       "      <td>0</td>\n",
       "      <td>0</td>\n",
       "      <td>0</td>\n",
       "    </tr>\n",
       "  </tbody>\n",
       "</table>\n",
       "<p>1500 rows × 100 columns</p>\n",
       "</div>"
      ],
      "text/plain": [
       "      0   1   2   3   4   5   6   7   8   9   ...  90  91  92  93  94  95  96  \\\n",
       "0      0   0   0   0   0   1   0   1   0   0  ...   0   0   0   0   1   0   1   \n",
       "1      0   0   0   0   0   1   0   1   0   0  ...   0   0   0   0   0   0   1   \n",
       "2      1   1   1   1   1   1   0   1   1   1  ...   1   1   1   1   1   1   1   \n",
       "3      0   0   0   0   0   0   0   0   0   0  ...   0   0   0   0   0   0   0   \n",
       "4      1   1   1   1   1   1   1   1   1   1  ...   1   1   1   1   1   1   1   \n",
       "...   ..  ..  ..  ..  ..  ..  ..  ..  ..  ..  ...  ..  ..  ..  ..  ..  ..  ..   \n",
       "1495   1   1   1   1   1   1   0   1   1   1  ...   1   1   1   1   1   1   0   \n",
       "1496   1   1   1   1   1   0   1   0   1   1  ...   1   1   1   1   1   1   0   \n",
       "1497   0   0   0   0   0   0   0   0   0   0  ...   0   0   0   0   0   0   0   \n",
       "1498   0   0   0   0   0   1   0   1   0   0  ...   0   0   0   0   0   0   1   \n",
       "1499   0   0   0   0   0   0   0   0   0   0  ...   0   0   0   0   0   0   0   \n",
       "\n",
       "      97  98  99  \n",
       "0      0   0   0  \n",
       "1      0   0   0  \n",
       "2      1   1   1  \n",
       "3      0   0   0  \n",
       "4      1   1   1  \n",
       "...   ..  ..  ..  \n",
       "1495   1   1   1  \n",
       "1496   1   1   1  \n",
       "1497   0   0   0  \n",
       "1498   0   0   0  \n",
       "1499   0   0   0  \n",
       "\n",
       "[1500 rows x 100 columns]"
      ]
     },
     "execution_count": 32,
     "metadata": {},
     "output_type": "execute_result"
    }
   ],
   "source": [
    "# set a seed for reproducibility\n",
    "np.random.seed(123)\n",
    "n_samples = X_train.shape[0]\n",
    "n_B = 100\n",
    "\n",
    "# create bootstrap samples (will be used to select rows from the DataFrame)\n",
    "samples = [np.random.choice(a=n_samples, size=n_samples, replace=True) for _ in range(1, n_B +1 )]\n",
    "\n",
    "# grow each tree deep\n",
    "treeclf = DecisionTreeClassifier(max_depth=2, random_state=123)\n",
    "\n",
    "# show the \"out-of-bag\" observations for each sample\n",
    "samples_oob = []\n",
    "for i in range(n_B):\n",
    "    samples_oob.append(sorted(set(range(n_samples)) - set(samples[i])))\n",
    "    \n",
    "# grow one tree for each bootstrap sample and make predictions on testing data\n",
    "y_pred_all = []\n",
    "\n",
    "for i in range(n_B):\n",
    "    X_train_3 = X_train.iloc[samples[i], :]\n",
    "    y_train_3 = y_train.iloc[samples[i]]\n",
    "    treeclf.fit(X_train_3, y_train_3)\n",
    "    y_pred_all.append(treeclf.predict(X_test))\n",
    "\n",
    "y_pred_3 = np.transpose(pd.DataFrame(y_pred_all))\n",
    "y_pred_3"
   ]
  },
  {
   "cell_type": "markdown",
   "metadata": {},
   "source": [
    "### 100 logistic regression"
   ]
  },
  {
   "cell_type": "code",
   "execution_count": 33,
   "metadata": {},
   "outputs": [
    {
     "data": {
      "text/html": [
       "<div>\n",
       "<style scoped>\n",
       "    .dataframe tbody tr th:only-of-type {\n",
       "        vertical-align: middle;\n",
       "    }\n",
       "\n",
       "    .dataframe tbody tr th {\n",
       "        vertical-align: top;\n",
       "    }\n",
       "\n",
       "    .dataframe thead th {\n",
       "        text-align: right;\n",
       "    }\n",
       "</style>\n",
       "<table border=\"1\" class=\"dataframe\">\n",
       "  <thead>\n",
       "    <tr style=\"text-align: right;\">\n",
       "      <th></th>\n",
       "      <th>0</th>\n",
       "      <th>1</th>\n",
       "      <th>2</th>\n",
       "      <th>3</th>\n",
       "      <th>4</th>\n",
       "      <th>5</th>\n",
       "      <th>6</th>\n",
       "      <th>7</th>\n",
       "      <th>8</th>\n",
       "      <th>9</th>\n",
       "      <th>...</th>\n",
       "      <th>90</th>\n",
       "      <th>91</th>\n",
       "      <th>92</th>\n",
       "      <th>93</th>\n",
       "      <th>94</th>\n",
       "      <th>95</th>\n",
       "      <th>96</th>\n",
       "      <th>97</th>\n",
       "      <th>98</th>\n",
       "      <th>99</th>\n",
       "    </tr>\n",
       "  </thead>\n",
       "  <tbody>\n",
       "    <tr>\n",
       "      <th>0</th>\n",
       "      <td>0</td>\n",
       "      <td>0</td>\n",
       "      <td>0</td>\n",
       "      <td>0</td>\n",
       "      <td>0</td>\n",
       "      <td>0</td>\n",
       "      <td>0</td>\n",
       "      <td>0</td>\n",
       "      <td>0</td>\n",
       "      <td>0</td>\n",
       "      <td>...</td>\n",
       "      <td>0</td>\n",
       "      <td>0</td>\n",
       "      <td>0</td>\n",
       "      <td>0</td>\n",
       "      <td>0</td>\n",
       "      <td>0</td>\n",
       "      <td>0</td>\n",
       "      <td>0</td>\n",
       "      <td>0</td>\n",
       "      <td>0</td>\n",
       "    </tr>\n",
       "    <tr>\n",
       "      <th>1</th>\n",
       "      <td>1</td>\n",
       "      <td>1</td>\n",
       "      <td>1</td>\n",
       "      <td>1</td>\n",
       "      <td>1</td>\n",
       "      <td>1</td>\n",
       "      <td>1</td>\n",
       "      <td>1</td>\n",
       "      <td>1</td>\n",
       "      <td>1</td>\n",
       "      <td>...</td>\n",
       "      <td>1</td>\n",
       "      <td>1</td>\n",
       "      <td>1</td>\n",
       "      <td>1</td>\n",
       "      <td>1</td>\n",
       "      <td>1</td>\n",
       "      <td>1</td>\n",
       "      <td>1</td>\n",
       "      <td>1</td>\n",
       "      <td>1</td>\n",
       "    </tr>\n",
       "    <tr>\n",
       "      <th>2</th>\n",
       "      <td>0</td>\n",
       "      <td>1</td>\n",
       "      <td>1</td>\n",
       "      <td>0</td>\n",
       "      <td>1</td>\n",
       "      <td>0</td>\n",
       "      <td>0</td>\n",
       "      <td>0</td>\n",
       "      <td>0</td>\n",
       "      <td>1</td>\n",
       "      <td>...</td>\n",
       "      <td>0</td>\n",
       "      <td>0</td>\n",
       "      <td>0</td>\n",
       "      <td>1</td>\n",
       "      <td>1</td>\n",
       "      <td>1</td>\n",
       "      <td>1</td>\n",
       "      <td>1</td>\n",
       "      <td>1</td>\n",
       "      <td>1</td>\n",
       "    </tr>\n",
       "    <tr>\n",
       "      <th>3</th>\n",
       "      <td>0</td>\n",
       "      <td>0</td>\n",
       "      <td>0</td>\n",
       "      <td>0</td>\n",
       "      <td>0</td>\n",
       "      <td>0</td>\n",
       "      <td>0</td>\n",
       "      <td>0</td>\n",
       "      <td>0</td>\n",
       "      <td>0</td>\n",
       "      <td>...</td>\n",
       "      <td>0</td>\n",
       "      <td>0</td>\n",
       "      <td>0</td>\n",
       "      <td>0</td>\n",
       "      <td>0</td>\n",
       "      <td>0</td>\n",
       "      <td>0</td>\n",
       "      <td>0</td>\n",
       "      <td>0</td>\n",
       "      <td>0</td>\n",
       "    </tr>\n",
       "    <tr>\n",
       "      <th>4</th>\n",
       "      <td>1</td>\n",
       "      <td>1</td>\n",
       "      <td>1</td>\n",
       "      <td>1</td>\n",
       "      <td>1</td>\n",
       "      <td>1</td>\n",
       "      <td>1</td>\n",
       "      <td>1</td>\n",
       "      <td>1</td>\n",
       "      <td>1</td>\n",
       "      <td>...</td>\n",
       "      <td>1</td>\n",
       "      <td>1</td>\n",
       "      <td>1</td>\n",
       "      <td>1</td>\n",
       "      <td>1</td>\n",
       "      <td>1</td>\n",
       "      <td>1</td>\n",
       "      <td>1</td>\n",
       "      <td>1</td>\n",
       "      <td>1</td>\n",
       "    </tr>\n",
       "    <tr>\n",
       "      <th>...</th>\n",
       "      <td>...</td>\n",
       "      <td>...</td>\n",
       "      <td>...</td>\n",
       "      <td>...</td>\n",
       "      <td>...</td>\n",
       "      <td>...</td>\n",
       "      <td>...</td>\n",
       "      <td>...</td>\n",
       "      <td>...</td>\n",
       "      <td>...</td>\n",
       "      <td>...</td>\n",
       "      <td>...</td>\n",
       "      <td>...</td>\n",
       "      <td>...</td>\n",
       "      <td>...</td>\n",
       "      <td>...</td>\n",
       "      <td>...</td>\n",
       "      <td>...</td>\n",
       "      <td>...</td>\n",
       "      <td>...</td>\n",
       "      <td>...</td>\n",
       "    </tr>\n",
       "    <tr>\n",
       "      <th>1495</th>\n",
       "      <td>1</td>\n",
       "      <td>1</td>\n",
       "      <td>1</td>\n",
       "      <td>1</td>\n",
       "      <td>1</td>\n",
       "      <td>1</td>\n",
       "      <td>1</td>\n",
       "      <td>1</td>\n",
       "      <td>1</td>\n",
       "      <td>1</td>\n",
       "      <td>...</td>\n",
       "      <td>1</td>\n",
       "      <td>1</td>\n",
       "      <td>1</td>\n",
       "      <td>1</td>\n",
       "      <td>1</td>\n",
       "      <td>1</td>\n",
       "      <td>1</td>\n",
       "      <td>1</td>\n",
       "      <td>1</td>\n",
       "      <td>1</td>\n",
       "    </tr>\n",
       "    <tr>\n",
       "      <th>1496</th>\n",
       "      <td>1</td>\n",
       "      <td>1</td>\n",
       "      <td>1</td>\n",
       "      <td>1</td>\n",
       "      <td>0</td>\n",
       "      <td>1</td>\n",
       "      <td>1</td>\n",
       "      <td>1</td>\n",
       "      <td>1</td>\n",
       "      <td>0</td>\n",
       "      <td>...</td>\n",
       "      <td>1</td>\n",
       "      <td>1</td>\n",
       "      <td>0</td>\n",
       "      <td>1</td>\n",
       "      <td>1</td>\n",
       "      <td>0</td>\n",
       "      <td>1</td>\n",
       "      <td>0</td>\n",
       "      <td>1</td>\n",
       "      <td>1</td>\n",
       "    </tr>\n",
       "    <tr>\n",
       "      <th>1497</th>\n",
       "      <td>0</td>\n",
       "      <td>0</td>\n",
       "      <td>0</td>\n",
       "      <td>0</td>\n",
       "      <td>0</td>\n",
       "      <td>0</td>\n",
       "      <td>0</td>\n",
       "      <td>0</td>\n",
       "      <td>0</td>\n",
       "      <td>0</td>\n",
       "      <td>...</td>\n",
       "      <td>0</td>\n",
       "      <td>0</td>\n",
       "      <td>0</td>\n",
       "      <td>0</td>\n",
       "      <td>0</td>\n",
       "      <td>0</td>\n",
       "      <td>0</td>\n",
       "      <td>0</td>\n",
       "      <td>0</td>\n",
       "      <td>0</td>\n",
       "    </tr>\n",
       "    <tr>\n",
       "      <th>1498</th>\n",
       "      <td>0</td>\n",
       "      <td>0</td>\n",
       "      <td>0</td>\n",
       "      <td>0</td>\n",
       "      <td>0</td>\n",
       "      <td>0</td>\n",
       "      <td>0</td>\n",
       "      <td>0</td>\n",
       "      <td>0</td>\n",
       "      <td>0</td>\n",
       "      <td>...</td>\n",
       "      <td>0</td>\n",
       "      <td>0</td>\n",
       "      <td>0</td>\n",
       "      <td>0</td>\n",
       "      <td>0</td>\n",
       "      <td>0</td>\n",
       "      <td>0</td>\n",
       "      <td>0</td>\n",
       "      <td>0</td>\n",
       "      <td>0</td>\n",
       "    </tr>\n",
       "    <tr>\n",
       "      <th>1499</th>\n",
       "      <td>0</td>\n",
       "      <td>0</td>\n",
       "      <td>0</td>\n",
       "      <td>0</td>\n",
       "      <td>0</td>\n",
       "      <td>0</td>\n",
       "      <td>0</td>\n",
       "      <td>0</td>\n",
       "      <td>0</td>\n",
       "      <td>0</td>\n",
       "      <td>...</td>\n",
       "      <td>0</td>\n",
       "      <td>0</td>\n",
       "      <td>0</td>\n",
       "      <td>0</td>\n",
       "      <td>0</td>\n",
       "      <td>0</td>\n",
       "      <td>0</td>\n",
       "      <td>0</td>\n",
       "      <td>0</td>\n",
       "      <td>0</td>\n",
       "    </tr>\n",
       "  </tbody>\n",
       "</table>\n",
       "<p>1500 rows × 100 columns</p>\n",
       "</div>"
      ],
      "text/plain": [
       "      0   1   2   3   4   5   6   7   8   9   ...  90  91  92  93  94  95  96  \\\n",
       "0      0   0   0   0   0   0   0   0   0   0  ...   0   0   0   0   0   0   0   \n",
       "1      1   1   1   1   1   1   1   1   1   1  ...   1   1   1   1   1   1   1   \n",
       "2      0   1   1   0   1   0   0   0   0   1  ...   0   0   0   1   1   1   1   \n",
       "3      0   0   0   0   0   0   0   0   0   0  ...   0   0   0   0   0   0   0   \n",
       "4      1   1   1   1   1   1   1   1   1   1  ...   1   1   1   1   1   1   1   \n",
       "...   ..  ..  ..  ..  ..  ..  ..  ..  ..  ..  ...  ..  ..  ..  ..  ..  ..  ..   \n",
       "1495   1   1   1   1   1   1   1   1   1   1  ...   1   1   1   1   1   1   1   \n",
       "1496   1   1   1   1   0   1   1   1   1   0  ...   1   1   0   1   1   0   1   \n",
       "1497   0   0   0   0   0   0   0   0   0   0  ...   0   0   0   0   0   0   0   \n",
       "1498   0   0   0   0   0   0   0   0   0   0  ...   0   0   0   0   0   0   0   \n",
       "1499   0   0   0   0   0   0   0   0   0   0  ...   0   0   0   0   0   0   0   \n",
       "\n",
       "      97  98  99  \n",
       "0      0   0   0  \n",
       "1      1   1   1  \n",
       "2      1   1   1  \n",
       "3      0   0   0  \n",
       "4      1   1   1  \n",
       "...   ..  ..  ..  \n",
       "1495   1   1   1  \n",
       "1496   0   1   1  \n",
       "1497   0   0   0  \n",
       "1498   0   0   0  \n",
       "1499   0   0   0  \n",
       "\n",
       "[1500 rows x 100 columns]"
      ]
     },
     "execution_count": 33,
     "metadata": {},
     "output_type": "execute_result"
    }
   ],
   "source": [
    "# set a seed for reproducibility\n",
    "np.random.seed(123)\n",
    "n_samples = X_train.shape[0]\n",
    "n_B = 100\n",
    "\n",
    "# create bootstrap samples (will be used to select rows from the DataFrame)\n",
    "samples = [np.random.choice(a=n_samples, size=n_samples, replace=True) for _ in range(1, n_B +1 )]\n",
    "\n",
    "# grow each tree deep\n",
    "logreg = LogisticRegression()\n",
    "\n",
    "# DataFrame for storing predicted price from each tree\n",
    "y_pred_all = []\n",
    "\n",
    "# grow one tree for each bootstrap sample and make predictions on testing data\n",
    "for i in range(n_B):\n",
    "    X_train_4 = X_train.iloc[samples[i], :]\n",
    "    y_train_4 = y_train.iloc[samples[i]]\n",
    "    logreg.fit(X_train_4, y_train_4)\n",
    "    y_pred_all.append(logreg.predict(X_test))\n",
    "\n",
    "y_pred_4 = np.transpose(pd.DataFrame(y_pred_all))\n",
    "y_pred_4"
   ]
  },
  {
   "cell_type": "markdown",
   "metadata": {},
   "source": [
    "# Exercise 7.8\n",
    "\n",
    "Ensemble using majority voting\n",
    "\n",
    "Evaluate using the following metrics:\n",
    "* Accuracy\n",
    "* F1-Score"
   ]
  },
  {
   "cell_type": "markdown",
   "metadata": {},
   "source": [
    "### 300 Bagged samples"
   ]
  },
  {
   "cell_type": "code",
   "execution_count": 34,
   "metadata": {},
   "outputs": [
    {
     "name": "stdout",
     "output_type": "stream",
     "text": [
      "Real                           Predict\n",
      "-----------------------------  --------------------\n",
      "count    1500.000000           count    1500.000000\n",
      "mean        0.492667           mean        0.518667\n",
      "std         0.500113           std         0.499818\n",
      "min         0.000000           min         0.000000\n",
      "25%         0.000000           25%         0.000000\n",
      "50%         0.000000           50%         1.000000\n",
      "75%         1.000000           75%         1.000000\n",
      "max         1.000000           max         1.000000\n",
      "Name: Popular, dtype: float64  dtype: float64\n"
     ]
    }
   ],
   "source": [
    "# Ensemble\n",
    "y_pred_a = (y_pred_1.sum(axis=1) >= (y_pred_1.shape[1] / 2)).astype(np.int)\n",
    "\n",
    "# Real vs predict\n",
    "table = [[y_test.describe(), y_pred_a.describe()]]\n",
    "headers = ['Real', 'Predict']\n",
    "print(tabulate(table,headers))"
   ]
  },
  {
   "cell_type": "code",
   "execution_count": 35,
   "metadata": {},
   "outputs": [
    {
     "name": "stdout",
     "output_type": "stream",
     "text": [
      "Accuracy: 0.6633333333333333\n",
      "F1 score: 0.6671061305207647\n",
      "Precision: 0.6503856041131105\n",
      "Recall: 0.6847090663058186\n"
     ]
    }
   ],
   "source": [
    "# metrics\n",
    "print(\"Accuracy:\",metrics.accuracy_score(y_test, y_pred_a))\n",
    "print(\"F1 score:\",metrics.f1_score(y_test, y_pred_a))\n",
    "\n",
    "print(\"Precision:\",metrics.precision_score(y_test, y_pred_a))\n",
    "print(\"Recall:\",metrics.recall_score(y_test, y_pred_a))"
   ]
  },
  {
   "cell_type": "markdown",
   "metadata": {},
   "source": [
    "### 100 Decision Trees where max_depth=None"
   ]
  },
  {
   "cell_type": "code",
   "execution_count": 36,
   "metadata": {},
   "outputs": [
    {
     "name": "stdout",
     "output_type": "stream",
     "text": [
      "Real                           Predict\n",
      "-----------------------------  --------------------\n",
      "count    1500.000000           count    1500.000000\n",
      "mean        0.492667           mean        0.533333\n",
      "std         0.500113           std         0.499054\n",
      "min         0.000000           min         0.000000\n",
      "25%         0.000000           25%         0.000000\n",
      "50%         0.000000           50%         1.000000\n",
      "75%         1.000000           75%         1.000000\n",
      "max         1.000000           max         1.000000\n",
      "Name: Popular, dtype: float64  dtype: float64\n"
     ]
    }
   ],
   "source": [
    "# Ensemble\n",
    "y_pred_b = (y_pred_2.sum(axis=1) >= (y_pred_2.shape[1] / 2)).astype(np.int)\n",
    "\n",
    "# Real vs predict\n",
    "table = [[y_test.describe(), y_pred_b.describe()]]\n",
    "headers = ['Real', 'Predict']\n",
    "print(tabulate(table,headers))"
   ]
  },
  {
   "cell_type": "code",
   "execution_count": 37,
   "metadata": {},
   "outputs": [
    {
     "name": "stdout",
     "output_type": "stream",
     "text": [
      "Accuracy: 0.6633333333333333\n",
      "F1 score: 0.6718648473034438\n",
      "Precision: 0.64625\n",
      "Recall: 0.699594046008119\n"
     ]
    }
   ],
   "source": [
    "# metrics\n",
    "print(\"Accuracy:\",metrics.accuracy_score(y_test, y_pred_b))\n",
    "print(\"F1 score:\",metrics.f1_score(y_test, y_pred_b))\n",
    "\n",
    "print(\"Precision:\",metrics.precision_score(y_test, y_pred_b))\n",
    "print(\"Recall:\",metrics.recall_score(y_test, y_pred_b))"
   ]
  },
  {
   "cell_type": "markdown",
   "metadata": {},
   "source": [
    "### 100 Decision Trees where max_depth=2"
   ]
  },
  {
   "cell_type": "code",
   "execution_count": 38,
   "metadata": {},
   "outputs": [
    {
     "name": "stdout",
     "output_type": "stream",
     "text": [
      "Real                           Predict\n",
      "-----------------------------  --------------------\n",
      "count    1500.000000           count    1500.000000\n",
      "mean        0.492667           mean        0.483333\n",
      "std         0.500113           std         0.499889\n",
      "min         0.000000           min         0.000000\n",
      "25%         0.000000           25%         0.000000\n",
      "50%         0.000000           50%         0.000000\n",
      "75%         1.000000           75%         1.000000\n",
      "max         1.000000           max         1.000000\n",
      "Name: Popular, dtype: float64  dtype: float64\n"
     ]
    }
   ],
   "source": [
    "# Ensemble\n",
    "y_pred_c = (y_pred_3.sum(axis=1) >= (y_pred_3.shape[1] / 2)).astype(np.int)\n",
    "\n",
    "# Real vs predict\n",
    "table = [[y_test.describe(), y_pred_c.describe()]]\n",
    "headers = ['Real', 'Predict']\n",
    "print(tabulate(table,headers))"
   ]
  },
  {
   "cell_type": "code",
   "execution_count": 39,
   "metadata": {},
   "outputs": [
    {
     "name": "stdout",
     "output_type": "stream",
     "text": [
      "Accuracy: 0.652\n",
      "F1 score: 0.6434426229508197\n",
      "Precision: 0.6496551724137931\n",
      "Recall: 0.6373477672530447\n"
     ]
    }
   ],
   "source": [
    "# metrics\n",
    "print(\"Accuracy:\",metrics.accuracy_score(y_test, y_pred_c))\n",
    "print(\"F1 score:\",metrics.f1_score(y_test, y_pred_c))\n",
    "\n",
    "print(\"Precision:\",metrics.precision_score(y_test, y_pred_c))\n",
    "print(\"Recall:\",metrics.recall_score(y_test, y_pred_c))"
   ]
  },
  {
   "cell_type": "markdown",
   "metadata": {},
   "source": [
    "### 100 logistic regression"
   ]
  },
  {
   "cell_type": "code",
   "execution_count": 40,
   "metadata": {},
   "outputs": [
    {
     "name": "stdout",
     "output_type": "stream",
     "text": [
      "Real                           Predict\n",
      "-----------------------------  --------------------\n",
      "count    1500.000000           count    1500.000000\n",
      "mean        0.492667           mean        0.488000\n",
      "std         0.500113           std         0.500023\n",
      "min         0.000000           min         0.000000\n",
      "25%         0.000000           25%         0.000000\n",
      "50%         0.000000           50%         0.000000\n",
      "75%         1.000000           75%         1.000000\n",
      "max         1.000000           max         1.000000\n",
      "Name: Popular, dtype: float64  dtype: float64\n"
     ]
    }
   ],
   "source": [
    "# Ensemble\n",
    "y_pred_d = (y_pred_4.sum(axis=1) >= (y_pred_4.shape[1] / 2)).astype(np.int)\n",
    "\n",
    "# Real vs predict\n",
    "table = [[y_test.describe(), y_pred_d.describe()]]\n",
    "headers = ['Real', 'Predict']\n",
    "print(tabulate(table,headers))"
   ]
  },
  {
   "cell_type": "code",
   "execution_count": 41,
   "metadata": {},
   "outputs": [
    {
     "name": "stdout",
     "output_type": "stream",
     "text": [
      "Accuracy: 0.6486666666666666\n",
      "F1 score: 0.6417403127124405\n",
      "Precision: 0.644808743169399\n",
      "Recall: 0.638700947225981\n"
     ]
    }
   ],
   "source": [
    "# metrics\n",
    "print(\"Accuracy:\",metrics.accuracy_score(y_test, y_pred_d))\n",
    "print(\"F1 score:\",metrics.f1_score(y_test, y_pred_d))\n",
    "\n",
    "print(\"Precision:\",metrics.precision_score(y_test, y_pred_d))\n",
    "print(\"Recall:\",metrics.recall_score(y_test, y_pred_d))"
   ]
  },
  {
   "cell_type": "markdown",
   "metadata": {},
   "source": [
    "# Exercise 7.9\n",
    "\n",
    "i) Estimate the probability as %models that predict positive"
   ]
  },
  {
   "cell_type": "markdown",
   "metadata": {},
   "source": [
    "### 300 Bagged samples"
   ]
  },
  {
   "cell_type": "code",
   "execution_count": 42,
   "metadata": {},
   "outputs": [
    {
     "data": {
      "text/html": [
       "<div>\n",
       "<style scoped>\n",
       "    .dataframe tbody tr th:only-of-type {\n",
       "        vertical-align: middle;\n",
       "    }\n",
       "\n",
       "    .dataframe tbody tr th {\n",
       "        vertical-align: top;\n",
       "    }\n",
       "\n",
       "    .dataframe thead th {\n",
       "        text-align: right;\n",
       "    }\n",
       "</style>\n",
       "<table border=\"1\" class=\"dataframe\">\n",
       "  <thead>\n",
       "    <tr style=\"text-align: right;\">\n",
       "      <th></th>\n",
       "      <th>count</th>\n",
       "      <th>percentage</th>\n",
       "    </tr>\n",
       "  </thead>\n",
       "  <tbody>\n",
       "    <tr>\n",
       "      <th>1</th>\n",
       "      <td>778</td>\n",
       "      <td>0.518667</td>\n",
       "    </tr>\n",
       "    <tr>\n",
       "      <th>0</th>\n",
       "      <td>722</td>\n",
       "      <td>0.481333</td>\n",
       "    </tr>\n",
       "  </tbody>\n",
       "</table>\n",
       "</div>"
      ],
      "text/plain": [
       "   count  percentage\n",
       "1    778    0.518667\n",
       "0    722    0.481333"
      ]
     },
     "execution_count": 42,
     "metadata": {},
     "output_type": "execute_result"
    }
   ],
   "source": [
    "y_pred_a.value_counts().to_frame('count').assign(percentage = lambda x: x/x.sum())"
   ]
  },
  {
   "cell_type": "markdown",
   "metadata": {},
   "source": [
    "### 100 Decision Trees where max_depth=None"
   ]
  },
  {
   "cell_type": "code",
   "execution_count": 43,
   "metadata": {},
   "outputs": [
    {
     "data": {
      "text/html": [
       "<div>\n",
       "<style scoped>\n",
       "    .dataframe tbody tr th:only-of-type {\n",
       "        vertical-align: middle;\n",
       "    }\n",
       "\n",
       "    .dataframe tbody tr th {\n",
       "        vertical-align: top;\n",
       "    }\n",
       "\n",
       "    .dataframe thead th {\n",
       "        text-align: right;\n",
       "    }\n",
       "</style>\n",
       "<table border=\"1\" class=\"dataframe\">\n",
       "  <thead>\n",
       "    <tr style=\"text-align: right;\">\n",
       "      <th></th>\n",
       "      <th>count</th>\n",
       "      <th>percentage</th>\n",
       "    </tr>\n",
       "  </thead>\n",
       "  <tbody>\n",
       "    <tr>\n",
       "      <th>1</th>\n",
       "      <td>800</td>\n",
       "      <td>0.533333</td>\n",
       "    </tr>\n",
       "    <tr>\n",
       "      <th>0</th>\n",
       "      <td>700</td>\n",
       "      <td>0.466667</td>\n",
       "    </tr>\n",
       "  </tbody>\n",
       "</table>\n",
       "</div>"
      ],
      "text/plain": [
       "   count  percentage\n",
       "1    800    0.533333\n",
       "0    700    0.466667"
      ]
     },
     "execution_count": 43,
     "metadata": {},
     "output_type": "execute_result"
    }
   ],
   "source": [
    "y_pred_b.value_counts().to_frame('count').assign(percentage = lambda x: x/x.sum())"
   ]
  },
  {
   "cell_type": "markdown",
   "metadata": {},
   "source": [
    "### 100 Decision Trees where max_depth=2"
   ]
  },
  {
   "cell_type": "code",
   "execution_count": 44,
   "metadata": {},
   "outputs": [
    {
     "data": {
      "text/html": [
       "<div>\n",
       "<style scoped>\n",
       "    .dataframe tbody tr th:only-of-type {\n",
       "        vertical-align: middle;\n",
       "    }\n",
       "\n",
       "    .dataframe tbody tr th {\n",
       "        vertical-align: top;\n",
       "    }\n",
       "\n",
       "    .dataframe thead th {\n",
       "        text-align: right;\n",
       "    }\n",
       "</style>\n",
       "<table border=\"1\" class=\"dataframe\">\n",
       "  <thead>\n",
       "    <tr style=\"text-align: right;\">\n",
       "      <th></th>\n",
       "      <th>count</th>\n",
       "      <th>percentage</th>\n",
       "    </tr>\n",
       "  </thead>\n",
       "  <tbody>\n",
       "    <tr>\n",
       "      <th>0</th>\n",
       "      <td>775</td>\n",
       "      <td>0.516667</td>\n",
       "    </tr>\n",
       "    <tr>\n",
       "      <th>1</th>\n",
       "      <td>725</td>\n",
       "      <td>0.483333</td>\n",
       "    </tr>\n",
       "  </tbody>\n",
       "</table>\n",
       "</div>"
      ],
      "text/plain": [
       "   count  percentage\n",
       "0    775    0.516667\n",
       "1    725    0.483333"
      ]
     },
     "execution_count": 44,
     "metadata": {},
     "output_type": "execute_result"
    }
   ],
   "source": [
    "y_pred_c.value_counts().to_frame('count').assign(percentage = lambda x: x/x.sum())"
   ]
  },
  {
   "cell_type": "markdown",
   "metadata": {},
   "source": [
    "### 100 logistic regression"
   ]
  },
  {
   "cell_type": "code",
   "execution_count": 45,
   "metadata": {},
   "outputs": [
    {
     "data": {
      "text/html": [
       "<div>\n",
       "<style scoped>\n",
       "    .dataframe tbody tr th:only-of-type {\n",
       "        vertical-align: middle;\n",
       "    }\n",
       "\n",
       "    .dataframe tbody tr th {\n",
       "        vertical-align: top;\n",
       "    }\n",
       "\n",
       "    .dataframe thead th {\n",
       "        text-align: right;\n",
       "    }\n",
       "</style>\n",
       "<table border=\"1\" class=\"dataframe\">\n",
       "  <thead>\n",
       "    <tr style=\"text-align: right;\">\n",
       "      <th></th>\n",
       "      <th>count</th>\n",
       "      <th>percentage</th>\n",
       "    </tr>\n",
       "  </thead>\n",
       "  <tbody>\n",
       "    <tr>\n",
       "      <th>0</th>\n",
       "      <td>768</td>\n",
       "      <td>0.512</td>\n",
       "    </tr>\n",
       "    <tr>\n",
       "      <th>1</th>\n",
       "      <td>732</td>\n",
       "      <td>0.488</td>\n",
       "    </tr>\n",
       "  </tbody>\n",
       "</table>\n",
       "</div>"
      ],
      "text/plain": [
       "   count  percentage\n",
       "0    768       0.512\n",
       "1    732       0.488"
      ]
     },
     "execution_count": 45,
     "metadata": {},
     "output_type": "execute_result"
    }
   ],
   "source": [
    "y_pred_d.value_counts().to_frame('count').assign(percentage = lambda x: x/x.sum())"
   ]
  },
  {
   "cell_type": "markdown",
   "metadata": {},
   "source": [
    "ii) Modify the probability threshold and select the one that maximizes the F1-Score"
   ]
  },
  {
   "cell_type": "markdown",
   "metadata": {},
   "source": [
    "### 300 Bagged samples"
   ]
  },
  {
   "cell_type": "code",
   "execution_count": 46,
   "metadata": {},
   "outputs": [
    {
     "name": "stdout",
     "output_type": "stream",
     "text": [
      "threshold: 39 %\n",
      "f1_score: 0.7037242912729295\n"
     ]
    },
    {
     "data": {
      "image/png": "[encoded data removed]",
      "text/plain": [
       "<Figure size 432x288 with 1 Axes>"
      ]
     },
     "metadata": {},
     "output_type": "display_data"
    }
   ],
   "source": [
    "#threshold selection process\n",
    "threshold = 0\n",
    "f1_score = []\n",
    "\n",
    "y_pred_a = y_pred_1.sum(axis=1)/y_pred_1.count(axis=1)\n",
    "\n",
    "for threshold in range(1,101,1):\n",
    "    y_pred = ((y_pred_a >= threshold/100)).astype(np.int)\n",
    "    #y_pred = pd.DataFrame(y_pred)\n",
    "    f1_score.append(metrics.f1_score(pd.DataFrame(y_test), y_pred))\n",
    "    \n",
    "# plot threshold (x-axis) versus f1_score (y-axis)\n",
    "plt.style.use('fivethirtyeight')\n",
    "plt.plot(range(1,101), f1_score)\n",
    "plt.xlabel('threshold')\n",
    "plt.ylabel('f1_score')\n",
    "\n",
    "# max f1_score and threshold\n",
    "print(\"threshold:\",f1_score.index(max(f1_score)),\"%\")\n",
    "print(\"f1_score:\", max(f1_score))"
   ]
  },
  {
   "cell_type": "markdown",
   "metadata": {},
   "source": [
    "### 100 Decision Trees where max_depth=None"
   ]
  },
  {
   "cell_type": "code",
   "execution_count": 47,
   "metadata": {},
   "outputs": [
    {
     "name": "stdout",
     "output_type": "stream",
     "text": [
      "threshold: 30 %\n",
      "f1_score: 0.6998491704374056\n"
     ]
    },
    {
     "data": {
      "image/png": "[encoded data removed]",
      "text/plain": [
       "<Figure size 432x288 with 1 Axes>"
      ]
     },
     "metadata": {},
     "output_type": "display_data"
    }
   ],
   "source": [
    "#threshold selection process\n",
    "threshold = 0\n",
    "f1_score = []\n",
    "\n",
    "y_pred_b = y_pred_2.sum(axis=1)/y_pred_2.count(axis=1)\n",
    "\n",
    "for threshold in range(1,101,1):\n",
    "    y_pred = (y_pred_b >= threshold/100).astype(np.int)\n",
    "    #y_pred = pd.DataFrame(y_pred)\n",
    "    f1_score.append(metrics.f1_score(pd.DataFrame(y_test), y_pred))\n",
    "    \n",
    "# plot threshold (x-axis) versus f1_score (y-axis)\n",
    "plt.style.use('fivethirtyeight')\n",
    "plt.plot(range(1,101), f1_score)\n",
    "plt.xlabel('threshold')\n",
    "plt.ylabel('f1_score')\n",
    "\n",
    "# max f1_score and threshold\n",
    "print(\"threshold:\",f1_score.index(max(f1_score)),\"%\")\n",
    "print(\"f1_score:\", max(f1_score))"
   ]
  },
  {
   "cell_type": "markdown",
   "metadata": {},
   "source": [
    "### 100 Decision Trees where max_depth=2"
   ]
  },
  {
   "cell_type": "code",
   "execution_count": 48,
   "metadata": {},
   "outputs": [
    {
     "name": "stdout",
     "output_type": "stream",
     "text": [
      "threshold: 5 %\n",
      "f1_score: 0.6859083191850595\n"
     ]
    },
    {
     "data": {
      "image/png": "[encoded data removed]",
      "text/plain": [
       "<Figure size 432x288 with 1 Axes>"
      ]
     },
     "metadata": {},
     "output_type": "display_data"
    }
   ],
   "source": [
    "#threshold selection process\n",
    "threshold = 0\n",
    "f1_score = []\n",
    "\n",
    "y_pred_c = y_pred_3.sum(axis=1)/y_pred_3.count(axis=1)\n",
    "\n",
    "for threshold in range(1,101,1):\n",
    "    y_pred = (y_pred_c >= threshold/100).astype(np.int)\n",
    "    #y_pred = pd.DataFrame(y_pred)\n",
    "    f1_score.append(metrics.f1_score(pd.DataFrame(y_test), y_pred))\n",
    "    \n",
    "# plot threshold (x-axis) versus f1_score (y-axis)\n",
    "plt.style.use('fivethirtyeight')\n",
    "plt.plot(range(1,101), f1_score)\n",
    "plt.xlabel('threshold')\n",
    "plt.ylabel('f1_score')\n",
    "\n",
    "# max f1_score and threshold\n",
    "print(\"threshold:\",f1_score.index(max(f1_score)),\"%\")\n",
    "print(\"f1_score:\", max(f1_score))"
   ]
  },
  {
   "cell_type": "markdown",
   "metadata": {},
   "source": [
    "### 100 logistic regression"
   ]
  },
  {
   "cell_type": "code",
   "execution_count": 49,
   "metadata": {},
   "outputs": [
    {
     "name": "stdout",
     "output_type": "stream",
     "text": [
      "threshold: 1 %\n",
      "f1_score: 0.6836321573163677\n"
     ]
    },
    {
     "data": {
      "image/png": "[encoded data removed]",
      "text/plain": [
       "<Figure size 432x288 with 1 Axes>"
      ]
     },
     "metadata": {},
     "output_type": "display_data"
    }
   ],
   "source": [
    "#threshold selection process\n",
    "threshold = 0\n",
    "f1_score = []\n",
    "\n",
    "y_pred_d = y_pred_4.sum(axis=1)/y_pred_4.count(axis=1)\n",
    "\n",
    "for threshold in range(1,101,1):\n",
    "    y_pred = (y_pred_d >= threshold/100).astype(np.int)\n",
    "    #y_pred = pd.DataFrame(y_pred)\n",
    "    f1_score.append(metrics.f1_score(pd.DataFrame(y_test), y_pred))\n",
    "    \n",
    "# plot threshold (x-axis) versus f1_score (y-axis)\n",
    "plt.style.use('fivethirtyeight')\n",
    "plt.plot(range(1,101), f1_score)\n",
    "plt.xlabel('threshold')\n",
    "plt.ylabel('f1_score')\n",
    "\n",
    "# max f1_score and threshold\n",
    "print(\"threshold:\",f1_score.index(max(f1_score)),\"%\")\n",
    "print(\"f1_score:\", max(f1_score))"
   ]
  },
  {
   "cell_type": "markdown",
   "metadata": {},
   "source": [
    "# Exercise 7.10\n",
    "\n",
    "Ensemble using weighted voting using the oob_error\n",
    "\n",
    "Evaluate using the following metrics:\n",
    "* Accuracy\n",
    "* F1-Score"
   ]
  },
  {
   "cell_type": "markdown",
   "metadata": {},
   "source": [
    "### 300 Bagged samples"
   ]
  },
  {
   "cell_type": "code",
   "execution_count": 50,
   "metadata": {},
   "outputs": [],
   "source": [
    "# initial model\n",
    "seed = np.random.seed(123)\n",
    "n_B = 300\n",
    "\n",
    "clf = BaggingClassifier(base_estimator=DecisionTreeClassifier(), n_estimators=n_B, bootstrap=True,\n",
    "                        random_state=seed, n_jobs=-1, oob_score=True)\n",
    "\n",
    "clf.fit(X_train, y_train)\n",
    "y_pred = clf.predict(X_test)"
   ]
  },
  {
   "cell_type": "code",
   "execution_count": 51,
   "metadata": {},
   "outputs": [
    {
     "name": "stdout",
     "output_type": "stream",
     "text": [
      "Accuracy: 0.6613333333333333\n",
      "F1 score: 0.6613333333333333\n",
      "Precision: 0.6517739816031537\n",
      "Recall: 0.6711772665764547\n"
     ]
    }
   ],
   "source": [
    "# metrics initial model\n",
    "print(\"Accuracy:\",metrics.accuracy_score(y_test, y_pred))\n",
    "print(\"F1 score:\",metrics.f1_score(y_test, y_pred))\n",
    "\n",
    "print(\"Precision:\",metrics.precision_score(y_test, y_pred))\n",
    "print(\"Recall:\",metrics.recall_score(y_test, y_pred))"
   ]
  },
  {
   "cell_type": "code",
   "execution_count": 52,
   "metadata": {},
   "outputs": [],
   "source": [
    "# samples models\n",
    "errors_a = np.zeros(clf.n_estimators)\n",
    "y_pred_all_a = np.zeros((X_test.shape[0], clf.n_estimators))\n",
    "\n",
    "for i in range(clf.n_estimators):\n",
    "    oob_sample = ~clf.estimators_samples_[i]\n",
    "    y_pred_ = clf.estimators_[i].predict(X_train.values[oob_sample])\n",
    "    errors_a[i] = metrics.accuracy_score(y_pred_, y_train.values[oob_sample])\n",
    "    y_pred_all_a[:, i] = clf.estimators_[i].predict(X_test)\n",
    "    \n",
    "threshold = 0.5\n",
    "alpha = (1 - errors_a) / (1 - errors_a).sum()\n",
    "y_pred_a = (np.sum(y_pred_all_a * alpha, axis=1) >= threshold).astype(np.int)\n",
    "y_pred_a = pd.DataFrame(y_pred_a)"
   ]
  },
  {
   "cell_type": "code",
   "execution_count": 53,
   "metadata": {},
   "outputs": [
    {
     "name": "stdout",
     "output_type": "stream",
     "text": [
      "Accuracy: 0.6646666666666666\n",
      "F1 score: 0.6666666666666667\n",
      "Precision: 0.6532467532467533\n",
      "Recall: 0.6806495263870095\n"
     ]
    }
   ],
   "source": [
    "# new metrics\n",
    "print(\"Accuracy:\",metrics.accuracy_score(y_test, y_pred_a))\n",
    "print(\"F1 score:\",metrics.f1_score(y_test, y_pred_a))\n",
    "\n",
    "print(\"Precision:\",metrics.precision_score(y_test, y_pred_a))\n",
    "print(\"Recall:\",metrics.recall_score(y_test, y_pred_a))"
   ]
  },
  {
   "cell_type": "markdown",
   "metadata": {},
   "source": [
    "### 100 Decision Trees where max_depth=None"
   ]
  },
  {
   "cell_type": "code",
   "execution_count": 54,
   "metadata": {},
   "outputs": [],
   "source": [
    "# initial model\n",
    "seed=np.random.seed(123)\n",
    "n_samples = X_train.shape[0]\n",
    "n_B = 100\n",
    "\n",
    "# grow each tree deep\n",
    "clf = BaggingClassifier(base_estimator=DecisionTreeClassifier(max_depth=None, random_state=123), \n",
    "                        n_estimators=n_B, bootstrap=True,\n",
    "                        random_state=seed, n_jobs=-1, oob_score=True)\n",
    "\n",
    "clf.fit(X_train, y_train)\n",
    "y_pred = clf.predict(X_test)"
   ]
  },
  {
   "cell_type": "code",
   "execution_count": 55,
   "metadata": {},
   "outputs": [
    {
     "name": "stdout",
     "output_type": "stream",
     "text": [
      "Accuracy: 0.658\n",
      "F1 score: 0.6550100874243443\n",
      "Precision: 0.6510695187165776\n",
      "Recall: 0.6589986468200271\n"
     ]
    }
   ],
   "source": [
    "# metrics initial model\n",
    "print(\"Accuracy:\",metrics.accuracy_score(y_test, y_pred))\n",
    "print(\"F1 score:\",metrics.f1_score(y_test, y_pred))\n",
    "\n",
    "print(\"Precision:\",metrics.precision_score(y_test, y_pred))\n",
    "print(\"Recall:\",metrics.recall_score(y_test, y_pred))"
   ]
  },
  {
   "cell_type": "code",
   "execution_count": 56,
   "metadata": {},
   "outputs": [],
   "source": [
    "# samples models\n",
    "errors_b = np.zeros(clf.n_estimators)\n",
    "y_pred_all_b = np.zeros((X_test.shape[0], clf.n_estimators))\n",
    "\n",
    "for i in range(clf.n_estimators):\n",
    "    oob_sample = ~clf.estimators_samples_[i]\n",
    "    y_pred_ = clf.estimators_[i].predict(X_train.values[oob_sample])\n",
    "    errors_b[i] = metrics.accuracy_score(y_pred_, y_train.values[oob_sample])\n",
    "    y_pred_all_b[:, i] = clf.estimators_[i].predict(X_test)\n",
    "    \n",
    "threshold = 0.5\n",
    "alpha = (1 - errors_b) / (1 - errors_b).sum()\n",
    "y_pred_b = (np.sum(y_pred_all_b * alpha, axis=1) >= threshold).astype(np.int)\n",
    "y_pred_b = pd.DataFrame(y_pred_b)"
   ]
  },
  {
   "cell_type": "code",
   "execution_count": 57,
   "metadata": {},
   "outputs": [
    {
     "name": "stdout",
     "output_type": "stream",
     "text": [
      "Accuracy: 0.6553333333333333\n",
      "F1 score: 0.6564784053156146\n",
      "Precision: 0.6449086161879896\n",
      "Recall: 0.6684709066305818\n"
     ]
    }
   ],
   "source": [
    "# new metrics\n",
    "print(\"Accuracy:\",metrics.accuracy_score(y_test, y_pred_b))\n",
    "print(\"F1 score:\",metrics.f1_score(y_test, y_pred_b))\n",
    "\n",
    "print(\"Precision:\",metrics.precision_score(y_test, y_pred_b))\n",
    "print(\"Recall:\",metrics.recall_score(y_test, y_pred_b))"
   ]
  },
  {
   "cell_type": "markdown",
   "metadata": {},
   "source": [
    "### 100 Decision Trees where max_depth=2 "
   ]
  },
  {
   "cell_type": "code",
   "execution_count": 58,
   "metadata": {},
   "outputs": [],
   "source": [
    "# initial model\n",
    "seed=np.random.seed(123)\n",
    "n_samples = X_train.shape[0]\n",
    "n_B = 100\n",
    "\n",
    "# grow each tree deep\n",
    "clf = BaggingClassifier(base_estimator=DecisionTreeClassifier(max_depth=2, random_state=123), \n",
    "                        n_estimators=n_B, bootstrap=True,\n",
    "                        random_state=seed, n_jobs=-1, oob_score=True)\n",
    "\n",
    "clf.fit(X_train, y_train)\n",
    "y_pred = clf.predict(X_test)"
   ]
  },
  {
   "cell_type": "code",
   "execution_count": 59,
   "metadata": {},
   "outputs": [
    {
     "name": "stdout",
     "output_type": "stream",
     "text": [
      "Accuracy: 0.652\n",
      "F1 score: 0.6434426229508197\n",
      "Precision: 0.6496551724137931\n",
      "Recall: 0.6373477672530447\n"
     ]
    }
   ],
   "source": [
    "# metrics initial model\n",
    "print(\"Accuracy:\",metrics.accuracy_score(y_test, y_pred))\n",
    "print(\"F1 score:\",metrics.f1_score(y_test, y_pred))\n",
    "\n",
    "print(\"Precision:\",metrics.precision_score(y_test, y_pred))\n",
    "print(\"Recall:\",metrics.recall_score(y_test, y_pred))"
   ]
  },
  {
   "cell_type": "code",
   "execution_count": 60,
   "metadata": {},
   "outputs": [],
   "source": [
    "# samples models\n",
    "errors_c = np.zeros(clf.n_estimators)\n",
    "y_pred_all_c = np.zeros((X_test.shape[0], clf.n_estimators))\n",
    "\n",
    "for i in range(clf.n_estimators):\n",
    "    oob_sample = ~clf.estimators_samples_[i]\n",
    "    y_pred_ = clf.estimators_[i].predict(X_train.values[oob_sample])\n",
    "    errors_c[i] = metrics.accuracy_score(y_pred_, y_train.values[oob_sample])\n",
    "    y_pred_all_c[:, i] = clf.estimators_[i].predict(X_test)\n",
    "    \n",
    "threshold = 0.5\n",
    "alpha = (1 - errors_c) / (1 - errors_c).sum()\n",
    "y_pred_c = (np.sum(y_pred_all_c * alpha, axis=1) >= threshold).astype(np.int)\n",
    "y_pred_c = pd.DataFrame(y_pred_c)"
   ]
  },
  {
   "cell_type": "code",
   "execution_count": 61,
   "metadata": {},
   "outputs": [
    {
     "name": "stdout",
     "output_type": "stream",
     "text": [
      "Accuracy: 0.652\n",
      "F1 score: 0.6434426229508197\n",
      "Precision: 0.6496551724137931\n",
      "Recall: 0.6373477672530447\n"
     ]
    }
   ],
   "source": [
    "# new metrics\n",
    "print(\"Accuracy:\",metrics.accuracy_score(y_test, y_pred_c))\n",
    "print(\"F1 score:\",metrics.f1_score(y_test, y_pred_c))\n",
    "\n",
    "print(\"Precision:\",metrics.precision_score(y_test, y_pred_c))\n",
    "print(\"Recall:\",metrics.recall_score(y_test, y_pred_c))"
   ]
  },
  {
   "cell_type": "markdown",
   "metadata": {},
   "source": [
    "### 100 logistic regression"
   ]
  },
  {
   "cell_type": "code",
   "execution_count": 62,
   "metadata": {},
   "outputs": [],
   "source": [
    "# initial model\n",
    "seed=np.random.seed(123)\n",
    "n_samples = X_train.shape[0]\n",
    "n_B = 100\n",
    "\n",
    "# grow each tree deep\n",
    "clf = BaggingClassifier(base_estimator=LogisticRegression(), \n",
    "                        n_estimators=n_B, bootstrap=True,\n",
    "                        random_state=seed, n_jobs=-1, oob_score=True)\n",
    "\n",
    "clf.fit(X_train, y_train)\n",
    "y_pred = clf.predict(X_test)"
   ]
  },
  {
   "cell_type": "code",
   "execution_count": 63,
   "metadata": {},
   "outputs": [
    {
     "name": "stdout",
     "output_type": "stream",
     "text": [
      "Accuracy: 0.6526666666666666\n",
      "F1 score: 0.6448534423994546\n",
      "Precision: 0.6497252747252747\n",
      "Recall: 0.6400541271989174\n"
     ]
    }
   ],
   "source": [
    "# metrics initial model\n",
    "print(\"Accuracy:\",metrics.accuracy_score(y_test, y_pred))\n",
    "print(\"F1 score:\",metrics.f1_score(y_test, y_pred))\n",
    "\n",
    "print(\"Precision:\",metrics.precision_score(y_test, y_pred))\n",
    "print(\"Recall:\",metrics.recall_score(y_test, y_pred))"
   ]
  },
  {
   "cell_type": "code",
   "execution_count": 64,
   "metadata": {},
   "outputs": [],
   "source": [
    "# samples models\n",
    "errors_d = np.zeros(clf.n_estimators)\n",
    "y_pred_all_d = np.zeros((X_test.shape[0], clf.n_estimators))\n",
    "\n",
    "for i in range(clf.n_estimators):\n",
    "    oob_sample = ~clf.estimators_samples_[i]\n",
    "    y_pred_ = clf.estimators_[i].predict(X_train.values[oob_sample])\n",
    "    errors_d[i] = metrics.accuracy_score(y_pred_, y_train.values[oob_sample])\n",
    "    y_pred_all_d[:, i] = clf.estimators_[i].predict(X_test)\n",
    "    \n",
    "threshold = 0.5\n",
    "alpha = (1 - errors_d) / (1 - errors_d).sum()\n",
    "y_pred_d = (np.sum(y_pred_all_d * alpha, axis=1) >= threshold).astype(np.int)\n",
    "y_pred_d = pd.DataFrame(y_pred_d)"
   ]
  },
  {
   "cell_type": "code",
   "execution_count": 65,
   "metadata": {},
   "outputs": [
    {
     "name": "stdout",
     "output_type": "stream",
     "text": [
      "Accuracy: 0.648\n",
      "F1 score: 0.6383561643835617\n",
      "Precision: 0.6463245492371706\n",
      "Recall: 0.6305818673883626\n"
     ]
    }
   ],
   "source": [
    "# new metrics\n",
    "print(\"Accuracy:\",metrics.accuracy_score(y_test, y_pred_d))\n",
    "print(\"F1 score:\",metrics.f1_score(y_test, y_pred_d))\n",
    "\n",
    "print(\"Precision:\",metrics.precision_score(y_test, y_pred_d))\n",
    "print(\"Recall:\",metrics.recall_score(y_test, y_pred_d))"
   ]
  },
  {
   "cell_type": "markdown",
   "metadata": {},
   "source": [
    "# Exercise 7.11\n",
    "\n",
    "i) Estimate the probability of the weighted voting"
   ]
  },
  {
   "cell_type": "markdown",
   "metadata": {},
   "source": [
    "### 300 Bagged samples"
   ]
  },
  {
   "cell_type": "code",
   "execution_count": 66,
   "metadata": {},
   "outputs": [
    {
     "data": {
      "text/html": [
       "<div>\n",
       "<style scoped>\n",
       "    .dataframe tbody tr th:only-of-type {\n",
       "        vertical-align: middle;\n",
       "    }\n",
       "\n",
       "    .dataframe tbody tr th {\n",
       "        vertical-align: top;\n",
       "    }\n",
       "\n",
       "    .dataframe thead th {\n",
       "        text-align: right;\n",
       "    }\n",
       "</style>\n",
       "<table border=\"1\" class=\"dataframe\">\n",
       "  <thead>\n",
       "    <tr style=\"text-align: right;\">\n",
       "      <th></th>\n",
       "      <th>count</th>\n",
       "      <th>percentage</th>\n",
       "    </tr>\n",
       "    <tr>\n",
       "      <th>0</th>\n",
       "      <th></th>\n",
       "      <th></th>\n",
       "    </tr>\n",
       "  </thead>\n",
       "  <tbody>\n",
       "    <tr>\n",
       "      <th>1</th>\n",
       "      <td>770</td>\n",
       "      <td>0.513333</td>\n",
       "    </tr>\n",
       "    <tr>\n",
       "      <th>0</th>\n",
       "      <td>730</td>\n",
       "      <td>0.486667</td>\n",
       "    </tr>\n",
       "  </tbody>\n",
       "</table>\n",
       "</div>"
      ],
      "text/plain": [
       "   count  percentage\n",
       "0                   \n",
       "1    770    0.513333\n",
       "0    730    0.486667"
      ]
     },
     "execution_count": 66,
     "metadata": {},
     "output_type": "execute_result"
    }
   ],
   "source": [
    "y_pred_a.value_counts().to_frame('count').assign(percentage = lambda x: x/x.sum())"
   ]
  },
  {
   "cell_type": "markdown",
   "metadata": {},
   "source": [
    "### 100 Decision Trees where max_depth=None"
   ]
  },
  {
   "cell_type": "code",
   "execution_count": 67,
   "metadata": {},
   "outputs": [
    {
     "data": {
      "text/html": [
       "<div>\n",
       "<style scoped>\n",
       "    .dataframe tbody tr th:only-of-type {\n",
       "        vertical-align: middle;\n",
       "    }\n",
       "\n",
       "    .dataframe tbody tr th {\n",
       "        vertical-align: top;\n",
       "    }\n",
       "\n",
       "    .dataframe thead th {\n",
       "        text-align: right;\n",
       "    }\n",
       "</style>\n",
       "<table border=\"1\" class=\"dataframe\">\n",
       "  <thead>\n",
       "    <tr style=\"text-align: right;\">\n",
       "      <th></th>\n",
       "      <th>count</th>\n",
       "      <th>percentage</th>\n",
       "    </tr>\n",
       "    <tr>\n",
       "      <th>0</th>\n",
       "      <th></th>\n",
       "      <th></th>\n",
       "    </tr>\n",
       "  </thead>\n",
       "  <tbody>\n",
       "    <tr>\n",
       "      <th>1</th>\n",
       "      <td>766</td>\n",
       "      <td>0.510667</td>\n",
       "    </tr>\n",
       "    <tr>\n",
       "      <th>0</th>\n",
       "      <td>734</td>\n",
       "      <td>0.489333</td>\n",
       "    </tr>\n",
       "  </tbody>\n",
       "</table>\n",
       "</div>"
      ],
      "text/plain": [
       "   count  percentage\n",
       "0                   \n",
       "1    766    0.510667\n",
       "0    734    0.489333"
      ]
     },
     "execution_count": 67,
     "metadata": {},
     "output_type": "execute_result"
    }
   ],
   "source": [
    "y_pred_b.value_counts().to_frame('count').assign(percentage = lambda x: x/x.sum())"
   ]
  },
  {
   "cell_type": "markdown",
   "metadata": {},
   "source": [
    "### 100 Decision Trees where max_depth=2"
   ]
  },
  {
   "cell_type": "code",
   "execution_count": 68,
   "metadata": {},
   "outputs": [
    {
     "data": {
      "text/html": [
       "<div>\n",
       "<style scoped>\n",
       "    .dataframe tbody tr th:only-of-type {\n",
       "        vertical-align: middle;\n",
       "    }\n",
       "\n",
       "    .dataframe tbody tr th {\n",
       "        vertical-align: top;\n",
       "    }\n",
       "\n",
       "    .dataframe thead th {\n",
       "        text-align: right;\n",
       "    }\n",
       "</style>\n",
       "<table border=\"1\" class=\"dataframe\">\n",
       "  <thead>\n",
       "    <tr style=\"text-align: right;\">\n",
       "      <th></th>\n",
       "      <th>count</th>\n",
       "      <th>percentage</th>\n",
       "    </tr>\n",
       "    <tr>\n",
       "      <th>0</th>\n",
       "      <th></th>\n",
       "      <th></th>\n",
       "    </tr>\n",
       "  </thead>\n",
       "  <tbody>\n",
       "    <tr>\n",
       "      <th>0</th>\n",
       "      <td>775</td>\n",
       "      <td>0.516667</td>\n",
       "    </tr>\n",
       "    <tr>\n",
       "      <th>1</th>\n",
       "      <td>725</td>\n",
       "      <td>0.483333</td>\n",
       "    </tr>\n",
       "  </tbody>\n",
       "</table>\n",
       "</div>"
      ],
      "text/plain": [
       "   count  percentage\n",
       "0                   \n",
       "0    775    0.516667\n",
       "1    725    0.483333"
      ]
     },
     "execution_count": 68,
     "metadata": {},
     "output_type": "execute_result"
    }
   ],
   "source": [
    "y_pred_c.value_counts().to_frame('count').assign(percentage = lambda x: x/x.sum())"
   ]
  },
  {
   "cell_type": "markdown",
   "metadata": {},
   "source": [
    "### 100 logistic regression"
   ]
  },
  {
   "cell_type": "code",
   "execution_count": 69,
   "metadata": {},
   "outputs": [
    {
     "data": {
      "text/html": [
       "<div>\n",
       "<style scoped>\n",
       "    .dataframe tbody tr th:only-of-type {\n",
       "        vertical-align: middle;\n",
       "    }\n",
       "\n",
       "    .dataframe tbody tr th {\n",
       "        vertical-align: top;\n",
       "    }\n",
       "\n",
       "    .dataframe thead th {\n",
       "        text-align: right;\n",
       "    }\n",
       "</style>\n",
       "<table border=\"1\" class=\"dataframe\">\n",
       "  <thead>\n",
       "    <tr style=\"text-align: right;\">\n",
       "      <th></th>\n",
       "      <th>count</th>\n",
       "      <th>percentage</th>\n",
       "    </tr>\n",
       "    <tr>\n",
       "      <th>0</th>\n",
       "      <th></th>\n",
       "      <th></th>\n",
       "    </tr>\n",
       "  </thead>\n",
       "  <tbody>\n",
       "    <tr>\n",
       "      <th>0</th>\n",
       "      <td>779</td>\n",
       "      <td>0.519333</td>\n",
       "    </tr>\n",
       "    <tr>\n",
       "      <th>1</th>\n",
       "      <td>721</td>\n",
       "      <td>0.480667</td>\n",
       "    </tr>\n",
       "  </tbody>\n",
       "</table>\n",
       "</div>"
      ],
      "text/plain": [
       "   count  percentage\n",
       "0                   \n",
       "0    779    0.519333\n",
       "1    721    0.480667"
      ]
     },
     "execution_count": 69,
     "metadata": {},
     "output_type": "execute_result"
    }
   ],
   "source": [
    "y_pred_d.value_counts().to_frame('count').assign(percentage = lambda x: x/x.sum())"
   ]
  },
  {
   "cell_type": "markdown",
   "metadata": {},
   "source": [
    "ii) Modify the probability threshold and select the one that maximizes the F1-Score"
   ]
  },
  {
   "cell_type": "markdown",
   "metadata": {},
   "source": [
    "### 300 Bagged samples"
   ]
  },
  {
   "cell_type": "code",
   "execution_count": 70,
   "metadata": {},
   "outputs": [
    {
     "name": "stdout",
     "output_type": "stream",
     "text": [
      "threshold: 34 %\n",
      "f1_score: 0.7026466009340945\n"
     ]
    },
    {
     "data": {
      "image/png": "[encoded data removed]",
      "text/plain": [
       "<Figure size 432x288 with 1 Axes>"
      ]
     },
     "metadata": {},
     "output_type": "display_data"
    }
   ],
   "source": [
    "# threshold selection process\n",
    "threshold = 0\n",
    "f1_score = []\n",
    "\n",
    "for threshold in range(1,101,1):\n",
    "    alpha = (1 - errors_a) / (1 - errors_a).sum()\n",
    "    y_pred_a = (np.sum(y_pred_all_a * alpha, axis=1) >= threshold/100).astype(np.int)\n",
    "    y_pred = pd.DataFrame(y_pred_a)\n",
    "    f1_score.append(metrics.f1_score(y_test, y_pred))\n",
    "\n",
    "# plot threshold (x-axis) versus f1_score (y-axis)\n",
    "plt.style.use('fivethirtyeight')\n",
    "plt.plot(range(1,101), f1_score)\n",
    "plt.xlabel('threshold')\n",
    "plt.ylabel('f1_score')\n",
    "\n",
    "# max f1_score and threshold\n",
    "print(\"threshold:\",f1_score.index(max(f1_score)),\"%\")\n",
    "print(\"f1_score:\", max(f1_score))"
   ]
  },
  {
   "cell_type": "markdown",
   "metadata": {},
   "source": [
    "### 100 Decision Trees where max_depth=None"
   ]
  },
  {
   "cell_type": "code",
   "execution_count": 71,
   "metadata": {},
   "outputs": [
    {
     "name": "stdout",
     "output_type": "stream",
     "text": [
      "threshold: 30 %\n",
      "f1_score: 0.6984445559458105\n"
     ]
    },
    {
     "data": {
      "image/png": "[encoded data removed]",
      "text/plain": [
       "<Figure size 432x288 with 1 Axes>"
      ]
     },
     "metadata": {},
     "output_type": "display_data"
    }
   ],
   "source": [
    "# threshold selection process\n",
    "threshold = 0\n",
    "f1_score = []\n",
    "\n",
    "for threshold in range(1,101,1):\n",
    "    alpha = (1 - errors_b) / (1 - errors_b).sum()\n",
    "    y_pred_b = (np.sum(y_pred_all_b * alpha, axis=1) >= threshold/100).astype(np.int)\n",
    "    y_pred = pd.DataFrame(y_pred_b)\n",
    "    f1_score.append(metrics.f1_score(y_test, y_pred))\n",
    "\n",
    "# plot threshold (x-axis) versus f1_score (y-axis)\n",
    "plt.style.use('fivethirtyeight')\n",
    "plt.plot(range(1,101), f1_score)\n",
    "plt.xlabel('threshold')\n",
    "plt.ylabel('f1_score')\n",
    "\n",
    "# max f1_score and threshold\n",
    "print(\"threshold:\",f1_score.index(max(f1_score)),\"%\")\n",
    "print(\"f1_score:\", max(f1_score))"
   ]
  },
  {
   "cell_type": "markdown",
   "metadata": {},
   "source": [
    "### 100 Decision Trees where max_depth=2"
   ]
  },
  {
   "cell_type": "code",
   "execution_count": 72,
   "metadata": {},
   "outputs": [
    {
     "name": "stdout",
     "output_type": "stream",
     "text": [
      "threshold: 1 %\n",
      "f1_score: 0.6960081883316274\n"
     ]
    },
    {
     "data": {
      "image/png": "[encoded data removed]",
      "text/plain": [
       "<Figure size 432x288 with 1 Axes>"
      ]
     },
     "metadata": {},
     "output_type": "display_data"
    }
   ],
   "source": [
    "# threshold selection process\n",
    "threshold = 0\n",
    "f1_score = []\n",
    "\n",
    "for threshold in range(1,101,1):\n",
    "    alpha = (1 - errors_c) / (1 - errors_c).sum()\n",
    "    y_pred_c = (np.sum(y_pred_all_c * alpha, axis=1) >= threshold/100).astype(np.int)\n",
    "    y_pred = pd.DataFrame(y_pred_c)\n",
    "    f1_score.append(metrics.f1_score(y_test, y_pred))\n",
    "\n",
    "# plot threshold (x-axis) versus f1_score (y-axis)\n",
    "plt.style.use('fivethirtyeight')\n",
    "plt.plot(range(1,101), f1_score)\n",
    "plt.xlabel('threshold')\n",
    "plt.ylabel('f1_score')\n",
    "\n",
    "# max f1_score and threshold\n",
    "print(\"threshold:\",f1_score.index(max(f1_score)),\"%\")\n",
    "print(\"f1_score:\", max(f1_score))"
   ]
  },
  {
   "cell_type": "markdown",
   "metadata": {},
   "source": [
    "### 100 logistic regression"
   ]
  },
  {
   "cell_type": "code",
   "execution_count": 73,
   "metadata": {},
   "outputs": [
    {
     "name": "stdout",
     "output_type": "stream",
     "text": [
      "threshold: 0 %\n",
      "f1_score: 0.6832369942196532\n"
     ]
    },
    {
     "data": {
      "image/png": "[encoded data removed]",
      "text/plain": [
       "<Figure size 432x288 with 1 Axes>"
      ]
     },
     "metadata": {},
     "output_type": "display_data"
    }
   ],
   "source": [
    "# threshold selection process\n",
    "threshold = 0\n",
    "f1_score = []\n",
    "\n",
    "for threshold in range(1,101,1):\n",
    "    alpha = (1 - errors_d) / (1 - errors_d).sum()\n",
    "    y_pred_d = (np.sum(y_pred_all_d * alpha, axis=1) >= threshold/100).astype(np.int)\n",
    "    y_pred = pd.DataFrame(y_pred_d)\n",
    "    f1_score.append(metrics.f1_score(y_test, y_pred))\n",
    "\n",
    "# plot threshold (x-axis) versus f1_score (y-axis)\n",
    "plt.style.use('fivethirtyeight')\n",
    "plt.plot(range(1,101), f1_score)\n",
    "plt.xlabel('threshold')\n",
    "plt.ylabel('f1_score')\n",
    "\n",
    "# max f1_score and threshold\n",
    "print(\"threshold:\",f1_score.index(max(f1_score)),\"%\")\n",
    "print(\"f1_score:\", max(f1_score))"
   ]
  },
  {
   "cell_type": "markdown",
   "metadata": {},
   "source": [
    "# Exercise 7.12\n",
    "\n",
    "i) Estimate a logistic regression using as input the estimated classifiers"
   ]
  },
  {
   "cell_type": "markdown",
   "metadata": {},
   "source": [
    "### 300 Bagged samples"
   ]
  },
  {
   "cell_type": "code",
   "execution_count": 74,
   "metadata": {},
   "outputs": [],
   "source": [
    "# initial model\n",
    "seed = np.random.seed(123)\n",
    "n_B = 300\n",
    "\n",
    "clf = BaggingClassifier(base_estimator=DecisionTreeClassifier(), n_estimators=n_B, bootstrap=True,\n",
    "                        random_state=seed, n_jobs=-1, oob_score=True)\n",
    "\n",
    "clf.fit(X_train, y_train)\n",
    "y_pred = clf.predict(X_test)\n",
    "\n",
    "# estimated classifiers\n",
    "y_pred_all_a = np.zeros((X_test.shape[0], clf.n_estimators))\n",
    "X_train_a = np.zeros((X_train.shape[0], clf.n_estimators))\n",
    "\n",
    "for i in range(clf.n_estimators):\n",
    "    X_train_a[:, i] = clf.estimators_[i].predict(X_train)\n",
    "    y_pred_all_a[:, i] = clf.estimators_[i].predict(X_test)\n",
    "\n",
    "# logistic regression\n",
    "lr = LogisticRegressionCV(cv=5)\n",
    "lr.fit(X_train_a, y_train)\n",
    "\n",
    "y_pred_a = lr.fit(X_train_a, y_train).predict_proba(y_pred_all_a)\n",
    "y_pred_a = y_pred_a[:,1]\n",
    "\n",
    "threshold = 0.5\n",
    "y_pred = (y_pred_a >= threshold).astype(np.int)\n",
    "y_pred = pd.DataFrame(y_pred)"
   ]
  },
  {
   "cell_type": "code",
   "execution_count": 75,
   "metadata": {},
   "outputs": [
    {
     "name": "stdout",
     "output_type": "stream",
     "text": [
      "Accuracy: 0.664\n",
      "F1 score: 0.6653386454183267\n",
      "Precision: 0.6531942633637549\n",
      "Recall: 0.6779431664411367\n"
     ]
    }
   ],
   "source": [
    "# metrics\n",
    "print(\"Accuracy:\",metrics.accuracy_score(y_test, y_pred))\n",
    "print(\"F1 score:\",metrics.f1_score(y_test, y_pred))\n",
    "\n",
    "print(\"Precision:\",metrics.precision_score(y_test, y_pred))\n",
    "print(\"Recall:\",metrics.recall_score(y_test, y_pred))"
   ]
  },
  {
   "cell_type": "markdown",
   "metadata": {},
   "source": [
    "### 100 Decision Trees where max_depth=None"
   ]
  },
  {
   "cell_type": "code",
   "execution_count": 76,
   "metadata": {},
   "outputs": [],
   "source": [
    "# initial model\n",
    "seed = np.random.seed(123)\n",
    "n_B = 100\n",
    "\n",
    "clf = BaggingClassifier(base_estimator=DecisionTreeClassifier(max_depth=None, random_state=123), n_estimators=n_B, bootstrap=True,\n",
    "                        random_state=seed, n_jobs=-1, oob_score=True)\n",
    "\n",
    "clf.fit(X_train, y_train)\n",
    "y_pred = clf.predict(X_test)\n",
    "\n",
    "# estimated classifiers\n",
    "y_pred_all_b = np.zeros((X_test.shape[0], clf.n_estimators))\n",
    "X_train_b = np.zeros((X_train.shape[0], clf.n_estimators))\n",
    "\n",
    "for i in range(clf.n_estimators):\n",
    "    X_train_b[:, i] = clf.estimators_[i].predict(X_train)\n",
    "    y_pred_all_b[:, i] = clf.estimators_[i].predict(X_test)\n",
    "\n",
    "# logistic regression\n",
    "lr = LogisticRegressionCV(cv=5)\n",
    "lr.fit(X_train_b, y_train)\n",
    "\n",
    "y_pred_b = lr.fit(X_train_b, y_train).predict_proba(y_pred_all_b)\n",
    "y_pred_b = y_pred_b[:,1]\n",
    "\n",
    "threshold = 0.5\n",
    "y_pred = (y_pred_b >= threshold).astype(np.int)\n",
    "y_pred = pd.DataFrame(y_pred)"
   ]
  },
  {
   "cell_type": "code",
   "execution_count": 77,
   "metadata": {},
   "outputs": [
    {
     "name": "stdout",
     "output_type": "stream",
     "text": [
      "Accuracy: 0.6526666666666666\n",
      "F1 score: 0.6570111915734036\n",
      "Precision: 0.6397435897435897\n",
      "Recall: 0.6752368064952639\n"
     ]
    }
   ],
   "source": [
    "# metrics\n",
    "print(\"Accuracy:\",metrics.accuracy_score(y_test, y_pred))\n",
    "print(\"F1 score:\",metrics.f1_score(y_test, y_pred))\n",
    "\n",
    "print(\"Precision:\",metrics.precision_score(y_test, y_pred))\n",
    "print(\"Recall:\",metrics.recall_score(y_test, y_pred))"
   ]
  },
  {
   "cell_type": "markdown",
   "metadata": {},
   "source": [
    "### 100 Decision Trees where max_depth=2"
   ]
  },
  {
   "cell_type": "code",
   "execution_count": 78,
   "metadata": {},
   "outputs": [],
   "source": [
    "# initial model\n",
    "seed = np.random.seed(123)\n",
    "n_B = 100\n",
    "\n",
    "clf = BaggingClassifier(base_estimator=DecisionTreeClassifier(max_depth=2, random_state=123), n_estimators=n_B, bootstrap=True,\n",
    "                        random_state=seed, n_jobs=-1, oob_score=True)\n",
    "\n",
    "clf.fit(X_train, y_train)\n",
    "y_pred = clf.predict(X_test)\n",
    "\n",
    "# estimated classifiers\n",
    "y_pred_all_b = np.zeros((X_test.shape[0], clf.n_estimators))\n",
    "X_train_b = np.zeros((X_train.shape[0], clf.n_estimators))\n",
    "\n",
    "for i in range(clf.n_estimators):\n",
    "    X_train_b[:, i] = clf.estimators_[i].predict(X_train)\n",
    "    y_pred_all_b[:, i] = clf.estimators_[i].predict(X_test)\n",
    "\n",
    "# logistic regression\n",
    "lr = LogisticRegressionCV(cv=5)\n",
    "lr.fit(X_train_b, y_train)\n",
    "\n",
    "y_pred_b = lr.fit(X_train_b, y_train).predict_proba(y_pred_all_b)\n",
    "y_pred_b = y_pred_b[:,1]\n",
    "\n",
    "threshold = 0.5\n",
    "y_pred = (y_pred_b >= threshold).astype(np.int)\n",
    "y_pred = pd.DataFrame(y_pred)"
   ]
  },
  {
   "cell_type": "code",
   "execution_count": 79,
   "metadata": {},
   "outputs": [
    {
     "name": "stdout",
     "output_type": "stream",
     "text": [
      "Accuracy: 0.6533333333333333\n",
      "F1 score: 0.6636481241914619\n",
      "Precision: 0.6356877323420075\n",
      "Recall: 0.6941813261163735\n"
     ]
    }
   ],
   "source": [
    "# metrics\n",
    "print(\"Accuracy:\",metrics.accuracy_score(y_test, y_pred))\n",
    "print(\"F1 score:\",metrics.f1_score(y_test, y_pred))\n",
    "\n",
    "print(\"Precision:\",metrics.precision_score(y_test, y_pred))\n",
    "print(\"Recall:\",metrics.recall_score(y_test, y_pred))"
   ]
  },
  {
   "cell_type": "markdown",
   "metadata": {},
   "source": [
    "### 100 logistic regression"
   ]
  },
  {
   "cell_type": "code",
   "execution_count": 80,
   "metadata": {},
   "outputs": [],
   "source": [
    "# initial model\n",
    "seed = np.random.seed(123)\n",
    "n_B = 100\n",
    "\n",
    "clf = BaggingClassifier(base_estimator=LogisticRegression(), n_estimators=n_B, bootstrap=True,\n",
    "                        random_state=seed, n_jobs=-1, oob_score=True)\n",
    "\n",
    "clf.fit(X_train, y_train)\n",
    "y_pred = clf.predict(X_test)\n",
    "\n",
    "# estimated classifiers\n",
    "y_pred_all_b = np.zeros((X_test.shape[0], clf.n_estimators))\n",
    "X_train_b = np.zeros((X_train.shape[0], clf.n_estimators))\n",
    "\n",
    "for i in range(clf.n_estimators):\n",
    "    X_train_b[:, i] = clf.estimators_[i].predict(X_train)\n",
    "    y_pred_all_b[:, i] = clf.estimators_[i].predict(X_test)\n",
    "\n",
    "# logistic regression\n",
    "lr = LogisticRegressionCV(cv=5)\n",
    "lr.fit(X_train_b, y_train)\n",
    "\n",
    "y_pred_b = lr.fit(X_train_b, y_train).predict_proba(y_pred_all_b)\n",
    "y_pred_b = y_pred_b[:,1]\n",
    "\n",
    "threshold = 0.5\n",
    "y_pred = (y_pred_b >= threshold).astype(np.int)\n",
    "y_pred = pd.DataFrame(y_pred)"
   ]
  },
  {
   "cell_type": "code",
   "execution_count": 81,
   "metadata": {},
   "outputs": [
    {
     "name": "stdout",
     "output_type": "stream",
     "text": [
      "Accuracy: 0.6553333333333333\n",
      "F1 score: 0.6518518518518518\n",
      "Precision: 0.6487935656836461\n",
      "Recall: 0.6549391069012178\n"
     ]
    }
   ],
   "source": [
    "# metrics\n",
    "print(\"Accuracy:\",metrics.accuracy_score(y_test, y_pred))\n",
    "print(\"F1 score:\",metrics.f1_score(y_test, y_pred))\n",
    "\n",
    "print(\"Precision:\",metrics.precision_score(y_test, y_pred))\n",
    "print(\"Recall:\",metrics.recall_score(y_test, y_pred))"
   ]
  },
  {
   "cell_type": "markdown",
   "metadata": {},
   "source": [
    "ii) Modify the probability threshold such that maximizes the F1-Score"
   ]
  },
  {
   "cell_type": "markdown",
   "metadata": {},
   "source": [
    "### 300 Bagged samples"
   ]
  },
  {
   "cell_type": "code",
   "execution_count": 82,
   "metadata": {},
   "outputs": [
    {
     "name": "stdout",
     "output_type": "stream",
     "text": [
      "threshold: 30 %\n",
      "f1_score: 0.7029858564693557\n"
     ]
    },
    {
     "data": {
      "image/png": "[encoded data removed]",
      "text/plain": [
       "<Figure size 432x288 with 1 Axes>"
      ]
     },
     "metadata": {},
     "output_type": "display_data"
    }
   ],
   "source": [
    "#threshold selection process\n",
    "threshold = 0\n",
    "f1_score = []\n",
    "\n",
    "for threshold in range(1,101,1):\n",
    "    y_pred = (y_pred_a >= threshold/100).astype(np.int)\n",
    "    #y_pred = pd.DataFrame(y_pred)\n",
    "    f1_score.append(metrics.f1_score(y_test, y_pred))\n",
    "\n",
    "# plot threshold (x-axis) versus f1_score (y-axis)\n",
    "plt.style.use('fivethirtyeight')\n",
    "plt.plot(range(1,101), f1_score)\n",
    "plt.xlabel('threshold')\n",
    "plt.ylabel('f1_score')\n",
    "\n",
    "# max f1_score and threshold\n",
    "print(\"threshold:\",f1_score.index(max(f1_score)),\"%\")\n",
    "print(\"f1_score:\", max(f1_score))"
   ]
  },
  {
   "cell_type": "markdown",
   "metadata": {},
   "source": [
    "### 100 Decision Trees where max_depth=None"
   ]
  },
  {
   "cell_type": "code",
   "execution_count": 83,
   "metadata": {},
   "outputs": [
    {
     "name": "stdout",
     "output_type": "stream",
     "text": [
      "threshold: 36 %\n",
      "f1_score: 0.6825581395348838\n"
     ]
    },
    {
     "data": {
      "image/png": "[encoded data removed]",
      "text/plain": [
       "<Figure size 432x288 with 1 Axes>"
      ]
     },
     "metadata": {},
     "output_type": "display_data"
    }
   ],
   "source": [
    "#threshold selection process\n",
    "threshold = 0\n",
    "f1_score = []\n",
    "\n",
    "for threshold in range(1,101,1):\n",
    "    y_pred = (y_pred_b >= threshold/100).astype(np.int)\n",
    "    #y_pred = pd.DataFrame(y_pred)\n",
    "    f1_score.append(metrics.f1_score(y_test, y_pred))\n",
    "\n",
    "# plot threshold (x-axis) versus f1_score (y-axis)\n",
    "plt.style.use('fivethirtyeight')\n",
    "plt.plot(range(1,101), f1_score)\n",
    "plt.xlabel('threshold')\n",
    "plt.ylabel('f1_score')\n",
    "\n",
    "# max f1_score and threshold\n",
    "print(\"threshold:\",f1_score.index(max(f1_score)),\"%\")\n",
    "print(\"f1_score:\", max(f1_score))"
   ]
  },
  {
   "cell_type": "markdown",
   "metadata": {},
   "source": [
    "### 100 Decision Trees where max_depth=2"
   ]
  },
  {
   "cell_type": "code",
   "execution_count": 84,
   "metadata": {},
   "outputs": [
    {
     "name": "stdout",
     "output_type": "stream",
     "text": [
      "threshold: 0 %\n",
      "f1_score: 0.4882710686359687\n"
     ]
    },
    {
     "data": {
      "image/png": "[encoded data removed]",
      "text/plain": [
       "<Figure size 432x288 with 1 Axes>"
      ]
     },
     "metadata": {},
     "output_type": "display_data"
    }
   ],
   "source": [
    "#threshold selection process\n",
    "threshold = 0\n",
    "f1_score = []\n",
    "\n",
    "for threshold in range(1,101,1):\n",
    "    y_pred = (y_pred_c >= threshold/100).astype(np.int)\n",
    "    #y_pred = pd.DataFrame(y_pred)\n",
    "    f1_score.append(metrics.f1_score(y_test, y_pred))\n",
    "\n",
    "# plot threshold (x-axis) versus f1_score (y-axis)\n",
    "plt.style.use('fivethirtyeight')\n",
    "plt.plot(range(1,101), f1_score)\n",
    "plt.xlabel('threshold')\n",
    "plt.ylabel('f1_score')\n",
    "\n",
    "# max f1_score and threshold\n",
    "print(\"threshold:\",f1_score.index(max(f1_score)),\"%\")\n",
    "print(\"f1_score:\", max(f1_score))"
   ]
  },
  {
   "cell_type": "markdown",
   "metadata": {},
   "source": [
    "### 100 logistic regression"
   ]
  },
  {
   "cell_type": "code",
   "execution_count": 85,
   "metadata": {},
   "outputs": [
    {
     "name": "stdout",
     "output_type": "stream",
     "text": [
      "threshold: 0 %\n",
      "f1_score: 0.0\n"
     ]
    },
    {
     "data": {
      "image/png": "[encoded data removed]",
      "text/plain": [
       "<Figure size 432x288 with 1 Axes>"
      ]
     },
     "metadata": {},
     "output_type": "display_data"
    }
   ],
   "source": [
    "#threshold selection process\n",
    "threshold = 0\n",
    "f1_score = []\n",
    "\n",
    "for threshold in range(1,101,1):\n",
    "    y_pred = (y_pred_d >= threshold/100).astype(np.int)\n",
    "    #y_pred = pd.DataFrame(y_pred)\n",
    "    f1_score.append(metrics.f1_score(y_test, y_pred))\n",
    "\n",
    "# plot threshold (x-axis) versus f1_score (y-axis)\n",
    "plt.style.use('fivethirtyeight')\n",
    "plt.plot(range(1,101), f1_score)\n",
    "plt.xlabel('threshold')\n",
    "plt.ylabel('f1_score')\n",
    "\n",
    "# max f1_score and threshold\n",
    "print(\"threshold:\",f1_score.index(max(f1_score)),\"%\")\n",
    "print(\"f1_score:\", max(f1_score))"
   ]
  },
  {
   "cell_type": "code",
   "execution_count": null,
   "metadata": {},
   "outputs": [],
   "source": []
  }
 ],
 "metadata": {
  "kernelspec": {
   "display_name": "Python 3",
   "language": "python",
   "name": "python3"
  },
  "language_info": {
   "codemirror_mode": {
    "name": "ipython",
    "version": 3
   },
   "file_extension": ".py",
   "mimetype": "text/x-python",
   "name": "python",
   "nbconvert_exporter": "python",
   "pygments_lexer": "ipython3",
   "version": "3.8.8"
  }
 },
 "nbformat": 4,
 "nbformat_minor": 1
}
