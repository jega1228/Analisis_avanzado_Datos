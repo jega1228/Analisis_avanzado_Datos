{
 "cells": [
  {
   "cell_type": "code",
   "execution_count": 8,
   "metadata": {},
   "outputs": [
    {
     "name": "stdout",
     "output_type": "stream",
     "text": [
      "Requirement already satisfied: pandas in /Users/lorenamorales/opt/anaconda3/lib/python3.8/site-packages (1.0.5)\n",
      "Requirement already satisfied: numpy>=1.13.3 in /Users/lorenamorales/opt/anaconda3/lib/python3.8/site-packages (from pandas) (1.19.2)\n",
      "Requirement already satisfied: pytz>=2017.2 in /Users/lorenamorales/opt/anaconda3/lib/python3.8/site-packages (from pandas) (2020.1)\n",
      "Requirement already satisfied: python-dateutil>=2.6.1 in /Users/lorenamorales/opt/anaconda3/lib/python3.8/site-packages (from pandas) (2.8.1)\n",
      "Requirement already satisfied: six>=1.5 in /Users/lorenamorales/opt/anaconda3/lib/python3.8/site-packages (from python-dateutil>=2.6.1->pandas) (1.15.0)\n",
      "Requirement already satisfied: numpy in /Users/lorenamorales/opt/anaconda3/lib/python3.8/site-packages (1.19.2)\n",
      "Requirement already satisfied: matplotlib in /Users/lorenamorales/opt/anaconda3/lib/python3.8/site-packages (3.2.2)\n",
      "Requirement already satisfied: python-dateutil>=2.1 in /Users/lorenamorales/opt/anaconda3/lib/python3.8/site-packages (from matplotlib) (2.8.1)\n",
      "Requirement already satisfied: pyparsing!=2.0.4,!=2.1.2,!=2.1.6,>=2.0.1 in /Users/lorenamorales/opt/anaconda3/lib/python3.8/site-packages (from matplotlib) (2.4.7)\n",
      "Requirement already satisfied: numpy>=1.11 in /Users/lorenamorales/opt/anaconda3/lib/python3.8/site-packages (from matplotlib) (1.19.2)\n",
      "Requirement already satisfied: kiwisolver>=1.0.1 in /Users/lorenamorales/opt/anaconda3/lib/python3.8/site-packages (from matplotlib) (1.2.0)\n",
      "Requirement already satisfied: cycler>=0.10 in /Users/lorenamorales/opt/anaconda3/lib/python3.8/site-packages (from matplotlib) (0.10.0)\n",
      "Requirement already satisfied: six>=1.5 in /Users/lorenamorales/opt/anaconda3/lib/python3.8/site-packages (from python-dateutil>=2.1->matplotlib) (1.15.0)\n",
      "Requirement already satisfied: seaborn in /Users/lorenamorales/opt/anaconda3/lib/python3.8/site-packages (0.10.1)\n",
      "Requirement already satisfied: scipy>=1.0.1 in /Users/lorenamorales/opt/anaconda3/lib/python3.8/site-packages (from seaborn) (1.5.0)\n",
      "Requirement already satisfied: numpy>=1.13.3 in /Users/lorenamorales/opt/anaconda3/lib/python3.8/site-packages (from seaborn) (1.19.2)\n",
      "Requirement already satisfied: matplotlib>=2.1.2 in /Users/lorenamorales/opt/anaconda3/lib/python3.8/site-packages (from seaborn) (3.2.2)\n",
      "Requirement already satisfied: pandas>=0.22.0 in /Users/lorenamorales/opt/anaconda3/lib/python3.8/site-packages (from seaborn) (1.0.5)\n",
      "Requirement already satisfied: python-dateutil>=2.1 in /Users/lorenamorales/opt/anaconda3/lib/python3.8/site-packages (from matplotlib>=2.1.2->seaborn) (2.8.1)\n",
      "Requirement already satisfied: pyparsing!=2.0.4,!=2.1.2,!=2.1.6,>=2.0.1 in /Users/lorenamorales/opt/anaconda3/lib/python3.8/site-packages (from matplotlib>=2.1.2->seaborn) (2.4.7)\n",
      "Requirement already satisfied: kiwisolver>=1.0.1 in /Users/lorenamorales/opt/anaconda3/lib/python3.8/site-packages (from matplotlib>=2.1.2->seaborn) (1.2.0)\n",
      "Requirement already satisfied: cycler>=0.10 in /Users/lorenamorales/opt/anaconda3/lib/python3.8/site-packages (from matplotlib>=2.1.2->seaborn) (0.10.0)\n",
      "Requirement already satisfied: pytz>=2017.2 in /Users/lorenamorales/opt/anaconda3/lib/python3.8/site-packages (from pandas>=0.22.0->seaborn) (2020.1)\n",
      "Requirement already satisfied: six>=1.5 in /Users/lorenamorales/opt/anaconda3/lib/python3.8/site-packages (from python-dateutil>=2.1->matplotlib>=2.1.2->seaborn) (1.15.0)\n",
      "Requirement already satisfied: plotly in /Users/lorenamorales/opt/anaconda3/lib/python3.8/site-packages (5.1.0)\n",
      "Requirement already satisfied: tenacity>=6.2.0 in /Users/lorenamorales/opt/anaconda3/lib/python3.8/site-packages (from plotly) (8.0.0)\n",
      "Requirement already satisfied: six in /Users/lorenamorales/opt/anaconda3/lib/python3.8/site-packages (from plotly) (1.15.0)\n",
      "Requirement already satisfied: statsmodels in /Users/lorenamorales/opt/anaconda3/lib/python3.8/site-packages (0.11.1)\n",
      "Requirement already satisfied: patsy>=0.5 in /Users/lorenamorales/opt/anaconda3/lib/python3.8/site-packages (from statsmodels) (0.5.1)\n",
      "Requirement already satisfied: pandas>=0.21 in /Users/lorenamorales/opt/anaconda3/lib/python3.8/site-packages (from statsmodels) (1.0.5)\n",
      "Requirement already satisfied: numpy>=1.14 in /Users/lorenamorales/opt/anaconda3/lib/python3.8/site-packages (from statsmodels) (1.19.2)\n",
      "Requirement already satisfied: scipy>=1.0 in /Users/lorenamorales/opt/anaconda3/lib/python3.8/site-packages (from statsmodels) (1.5.0)\n",
      "Requirement already satisfied: six in /Users/lorenamorales/opt/anaconda3/lib/python3.8/site-packages (from patsy>=0.5->statsmodels) (1.15.0)\n",
      "Requirement already satisfied: python-dateutil>=2.6.1 in /Users/lorenamorales/opt/anaconda3/lib/python3.8/site-packages (from pandas>=0.21->statsmodels) (2.8.1)\n",
      "Requirement already satisfied: pytz>=2017.2 in /Users/lorenamorales/opt/anaconda3/lib/python3.8/site-packages (from pandas>=0.21->statsmodels) (2020.1)\n",
      "Requirement already satisfied: pystan in /Users/lorenamorales/opt/anaconda3/lib/python3.8/site-packages (3.2.0)\n",
      "Requirement already satisfied: pysimdjson<4.0,>=3.2 in /Users/lorenamorales/opt/anaconda3/lib/python3.8/site-packages (from pystan) (3.2.0)\n",
      "Requirement already satisfied: aiohttp<4.0,>=3.6 in /Users/lorenamorales/opt/anaconda3/lib/python3.8/site-packages (from pystan) (3.7.4.post0)\n",
      "Requirement already satisfied: httpstan<4.6,>=4.5 in /Users/lorenamorales/opt/anaconda3/lib/python3.8/site-packages (from pystan) (4.5.0)\n",
      "Requirement already satisfied: numpy<2.0,>=1.7 in /Users/lorenamorales/opt/anaconda3/lib/python3.8/site-packages (from pystan) (1.19.2)\n",
      "Requirement already satisfied: clikit<0.7,>=0.6 in /Users/lorenamorales/opt/anaconda3/lib/python3.8/site-packages (from pystan) (0.6.2)\n",
      "Requirement already satisfied: async-timeout<4.0,>=3.0 in /Users/lorenamorales/opt/anaconda3/lib/python3.8/site-packages (from aiohttp<4.0,>=3.6->pystan) (3.0.1)\n",
      "Requirement already satisfied: yarl<2.0,>=1.0 in /Users/lorenamorales/opt/anaconda3/lib/python3.8/site-packages (from aiohttp<4.0,>=3.6->pystan) (1.6.3)\n",
      "Requirement already satisfied: multidict<7.0,>=4.5 in /Users/lorenamorales/opt/anaconda3/lib/python3.8/site-packages (from aiohttp<4.0,>=3.6->pystan) (5.1.0)\n",
      "Requirement already satisfied: attrs>=17.3.0 in /Users/lorenamorales/opt/anaconda3/lib/python3.8/site-packages (from aiohttp<4.0,>=3.6->pystan) (19.3.0)\n",
      "Requirement already satisfied: chardet<5.0,>=2.0 in /Users/lorenamorales/opt/anaconda3/lib/python3.8/site-packages (from aiohttp<4.0,>=3.6->pystan) (3.0.4)\n",
      "Requirement already satisfied: typing-extensions>=3.6.5 in /Users/lorenamorales/opt/anaconda3/lib/python3.8/site-packages (from aiohttp<4.0,>=3.6->pystan) (3.7.4.2)\n",
      "Requirement already satisfied: setuptools>=41.0 in /Users/lorenamorales/opt/anaconda3/lib/python3.8/site-packages (from httpstan<4.6,>=4.5->pystan) (49.2.0.post20200714)\n",
      "Requirement already satisfied: appdirs<2.0,>=1.4 in /Users/lorenamorales/opt/anaconda3/lib/python3.8/site-packages (from httpstan<4.6,>=4.5->pystan) (1.4.4)\n",
      "Requirement already satisfied: webargs<8.0,>=7.0 in /Users/lorenamorales/opt/anaconda3/lib/python3.8/site-packages (from httpstan<4.6,>=4.5->pystan) (7.0.1)\n",
      "Requirement already satisfied: lz4<4.0,>=3.1 in /Users/lorenamorales/opt/anaconda3/lib/python3.8/site-packages (from httpstan<4.6,>=4.5->pystan) (3.1.3)\n",
      "Requirement already satisfied: marshmallow<4.0,>=3.10 in /Users/lorenamorales/opt/anaconda3/lib/python3.8/site-packages (from httpstan<4.6,>=4.5->pystan) (3.12.2)\n",
      "Requirement already satisfied: pastel<0.3.0,>=0.2.0 in /Users/lorenamorales/opt/anaconda3/lib/python3.8/site-packages (from clikit<0.7,>=0.6->pystan) (0.2.1)\n",
      "Requirement already satisfied: crashtest<0.4.0,>=0.3.0; python_version >= \"3.6\" and python_version < \"4.0\" in /Users/lorenamorales/opt/anaconda3/lib/python3.8/site-packages (from clikit<0.7,>=0.6->pystan) (0.3.1)\n",
      "Requirement already satisfied: pylev<2.0,>=1.3 in /Users/lorenamorales/opt/anaconda3/lib/python3.8/site-packages (from clikit<0.7,>=0.6->pystan) (1.4.0)\n",
      "Requirement already satisfied: idna>=2.0 in /Users/lorenamorales/opt/anaconda3/lib/python3.8/site-packages (from yarl<2.0,>=1.0->aiohttp<4.0,>=3.6->pystan) (2.10)\n",
      "Collecting fbprophet\n",
      "  Using cached fbprophet-0.7.1.tar.gz (64 kB)\n"
     ]
    },
    {
     "name": "stdout",
     "output_type": "stream",
     "text": [
      "Requirement already satisfied: Cython>=0.22 in /Users/lorenamorales/opt/anaconda3/lib/python3.8/site-packages (from fbprophet) (0.29.21)\n",
      "Requirement already satisfied: cmdstanpy==0.9.5 in /Users/lorenamorales/opt/anaconda3/lib/python3.8/site-packages (from fbprophet) (0.9.5)\n",
      "Requirement already satisfied: pystan>=2.14 in /Users/lorenamorales/opt/anaconda3/lib/python3.8/site-packages (from fbprophet) (3.2.0)\n",
      "Requirement already satisfied: numpy>=1.15.4 in /Users/lorenamorales/opt/anaconda3/lib/python3.8/site-packages (from fbprophet) (1.19.2)\n",
      "Requirement already satisfied: pandas>=1.0.4 in /Users/lorenamorales/opt/anaconda3/lib/python3.8/site-packages (from fbprophet) (1.0.5)\n",
      "Requirement already satisfied: matplotlib>=2.0.0 in /Users/lorenamorales/opt/anaconda3/lib/python3.8/site-packages (from fbprophet) (3.2.2)\n",
      "Requirement already satisfied: LunarCalendar>=0.0.9 in /Users/lorenamorales/opt/anaconda3/lib/python3.8/site-packages (from fbprophet) (0.0.9)\n",
      "Requirement already satisfied: convertdate>=2.1.2 in /Users/lorenamorales/opt/anaconda3/lib/python3.8/site-packages (from fbprophet) (2.3.2)\n",
      "Requirement already satisfied: holidays>=0.10.2 in /Users/lorenamorales/opt/anaconda3/lib/python3.8/site-packages (from fbprophet) (0.11.1)\n",
      "Requirement already satisfied: setuptools-git>=1.2 in /Users/lorenamorales/opt/anaconda3/lib/python3.8/site-packages (from fbprophet) (1.2)\n",
      "Requirement already satisfied: python-dateutil>=2.8.0 in /Users/lorenamorales/opt/anaconda3/lib/python3.8/site-packages (from fbprophet) (2.8.1)\n",
      "Requirement already satisfied: tqdm>=4.36.1 in /Users/lorenamorales/opt/anaconda3/lib/python3.8/site-packages (from fbprophet) (4.47.0)\n",
      "Requirement already satisfied: aiohttp<4.0,>=3.6 in /Users/lorenamorales/opt/anaconda3/lib/python3.8/site-packages (from pystan>=2.14->fbprophet) (3.7.4.post0)\n",
      "Requirement already satisfied: pysimdjson<4.0,>=3.2 in /Users/lorenamorales/opt/anaconda3/lib/python3.8/site-packages (from pystan>=2.14->fbprophet) (3.2.0)\n",
      "Requirement already satisfied: httpstan<4.6,>=4.5 in /Users/lorenamorales/opt/anaconda3/lib/python3.8/site-packages (from pystan>=2.14->fbprophet) (4.5.0)\n",
      "Requirement already satisfied: clikit<0.7,>=0.6 in /Users/lorenamorales/opt/anaconda3/lib/python3.8/site-packages (from pystan>=2.14->fbprophet) (0.6.2)\n",
      "Requirement already satisfied: pytz>=2017.2 in /Users/lorenamorales/opt/anaconda3/lib/python3.8/site-packages (from pandas>=1.0.4->fbprophet) (2020.1)\n",
      "Requirement already satisfied: pyparsing!=2.0.4,!=2.1.2,!=2.1.6,>=2.0.1 in /Users/lorenamorales/opt/anaconda3/lib/python3.8/site-packages (from matplotlib>=2.0.0->fbprophet) (2.4.7)\n",
      "Requirement already satisfied: cycler>=0.10 in /Users/lorenamorales/opt/anaconda3/lib/python3.8/site-packages (from matplotlib>=2.0.0->fbprophet) (0.10.0)\n",
      "Requirement already satisfied: kiwisolver>=1.0.1 in /Users/lorenamorales/opt/anaconda3/lib/python3.8/site-packages (from matplotlib>=2.0.0->fbprophet) (1.2.0)\n",
      "Requirement already satisfied: ephem>=3.7.5.3 in /Users/lorenamorales/opt/anaconda3/lib/python3.8/site-packages (from LunarCalendar>=0.0.9->fbprophet) (4.0.0.2)\n",
      "Requirement already satisfied: pymeeus<=1,>=0.3.13 in /Users/lorenamorales/opt/anaconda3/lib/python3.8/site-packages (from convertdate>=2.1.2->fbprophet) (0.5.11)\n",
      "Requirement already satisfied: korean-lunar-calendar in /Users/lorenamorales/opt/anaconda3/lib/python3.8/site-packages (from holidays>=0.10.2->fbprophet) (0.2.1)\n",
      "Requirement already satisfied: six in /Users/lorenamorales/opt/anaconda3/lib/python3.8/site-packages (from holidays>=0.10.2->fbprophet) (1.15.0)\n",
      "Requirement already satisfied: hijri-converter in /Users/lorenamorales/opt/anaconda3/lib/python3.8/site-packages (from holidays>=0.10.2->fbprophet) (2.1.3)\n",
      "Requirement already satisfied: typing-extensions>=3.6.5 in /Users/lorenamorales/opt/anaconda3/lib/python3.8/site-packages (from aiohttp<4.0,>=3.6->pystan>=2.14->fbprophet) (3.7.4.2)\n",
      "Requirement already satisfied: async-timeout<4.0,>=3.0 in /Users/lorenamorales/opt/anaconda3/lib/python3.8/site-packages (from aiohttp<4.0,>=3.6->pystan>=2.14->fbprophet) (3.0.1)\n",
      "Requirement already satisfied: chardet<5.0,>=2.0 in /Users/lorenamorales/opt/anaconda3/lib/python3.8/site-packages (from aiohttp<4.0,>=3.6->pystan>=2.14->fbprophet) (3.0.4)\n",
      "Requirement already satisfied: attrs>=17.3.0 in /Users/lorenamorales/opt/anaconda3/lib/python3.8/site-packages (from aiohttp<4.0,>=3.6->pystan>=2.14->fbprophet) (19.3.0)\n",
      "Requirement already satisfied: multidict<7.0,>=4.5 in /Users/lorenamorales/opt/anaconda3/lib/python3.8/site-packages (from aiohttp<4.0,>=3.6->pystan>=2.14->fbprophet) (5.1.0)\n",
      "Requirement already satisfied: yarl<2.0,>=1.0 in /Users/lorenamorales/opt/anaconda3/lib/python3.8/site-packages (from aiohttp<4.0,>=3.6->pystan>=2.14->fbprophet) (1.6.3)\n",
      "Requirement already satisfied: lz4<4.0,>=3.1 in /Users/lorenamorales/opt/anaconda3/lib/python3.8/site-packages (from httpstan<4.6,>=4.5->pystan>=2.14->fbprophet) (3.1.3)\n",
      "Requirement already satisfied: appdirs<2.0,>=1.4 in /Users/lorenamorales/opt/anaconda3/lib/python3.8/site-packages (from httpstan<4.6,>=4.5->pystan>=2.14->fbprophet) (1.4.4)\n",
      "Requirement already satisfied: webargs<8.0,>=7.0 in /Users/lorenamorales/opt/anaconda3/lib/python3.8/site-packages (from httpstan<4.6,>=4.5->pystan>=2.14->fbprophet) (7.0.1)\n",
      "Requirement already satisfied: marshmallow<4.0,>=3.10 in /Users/lorenamorales/opt/anaconda3/lib/python3.8/site-packages (from httpstan<4.6,>=4.5->pystan>=2.14->fbprophet) (3.12.2)\n",
      "Requirement already satisfied: setuptools>=41.0 in /Users/lorenamorales/opt/anaconda3/lib/python3.8/site-packages (from httpstan<4.6,>=4.5->pystan>=2.14->fbprophet) (49.2.0.post20200714)\n",
      "Requirement already satisfied: pastel<0.3.0,>=0.2.0 in /Users/lorenamorales/opt/anaconda3/lib/python3.8/site-packages (from clikit<0.7,>=0.6->pystan>=2.14->fbprophet) (0.2.1)\n",
      "Requirement already satisfied: pylev<2.0,>=1.3 in /Users/lorenamorales/opt/anaconda3/lib/python3.8/site-packages (from clikit<0.7,>=0.6->pystan>=2.14->fbprophet) (1.4.0)\n",
      "Requirement already satisfied: crashtest<0.4.0,>=0.3.0; python_version >= \"3.6\" and python_version < \"4.0\" in /Users/lorenamorales/opt/anaconda3/lib/python3.8/site-packages (from clikit<0.7,>=0.6->pystan>=2.14->fbprophet) (0.3.1)\n",
      "Requirement already satisfied: idna>=2.0 in /Users/lorenamorales/opt/anaconda3/lib/python3.8/site-packages (from yarl<2.0,>=1.0->aiohttp<4.0,>=3.6->pystan>=2.14->fbprophet) (2.10)\n",
      "Building wheels for collected packages: fbprophet\n",
      "  Building wheel for fbprophet (setup.py) ... \u001b[?25lerror\n",
      "\u001b[31m  ERROR: Command errored out with exit status 1:\n",
      "   command: /Users/lorenamorales/opt/anaconda3/bin/python -u -c 'import sys, setuptools, tokenize; sys.argv[0] = '\"'\"'/private/var/folders/dd/q3znt3vx78q5ny7zvz0pkv380000gn/T/pip-install-6ejx5bxw/fbprophet/setup.py'\"'\"'; __file__='\"'\"'/private/var/folders/dd/q3znt3vx78q5ny7zvz0pkv380000gn/T/pip-install-6ejx5bxw/fbprophet/setup.py'\"'\"';f=getattr(tokenize, '\"'\"'open'\"'\"', open)(__file__);code=f.read().replace('\"'\"'\\r\\n'\"'\"', '\"'\"'\\n'\"'\"');f.close();exec(compile(code, __file__, '\"'\"'exec'\"'\"'))' bdist_wheel -d /private/var/folders/dd/q3znt3vx78q5ny7zvz0pkv380000gn/T/pip-wheel-8ke5qr41\n",
      "       cwd: /private/var/folders/dd/q3znt3vx78q5ny7zvz0pkv380000gn/T/pip-install-6ejx5bxw/fbprophet/\n",
      "  Complete output (38 lines):\n",
      "  running bdist_wheel\n",
      "  running build\n",
      "  running build_py\n",
      "  creating build\n",
      "  creating build/lib\n",
      "  creating build/lib/fbprophet\n",
      "  creating build/lib/fbprophet/stan_model\n",
      "  Traceback (most recent call last):\n",
      "    File \"<string>\", line 1, in <module>\n",
      "    File \"/private/var/folders/dd/q3znt3vx78q5ny7zvz0pkv380000gn/T/pip-install-6ejx5bxw/fbprophet/setup.py\", line 122, in <module>\n",
      "      setup(\n",
      "    File \"/Users/lorenamorales/opt/anaconda3/lib/python3.8/site-packages/setuptools/__init__.py\", line 165, in setup\n",
      "      return distutils.core.setup(**attrs)\n",
      "    File \"/Users/lorenamorales/opt/anaconda3/lib/python3.8/distutils/core.py\", line 148, in setup\n",
      "      dist.run_commands()\n",
      "    File \"/Users/lorenamorales/opt/anaconda3/lib/python3.8/distutils/dist.py\", line 966, in run_commands\n",
      "      self.run_command(cmd)\n",
      "    File \"/Users/lorenamorales/opt/anaconda3/lib/python3.8/distutils/dist.py\", line 985, in run_command\n",
      "      cmd_obj.run()\n",
      "    File \"/Users/lorenamorales/opt/anaconda3/lib/python3.8/site-packages/wheel/bdist_wheel.py\", line 223, in run\n",
      "      self.run_command('build')\n",
      "    File \"/Users/lorenamorales/opt/anaconda3/lib/python3.8/distutils/cmd.py\", line 313, in run_command\n",
      "      self.distribution.run_command(command)\n",
      "    File \"/Users/lorenamorales/opt/anaconda3/lib/python3.8/distutils/dist.py\", line 985, in run_command\n",
      "      cmd_obj.run()\n",
      "    File \"/Users/lorenamorales/opt/anaconda3/lib/python3.8/distutils/command/build.py\", line 135, in run\n",
      "      self.run_command(cmd_name)\n",
      "    File \"/Users/lorenamorales/opt/anaconda3/lib/python3.8/distutils/cmd.py\", line 313, in run_command\n",
      "      self.distribution.run_command(command)\n",
      "    File \"/Users/lorenamorales/opt/anaconda3/lib/python3.8/distutils/dist.py\", line 985, in run_command\n",
      "      cmd_obj.run()\n",
      "    File \"/private/var/folders/dd/q3znt3vx78q5ny7zvz0pkv380000gn/T/pip-install-6ejx5bxw/fbprophet/setup.py\", line 48, in run\n",
      "      build_models(target_dir)\n",
      "    File \"/private/var/folders/dd/q3znt3vx78q5ny7zvz0pkv380000gn/T/pip-install-6ejx5bxw/fbprophet/setup.py\", line 38, in build_models\n",
      "      StanBackendEnum.get_backend_class(backend).build_model(target_dir, MODEL_DIR)\n",
      "    File \"/private/var/folders/dd/q3znt3vx78q5ny7zvz0pkv380000gn/T/pip-install-6ejx5bxw/fbprophet/fbprophet/models.py\", line 209, in build_model\n",
      "      import pystan\n",
      "  ModuleNotFoundError: No module named 'pystan'\n",
      "  ----------------------------------------\u001b[0m\n",
      "\u001b[31m  ERROR: Failed building wheel for fbprophet\u001b[0m\n",
      "\u001b[?25h  Running setup.py clean for fbprophet\n"
     ]
    },
    {
     "name": "stdout",
     "output_type": "stream",
     "text": [
      "Failed to build fbprophet\n",
      "Installing collected packages: fbprophet\n",
      "    Running setup.py install for fbprophet ... \u001b[?25lerror\n",
      "\u001b[31m    ERROR: Command errored out with exit status 1:\n",
      "     command: /Users/lorenamorales/opt/anaconda3/bin/python -u -c 'import sys, setuptools, tokenize; sys.argv[0] = '\"'\"'/private/var/folders/dd/q3znt3vx78q5ny7zvz0pkv380000gn/T/pip-install-6ejx5bxw/fbprophet/setup.py'\"'\"'; __file__='\"'\"'/private/var/folders/dd/q3znt3vx78q5ny7zvz0pkv380000gn/T/pip-install-6ejx5bxw/fbprophet/setup.py'\"'\"';f=getattr(tokenize, '\"'\"'open'\"'\"', open)(__file__);code=f.read().replace('\"'\"'\\r\\n'\"'\"', '\"'\"'\\n'\"'\"');f.close();exec(compile(code, __file__, '\"'\"'exec'\"'\"'))' install --record /private/var/folders/dd/q3znt3vx78q5ny7zvz0pkv380000gn/T/pip-record-2s_9f96f/install-record.txt --single-version-externally-managed --compile --install-headers /Users/lorenamorales/opt/anaconda3/include/python3.8/fbprophet\n",
      "         cwd: /private/var/folders/dd/q3znt3vx78q5ny7zvz0pkv380000gn/T/pip-install-6ejx5bxw/fbprophet/\n",
      "    Complete output (40 lines):\n",
      "    running install\n",
      "    running build\n",
      "    running build_py\n",
      "    creating build\n",
      "    creating build/lib\n",
      "    creating build/lib/fbprophet\n",
      "    creating build/lib/fbprophet/stan_model\n",
      "    Traceback (most recent call last):\n",
      "      File \"<string>\", line 1, in <module>\n",
      "      File \"/private/var/folders/dd/q3znt3vx78q5ny7zvz0pkv380000gn/T/pip-install-6ejx5bxw/fbprophet/setup.py\", line 122, in <module>\n",
      "        setup(\n",
      "      File \"/Users/lorenamorales/opt/anaconda3/lib/python3.8/site-packages/setuptools/__init__.py\", line 165, in setup\n",
      "        return distutils.core.setup(**attrs)\n",
      "      File \"/Users/lorenamorales/opt/anaconda3/lib/python3.8/distutils/core.py\", line 148, in setup\n",
      "        dist.run_commands()\n",
      "      File \"/Users/lorenamorales/opt/anaconda3/lib/python3.8/distutils/dist.py\", line 966, in run_commands\n",
      "        self.run_command(cmd)\n",
      "      File \"/Users/lorenamorales/opt/anaconda3/lib/python3.8/distutils/dist.py\", line 985, in run_command\n",
      "        cmd_obj.run()\n",
      "      File \"/Users/lorenamorales/opt/anaconda3/lib/python3.8/site-packages/setuptools/command/install.py\", line 61, in run\n",
      "        return orig.install.run(self)\n",
      "      File \"/Users/lorenamorales/opt/anaconda3/lib/python3.8/distutils/command/install.py\", line 545, in run\n",
      "        self.run_command('build')\n",
      "      File \"/Users/lorenamorales/opt/anaconda3/lib/python3.8/distutils/cmd.py\", line 313, in run_command\n",
      "        self.distribution.run_command(command)\n",
      "      File \"/Users/lorenamorales/opt/anaconda3/lib/python3.8/distutils/dist.py\", line 985, in run_command\n",
      "        cmd_obj.run()\n",
      "      File \"/Users/lorenamorales/opt/anaconda3/lib/python3.8/distutils/command/build.py\", line 135, in run\n",
      "        self.run_command(cmd_name)\n",
      "      File \"/Users/lorenamorales/opt/anaconda3/lib/python3.8/distutils/cmd.py\", line 313, in run_command\n",
      "        self.distribution.run_command(command)\n",
      "      File \"/Users/lorenamorales/opt/anaconda3/lib/python3.8/distutils/dist.py\", line 985, in run_command\n",
      "        cmd_obj.run()\n",
      "      File \"/private/var/folders/dd/q3znt3vx78q5ny7zvz0pkv380000gn/T/pip-install-6ejx5bxw/fbprophet/setup.py\", line 48, in run\n",
      "        build_models(target_dir)\n",
      "      File \"/private/var/folders/dd/q3znt3vx78q5ny7zvz0pkv380000gn/T/pip-install-6ejx5bxw/fbprophet/setup.py\", line 38, in build_models\n",
      "        StanBackendEnum.get_backend_class(backend).build_model(target_dir, MODEL_DIR)\n",
      "      File \"/private/var/folders/dd/q3znt3vx78q5ny7zvz0pkv380000gn/T/pip-install-6ejx5bxw/fbprophet/fbprophet/models.py\", line 209, in build_model\n",
      "        import pystan\n",
      "    ModuleNotFoundError: No module named 'pystan'\n",
      "    ----------------------------------------\u001b[0m\n",
      "\u001b[31mERROR: Command errored out with exit status 1: /Users/lorenamorales/opt/anaconda3/bin/python -u -c 'import sys, setuptools, tokenize; sys.argv[0] = '\"'\"'/private/var/folders/dd/q3znt3vx78q5ny7zvz0pkv380000gn/T/pip-install-6ejx5bxw/fbprophet/setup.py'\"'\"'; __file__='\"'\"'/private/var/folders/dd/q3znt3vx78q5ny7zvz0pkv380000gn/T/pip-install-6ejx5bxw/fbprophet/setup.py'\"'\"';f=getattr(tokenize, '\"'\"'open'\"'\"', open)(__file__);code=f.read().replace('\"'\"'\\r\\n'\"'\"', '\"'\"'\\n'\"'\"');f.close();exec(compile(code, __file__, '\"'\"'exec'\"'\"'))' install --record /private/var/folders/dd/q3znt3vx78q5ny7zvz0pkv380000gn/T/pip-record-2s_9f96f/install-record.txt --single-version-externally-managed --compile --install-headers /Users/lorenamorales/opt/anaconda3/include/python3.8/fbprophet Check the logs for full command output.\u001b[0m\n",
      "\u001b[?25h"
     ]
    }
   ],
   "source": [
    "!pip install pandas\n",
    "!pip install numpy\n",
    "!pip install matplotlib\n",
    "!pip install seaborn\n",
    "!pip install plotly\n",
    "!pip install statsmodels\n",
    "!pip install pystan\n",
    "!pip install fbprophet"
   ]
  },
  {
   "cell_type": "code",
   "execution_count": 12,
   "metadata": {},
   "outputs": [
    {
     "ename": "ModuleNotFoundError",
     "evalue": "No module named 'fbprophet'",
     "output_type": "error",
     "traceback": [
      "\u001b[0;31m---------------------------------------------------------------------------\u001b[0m",
      "\u001b[0;31mModuleNotFoundError\u001b[0m                       Traceback (most recent call last)",
      "\u001b[0;32m<ipython-input-12-67baf41b973c>\u001b[0m in \u001b[0;36m<module>\u001b[0;34m\u001b[0m\n\u001b[1;32m      3\u001b[0m \u001b[0;32mimport\u001b[0m \u001b[0mpandas\u001b[0m \u001b[0;32mas\u001b[0m \u001b[0mpd\u001b[0m\u001b[0;34m\u001b[0m\u001b[0;34m\u001b[0m\u001b[0m\n\u001b[1;32m      4\u001b[0m \u001b[0;34m\u001b[0m\u001b[0m\n\u001b[0;32m----> 5\u001b[0;31m \u001b[0;32mfrom\u001b[0m \u001b[0mfbprophet\u001b[0m \u001b[0;32mimport\u001b[0m \u001b[0mProphet\u001b[0m\u001b[0;34m\u001b[0m\u001b[0;34m\u001b[0m\u001b[0m\n\u001b[0m\u001b[1;32m      6\u001b[0m \u001b[0;32mfrom\u001b[0m \u001b[0mfbprophet\u001b[0m\u001b[0;34m.\u001b[0m\u001b[0mplot\u001b[0m \u001b[0;32mimport\u001b[0m \u001b[0madd_changepoints_to_plot\u001b[0m\u001b[0;34m\u001b[0m\u001b[0;34m\u001b[0m\u001b[0m\n",
      "\u001b[0;31mModuleNotFoundError\u001b[0m: No module named 'fbprophet'"
     ]
    }
   ],
   "source": [
    "# Importa Librerias\n",
    "\n",
    "import pandas as pd\n",
    "\n",
    "from fbprophet import Prophet\n",
    "from fbprophet.plot import add_changepoints_to_plot"
   ]
  },
  {
   "cell_type": "code",
   "execution_count": 16,
   "metadata": {},
   "outputs": [
    {
     "data": {
      "text/plain": [
       "ds    object\n",
       "y      int64\n",
       "dtype: object"
      ]
     },
     "execution_count": 16,
     "metadata": {},
     "output_type": "execute_result"
    }
   ],
   "source": [
    "# 1. Read in Data\n",
    "\n",
    "# Leer el archivo 'datos.csv'\n",
    "df = pd.read_csv(\"DataSet/example_retail_sales.csv\")\n",
    "\n",
    "# Información del dataframe\n",
    "df.head()\n",
    "df.describe ()\n",
    "df.dtypes\n"
   ]
  },
  {
   "cell_type": "code",
   "execution_count": 18,
   "metadata": {},
   "outputs": [
    {
     "data": {
      "text/plain": [
       "ds    datetime64[ns]\n",
       "y              int64\n",
       "dtype: object"
      ]
     },
     "execution_count": 18,
     "metadata": {},
     "output_type": "execute_result"
    }
   ],
   "source": [
    "# Ajuste de Dataframe para que ds tenga formato fecha\n",
    "\n",
    "df['ds'] = pd.DatetimeIndex(df['ds'])\n",
    "df.dtypes"
   ]
  },
  {
   "cell_type": "code",
   "execution_count": 15,
   "metadata": {},
   "outputs": [
    {
     "data": {
      "text/plain": [
       "<matplotlib.axes._subplots.AxesSubplot at 0x7ff74c473c70>"
      ]
     },
     "execution_count": 15,
     "metadata": {},
     "output_type": "execute_result"
    },
    {
     "data": {
      "image/png": "[encoded data removed]",
      "text/plain": [
       "<Figure size 432x288 with 1 Axes>"
      ]
     },
     "metadata": {
      "needs_background": "light"
     },
     "output_type": "display_data"
    }
   ],
   "source": [
    "df['y'].plot()"
   ]
  },
  {
   "cell_type": "markdown",
   "metadata": {},
   "source": [
    "# Train Model"
   ]
  },
  {
   "cell_type": "code",
   "execution_count": 42,
   "metadata": {},
   "outputs": [
    {
     "name": "stdout",
     "output_type": "stream",
     "text": [
      "ADF Statistic: -3.535322\n",
      "p-value: 0.007125\n",
      "Critical Values:\n",
      "\t1%: -3.456\n",
      "\t5%: -2.873\n",
      "\t10%: -2.573\n"
     ]
    }
   ],
   "source": [
    "m = Prophet()\n",
    "m.fit(df)"
   ]
  },
  {
   "cell_type": "markdown",
   "metadata": {},
   "source": [
    "En este caso, "
   ]
  },
  {
   "cell_type": "markdown",
   "metadata": {},
   "source": [
    "# Forcast 6 months future"
   ]
  }
 ],
 "metadata": {
  "kernelspec": {
   "display_name": "Python 3",
   "language": "python",
   "name": "python3"
  },
  "language_info": {
   "codemirror_mode": {
    "name": "ipython",
    "version": 3
   },
   "file_extension": ".py",
   "mimetype": "text/x-python",
   "name": "python",
   "nbconvert_exporter": "python",
   "pygments_lexer": "ipython3",
   "version": "3.8.3"
  }
 },
 "nbformat": 4,
 "nbformat_minor": 5
}
