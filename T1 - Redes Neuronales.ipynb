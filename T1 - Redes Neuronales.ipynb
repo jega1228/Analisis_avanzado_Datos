{
 "cells": [
  {
   "cell_type": "markdown",
   "metadata": {},
   "source": [
    "# T1 - Redes Neuronales"
   ]
  },
  {
   "cell_type": "markdown",
   "metadata": {},
   "source": [
    "Elaborado por GRUPO 1:\n",
    "\n",
    "- Juanita Piraban Barbosa - 201216313\n",
    "- Lorena Morales Rodríguez - 202027957\n",
    "- Alejandro Barinas Guio - 201628859\n",
    "- Jaime Humberto Trujillo Perea - 201920366\n",
    "- Alexander Zapata Galindo - 201425426"
   ]
  },
  {
   "cell_type": "markdown",
   "metadata": {},
   "source": [
    "#### Instrucciones\n",
    "\n",
    "1. Descargar la base de datos fashion_mnist de Keras\n",
    "\n",
    "2. Repilcar la red neuronal vista en clase con variación en los parámetros:\n",
    "\n",
    "   * activation= 'relu', 'sigmoid' \n",
    "   * Número de capas (comience por una capa oculta y máximo dos)\n",
    "   * Número de neuronas por capa\n",
    "   * optimizer='sgd', 'rmsprop'\n",
    "   \n",
    "\n",
    "3. Entregar archivo .ipynb"
   ]
  },
  {
   "cell_type": "code",
   "execution_count": 1,
   "metadata": {},
   "outputs": [],
   "source": [
    "# Librerías\n",
    "from keras.datasets import fashion_mnist\n",
    "from tensorflow.keras.utils import to_categorical\n",
    "\n",
    "from keras import models\n",
    "from keras import layers\n",
    "\n",
    "import tensorflow as tf\n",
    "import matplotlib.pyplot as plt\n",
    "from matplotlib.image import imread\n",
    "import matplotlib.pyplot as plt\n",
    "import numpy as np"
   ]
  },
  {
   "cell_type": "code",
   "execution_count": 2,
   "metadata": {},
   "outputs": [],
   "source": [
    "# DataSet\n",
    "(X_train_image, y_train_labels), (X_test_image, y_test_labels) = fashion_mnist.load_data()\n"
   ]
  },
  {
   "cell_type": "code",
   "execution_count": 3,
   "metadata": {},
   "outputs": [
    {
     "data": {
      "text/plain": [
       "(60000, 28, 28)"
      ]
     },
     "execution_count": 3,
     "metadata": {},
     "output_type": "execute_result"
    }
   ],
   "source": [
    "#shape\n",
    "X_train_image.shape"
   ]
  },
  {
   "cell_type": "code",
   "execution_count": 4,
   "metadata": {},
   "outputs": [
    {
     "data": {
      "text/plain": [
       "(10000, 28, 28)"
      ]
     },
     "execution_count": 4,
     "metadata": {},
     "output_type": "execute_result"
    }
   ],
   "source": [
    "#shape\n",
    "X_test_image.shape"
   ]
  },
  {
   "cell_type": "code",
   "execution_count": 5,
   "metadata": {},
   "outputs": [
    {
     "data": {
      "text/plain": [
       "array([9, 0, 0, ..., 3, 0, 5], dtype=uint8)"
      ]
     },
     "execution_count": 5,
     "metadata": {},
     "output_type": "execute_result"
    }
   ],
   "source": [
    "y_train_labels"
   ]
  },
  {
   "cell_type": "code",
   "execution_count": 6,
   "metadata": {},
   "outputs": [
    {
     "data": {
      "text/plain": [
       "array([9, 2, 1, ..., 8, 1, 5], dtype=uint8)"
      ]
     },
     "execution_count": 6,
     "metadata": {},
     "output_type": "execute_result"
    }
   ],
   "source": [
    "y_test_labels"
   ]
  },
  {
   "cell_type": "code",
   "execution_count": 7,
   "metadata": {},
   "outputs": [
    {
     "data": {
      "image/png": "[encoded data removed]",
      "text/plain": [
       "<Figure size 432x288 with 4 Axes>"
      ]
     },
     "metadata": {
      "needs_background": "light"
     },
     "output_type": "display_data"
    }
   ],
   "source": [
    "# Ejemplos\n",
    "plt.subplot(141)\n",
    "plt.imshow(X_train_image[8], cmap=plt.get_cmap('gray'))\n",
    "plt.subplot(142)\n",
    "plt.imshow(X_train_image[13], cmap=plt.get_cmap('gray'))\n",
    "plt.subplot(143)\n",
    "plt.imshow(X_train_image[22], cmap=plt.get_cmap('gray'))\n",
    "plt.subplot(144)\n",
    "plt.imshow(X_train_image[5], cmap=plt.get_cmap('gray'))\n",
    "# show plot\n",
    "plt.show()\n"
   ]
  },
  {
   "cell_type": "code",
   "execution_count": 8,
   "metadata": {},
   "outputs": [],
   "source": [
    "# Transformacion\n",
    "X_train_image = X_train_image.reshape((60000, 28 * 28))\n",
    "X_train_image = X_train_image.astype('float32') / 255\n",
    "X_test_image = X_test_image.reshape((10000, 28 * 28))\n",
    "X_test_image = X_test_image.astype('float32') / 255"
   ]
  },
  {
   "cell_type": "code",
   "execution_count": 9,
   "metadata": {},
   "outputs": [],
   "source": [
    "# Categorizar datos \n",
    "y_train_labels = to_categorical(y_train_labels)\n",
    "y_test_labels = to_categorical(y_test_labels)"
   ]
  },
  {
   "cell_type": "markdown",
   "metadata": {},
   "source": [
    "### MODELO 1"
   ]
  },
  {
   "cell_type": "code",
   "execution_count": 10,
   "metadata": {},
   "outputs": [],
   "source": [
    "model_1 = models.Sequential()\n",
    "model_1.add(layers.Dense(512, activation='relu', input_shape=(28 * 28,)))\n",
    "model_1.add(layers.Dense(10, activation='softmax'))\n",
    "model_1.compile(optimizer='rmsprop',loss='categorical_crossentropy',metrics=['accuracy'])"
   ]
  },
  {
   "cell_type": "code",
   "execution_count": 11,
   "metadata": {},
   "outputs": [
    {
     "name": "stdout",
     "output_type": "stream",
     "text": [
      "Epoch 1/15\n",
      "469/469 [==============================] - 4s 7ms/step - loss: 0.5570 - accuracy: 0.8020\n",
      "Epoch 2/15\n",
      "469/469 [==============================] - 4s 9ms/step - loss: 0.3806 - accuracy: 0.8590\n",
      "Epoch 3/15\n",
      "469/469 [==============================] - 4s 9ms/step - loss: 0.3366 - accuracy: 0.8770\n",
      "Epoch 4/15\n",
      "469/469 [==============================] - 4s 9ms/step - loss: 0.3108 - accuracy: 0.8853\n",
      "Epoch 5/15\n",
      "469/469 [==============================] - 4s 9ms/step - loss: 0.2918 - accuracy: 0.8925\n",
      "Epoch 6/15\n",
      "469/469 [==============================] - 4s 9ms/step - loss: 0.2767 - accuracy: 0.8984\n",
      "Epoch 7/15\n",
      "469/469 [==============================] - 4s 9ms/step - loss: 0.2641 - accuracy: 0.9014\n",
      "Epoch 8/15\n",
      "469/469 [==============================] - 4s 9ms/step - loss: 0.2531 - accuracy: 0.9060\n",
      "Epoch 9/15\n",
      "469/469 [==============================] - 4s 9ms/step - loss: 0.2418 - accuracy: 0.9100\n",
      "Epoch 10/15\n",
      "469/469 [==============================] - 5s 10ms/step - loss: 0.2335 - accuracy: 0.9140\n",
      "Epoch 11/15\n",
      "469/469 [==============================] - 4s 9ms/step - loss: 0.2249 - accuracy: 0.9165\n",
      "Epoch 12/15\n",
      "469/469 [==============================] - 4s 8ms/step - loss: 0.2173 - accuracy: 0.9195\n",
      "Epoch 13/15\n",
      "469/469 [==============================] - 4s 8ms/step - loss: 0.2106 - accuracy: 0.9216\n",
      "Epoch 14/15\n",
      "469/469 [==============================] - 5s 10ms/step - loss: 0.2040 - accuracy: 0.9236\n",
      "Epoch 15/15\n",
      "469/469 [==============================] - 4s 8ms/step - loss: 0.1988 - accuracy: 0.9264\n"
     ]
    },
    {
     "data": {
      "text/plain": [
       "<keras.callbacks.History at 0x247ccf79670>"
      ]
     },
     "execution_count": 11,
     "metadata": {},
     "output_type": "execute_result"
    }
   ],
   "source": [
    "model_1.fit(X_train_image, y_train_labels, epochs=15, batch_size=128)"
   ]
  },
  {
   "cell_type": "code",
   "execution_count": 12,
   "metadata": {},
   "outputs": [
    {
     "name": "stdout",
     "output_type": "stream",
     "text": [
      "313/313 [==============================] - 1s 2ms/step - loss: 0.3538 - accuracy: 0.8898\n"
     ]
    }
   ],
   "source": [
    "test_loss, test_acc = model_1.evaluate(X_test_image, y_test_labels)"
   ]
  },
  {
   "cell_type": "markdown",
   "metadata": {},
   "source": [
    "### MODELO 2"
   ]
  },
  {
   "cell_type": "markdown",
   "metadata": {},
   "source": [
    "Variando activación a Sigmoide en ambas capas y Optimizador rmsprop"
   ]
  },
  {
   "cell_type": "code",
   "execution_count": 13,
   "metadata": {},
   "outputs": [],
   "source": [
    "model_2 = models.Sequential()\n",
    "model_2.add(layers.Dense(512, activation='sigmoid', input_shape=(28 * 28,)))\n",
    "model_2.add(layers.Dense(10, activation='sigmoid'))\n",
    "model_2.compile(optimizer='rmsprop',loss='categorical_crossentropy',metrics=['accuracy'])"
   ]
  },
  {
   "cell_type": "code",
   "execution_count": 14,
   "metadata": {},
   "outputs": [
    {
     "name": "stdout",
     "output_type": "stream",
     "text": [
      "Epoch 1/15\n",
      "469/469 [==============================] - 4s 8ms/step - loss: 0.5910 - accuracy: 0.7922\n",
      "Epoch 2/15\n",
      "469/469 [==============================] - 4s 8ms/step - loss: 0.4256 - accuracy: 0.8462\n",
      "Epoch 3/15\n",
      "469/469 [==============================] - 4s 10ms/step - loss: 0.3850 - accuracy: 0.8600\n",
      "Epoch 4/15\n",
      "469/469 [==============================] - 4s 8ms/step - loss: 0.3586 - accuracy: 0.8688\n",
      "Epoch 5/15\n",
      "469/469 [==============================] - 4s 9ms/step - loss: 0.3394 - accuracy: 0.8752\n",
      "Epoch 6/15\n",
      "469/469 [==============================] - 4s 9ms/step - loss: 0.3212 - accuracy: 0.8820\n",
      "Epoch 7/15\n",
      "469/469 [==============================] - 5s 10ms/step - loss: 0.3075 - accuracy: 0.8861\n",
      "Epoch 8/15\n",
      "469/469 [==============================] - 4s 9ms/step - loss: 0.2947 - accuracy: 0.8911\n",
      "Epoch 9/15\n",
      "469/469 [==============================] - 4s 8ms/step - loss: 0.2844 - accuracy: 0.8954\n",
      "Epoch 10/15\n",
      "469/469 [==============================] - 4s 9ms/step - loss: 0.2745 - accuracy: 0.8971\n",
      "Epoch 11/15\n",
      "469/469 [==============================] - 4s 9ms/step - loss: 0.2662 - accuracy: 0.9015\n",
      "Epoch 12/15\n",
      "469/469 [==============================] - 4s 8ms/step - loss: 0.2573 - accuracy: 0.9051\n",
      "Epoch 13/15\n",
      "469/469 [==============================] - 4s 8ms/step - loss: 0.2493 - accuracy: 0.9064\n",
      "Epoch 14/15\n",
      "469/469 [==============================] - 4s 9ms/step - loss: 0.2422 - accuracy: 0.9101\n",
      "Epoch 15/15\n",
      "469/469 [==============================] - 4s 9ms/step - loss: 0.2346 - accuracy: 0.9135\n"
     ]
    },
    {
     "data": {
      "text/plain": [
       "<keras.callbacks.History at 0x247cc579310>"
      ]
     },
     "execution_count": 14,
     "metadata": {},
     "output_type": "execute_result"
    }
   ],
   "source": [
    "model_2.fit(X_train_image, y_train_labels, epochs=15, batch_size=128)"
   ]
  },
  {
   "cell_type": "code",
   "execution_count": 15,
   "metadata": {},
   "outputs": [
    {
     "name": "stdout",
     "output_type": "stream",
     "text": [
      "313/313 [==============================] - 1s 2ms/step - loss: 0.3240 - accuracy: 0.8856\n"
     ]
    }
   ],
   "source": [
    "test_loss, test_acc = model_2.evaluate(X_test_image, y_test_labels)"
   ]
  },
  {
   "cell_type": "markdown",
   "metadata": {},
   "source": [
    "### MODELO 3"
   ]
  },
  {
   "cell_type": "markdown",
   "metadata": {},
   "source": [
    "Variando activación a relu y Optimizador rmsprop"
   ]
  },
  {
   "cell_type": "code",
   "execution_count": 10,
   "metadata": {},
   "outputs": [],
   "source": [
    "model_3 = models.Sequential()\n",
    "model_3.add(layers.Dense(512, activation='relu', input_shape=(28 * 28,)))\n",
    "model_3.add(layers.Dense(10, activation='sigmoid'))\n",
    "model_3.add(layers.Dense(10, activation='sigmoid'))\n",
    "model_3.compile(optimizer='rmsprop',loss='categorical_crossentropy',metrics=['accuracy'])"
   ]
  },
  {
   "cell_type": "code",
   "execution_count": 11,
   "metadata": {},
   "outputs": [
    {
     "name": "stdout",
     "output_type": "stream",
     "text": [
      "Epoch 1/15\n",
      "469/469 [==============================] - 13s 5ms/step - loss: 1.4578 - accuracy: 0.6616\n",
      "Epoch 2/15\n",
      "469/469 [==============================] - 2s 5ms/step - loss: 0.6837 - accuracy: 0.8397\n",
      "Epoch 3/15\n",
      "469/469 [==============================] - 2s 5ms/step - loss: 0.4637 - accuracy: 0.8611\n",
      "Epoch 4/15\n",
      "469/469 [==============================] - 2s 5ms/step - loss: 0.3910 - accuracy: 0.8709\n",
      "Epoch 5/15\n",
      "469/469 [==============================] - 2s 5ms/step - loss: 0.3516 - accuracy: 0.8832\n",
      "Epoch 6/15\n",
      "469/469 [==============================] - 2s 5ms/step - loss: 0.3277 - accuracy: 0.8879\n",
      "Epoch 7/15\n",
      "469/469 [==============================] - 2s 5ms/step - loss: 0.3107 - accuracy: 0.8911\n",
      "Epoch 8/15\n",
      "469/469 [==============================] - 2s 5ms/step - loss: 0.2976 - accuracy: 0.8954\n",
      "Epoch 9/15\n",
      "469/469 [==============================] - 2s 5ms/step - loss: 0.2790 - accuracy: 0.9017\n",
      "Epoch 10/15\n",
      "469/469 [==============================] - 2s 5ms/step - loss: 0.2726 - accuracy: 0.9036\n",
      "Epoch 11/15\n",
      "469/469 [==============================] - 2s 5ms/step - loss: 0.2624 - accuracy: 0.9058\n",
      "Epoch 12/15\n",
      "469/469 [==============================] - 2s 5ms/step - loss: 0.2524 - accuracy: 0.9109\n",
      "Epoch 13/15\n",
      "469/469 [==============================] - 2s 5ms/step - loss: 0.2433 - accuracy: 0.9132\n",
      "Epoch 14/15\n",
      "469/469 [==============================] - 2s 5ms/step - loss: 0.2355 - accuracy: 0.9161\n",
      "Epoch 15/15\n",
      "469/469 [==============================] - 2s 5ms/step - loss: 0.2342 - accuracy: 0.9161: 0s -\n"
     ]
    },
    {
     "data": {
      "text/plain": [
       "<keras.callbacks.History at 0x7fa7b2e7fac0>"
      ]
     },
     "execution_count": 11,
     "metadata": {},
     "output_type": "execute_result"
    }
   ],
   "source": [
    "model_3.fit(X_train_image, y_train_labels, epochs=15, batch_size=128)"
   ]
  },
  {
   "cell_type": "code",
   "execution_count": 12,
   "metadata": {},
   "outputs": [
    {
     "name": "stdout",
     "output_type": "stream",
     "text": [
      "313/313 [==============================] - 1s 1ms/step - loss: 0.3621 - accuracy: 0.8792\n"
     ]
    }
   ],
   "source": [
    "test_loss, test_acc = model_3.evaluate(X_test_image, y_test_labels)"
   ]
  },
  {
   "cell_type": "markdown",
   "metadata": {},
   "source": [
    "### MODELO 4"
   ]
  },
  {
   "cell_type": "code",
   "execution_count": 86,
   "metadata": {},
   "outputs": [],
   "source": [
    "model_4 = models.Sequential()\n",
    "model_4.add(layers.Dense(784, activation='relu', input_shape=(28 * 28,)))\n",
    "model_4.add(layers.Dense(512, activation='sigmoid'))\n",
    "model_4.add(layers.Dense(10, activation='sigmoid'))\n",
    "model_4.compile(optimizer='rmsprop',loss='categorical_crossentropy',metrics=['accuracy'])\n"
   ]
  },
  {
   "cell_type": "code",
   "execution_count": 87,
   "metadata": {},
   "outputs": [
    {
     "name": "stdout",
     "output_type": "stream",
     "text": [
      "Epoch 1/15\n",
      "469/469 [==============================] - 9s 19ms/step - loss: 0.5459 - accuracy: 0.7984\n",
      "Epoch 2/15\n",
      "469/469 [==============================] - 10s 20ms/step - loss: 0.3758 - accuracy: 0.8598\n",
      "Epoch 3/15\n",
      "469/469 [==============================] - 10s 21ms/step - loss: 0.3305 - accuracy: 0.8765\n",
      "Epoch 4/15\n",
      "469/469 [==============================] - 10s 22ms/step - loss: 0.3033 - accuracy: 0.8856\n",
      "Epoch 5/15\n",
      "469/469 [==============================] - 10s 22ms/step - loss: 0.2824 - accuracy: 0.8934\n",
      "Epoch 6/15\n",
      "469/469 [==============================] - 10s 21ms/step - loss: 0.2665 - accuracy: 0.8997\n",
      "Epoch 7/15\n",
      "469/469 [==============================] - 10s 21ms/step - loss: 0.2524 - accuracy: 0.9062\n",
      "Epoch 8/15\n",
      "469/469 [==============================] - 10s 21ms/step - loss: 0.2398 - accuracy: 0.9096\n",
      "Epoch 9/15\n",
      "469/469 [==============================] - 11s 24ms/step - loss: 0.2302 - accuracy: 0.9127\n",
      "Epoch 10/15\n",
      "469/469 [==============================] - 10s 21ms/step - loss: 0.2214 - accuracy: 0.9148\n",
      "Epoch 11/15\n",
      "469/469 [==============================] - 10s 22ms/step - loss: 0.2130 - accuracy: 0.9197\n",
      "Epoch 12/15\n",
      "469/469 [==============================] - 9s 20ms/step - loss: 0.2055 - accuracy: 0.9220\n",
      "Epoch 13/15\n",
      "469/469 [==============================] - 10s 22ms/step - loss: 0.1991 - accuracy: 0.9254\n",
      "Epoch 14/15\n",
      "469/469 [==============================] - 10s 22ms/step - loss: 0.1948 - accuracy: 0.9258\n",
      "Epoch 15/15\n",
      "469/469 [==============================] - 10s 21ms/step - loss: 0.1890 - accuracy: 0.9280\n"
     ]
    },
    {
     "data": {
      "text/plain": [
       "<keras.callbacks.History at 0x247ea975610>"
      ]
     },
     "execution_count": 87,
     "metadata": {},
     "output_type": "execute_result"
    }
   ],
   "source": [
    "model_4.fit(X_train_image, y_train_labels, epochs=15, batch_size=128)"
   ]
  },
  {
   "cell_type": "code",
   "execution_count": 88,
   "metadata": {},
   "outputs": [
    {
     "name": "stdout",
     "output_type": "stream",
     "text": [
      "313/313 [==============================] - 1s 4ms/step - loss: 0.3445 - accuracy: 0.8975\n"
     ]
    }
   ],
   "source": [
    "test_loss, test_acc = model_4.evaluate(X_test_image, y_test_labels)"
   ]
  },
  {
   "cell_type": "markdown",
   "metadata": {},
   "source": [
    "### MODELO 5"
   ]
  },
  {
   "cell_type": "code",
   "execution_count": 77,
   "metadata": {},
   "outputs": [],
   "source": [
    "model_5 = models.Sequential()\n",
    "model_5.add(layers.Dense(512, activation='relu', input_shape=(28 * 28,)))\n",
    "model_5.add(layers.Dense(512, activation='sigmoid'))\n",
    "model_5.add(layers.Dense(10, activation='sigmoid'))\n",
    "model_5.compile(optimizer='rmsprop',loss='categorical_crossentropy',metrics=['accuracy'])"
   ]
  },
  {
   "cell_type": "code",
   "execution_count": 78,
   "metadata": {},
   "outputs": [
    {
     "name": "stdout",
     "output_type": "stream",
     "text": [
      "Epoch 1/25\n",
      "469/469 [==============================] - 4s 7ms/step - loss: 0.7384 - accuracy: 0.7311\n",
      "Epoch 2/25\n",
      "469/469 [==============================] - 3s 7ms/step - loss: 0.3865 - accuracy: 0.8568\n",
      "Epoch 3/25\n",
      "469/469 [==============================] - 3s 7ms/step - loss: 0.3372 - accuracy: 0.8744\n",
      "Epoch 4/25\n",
      "469/469 [==============================] - 4s 8ms/step - loss: 0.3042 - accuracy: 0.8856\n",
      "Epoch 5/25\n",
      "469/469 [==============================] - 3s 7ms/step - loss: 0.2880 - accuracy: 0.8893\n",
      "Epoch 6/25\n",
      "469/469 [==============================] - 4s 8ms/step - loss: 0.2770 - accuracy: 0.8943\n",
      "Epoch 7/25\n",
      "469/469 [==============================] - 4s 9ms/step - loss: 0.2568 - accuracy: 0.9029\n",
      "Epoch 8/25\n",
      "469/469 [==============================] - 4s 9ms/step - loss: 0.2406 - accuracy: 0.9091\n",
      "Epoch 9/25\n",
      "469/469 [==============================] - 4s 9ms/step - loss: 0.2260 - accuracy: 0.9143\n",
      "Epoch 10/25\n",
      "469/469 [==============================] - 4s 8ms/step - loss: 0.2217 - accuracy: 0.9157\n",
      "Epoch 11/25\n",
      "469/469 [==============================] - 4s 8ms/step - loss: 0.2110 - accuracy: 0.9190\n",
      "Epoch 12/25\n",
      "469/469 [==============================] - 4s 8ms/step - loss: 0.2011 - accuracy: 0.9230\n",
      "Epoch 13/25\n",
      "469/469 [==============================] - 4s 9ms/step - loss: 0.1979 - accuracy: 0.9229\n",
      "Epoch 14/25\n",
      "469/469 [==============================] - 4s 9ms/step - loss: 0.1935 - accuracy: 0.9265\n",
      "Epoch 15/25\n",
      "469/469 [==============================] - 4s 8ms/step - loss: 0.1875 - accuracy: 0.9287\n",
      "Epoch 16/25\n",
      "469/469 [==============================] - 4s 8ms/step - loss: 0.1785 - accuracy: 0.9328\n",
      "Epoch 17/25\n",
      "469/469 [==============================] - 4s 8ms/step - loss: 0.1749 - accuracy: 0.9330\n",
      "Epoch 18/25\n",
      "469/469 [==============================] - 4s 8ms/step - loss: 0.1702 - accuracy: 0.9349\n",
      "Epoch 19/25\n",
      "469/469 [==============================] - 4s 8ms/step - loss: 0.1688 - accuracy: 0.9363\n",
      "Epoch 20/25\n",
      "469/469 [==============================] - 4s 8ms/step - loss: 0.1605 - accuracy: 0.9388\n",
      "Epoch 21/25\n",
      "469/469 [==============================] - 4s 8ms/step - loss: 0.1608 - accuracy: 0.9395\n",
      "Epoch 22/25\n",
      "469/469 [==============================] - 3s 7ms/step - loss: 0.1559 - accuracy: 0.9414\n",
      "Epoch 23/25\n",
      "469/469 [==============================] - 4s 8ms/step - loss: 0.1564 - accuracy: 0.9406\n",
      "Epoch 24/25\n",
      "469/469 [==============================] - 4s 8ms/step - loss: 0.1509 - accuracy: 0.9434\n",
      "Epoch 25/25\n",
      "469/469 [==============================] - 3s 7ms/step - loss: 0.1493 - accuracy: 0.9444\n"
     ]
    },
    {
     "data": {
      "text/plain": [
       "<keras.callbacks.History at 0x7fe97f836520>"
      ]
     },
     "execution_count": 78,
     "metadata": {},
     "output_type": "execute_result"
    }
   ],
   "source": [
    "model_5.fit(X_train_image, y_train_labels, epochs=25, batch_size=128)"
   ]
  },
  {
   "cell_type": "code",
   "execution_count": 79,
   "metadata": {},
   "outputs": [
    {
     "name": "stdout",
     "output_type": "stream",
     "text": [
      "313/313 [==============================] - 1s 2ms/step - loss: 0.4223 - accuracy: 0.8841\n"
     ]
    }
   ],
   "source": [
    "test_loss, test_acc = model_5.evaluate(X_test_image, y_test_labels)"
   ]
  }
 ],
 "metadata": {
  "kernelspec": {
   "display_name": "Python 3",
   "language": "python",
   "name": "python3"
  },
  "language_info": {
   "codemirror_mode": {
    "name": "ipython",
    "version": 3
   },
   "file_extension": ".py",
   "mimetype": "text/x-python",
   "name": "python",
   "nbconvert_exporter": "python",
   "pygments_lexer": "ipython3",
   "version": "3.8.5"
  }
 },
 "nbformat": 4,
 "nbformat_minor": 5
}
