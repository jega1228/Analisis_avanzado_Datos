{
 "cells": [
  {
   "cell_type": "markdown",
   "metadata": {},
   "source": [
    "# P3 - Movie Genre Classification - Neural Network"
   ]
  },
  {
   "cell_type": "markdown",
   "metadata": {},
   "source": [
    "Elaborado por GRUPO 1:\n",
    "\n",
    "- Juanita Piraban Barbosa - 201216313\n",
    "- Lorena Morales Rodríguez - 202027957\n",
    "- Alejandro Barinas Guio - 201628859\n",
    "- Jaime Humberto Trujillo Perea - 201920366\n",
    "- Alexander Zapata Galindo - 201425426"
   ]
  },
  {
   "cell_type": "markdown",
   "metadata": {},
   "source": [
    "### Objective\n",
    "\n",
    "Classify a movie genre based on its plot.\n",
    "Source: https://www.kaggle.com/c/miia4201-202019-p3-moviegenreclassification/overview\n",
    "\n",
    "- Input: movie plot\n",
    "- Output: Probability of the movie belong to each genre\n",
    "\n",
    "### Evaluation\n",
    "\n",
    "- 50% Report with all the details of the solution, the analysis and the conclusions. The report cannot exceed 10 pages, must be send in PDF format and must be self-contained.\n",
    "- 50% Performance in the Kaggle competition (The grade for each group will be proportional to the ranking it occupies in the competition. The group in the first place will obtain 5 points, for each position below, 0.25 points will be subtracted, that is: first place: 5 points, second: 4.75 points, third place: 4.50 points ... eleventh place: 2.50 points, twelfth place: 2.25 points).\n",
    "\n",
    "### Deatline\n",
    "\n",
    "- The project must be carried out in the groups assigned.\n",
    "- Use clear and rigorous procedures.\n",
    "- The delivery of the project is on August 1st, 2021, 11:59 pm, through Bloque Neón.\n",
    "- No projects will be received after the delivery time or by any other means than the one established.\n",
    "\n",
    "### Acknowledgements\n",
    "\n",
    "We thank Professor Fabio Gonzalez, Ph.D. and his student John Arevalo for providing this dataset.\n",
    "See https://arxiv.org/abs/1702.01992"
   ]
  },
  {
   "cell_type": "markdown",
   "metadata": {},
   "source": [
    "## Sample Submission"
   ]
  },
  {
   "cell_type": "code",
   "execution_count": 64,
   "metadata": {},
   "outputs": [],
   "source": [
    "# Librerías\n",
    "\n",
    "import pandas as pd\n",
    "from matplotlib import pyplot as plt\n",
    "import os\n",
    "import numpy as np\n",
    "from sklearn.feature_extraction.text import CountVectorizer\n",
    "from sklearn.preprocessing import MultiLabelBinarizer\n",
    "from sklearn.multiclass import OneVsRestClassifier\n",
    "from sklearn.ensemble import RandomForestRegressor, RandomForestClassifier\n",
    "from sklearn.metrics import r2_score, roc_auc_score\n",
    "from sklearn.model_selection import train_test_split\n",
    "\n",
    "from sklearn.multiclass import OneVsRestClassifier\n",
    "from sklearn.svm import SVC\n",
    "from sklearn.metrics import f1_score\n",
    "from sklearn.metrics import roc_auc_score\n",
    "\n",
    "from sklearn.model_selection import RandomizedSearchCV\n",
    "from sklearn.model_selection import GridSearchCV\n",
    "from sklearn.model_selection import train_test_split\n",
    "\n",
    "from sklearn.metrics import accuracy_score\n",
    "from sklearn.metrics import make_scorer\n",
    "\n",
    "import keras\n",
    "from keras import backend as K\n",
    "\n",
    "import tensorflow as tf\n",
    "from keras.models import Sequential\n",
    "from keras.layers.recurrent import LSTM\n",
    "from keras.layers.core import Dense, Dropout\n",
    "from keras.layers.embeddings import Embedding\n",
    "from keras.preprocessing import sequence\n",
    "\n",
    "#pip install livelossplot\n",
    "from livelossplot import PlotLossesKeras\n",
    "%matplotlib inline\n",
    "\n",
    "import nltk\n",
    "from nltk.corpus import stopwords\n",
    "\n",
    "from xgboost import XGBClassifier\n",
    "import re\n",
    "\n",
    "import warnings\n",
    "warnings.filterwarnings('ignore')"
   ]
  },
  {
   "cell_type": "code",
   "execution_count": 65,
   "metadata": {},
   "outputs": [],
   "source": [
    "df_train = pd.read_csv('dataTraining.csv', encoding='UTF-8', index_col=0)\n",
    "df_test = pd.read_csv('dataTesting.csv', encoding='UTF-8', index_col=0)"
   ]
  },
  {
   "cell_type": "code",
   "execution_count": 66,
   "metadata": {},
   "outputs": [
    {
     "data": {
      "text/html": [
       "<div>\n",
       "<style scoped>\n",
       "    .dataframe tbody tr th:only-of-type {\n",
       "        vertical-align: middle;\n",
       "    }\n",
       "\n",
       "    .dataframe tbody tr th {\n",
       "        vertical-align: top;\n",
       "    }\n",
       "\n",
       "    .dataframe thead th {\n",
       "        text-align: right;\n",
       "    }\n",
       "</style>\n",
       "<table border=\"1\" class=\"dataframe\">\n",
       "  <thead>\n",
       "    <tr style=\"text-align: right;\">\n",
       "      <th></th>\n",
       "      <th>year</th>\n",
       "      <th>title</th>\n",
       "      <th>plot</th>\n",
       "      <th>genres</th>\n",
       "      <th>rating</th>\n",
       "    </tr>\n",
       "  </thead>\n",
       "  <tbody>\n",
       "    <tr>\n",
       "      <th>3107</th>\n",
       "      <td>2003</td>\n",
       "      <td>Most</td>\n",
       "      <td>most is the story of a single father who takes...</td>\n",
       "      <td>['Short', 'Drama']</td>\n",
       "      <td>8.0</td>\n",
       "    </tr>\n",
       "    <tr>\n",
       "      <th>900</th>\n",
       "      <td>2008</td>\n",
       "      <td>How to Be a Serial Killer</td>\n",
       "      <td>a serial killer decides to teach the secrets o...</td>\n",
       "      <td>['Comedy', 'Crime', 'Horror']</td>\n",
       "      <td>5.6</td>\n",
       "    </tr>\n",
       "    <tr>\n",
       "      <th>6724</th>\n",
       "      <td>1941</td>\n",
       "      <td>A Woman's Face</td>\n",
       "      <td>in sweden ,  a female blackmailer with a disfi...</td>\n",
       "      <td>['Drama', 'Film-Noir', 'Thriller']</td>\n",
       "      <td>7.2</td>\n",
       "    </tr>\n",
       "    <tr>\n",
       "      <th>4704</th>\n",
       "      <td>1954</td>\n",
       "      <td>Executive Suite</td>\n",
       "      <td>in a friday afternoon in new york ,  the presi...</td>\n",
       "      <td>['Drama']</td>\n",
       "      <td>7.4</td>\n",
       "    </tr>\n",
       "    <tr>\n",
       "      <th>2582</th>\n",
       "      <td>1990</td>\n",
       "      <td>Narrow Margin</td>\n",
       "      <td>in los angeles ,  the editor of a publishing h...</td>\n",
       "      <td>['Action', 'Crime', 'Thriller']</td>\n",
       "      <td>6.6</td>\n",
       "    </tr>\n",
       "  </tbody>\n",
       "</table>\n",
       "</div>"
      ],
      "text/plain": [
       "      year                      title  \\\n",
       "3107  2003                       Most   \n",
       "900   2008  How to Be a Serial Killer   \n",
       "6724  1941             A Woman's Face   \n",
       "4704  1954            Executive Suite   \n",
       "2582  1990              Narrow Margin   \n",
       "\n",
       "                                                   plot  \\\n",
       "3107  most is the story of a single father who takes...   \n",
       "900   a serial killer decides to teach the secrets o...   \n",
       "6724  in sweden ,  a female blackmailer with a disfi...   \n",
       "4704  in a friday afternoon in new york ,  the presi...   \n",
       "2582  in los angeles ,  the editor of a publishing h...   \n",
       "\n",
       "                                  genres  rating  \n",
       "3107                  ['Short', 'Drama']     8.0  \n",
       "900        ['Comedy', 'Crime', 'Horror']     5.6  \n",
       "6724  ['Drama', 'Film-Noir', 'Thriller']     7.2  \n",
       "4704                           ['Drama']     7.4  \n",
       "2582     ['Action', 'Crime', 'Thriller']     6.6  "
      ]
     },
     "execution_count": 66,
     "metadata": {},
     "output_type": "execute_result"
    }
   ],
   "source": [
    "df_train.head()"
   ]
  },
  {
   "cell_type": "code",
   "execution_count": 67,
   "metadata": {},
   "outputs": [
    {
     "name": "stdout",
     "output_type": "stream",
     "text": [
      "<class 'pandas.core.frame.DataFrame'>\n",
      "Int64Index: 7895 entries, 3107 to 215\n",
      "Data columns (total 5 columns):\n",
      " #   Column  Non-Null Count  Dtype \n",
      "---  ------  --------------  ----- \n",
      " 0   year    7895 non-null   int64 \n",
      " 1   title   7895 non-null   object\n",
      " 2   plot    7895 non-null   object\n",
      " 3   genres  7895 non-null   object\n",
      " 4   rating  7895 non-null   int64 \n",
      "dtypes: int64(2), object(3)\n",
      "memory usage: 370.1+ KB\n"
     ]
    }
   ],
   "source": [
    "df_train['rating'] = df_train['rating'].astype(int)\n",
    "df_train.info()"
   ]
  },
  {
   "cell_type": "code",
   "execution_count": 68,
   "metadata": {},
   "outputs": [
    {
     "data": {
      "text/html": [
       "<div>\n",
       "<style scoped>\n",
       "    .dataframe tbody tr th:only-of-type {\n",
       "        vertical-align: middle;\n",
       "    }\n",
       "\n",
       "    .dataframe tbody tr th {\n",
       "        vertical-align: top;\n",
       "    }\n",
       "\n",
       "    .dataframe thead th {\n",
       "        text-align: right;\n",
       "    }\n",
       "</style>\n",
       "<table border=\"1\" class=\"dataframe\">\n",
       "  <thead>\n",
       "    <tr style=\"text-align: right;\">\n",
       "      <th></th>\n",
       "      <th>year</th>\n",
       "      <th>title</th>\n",
       "      <th>plot</th>\n",
       "    </tr>\n",
       "  </thead>\n",
       "  <tbody>\n",
       "    <tr>\n",
       "      <th>1</th>\n",
       "      <td>1999</td>\n",
       "      <td>Message in a Bottle</td>\n",
       "      <td>who meets by fate ,  shall be sealed by fate ....</td>\n",
       "    </tr>\n",
       "    <tr>\n",
       "      <th>4</th>\n",
       "      <td>1978</td>\n",
       "      <td>Midnight Express</td>\n",
       "      <td>the true story of billy hayes ,  an american c...</td>\n",
       "    </tr>\n",
       "    <tr>\n",
       "      <th>5</th>\n",
       "      <td>1996</td>\n",
       "      <td>Primal Fear</td>\n",
       "      <td>martin vail left the chicago da ' s office to ...</td>\n",
       "    </tr>\n",
       "    <tr>\n",
       "      <th>6</th>\n",
       "      <td>1950</td>\n",
       "      <td>Crisis</td>\n",
       "      <td>husband and wife americans dr .  eugene and mr...</td>\n",
       "    </tr>\n",
       "    <tr>\n",
       "      <th>7</th>\n",
       "      <td>1959</td>\n",
       "      <td>The Tingler</td>\n",
       "      <td>the coroner and scientist dr .  warren chapin ...</td>\n",
       "    </tr>\n",
       "  </tbody>\n",
       "</table>\n",
       "</div>"
      ],
      "text/plain": [
       "   year                title  \\\n",
       "1  1999  Message in a Bottle   \n",
       "4  1978     Midnight Express   \n",
       "5  1996          Primal Fear   \n",
       "6  1950               Crisis   \n",
       "7  1959          The Tingler   \n",
       "\n",
       "                                                plot  \n",
       "1  who meets by fate ,  shall be sealed by fate ....  \n",
       "4  the true story of billy hayes ,  an american c...  \n",
       "5  martin vail left the chicago da ' s office to ...  \n",
       "6  husband and wife americans dr .  eugene and mr...  \n",
       "7  the coroner and scientist dr .  warren chapin ...  "
      ]
     },
     "execution_count": 68,
     "metadata": {},
     "output_type": "execute_result"
    }
   ],
   "source": [
    "df_test.head()"
   ]
  },
  {
   "cell_type": "code",
   "execution_count": 69,
   "metadata": {},
   "outputs": [
    {
     "name": "stdout",
     "output_type": "stream",
     "text": [
      "<class 'pandas.core.frame.DataFrame'>\n",
      "Int64Index: 3383 entries, 1 to 11275\n",
      "Data columns (total 3 columns):\n",
      " #   Column  Non-Null Count  Dtype \n",
      "---  ------  --------------  ----- \n",
      " 0   year    3383 non-null   int64 \n",
      " 1   title   3383 non-null   object\n",
      " 2   plot    3383 non-null   object\n",
      "dtypes: int64(1), object(2)\n",
      "memory usage: 105.7+ KB\n"
     ]
    }
   ],
   "source": [
    "df_test.info()"
   ]
  },
  {
   "cell_type": "markdown",
   "metadata": {},
   "source": [
    "### Create y"
   ]
  },
  {
   "cell_type": "code",
   "execution_count": 70,
   "metadata": {},
   "outputs": [
    {
     "data": {
      "text/plain": [
       "(7895, 24)"
      ]
     },
     "execution_count": 70,
     "metadata": {},
     "output_type": "execute_result"
    }
   ],
   "source": [
    "df_train['genres'] = df_train['genres'].map(lambda x: eval(x))\n",
    "\n",
    "le = MultiLabelBinarizer()\n",
    "y = le.fit_transform(df_train['genres'])\n",
    "y.shape"
   ]
  },
  {
   "cell_type": "code",
   "execution_count": 71,
   "metadata": {},
   "outputs": [
    {
     "data": {
      "text/plain": [
       "array([[0, 0, 0, ..., 0, 0, 0],\n",
       "       [0, 0, 0, ..., 0, 0, 0],\n",
       "       [0, 0, 0, ..., 1, 0, 0],\n",
       "       ...,\n",
       "       [0, 1, 0, ..., 0, 0, 0],\n",
       "       [0, 1, 1, ..., 0, 0, 0],\n",
       "       [0, 1, 1, ..., 0, 0, 0]])"
      ]
     },
     "execution_count": 71,
     "metadata": {},
     "output_type": "execute_result"
    }
   ],
   "source": [
    "y"
   ]
  },
  {
   "cell_type": "markdown",
   "metadata": {},
   "source": [
    "### Vocabulary"
   ]
  },
  {
   "cell_type": "code",
   "execution_count": 73,
   "metadata": {},
   "outputs": [],
   "source": [
    "import nltk\n",
    "from nltk.stem.snowball import SnowballStemmer\n",
    "from nltk.stem import WordNetLemmatizer\n",
    "wordnet_lemmatizer = WordNetLemmatizer()\n",
    "from nltk.corpus import stopwords\n",
    "from nltk.tokenize import word_tokenize\n",
    "from nltk.stem.porter import PorterStemmer\n",
    "#nltk.download('wordnet')\n",
    "#nltk.download('stopwords')\n",
    "stop_words = set(stopwords.words('english'))"
   ]
  },
  {
   "cell_type": "code",
   "execution_count": 74,
   "metadata": {},
   "outputs": [],
   "source": [
    "X= pd.DataFrame(df_train['plot'])\n",
    "X1= pd.DataFrame(df_test['plot'])\n",
    "\n",
    "spec_chars = ['!', '\"', '$', '%', '&', \"'\", '(', ')', ',', '-', '.', '/', ':', ';', '?','£', 'è']\n",
    "for char in spec_chars:\n",
    "    X = X.apply(lambda x: x.str.replace(char, ''))\n",
    "    X1 = X1.apply(lambda x: x.str.replace(char, ''))\n",
    "\n",
    "X= X['plot']\n",
    "X1= X1['plot']"
   ]
  },
  {
   "cell_type": "code",
   "execution_count": 76,
   "metadata": {},
   "outputs": [],
   "source": [
    "# define a function that accepts text and returns a list of lemmas\n",
    "def split_into_lemmas(text):\n",
    "    porter = PorterStemmer()\n",
    "    text = text.lower()\n",
    "    words = text.split()\n",
    "    words = [w for w in words if not w in stop_words]\n",
    "    words = [porter.stem(word) for word in words]\n",
    "    words = [w for w in words if not w in stop_words]\n",
    "    return [wordnet_lemmatizer.lemmatize(word) for word in words]"
   ]
  },
  {
   "cell_type": "code",
   "execution_count": 77,
   "metadata": {},
   "outputs": [
    {
     "data": {
      "text/plain": [
       "array([[0, 0, 0, ..., 0, 0, 0],\n",
       "       [0, 0, 0, ..., 0, 0, 0],\n",
       "       [0, 0, 0, ..., 0, 0, 0],\n",
       "       ...,\n",
       "       [0, 0, 0, ..., 0, 0, 0],\n",
       "       [0, 0, 0, ..., 0, 0, 0],\n",
       "       [0, 0, 0, ..., 0, 0, 0]])"
      ]
     },
     "execution_count": 77,
     "metadata": {},
     "output_type": "execute_result"
    }
   ],
   "source": [
    "# Lemmatization\n",
    "vect = CountVectorizer(stop_words='english', max_features=9000, analyzer=split_into_lemmas)\n",
    "X_dtm = vect.fit_transform(X)\n",
    "voc = vect.get_feature_names()\n",
    "\n",
    "X_pad=X_dtm.toarray()\n",
    "X_pad"
   ]
  },
  {
   "cell_type": "code",
   "execution_count": 78,
   "metadata": {},
   "outputs": [
    {
     "name": "stdout",
     "output_type": "stream",
     "text": [
      "['aa', 'aaron', 'abandon', 'abbey', 'abbi', 'abbott', 'abduct', 'abe', 'abel', 'abigail', 'abil', 'abl', 'abner', 'aboard', 'abort', 'abound', 'abraham', 'abroad', 'abruptli', 'abscond', 'absenc', 'absent', 'absolut', 'absorb', 'absurd', 'abu', 'abus', 'abyss', 'academ', 'academi', 'accept', 'access', 'accessori', 'accid', 'accident', 'acclaim', 'accommod', 'accompani', 'accomplic', 'accomplish', 'accord', 'account', 'accur', 'accus', 'accustom', 'ace', 'acerb', 'achiev', 'acid', 'acknowledg', 'acquaint', 'acquir', 'acr', 'acrobat', 'across', 'act', 'action', 'activ', 'activist', 'actor', 'actress', 'actual', 'ad', 'ada', 'adam', 'adapt', 'add', 'addi', 'addict', 'addit', 'address', 'adel', 'adelaid', 'adept', 'adequ', 'adher', 'adjust', 'adm', 'administ', 'administr', 'admir', 'admiss', 'admit', 'adolesc', 'adolf', 'adopt', 'ador', 'adrian', 'adrien', 'adrienn', 'adrift', 'adult', 'adulthood', 'advanc', 'advantag', 'adventur', 'adversari', 'advertis', 'advic', 'advis', 'advisor', 'advoc', 'aesthet', 'afar', 'affair', 'affect', 'affection', 'afflict', 'affluent', 'afford', 'afghanistan', 'aficionado', 'afloat', 'afraid', 'africa', 'african', 'afterlif', 'aftermath', 'afternoon', 'afterward', 'age', 'agenc', 'agenda', 'agent', 'aggress', 'aggressor', 'agn', 'ago', 'agre', 'agreement', 'ahead', 'ahm', 'ai', 'aid', 'ail', 'aim', 'aime', 'aimless', 'air', 'airborn', 'aircraft', 'airlin', 'airplan', 'airport', 'aka', 'akeelah', 'al', 'ala', 'alabama', 'alain', 'alamo', 'alan', 'alarm', 'alaska', 'alaskan', 'albeit', 'albert', 'albino', 'album', 'alcatraz', 'alcohol', 'alec', 'alejandro', 'alert', 'alex', 'alexand', 'alexandra', 'alfalfa', 'alfr', 'ali', 'alia', 'alibi', 'alic', 'alicia', 'alien', 'alik', 'alimoni', 'alison', 'aliv', 'allan', 'alleg', 'allegedli', 'allegra', 'allen', 'alley', 'alli', 'allianc', 'allig', 'allison', 'allow', 'allur', 'allyson', 'alma', 'almighti', 'almost', 'alon', 'along', 'alongsid', 'alpha', 'alreadi', 'also', 'altar', 'alter', 'alterc', 'altern', 'although', 'altman', 'alva', 'alvin', 'alway', 'alzheim', 'amanda', 'amass', 'amateur', 'amaz', 'amazon', 'ambassador', 'amber', 'ambit', 'ambiti', 'ambival', 'ambul', 'ambush', 'ame', 'ameena', 'amelia', 'amend', 'america', 'american', 'americana', 'ami', 'amiabl', 'amid', 'amidala', 'amidst', 'amir', 'amish', 'amiss', 'amiti', 'ammunit', 'amnesia', 'amnesiac', 'amo', 'among', 'amongst', 'amor', 'amount', 'ampco', 'amsterdam', 'amus', 'ana', 'anakin', 'analyst', 'analyz', 'anarchi', 'anarchist', 'anaren', 'ancestor', 'ancestr', 'anchor', 'ancient', 'anderson', 'anderton', 'andi', 'andr', 'andrea', 'andrei', 'andrew', 'android', 'andromeda', 'andré', 'anecdot', 'anew', 'angel', 'angela', 'angelica', 'angelin', 'angelo', 'anger', 'angi', 'angier', 'angl', 'angola', 'angri', 'angst', 'angu', 'anim', 'animos', 'anita', 'ankl', 'ann', 'anna', 'annabel', 'annett', 'anni', 'annihil', 'anniversari', 'announc', 'annoy', 'annual', 'anomali', 'anonym', 'anoth', 'answer', 'ant', 'antagonist', 'antholog', 'anthoni', 'anthropologist', 'anti', 'antic', 'anticip', 'antidot', 'antiqu', 'antisoci', 'antithesi', 'anton', 'antoni', 'antonio', 'anxieti', 'anxiou', 'anybodi', 'anymor', 'anyon', 'anyth', 'anyway', 'anywher', 'apach', 'apart', 'ape', 'apocalyps', 'apocalypt', 'apollo', 'appal', 'appar', 'appeal', 'appear', 'appeas', 'appetit', 'appl', 'appli', 'applic', 'appoint', 'appreci', 'apprehend', 'apprehens', 'apprentic', 'approach', 'appropri', 'approv', 'approxim', 'april', 'aquarium', 'aquatica', 'arab', 'arabia', 'arabian', 'aram', 'arash', 'arcad', 'arch', 'archaeolog', 'archaeologist', 'archeolog', 'archer', 'archi', 'archibald', 'architect', 'architectur', 'archiv', 'arctic', 'arctor', 'arden', 'arduou', 'area', 'arena', 'argentin', 'argentina', 'argu', 'arguabl', 'argument', 'ariel', 'aris', 'aristocrat', 'arizona', 'ark', 'arkansa', 'arkin', 'arlen', 'arlo', 'arm', 'armageddon', 'armand', 'armi', 'armor', 'armstrong', 'arni', 'arnold', 'aron', 'around', 'arous', 'arraki', 'arrang', 'array', 'arrest', 'arriv', 'arrog', 'arrow', 'arrowsmith', 'arroyo', 'arsen', 'arson', 'art', 'artagnan', 'arthur', 'arti', 'articl', 'artifact', 'artifici', 'artilleri', 'artisan', 'artist', 'arvilla', 'as', 'asano', 'asgard', 'ash', 'asham', 'asher', 'ashley', 'ashor', 'ashton', 'asia', 'asian', 'asid', 'ask', 'asleep', 'asmi', 'aspect', 'aspen', 'aspir', 'ass', 'assail', 'assassin', 'assault', 'assembl', 'assert', 'asset', 'assign', 'assist', 'associ', 'assort', 'assum', 'assumpt', 'assur', 'asteroid', 'asthmat', 'astonish', 'astoria', 'astound', 'astray', 'astrid', 'astronaut', 'astronom', 'asylum', 'atheist', 'athen', 'athlet', 'atlant', 'atlanta', 'atmospher', 'atom', 'aton', 'atop', 'atroc', 'attach', 'attack', 'attain', 'attempt', 'attend', 'attent', 'attic', 'attitud', 'attorney', 'attract', 'attribut', 'attrit', 'aubrey', 'auction', 'audaci', 'audienc', 'audit', 'audrey', 'august', 'augusta', 'aunt', 'aurora', 'auschwitz', 'austin', 'australia', 'australian', 'austria', 'austrian', 'authent', 'author', 'authoritarian', 'autist', 'auto', 'autobiograph', 'autobot', 'automat', 'automobil', 'autopsi', 'ava', 'avail', 'avatar', 'aveng', 'avenu', 'averag', 'averi', 'avers', 'aviat', 'avid', 'avoid', 'aw', 'await', 'awak', 'awaken', 'awar', 'award', 'away', 'awesom', 'awhil', 'awkward', 'awkwardli', 'awol', 'awri', 'ax', 'axe', 'axel', 'b', 'baba', 'babe', 'babi', 'babysit', 'babysitt', 'bachelor', 'back', 'backdrop', 'backer', 'backfir', 'background', 'backpack', 'backstag', 'backup', 'backward', 'backwat', 'backwood', 'backyard', 'bad', 'badass', 'badg', 'badli', 'baffl', 'bag', 'baggag', 'baghdad', 'bahama', 'bail', 'bailey', 'bain', 'bait', 'bake', 'baker', 'bakeri', 'balanc', 'balboa', 'balconi', 'baldwin', 'bale', 'balkan', 'ball', 'ballerina', 'ballet', 'ballin', 'balloon', 'ballot', 'ballroom', 'balraj', 'baltimor', 'bambi', 'ban', 'banana', 'band', 'bandit', 'bane', 'bangkok', 'banish', 'bank', 'banker', 'bankrupt', 'bankruptci', 'banner', 'baptist', 'bar', 'barb', 'barbar', 'barbara', 'barbarian', 'barber', 'barbershop', 'barbi', 'barcelona', 'bare', 'barg', 'bargain', 'barker', 'barkley', 'barn', 'barnabi', 'barney', 'baron', 'barrack', 'barren', 'barrett', 'barri', 'barrier', 'barrow', 'barrymor', 'bart', 'bartend', 'bartoli', 'barton', 'base', 'basebal', 'basement', 'bash', 'basi', 'basic', 'basil', 'bask', 'baskervil', 'basket', 'basketbal', 'bastian', 'bat', 'bate', 'bateman', 'bath', 'bathroom', 'bathtub', 'batman', 'battaglia', 'battalion', 'batter', 'battl', 'battlefield', 'baxter', 'bay', 'bayou', 'bb', 'bbc', 'bea', 'beach', 'beacon', 'beam', 'bean', 'bear', 'beard', 'beast', 'beat', 'beaten', 'beatl', 'beatric', 'beau', 'beaumont', 'beauti', 'beaver', 'becam', 'becca', 'beck', 'beckett', 'becki', 'becom', 'bed', 'bedridden', 'bedroom', 'bee', 'beer', 'beethoven', 'befal', 'befriend', 'beg', 'began', 'begin', 'begun', 'behalf', 'behav', 'behavior', 'behead', 'behind', 'belgium', 'belief', 'believ', 'belinha', 'bell', 'bella', 'belli', 'belliger', 'belong', 'belov', 'belt', 'ben', 'bend', 'beneath', 'benedict', 'benefactor', 'beneficiari', 'benefit', 'benjamin', 'benji', 'bennet', 'bennett', 'benni', 'benson', 'bent', 'bentley', 'beowulf', 'berger', 'berkeley', 'berlin', 'bermuda', 'bernadett', 'bernard', 'berni', 'bernic', 'bernstein', 'bert', 'beryl', 'beshraavi', 'besid', 'besieg', 'bessi', 'best', 'bestsel', 'bet', 'beth', 'betray', 'betroth', 'betsi', 'better', 'betti', 'beverli', 'beyond', 'bff', 'bianca', 'bibl', 'biblic', 'bicycl', 'bid', 'big', 'bigger', 'biggest', 'bigot', 'bigotri', 'bike', 'biker', 'bikini', 'bilbo', 'bill', 'billi', 'billion', 'billionair', 'bin', 'bind', 'bing', 'binki', 'biographi', 'biolog', 'biologist', 'biopic', 'bird', 'birde', 'birdi', 'birmingham', 'birth', 'birthday', 'bisexu', 'bishop', 'bison', 'bit', 'bitch', 'bite', 'bitten', 'bitter', 'bizarr', 'black', 'blacki', 'blackmail', 'blackout', 'blacksmith', 'blade', 'blain', 'blair', 'blaisdel', 'blake', 'blame', 'blanca', 'blank', 'blanket', 'blast', 'blaze', 'bleak', 'bleed', 'blend', 'bless', 'blind', 'blink', 'bliss', 'blizzard', 'block', 'blond', 'blondi', 'blood', 'bloodi', 'bloodlin', 'bloodsh', 'bloodthirsti', 'bloom', 'blossom', 'blow', 'blown', 'blu', 'blue', 'blur', 'bmw', 'bo', 'board', 'boarder', 'boardwalk', 'boat', 'bob', 'bobbi', 'bobo', 'bodahi', 'bodi', 'bodin', 'bodyguard', 'bog', 'bogart', 'bogomil', 'bohemian', 'boil', 'bold', 'bolt', 'bomb', 'bombay', 'bomber', 'bombshel', 'bond', 'bone', 'bonnard', 'bonner', 'bonney', 'bonni', 'bono', 'boo', 'boobi', 'book', 'booker', 'booki', 'bookish', 'bookmak', 'bookstor', 'boom', 'boomer', 'boon', 'boost', 'boot', 'booth', 'booz', 'borden', 'border', 'bore', 'boredom', 'bori', 'born', 'borneo', 'borrow', 'bos', 'bosnia', 'bosnian', 'boston', 'botanist', 'botch', 'bother', 'bottl', 'bottom', 'bought', 'boulevard', 'bounc', 'bound', 'boundari', 'bounti', 'bourn', 'bout', 'bow', 'bowen', 'bowi', 'bowl', 'bowler', 'bowman', 'box', 'boxer', 'boy', 'boyd', 'boyer', 'boyfriend', 'boyhood', 'bra', 'brace', 'bracelet', 'brackett', 'brad', 'braddock', 'bradi', 'bradley', 'brain', 'braini', 'brainwash', 'branch', 'brand', 'brandon', 'brandt', 'brant', 'brash', 'brass', 'brat', 'brave', 'braveri', 'brawl', 'braxton', 'brazil', 'brazilian', 'bread', 'breadwinn', 'break', 'breakdown', 'breaker', 'breakfast', 'breakthrough', 'breakup', 'breast', 'breath', 'breathtak', 'bred', 'bree', 'breed', 'breezi', 'brenda', 'brendan', 'brennan', 'brent', 'brett', 'brew', 'breweri', 'brewster', 'brian', 'briar', 'bribe', 'brice', 'brick', 'bride', 'bridg', 'bridget', 'brief', 'briefcas', 'briefli', 'brien', 'brigad', 'brigg', 'bright', 'brightest', 'brilliant', 'bring', 'brink', 'brioni', 'brisbi', 'bristol', 'brit', 'britain', 'british', 'brittani', 'brittl', 'bro', 'broad', 'broadcast', 'broadway', 'brock', 'brodi', 'broke', 'broken', 'broker', 'bronson', 'bronx', 'brood', 'brook', 'brooklyn', 'brothel', 'brother', 'brotherhood', 'brought', 'brown', 'brownston', 'bruce', 'bruis', 'brunett', 'bruno', 'brush', 'brutal', 'brutish', 'bryan', 'bryce', 'bu', 'bubba', 'bubber', 'bubbl', 'buck', 'bucki', 'buckingham', 'bud', 'budapest', 'buddi', 'budget', 'buff', 'buffalo', 'bug', 'build', 'builder', 'built', 'bull', 'bullard', 'bullet', 'bulli', 'bum', 'bumbl', 'bump', 'bunch', 'bundi', 'bunker', 'bunni', 'burden', 'bureau', 'burgeon', 'burger', 'burglar', 'burglari', 'burgundi', 'buri', 'burial', 'burk', 'burlesqu', 'burma', 'burn', 'burnett', 'burnt', 'burrough', 'burrow', 'burst', 'burt', 'burton', 'bush', 'busi', 'businessman', 'bust', 'buster', 'butch', 'butcher', 'butler', 'butt', 'butter', 'butterfli', 'button', 'buy', 'buyer', 'buzz', 'bynum', 'byrn', 'byron', 'c', 'ca', 'cab', 'cabaret', 'cabbi', 'cabin', 'cabinet', 'cabl', 'cabot', 'cach', 'caden', 'cadet', 'cadi', 'cadillac', 'caesar', 'cafe', 'café', 'cage', 'cain', 'cairo', 'cake', 'cal', 'calam', 'calcul', 'calder', 'caldwel', 'caleb', 'calendar', 'calf', 'california', 'call', 'callahan', 'caller', 'calm', 'calvin', 'cam', 'camcord', 'came', 'cameo', 'camera', 'cameraman', 'cameron', 'camil', 'camilla', 'camp', 'campaign', 'campbel', 'camper', 'campu', 'canada', 'canadian', 'canal', 'cancel', 'cancer', 'candi', 'candid', 'candyman', 'cane', 'canfield', 'canin', 'cannib', 'cannon', 'cannot', 'cano', 'cantor', 'canyon', 'cap', 'capabl', 'cape', 'caper', 'capit', 'capitol', 'capon', 'capot', 'capsul', 'capt', 'captain', 'captiv', 'captor', 'captur', 'capulet', 'car', 'caravan', 'carbon', 'card', 'cardin', 'care', 'career', 'carefre', 'caregiv', 'careless', 'caretak', 'carey', 'cargo', 'cari', 'caribbean', 'carl', 'carla', 'carli', 'carlo', 'carlotta', 'carmen', 'carmichael', 'carmin', 'carnegi', 'carniv', 'carnivor', 'carol', 'carolin', 'carolina', 'carolyn', 'carpent', 'carr', 'carri', 'carrier', 'carrol', 'carruth', 'carson', 'cart', 'cartel', 'carter', 'cartoon', 'cartwright', 'carv', 'carver', 'casanova', 'case', 'casey', 'cash', 'cashier', 'casino', 'caspar', 'cassandra', 'cassett', 'cassi', 'cassidi', 'cassiu', 'cast', 'caster', 'castl', 'castro', 'casual', 'casualti', 'cat', 'catalyst', 'catastroph', 'cataton', 'catch', 'catcher', 'cate', 'cater', 'cathedr', 'catherin', 'cathi', 'cathol', 'cattl', 'caucasian', 'caught', 'caulfield', 'caus', 'cautiou', 'cavalri', 'cave', 'cavern', 'cd', 'ceas', 'cecil', 'cecilia', 'cedar', 'ceil', 'celebr', 'celest', 'celia', 'celin', 'cell', 'cellar', 'cellist', 'cellular', 'celtic', 'cemeteri', 'cent', 'center', 'centr', 'central', 'centuri', 'ceo', 'cereal', 'ceremoni', 'certain', 'certainli', 'certif', 'cesar', 'chad', 'chagrin', 'chain', 'chair', 'chairman', 'challeng', 'chamber', 'champ', 'champagn', 'champion', 'championship', 'chan', 'chanc', 'chancellor', 'chandler', 'chandra', 'chaney', 'chang', 'channard', 'channel', 'chanticl', 'chao', 'chaotic', 'chapel', 'chaperon', 'chaplain', 'chaplin', 'chapman', 'chapter', 'charact', 'character', 'characterist', 'charg', 'charisma', 'charismat', 'chariti', 'charl', 'charlestown', 'charley', 'charli', 'charlott', 'charm', 'charmer', 'chart', 'charter', 'charteri', 'chase', 'chastis', 'chat', 'chauffeur', 'chauncey', 'chauvinist', 'chaz', 'che', 'cheap', 'cheat', 'cheater', 'check', 'checker', 'cheech', 'cheer', 'cheerlead', 'chees', 'cheetah', 'chef', 'chelsea', 'chemic', 'chemist', 'chemistri', 'chen', 'cherri', 'cheryl', 'chess', 'chest', 'chester', 'chet', 'chev', 'chew', 'cheyenn', 'chi', 'chicago', 'chick', 'chicken', 'chico', 'chief', 'child', 'childbirth', 'childer', 'childhood', 'childlik', 'childress', 'chile', 'chili', 'chill', 'chilton', 'chimera', 'chimp', 'chimpanze', 'china', 'chinatown', 'chine', 'chip', 'chiyo', 'chloe', 'cho', 'chocol', 'choic', 'choir', 'chon', 'chong', 'choos', 'chop', 'chore', 'choreograph', 'choru', 'chose', 'chosen', 'chow', 'chri', 'christ', 'christi', 'christian', 'christin', 'christina', 'christma', 'christoph', 'chronic', 'chronicl', 'chronolog', 'chrystal', 'chuck', 'chucki', 'chum', 'church', 'churchil', 'cia', 'cid', 'cigar', 'cigarett', 'cincinnati', 'cinderella', 'cindi', 'cinema', 'cinemat', 'circa', 'circl', 'circu', 'circuit', 'circul', 'circumst', 'circumstanti', 'citi', 'citizen', 'civic', 'civil', 'civilian', 'clad', 'claiborn', 'claim', 'clair', 'clan', 'clandestin', 'clara', 'clare', 'clarenc', 'claric', 'clarissa', 'clark', 'clash', 'class', 'classic', 'classifi', 'classmat', 'classroom', 'clau', 'claud', 'claudia', 'claudio', 'claus', 'claw', 'clay', 'clayboy', 'clayton', 'clean', 'cleaner', 'clear', 'clearer', 'clearli', 'clem', 'cleo', 'cleopatra', 'clerk', 'cleve', 'cleveland', 'clever', 'cleverli', 'client', 'cliff', 'clifford', 'climact', 'climat', 'climax', 'climb', 'climber', 'cling', 'clinic', 'clint', 'clinton', 'clip', 'clipper', 'clive', 'clock', 'clone', 'close', 'closer', 'closest', 'closet', 'closur', 'cloth', 'cloud', 'clouseau', 'clover', 'clown', 'club', 'clue', 'clueless', 'clumsi', 'clutch', 'clyde', 'clydi', 'cmdr', 'co', 'coach', 'coal', 'coast', 'coastal', 'coaster', 'coat', 'cobb', 'cobra', 'cobretti', 'cocain', 'cochran', 'cocki', 'cockroach', 'cocktail', 'coco', 'cocoon', 'cod', 'code', 'codenam', 'codi', 'coerc', 'coffe', 'coffin', 'cohen', 'cohort', 'coin', 'coincid', 'coincident', 'coke', 'col', 'colbi', 'cold', 'cole', 'coleman', 'colin', 'collabor', 'collaps', 'collar', 'colleagu', 'collect', 'collector', 'colleg', 'colli', 'collid', 'collin', 'collis', 'colombia', 'colombian', 'colon', 'colonel', 'coloni', 'color', 'colorado', 'colossu', 'colt', 'colton', 'columbia', 'columbu', 'column', 'columnist', 'colwyn', 'com', 'coma', 'comatos', 'combat', 'combin', 'come', 'comeback', 'comed', 'comedi', 'comedian', 'comet', 'comfort', 'comic', 'command', 'commando', 'commenc', 'comment', 'commentari', 'commerci', 'commiss', 'commission', 'commit', 'committe', 'commod', 'common', 'commun', 'communist', 'commut', 'compani', 'companion', 'companionship', 'compar', 'comparison', 'compass', 'compassion', 'compat', 'compel', 'compens', 'compet', 'competit', 'competitor', 'complain', 'complaint', 'complet', 'complex', 'compli', 'complic', 'compos', 'composit', 'compound', 'comprehend', 'comprehens', 'compris', 'compromis', 'compuls', 'comput', 'comrad', 'con', 'conan', 'conceal', 'conceiv', 'concentr', 'concept', 'concern', 'concert', 'conclud', 'conclus', 'concoct', 'concord', 'concurr', 'condemn', 'condit', 'condo', 'condom', 'condor', 'conduct', 'conductor', 'conduit', 'coney', 'confeder', 'confer', 'confess', 'confid', 'confidant', 'confidenti', 'confin', 'confirm', 'conflict', 'conform', 'confound', 'confront', 'confus', 'conglomer', 'congo', 'congress', 'congression', 'congressman', 'conjur', 'conklin', 'connect', 'connecticut', 'connel', 'conner', 'conneri', 'connex', 'conni', 'conniv', 'connor', 'conor', 'conquer', 'conquest', 'conrad', 'conroy', 'conscienc', 'consciou', 'conscious', 'consent', 'consequ', 'conserv', 'conservatori', 'consid', 'consider', 'consist', 'consol', 'consolid', 'conspir', 'conspiraci', 'constabl', 'constanc', 'constant', 'constantli', 'constern', 'constitut', 'construct', 'consul', 'consult', 'consum', 'consumm', 'consumpt', 'contact', 'contagi', 'contain', 'contamin', 'contempl', 'contemporari', 'contempt', 'contend', 'content', 'contest', 'contin', 'contini', 'continu', 'contract', 'contractor', 'contradict', 'contrari', 'contrast', 'contribut', 'contriv', 'control', 'controversi', 'conveni', 'convent', 'converg', 'convers', 'convert', 'convict', 'convinc', 'convoy', 'conway', 'cook', 'cooki', 'cool', 'coop', 'cooper', 'coordin', 'cop', 'cope', 'copi', 'copycat', 'cora', 'cordial', 'core', 'corey', 'cori', 'corki', 'corleon', 'corn', 'corner', 'coron', 'corp', 'corpor', 'correct', 'correctli', 'correspond', 'corridor', 'corrupt', 'corso', 'corusc', 'cosbi', 'cosmet', 'cosmic', 'cosmo', 'cossack', 'cost', 'costa', 'costum', 'cottag', 'cotton', 'couch', 'coughlin', 'could', 'council', 'counsel', 'counselor', 'count', 'counter', 'counterfeit', 'counterpart', 'countess', 'counti', 'countless', 'countri', 'countrysid', 'coup', 'coupl', 'courag', 'cours', 'court', 'courtesan', 'courthous', 'courtney', 'courtroom', 'courtship', 'cousin', 'cove', 'coven', 'cover', 'covert', 'covet', 'cow', 'coward', 'cowardli', 'cowboy', 'cowork', 'cox', 'cozi', 'crab', 'crack', 'craft', 'crafti', 'craig', 'crain', 'crane', 'cranki', 'crap', 'crash', 'crate', 'crave', 'craven', 'crawford', 'crawl', 'craze', 'crazi', 'cream', 'creat', 'creation', 'creativ', 'creator', 'creatur', 'credit', 'creditor', 'creed', 'creek', 'creep', 'creepi', 'cremat', 'cresta', 'crew', 'cri', 'cricket', 'crime', 'crimin', 'crippl', 'crisi', 'cristina', 'critic', 'crockett', 'croni', 'crook', 'crop', 'cross', 'crossroad', 'crossword', 'crow', 'crowd', 'crown', 'crucial', 'crude', 'cruel', 'cruelti', 'cruis', 'cruiser', 'crumb', 'crumbl', 'crusad', 'crush', 'cruso', 'cruz', 'crypt', 'cryptic', 'crystal', 'cub', 'cuba', 'cuban', 'cullen', 'culmin', 'culprit', 'cult', 'cultur', 'cum', 'cun', 'cunningham', 'cup', 'cur', 'curat', 'cure', 'curio', 'curiou', 'curli', 'current', 'curt', 'curtain', 'curti', 'curv', 'cusack', 'custer', 'custodi', 'custom', 'cut', 'cute', 'cutter', 'cutthroat', 'cyber', 'cyborg', 'cycl', 'cynic', 'cynthia', 'cyru', 'da', 'dad', 'daddi', 'daffi', 'dag', 'dahlia', 'daili', 'daisi', 'dakota', 'dale', 'dalla', 'dalloway', 'dalton', 'dam', 'damag', 'dame', 'damian', 'damien', 'damm', 'damn', 'damon', 'dan', 'dana', 'danc', 'dancer', 'dane', 'danger', 'dani', 'daniel', 'danni', 'dant', 'daphn', 'darbi', 'darci', 'dardo', 'dare', 'daredevil', 'dariu', 'dark', 'darker', 'darkest', 'darkli', 'darl', 'darrel', 'darren', 'darwin', 'daryl', 'dash', 'dastardli', 'data', 'date', 'daughter', 'daulton', 'daunt', 'dave', 'davey', 'davi', 'david', 'davidson', 'dawn', 'dawson', 'day', 'daydream', 'daylight', 'daze', 'dazzl', 'dc', 'de', 'dea', 'deacon', 'dead', 'deadbeat', 'deadli', 'deadliest', 'deaf', 'deal', 'dealer', 'dealership', 'dean', 'deani', 'dear', 'death', 'deathb', 'debat', 'debaucheri', 'debbi', 'deborah', 'debt', 'debut', 'decad', 'decay', 'deceas', 'deceit', 'deceiv', 'decemb', 'decent', 'decept', 'decid', 'decim', 'deciph', 'decis', 'deck', 'decker', 'declar', 'declin', 'decod', 'decommiss', 'decor', 'decrepit', 'dede', 'dedic', 'deduc', 'deduct', 'dee', 'deed', 'deede', 'deel', 'deem', 'deemer', 'deep', 'deepen', 'deeper', 'deepest', 'deepli', 'deer', 'defeat', 'defect', 'defenc', 'defend', 'defens', 'defi', 'defin', 'definit', 'deform', 'degener', 'degre', 'dei', 'deke', 'del', 'delaney', 'delay', 'deliber', 'delici', 'delight', 'delinqu', 'deliv', 'deliveri', 'dell', 'della', 'dellaplan', 'delo', 'delor', 'delorean', 'delta', 'delus', 'delusion', 'delv', 'demand', 'demeanor', 'dement', 'dementia', 'demetriu', 'demilo', 'demis', 'democraci', 'democrat', 'demolish', 'demolit', 'demon', 'demonstr', 'demot', 'den', 'deni', 'denial', 'denigr', 'denis', 'denni', 'denounc', 'dent', 'dental', 'dentist', 'denver', 'deon', 'depart', 'departur', 'depend', 'depict', 'deplet', 'deploy', 'deport', 'deposit', 'depot', 'depress', 'depriv', 'depth', 'deputi', 'derail', 'derang', 'derbi', 'dere', 'derek', 'derelict', 'deriv', 'derrick', 'desalvo', 'descend', 'descent', 'describ', 'descript', 'desert', 'deserv', 'design', 'desir', 'desk', 'desmond', 'desol', 'despair', 'desper', 'despic', 'despis', 'despit', 'despond', 'destin', 'destini', 'destroy', 'destruct', 'det', 'detach', 'detail', 'detain', 'detect', 'detent', 'deterior', 'determin', 'detest', 'deton', 'detour', 'detox', 'detractor', 'detroit', 'deuc', 'devast', 'develop', 'deveraux', 'devereaux', 'devi', 'devic', 'devil', 'devin', 'deviou', 'devoid', 'devot', 'devour', 'devout', 'dewey', 'dex', 'dexter', 'di', 'diabet', 'diablo', 'diabol', 'diagnos', 'diagnosi', 'dialogu', 'diamond', 'dian', 'diana', 'diari', 'dice', 'dick', 'dicki', 'dickinson', 'dictat', 'dictatori', 'dictatorship', 'die', 'diego', 'diesel', 'diet', 'dietrich', 'differ', 'difficult', 'difficulti', 'dig', 'digger', 'digimon', 'digit', 'digniti', 'dilapid', 'dilemma', 'dilling', 'dillon', 'dim', 'dimens', 'dimension', 'diminish', 'dimitri', 'dimitrio', 'dimwit', 'dine', 'diner', 'dingi', 'dink', 'dinner', 'dino', 'dinosaur', 'diplomat', 'dire', 'direct', 'directionless', 'directli', 'director', 'directori', 'dirt', 'dirti', 'disabl', 'disagre', 'disappear', 'disappoint', 'disapprov', 'disarm', 'disast', 'disastr', 'disband', 'disc', 'discharg', 'disciplin', 'disclos', 'disco', 'discov', 'discoveri', 'discredit', 'discrimin', 'discus', 'disdain', 'diseas', 'disfigur', 'disgrac', 'disgruntl', 'disguis', 'disgust', 'dish', 'dishevel', 'dishonest', 'disillus', 'disintegr', 'disinterest', 'disk', 'dislik', 'dismantl', 'dismay', 'dismiss', 'disney', 'disobey', 'disord', 'disown', 'dispar', 'dispatch', 'displac', 'display', 'dispos', 'disput', 'disregard', 'disrupt', 'dissatisfact', 'dissatisfi', 'dissolut', 'dissolv', 'dissuad', 'distanc', 'distant', 'distinct', 'distinguish', 'distract', 'distraught', 'distress', 'distribut', 'district', 'distrust', 'disturb', 'ditch', 'diva', 'dive', 'diver', 'diverg', 'divert', 'divid', 'divin', 'divis', 'divorc', 'divorcé', 'divulg', 'dix', 'dixi', 'dixon', 'dizzi', 'dj', 'django', 'djin', 'dmitri', 'dmt', 'dna', 'dobson', 'doc', 'dock', 'doctor', 'document', 'documentari', 'dodd', 'dodg', 'dodger', 'dog', 'dogg', 'doggi', 'dolittl', 'doll', 'dollar', 'dolli', 'dolor', 'dolph', 'dolphin', 'dom', 'domest', 'domin', 'dominick', 'dominiqu', 'domino', 'donald', 'donat', 'done', 'donkey', 'donna', 'donnelli', 'donner', 'donni', 'donor', 'donovan', 'doolittl', 'doom', 'doomsday', 'door', 'doorstep', 'dope', 'dora', 'doraemon', 'doren', 'dori', 'dorian', 'dorm', 'dorothi', 'dose', 'dot', 'dote', 'dotti', 'doubl', 'doubt', 'doug', 'dougla', 'dour', 'dove', 'dowag', 'downey', 'downfal', 'downhil', 'downsiz', 'downstair', 'downtown', 'downward', 'doyl', 'dozen', 'dr', 'draco', 'dracula', 'draft', 'drag', 'drago', 'dragon', 'drain', 'drake', 'drama', 'dramat', 'draper', 'drastic', 'draw', 'drawer', 'drawn', 'drayton', 'dre', 'dread', 'dream', 'dreamer', 'dredd', 'dress', 'dresser', 'drew', 'drey', 'dreyfu', 'dreyfus', 'dri', 'drift', 'drifter', 'drill', 'drink', 'driscol', 'drive', 'driven', 'driver', 'driveway', 'drone', 'drool', 'drop', 'dropout', 'drought', 'drove', 'drown', 'drug', 'drum', 'drummer', 'drunk', 'drunkard', 'drunken', 'du', 'duan', 'dub', 'dubiou', 'dublin', 'duboi', 'duck', 'dude', 'dudley', 'due', 'duel', 'duke', 'dull', 'duma', 'dumb', 'dump', 'duncan', 'dunde', 'dungeon', 'dunn', 'duo', 'dupe', 'dupre', 'durant', 'durat', 'durel', 'dussand', 'dust', 'dusti', 'dutch', 'duti', 'dwarf', 'dwarv', 'dwayn', 'dwell', 'dweller', 'dwight', 'dwindl', 'dylan', 'dynam', 'dynamit', 'dynasti', 'dysfunct', 'e', 'ea', 'eager', 'eagerli', 'eagl', 'ear', 'earl', 'earli', 'earlier', 'earn', 'earnest', 'earth', 'earthl', 'earthquak', 'easi', 'easier', 'easili', 'east', 'easter', 'eastern', 'eastman', 'easton', 'eastwood', 'eat', 'eaten', 'eater', 'eben', 'eboni', 'eccentr', 'echo', 'eclect', 'eclips', 'ecolog', 'econom', 'economi', 'ecosystem', 'ed', 'eddi', 'edelman', 'eden', 'edg', 'edgar', 'edgi', 'edi', 'edinburgh', 'edit', 'edith', 'editor', 'edmond', 'edmund', 'edna', 'educ', 'edvard', 'edward', 'edwina', 'eeri', 'eeyor', 'effect', 'effi', 'effici', 'effort', 'egbert', 'egg', 'ego', 'egocentr', 'egon', 'egotist', 'egypt', 'egyptian', 'eiffel', 'eight', 'eighteen', 'eighteenth', 'eighti', 'eileen', 'einar', 'einstein', 'either', 'eke', 'el', 'elabor', 'elain', 'elder', 'elderli', 'eldest', 'eleanor', 'elect', 'electr', 'electra', 'electrician', 'electrifi', 'electrocut', 'electron', 'eleg', 'elektra', 'element', 'elementari', 'elena', 'eleph', 'elev', 'eleven', 'elf', 'elgin', 'eli', 'elig', 'elijah', 'elimin', 'eliot', 'elis', 'elisabeth', 'elit', 'eliza', 'elizabeth', 'ell', 'ella', 'ellen', 'elli', 'elliot', 'elliott', 'ellison', 'elm', 'elmer', 'elmo', 'elop', 'eloqu', 'elsa', 'elsewher', 'elud', 'elus', 'elv', 'elvi', 'elvira', 'elwood', 'elysium', 'em', 'emancip', 'embark', 'embarrass', 'embassi', 'embed', 'embezzl', 'embitt', 'embrac', 'embri', 'embroil', 'emerg', 'emigr', 'emil', 'emili', 'emir', 'emissari', 'emma', 'emmett', 'emmi', 'emori', 'emot', 'emotionless', 'emperor', 'empir', 'employ', 'employe', 'empress', 'empti', 'emul', 'en', 'enabl', 'enact', 'enamor', 'enchant', 'encount', 'encourag', 'end', 'endang', 'endear', 'endeavor', 'ender', 'endless', 'endors', 'endur', 'enemi', 'energet', 'energi', 'enforc', 'engag', 'engin', 'england', 'english', 'englishman', 'engulf', 'enhanc', 'enid', 'enigmat', 'enjoy', 'enlist', 'enni', 'enorm', 'enough', 'enrag', 'enrol', 'ensembl', 'enslav', 'ensu', 'ensur', 'entail', 'entangl', 'enter', 'enterpris', 'entertain', 'enthusiasm', 'enthusiast', 'entir', 'entiti', 'entitl', 'entourag', 'entranc', 'entrepreneur', 'entri', 'entrust', 'entwin', 'envelop', 'envi', 'enviou', 'environ', 'environment', 'envis', 'enzo', 'eon', 'epic', 'epidem', 'episod', 'equal', 'equat', 'equip', 'er', 'era', 'erad', 'eric', 'erica', 'erik', 'erika', 'erin', 'ernest', 'erni', 'erot', 'errol', 'error', 'erupt', 'escal', 'escap', 'escapad', 'escape', 'escort', 'esmeralda', 'esoter', 'especi', 'espionag', 'essenc', 'essenti', 'essex', 'establish', 'estat', 'esteban', 'esteem', 'estella', 'esther', 'estim', 'estrang', 'etc', 'etern', 'ethan', 'ethel', 'ethic', 'ethnic', 'eugen', 'europ', 'european', 'eva', 'evacu', 'evad', 'evalu', 'evan', 'eve', 'evelyn', 'even', 'event', 'eventu', 'ever', 'everett', 'everi', 'everybodi', 'everyday', 'everyon', 'everyth', 'everywher', 'evict', 'evid', 'evil', 'evolut', 'evolv', 'ex', 'exacerb', 'exact', 'exactli', 'exam', 'examin', 'exampl', 'exasper', 'excel', 'except', 'excess', 'exchang', 'excit', 'exclus', 'excus', 'execut', 'execution', 'exercis', 'exert', 'exhaust', 'exhibit', 'exhilar', 'exil', 'exist', 'exit', 'exoner', 'exorc', 'exorcis', 'exot', 'expand', 'expans', 'expatri', 'expect', 'expedit', 'expel', 'expend', 'expens', 'experi', 'experienc', 'experiment', 'expert', 'expertis', 'expir', 'explain', 'explan', 'explod', 'exploit', 'explor', 'explos', 'expo', 'exposur', 'express', 'expuls', 'extend', 'extens', 'extent', 'extermin', 'extern', 'extinct', 'extinguish', 'extort', 'extra', 'extract', 'extraordinari', 'extraterrestri', 'extrem', 'exuber', 'eye', 'eyesight', 'eyewit', 'f', 'faber', 'fabian', 'fabl', 'fabric', 'facad', 'face', 'facebook', 'facet', 'facial', 'facil', 'facilit', 'fact', 'faction', 'factor', 'factori', 'fade', 'fail', 'failur', 'faint', 'fair', 'fairi', 'fairli', 'fairytal', 'faith', 'fake', 'falcon', 'fall', 'fallen', 'fals', 'fame', 'famili', 'familiar', 'famou', 'fan', 'fanat', 'fanci', 'fang', 'fanni', 'fantas', 'fantasi', 'fantasia', 'fantast', 'far', 'fare', 'farewel', 'farm', 'farmer', 'farmhous', 'farnsworth', 'farrel', 'fascin', 'fascist', 'fashion', 'fast', 'faster', 'fastest', 'fat', 'fatal', 'fate', 'father', 'fatherhood', 'fault', 'faust', 'favor', 'favorit', 'favour', 'fay', 'fbi', 'fdr', 'fear', 'fearless', 'feast', 'feat', 'feather', 'featur', 'februari', 'feckless', 'fed', 'feder', 'fee', 'feed', 'feel', 'feisti', 'felic', 'felix', 'fell', 'fellow', 'fellowship', 'felt', 'femal', 'feminin', 'feminist', 'femm', 'fenc', 'fend', 'ferguson', 'fern', 'fernando', 'ferrari', 'ferri', 'fertil', 'fester', 'festiv', 'fetch', 'fett', 'feud', 'fever', 'fi', 'fianc', 'fiance', 'fiancé', 'fiction', 'fictiti', 'fidel', 'field', 'fiend', 'fierc', 'fieri', 'fifteen', 'fifth', 'fifti', 'fight', 'fighter', 'figur', 'file', 'fill', 'film', 'filmmak', 'filthi', 'fin', 'final', 'financ', 'financi', 'finch', 'find', 'fine', 'finest', 'finger', 'finian', 'finish', 'finlay', 'finn', 'fiona', 'fire', 'firearm', 'firefight', 'firefli', 'fireman', 'firm', 'first', 'fischer', 'fish', 'fisher', 'fisherman', 'fist', 'fit', 'fitzgerald', 'five', 'fix', 'fixat', 'fixer', 'flag', 'flamboy', 'flame', 'flamingo', 'flanagan', 'flare', 'flash', 'flashback', 'flat', 'flaw', 'fled', 'fledgl', 'flee', 'fleet', 'flem', 'fleme', 'flesh', 'fletch', 'fletcher', 'fli', 'flick', 'flier', 'flight', 'fling', 'flint', 'flip', 'flirt', 'flirtat', 'flirtati', 'float', 'flock', 'flood', 'floor', 'flop', 'flora', 'florenc', 'florida', 'flounder', 'flourish', 'flow', 'flower', 'flown', 'floyd', 'fluid', 'flynn', 'focu', 'focus', 'foe', 'fogg', 'foil', 'fold', 'foley', 'folk', 'follow', 'fond', 'food', 'fool', 'foot', 'footag', 'footbal', 'footstep', 'forbid', 'forbidden', 'forc', 'ford', 'foreign', 'foreman', 'foremost', 'forens', 'forese', 'forest', 'forev', 'forg', 'forger', 'forget', 'forgiv', 'forgotten', 'form', 'formal', 'former', 'formerli', 'formid', 'formula', 'forrest', 'forster', 'fort', 'forth', 'forthright', 'forti', 'fortifi', 'fortress', 'fortun', 'forward', 'foster', 'fought', 'foul', 'found', 'foundat', 'founder', 'fountain', 'four', 'foursom', 'fourteen', 'fourth', 'fowler', 'fox', 'fragil', 'fragment', 'frame', 'fran', 'franc', 'francesca', 'franchis', 'franci', 'francin', 'francisco', 'franck', 'franco', 'frank', 'frankenstein', 'franki', 'franklin', 'franni', 'frantic', 'franz', 'frat', 'fratern', 'fraud', 'freak', 'fred', 'freddi', 'frederick', 'free', 'freed', 'freedom', 'freelanc', 'freeli', 'freeman', 'freeway', 'freez', 'freighter', 'french', 'frenchman', 'frenzi', 'frequent', 'fresh', 'freshman', 'fri', 'friar', 'friction', 'friday', 'friend', 'friendli', 'friendship', 'frighten', 'fritz', 'frog', 'frollo', 'front', 'frontier', 'frost', 'frozen', 'fruit', 'frustrat', 'frye', 'fu', 'fuel', 'fugit', 'fulfil', 'full', 'fuller', 'fulli', 'fun', 'function', 'fund', 'fundament', 'fundamentalist', 'funer', 'funni', 'fur', 'furi', 'furiou', 'furnitur', 'furri', 'furthermor', 'futur', 'futurist', 'fuzzi', 'g', 'ga', 'gabe', 'gabriel', 'gadget', 'gaeriti', 'gaetano', 'gag', 'gail', 'gain', 'gal', 'galaxi', 'gale', 'galgani', 'gallagh', 'galleri', 'galloway', 'gambl', 'gambler', 'game', 'gandalf', 'gang', 'gangland', 'gangster', 'gant', 'ganz', 'gap', 'garag', 'garbag', 'garber', 'garcia', 'garden', 'gardner', 'garfield', 'gargoyl', 'gari', 'garland', 'garner', 'garrett', 'garrison', 'garrott', 'garth', 'gate', 'gather', 'gatlin', 'gave', 'gavin', 'gay', 'gear', 'gee', 'geek', 'geeki', 'geisha', 'gemini', 'gen', 'gender', 'gene', 'gener', 'generos', 'genesi', 'genet', 'geneva', 'geneviev', 'geniu', 'gennaro', 'genr', 'gentl', 'gentleman', 'gentri', 'genuin', 'geoffrey', 'geograph', 'georg', 'georgia', 'gerald', 'gerard', 'german', 'germani', 'gerri', 'gertrud', 'gestapo', 'gestur', 'get', 'getaway', 'ghetto', 'ghost', 'ghostbust', 'ghostli', 'gi', 'gianni', 'giant', 'gibson', 'gidden', 'gideon', 'gift', 'gig', 'gigant', 'gigolo', 'gil', 'gilbert', 'gill', 'gillespi', 'gilli', 'gilliam', 'gillian', 'gimmick', 'gin', 'gina', 'ginger', 'ginni', 'gino', 'giovanni', 'girl', 'girlfriend', 'git', 'give', 'given', 'glade', 'gladi', 'glamor', 'glanc', 'glass', 'glen', 'glenda', 'glenn', 'glimps', 'global', 'globe', 'glori', 'gloria', 'glove', 'glow', 'glue', 'glutton', 'gnome', 'go', 'goal', 'goat', 'god', 'goddess', 'godfath', 'godfrey', 'godmoth', 'godzilla', 'goe', 'goetabaug', 'gold', 'golden', 'golf', 'golfer', 'goliath', 'gon', 'gondorff', 'gone', 'gonzal', 'gonzalez', 'gonzo', 'goo', 'good', 'goodby', 'goodi', 'goodman', 'goodwil', 'goodwin', 'goof', 'goofi', 'goon', 'gooper', 'gordi', 'gordo', 'gordon', 'gore', 'gorgeou', 'gorilla', 'gospel', 'gossip', 'got', 'goth', 'gotham', 'gothel', 'gotten', 'gould', 'gover', 'govern', 'governor', 'grab', 'graboid', 'grace', 'grad', 'grade', 'grader', 'gradi', 'gradual', 'graduat', 'graham', 'grain', 'grand', 'grandchild', 'granddaught', 'grandfath', 'grandi', 'grandma', 'grandmoth', 'grandpa', 'grandpar', 'grandson', 'granger', 'granni', 'grant', 'grape', 'graphic', 'grappl', 'grasp', 'grass', 'grate', 'grave', 'gravedigg', 'graveyard', 'graviti', 'gray', 'grayl', 'great', 'greater', 'greatest', 'greatli', 'greec', 'greed', 'greedi', 'greek', 'green', 'greenhous', 'greenleaf', 'greenwich', 'greer', 'greet', 'greg', 'gregari', 'gregg', 'gregor', 'gregori', 'gremlin', 'grendel', 'greta', 'gretel', 'grew', 'grey', 'grief', 'griev', 'griff', 'griffin', 'griffith', 'grill', 'grim', 'grime', 'grimm', 'grind', 'grip', 'grisli', 'griswold', 'gritti', 'grizzli', 'groceri', 'groom', 'gross', 'grotesqu', 'ground', 'groundbreak', 'group', 'groupi', 'grove', 'grover', 'grow', 'grown', 'growth', 'gru', 'grudg', 'gruel', 'gruesom', 'gruff', 'grumpi', 'grung', 'gu', 'guantanamo', 'guarante', 'guard', 'guardian', 'gubernatori', 'guerilla', 'guerrilla', 'guess', 'guest', 'guggenheim', 'gui', 'guid', 'guidanc', 'guido', 'guil', 'guilt', 'guilti', 'guinea', 'guitar', 'guitarist', 'gulf', 'gump', 'gun', 'gunfight', 'gunman', 'gunn', 'gunner', 'gunni', 'gunshot', 'gunsling', 'guru', 'gustav', 'gut', 'guy', 'gwen', 'gym', 'gymnast', 'gypsi', 'h', 'haakon', 'habit', 'habitu', 'hachi', 'hack', 'hacker', 'hackett', 'haddock', 'haddonfield', 'hade', 'hail', 'hain', 'hair', 'hairdress', 'haki', 'hal', 'hale', 'haley', 'half', 'hall', 'halley', 'halli', 'hallow', 'halloween', 'hallstrom', 'hallucin', 'hallucinogen', 'haloran', 'halsey', 'halt', 'ham', 'hamburg', 'hamilton', 'hamlet', 'hammer', 'hammett', 'hammond', 'hampshir', 'hampton', 'han', 'hand', 'handbag', 'handcuf', 'handi', 'handicap', 'handl', 'handler', 'handsom', 'handyman', 'hang', 'hangout', 'hangov', 'hank', 'hanley', 'hanna', 'hannah', 'hanner', 'hannib', 'hansel', 'hansen', 'hanson', 'hanssen', 'hapless', 'happen', 'happenst', 'happi', 'happier', 'happili', 'har', 'hara', 'harass', 'harbor', 'hard', 'hardcor', 'harden', 'harder', 'hardest', 'hardi', 'hardin', 'hardli', 'hardship', 'hardwar', 'hare', 'hari', 'harlan', 'harlem', 'harm', 'harmless', 'harmon', 'harmoni', 'harold', 'harper', 'harri', 'harriet', 'harrison', 'harrow', 'harsh', 'hart', 'harvard', 'harvest', 'harvey', 'hassan', 'hassl', 'hast', 'hat', 'hatch', 'hate', 'hatr', 'haughti', 'haul', 'haunt', 'hauser', 'havana', 'havoc', 'hawaii', 'hawaiian', 'hawk', 'hawkin', 'hawthorn', 'hay', 'hayden', 'hayley', 'hazard', 'hazel', 'hd', 'head', 'headach', 'headless', 'headlin', 'headquart', 'headstrong', 'heal', 'healer', 'health', 'healthi', 'hear', 'heard', 'hearst', 'heart', 'heartach', 'heartbreak', 'heartbroken', 'heartfelt', 'heartland', 'heartless', 'heat', 'heathcliff', 'heather', 'heaven', 'heavenli', 'heavi', 'heavili', 'heavyweight', 'hebrew', 'hectic', 'hector', 'heel', 'heidi', 'height', 'heir', 'heiress', 'heist', 'hel', 'held', 'helen', 'helena', 'helicopt', 'hell', 'helm', 'help', 'helpless', 'hemingway', 'hen', 'henc', 'henchman', 'henderson', 'henri', 'herbert', 'herbi', 'hercul', 'herd', 'heritag', 'herman', 'hermit', 'hero', 'herod', 'heroic', 'heroin', 'heroism', 'herzog', 'hesit', 'hess', 'hester', 'heterosexu', 'hewett', 'hi', 'hibern', 'hiccup', 'hick', 'hickman', 'hickok', 'hid', 'hidden', 'hide', 'hideou', 'hideout', 'higgin', 'high', 'higher', 'highest', 'highli', 'highlight', 'hightow', 'highway', 'hijack', 'hike', 'hilar', 'hilari', 'hildi', 'hill', 'hillari', 'hillbilli', 'hilli', 'hinder', 'hindu', 'hint', 'hip', 'hippi', 'hipster', 'hire', 'hispan', 'histor', 'histori', 'historian', 'hit', 'hitch', 'hitchhik', 'hitler', 'hitman', 'hiv', 'ho', 'hoard', 'hoax', 'hobb', 'hobbi', 'hobo', 'hockey', 'hoffman', 'hog', 'hogan', 'hogwart', 'hoke', 'hold', 'holden', 'hole', 'holi', 'holiday', 'holland', 'holli', 'holliday', 'hollow', 'holloway', 'hollywood', 'holm', 'holocaust', 'holt', 'home', 'homecom', 'homeland', 'homeless', 'homemad', 'homer', 'homestead', 'hometown', 'homicid', 'homophob', 'homosexu', 'honest', 'honesti', 'honestli', 'honey', 'honeymoon', 'hong', 'honki', 'honolulu', 'honor', 'hood', 'hoodlum', 'hook', 'hooker', 'hoop', 'hooper', 'hoover', 'hop', 'hope', 'hopeless', 'hopelessli', 'hopkin', 'hopper', 'horac', 'hord', 'horizon', 'hormon', 'horn', 'horni', 'horribl', 'horrif', 'horrifi', 'horrigan', 'horror', 'hors', 'horseman', 'horton', 'hospit', 'host', 'hostag', 'hostess', 'hostetl', 'hostil', 'hot', 'hotel', 'hotshot', 'hottest', 'hotti', 'hound', 'hour', 'hous', 'household', 'housekeep', 'housewif', 'houston', 'howard', 'howev', 'hubbard', 'hubbl', 'hubert', 'huck', 'hud', 'hudson', 'huey', 'huge', 'hugh', 'hugo', 'hulk', 'human', 'humanitarian', 'humankind', 'humbl', 'humili', 'humor', 'humorless', 'hunchback', 'hundr', 'hung', 'hungarian', 'hunger', 'hungri', 'hunki', 'hunt', 'hunter', 'hur', 'hurri', 'hurrican', 'hurt', 'husband', 'hustl', 'hustler', 'huston', 'hut', 'huxley', 'hyde', 'hypnosi', 'hypnot', 'hyster', 'hysteria', 'ian', 'ice', 'iceland', 'ichabod', 'ici', 'icon', 'id', 'ida', 'idaho', 'idea', 'ideal', 'idealist', 'ident', 'identifi', 'ideolog', 'idiot', 'idol', 'idyl', 'ignit', 'ignor', 'ii', 'iii', 'ike', 'il', 'ill', 'illeg', 'illegitim', 'illicit', 'illinoi', 'illumin', 'illus', 'illustr', 'imag', 'imageri', 'imagin', 'imaginari', 'imf', 'immatur', 'immedi', 'immens', 'immers', 'immigr', 'immin', 'immort', 'immun', 'impact', 'impass', 'impati', 'impend', 'imperi', 'imperson', 'implant', 'implement', 'impli', 'implic', 'import', 'importantli', 'impos', 'imposs', 'impostor', 'impot', 'impoverish', 'impresario', 'impress', 'impression', 'imprison', 'improb', 'impromptu', 'improp', 'improv', 'improvis', 'impuls', 'inabl', 'inact', 'inadvert', 'inappropri', 'inc', 'incap', 'incarcer', 'incarn', 'inch', 'incid', 'incit', 'inclin', 'includ', 'inclus', 'incom', 'incompat', 'incompet', 'incorrect', 'increas', 'increasingli', 'incred', 'incredul', 'incrimin', 'incur', 'inde', 'independ', 'indestruct', 'indi', 'india', 'indian', 'indiana', 'indianapoli', 'indic', 'indict', 'indiffer', 'indirectli', 'indiscret', 'individu', 'induc', 'indulg', 'industri', 'industrialist', 'inept', 'inevit', 'inexor', 'inexperienc', 'inexplic', 'infam', 'infant', 'infantri', 'infatu', 'infect', 'inferior', 'infest', 'infidel', 'infiltr', 'inflict', 'influenc', 'influenti', 'info', 'inform', 'infuri', 'ingram', 'ingrati', 'ingredi', 'ingrid', 'ingénu', 'inhabit', 'inher', 'inherit', 'initi', 'inject', 'injur', 'injuri', 'inmat', 'inn', 'inner', 'innoc', 'innov', 'inquiri', 'insan', 'insect', 'insecur', 'insensit', 'insepar', 'insert', 'insid', 'insight', 'insinu', 'insist', 'insomnia', 'insomniac', 'inspect', 'inspector', 'inspir', 'instal', 'instanc', 'instant', 'instantli', 'instead', 'instil', 'instinct', 'institut', 'institution', 'instruct', 'instructor', 'instrument', 'insult', 'insur', 'intact', 'integr', 'intellect', 'intellectu', 'intellig', 'intend', 'intens', 'intent', 'inter', 'interact', 'intercept', 'intercut', 'interest', 'interfer', 'intergalact', 'interior', 'intern', 'internet', 'internship', 'interplanetari', 'interpret', 'interrog', 'interrupt', 'intersect', 'intertwin', 'interven', 'intervent', 'interview', 'interwoven', 'intim', 'intimaci', 'intimid', 'intoler', 'intrepid', 'intrigu', 'introduc', 'introduct', 'introvert', 'intrud', 'invad', 'invalid', 'invas', 'invent', 'inventor', 'invest', 'investig', 'investor', 'invinc', 'invis', 'invit', 'involv', 'iowa', 'ir', 'ira', 'iraq', 'iraqi', 'ireland', 'iren', 'iri', 'irish', 'irk', 'iron', 'ironi', 'irrepress', 'irresist', 'irrespons', 'irrever', 'irrit', 'irv', 'irwin', 'isaac', 'isabel', 'isabella', 'ishmael', 'isl', 'islam', 'island', 'isol', 'isold', 'isra', 'israel', 'issu', 'itali', 'italian', 'item', 'iv', 'ivan', 'ivi', 'izzi', 'j', 'jaci', 'jack', 'jacket', 'jacki', 'jackpot', 'jackson', 'jacob', 'jacq', 'jacqu', 'jacquelin', 'jade', 'jaff', 'jaguar', 'jail', 'jake', 'jaki', 'jam', 'jamaica', 'jamaican', 'jamal', 'jame', 'jami', 'jan', 'jane', 'janeiro', 'janet', 'jani', 'janic', 'janitor', 'jansen', 'januari', 'japan', 'japanes', 'jare', 'jarrod', 'jarvi', 'jasmin', 'jason', 'jasper', 'jaw', 'jay', 'jazz', 'jealou', 'jealousi', 'jean', 'jeani', 'jeanni', 'jeb', 'jed', 'jedi', 'jeep', 'jeff', 'jefferson', 'jeffrey', 'jekyl', 'jen', 'jena', 'jenko', 'jenna', 'jenni', 'jennif', 'jensen', 'jeopard', 'jeopardi', 'jeremi', 'jeremiah', 'jericho', 'jerk', 'jerom', 'jerri', 'jersey', 'jerusalem', 'jess', 'jessi', 'jessica', 'jessup', 'jester', 'jesu', 'jet', 'jew', 'jewel', 'jewelri', 'jewish', 'jfk', 'jigsaw', 'jill', 'jilt', 'jim', 'jimmi', 'jin', 'jo', 'joan', 'joani', 'joann', 'joanna', 'job', 'jock', 'jockey', 'jodi', 'joe', 'joel', 'joey', 'johann', 'johanna', 'john', 'johnni', 'johnson', 'johnston', 'join', 'joint', 'jojo', 'joke', 'joker', 'jon', 'jona', 'jonah', 'jonathan', 'jone', 'jordan', 'jorg', 'jose', 'joseph', 'josephin', 'josey', 'josh', 'joshua', 'josi', 'journal', 'journalist', 'journey', 'joy', 'joyc', 'jr', 'juan', 'judah', 'judd', 'jude', 'judg', 'judgment', 'judi', 'judith', 'juggl', 'juic', 'jule', 'juli', 'julia', 'julian', 'juliet', 'julio', 'juliu', 'jumbo', 'jump', 'jumper', 'june', 'jungl', 'junior', 'junk', 'junki', 'junkyard', 'junnah', 'juno', 'jupit', 'juri', 'jurisdict', 'juror', 'justic', 'justifi', 'justin', 'juvenil', 'k', 'kagan', 'kai', 'kaiju', 'kale', 'kane', 'kangaroo', 'kansa', 'karat', 'karel', 'karen', 'karin', 'karl', 'kassi', 'kat', 'kate', 'katherin', 'kathi', 'kathleen', 'kathryn', 'kati', 'katniss', 'katrina', 'kaufman', 'kay', 'kazuo', 'kean', 'keaton', 'keen', 'keenli', 'keep', 'keeper', 'keitel', 'keith', 'kell', 'keller', 'kelley', 'kelli', 'kelso', 'kemp', 'ken', 'kenai', 'kendal', 'kennedi', 'kenneth', 'kenni', 'kenobi', 'kent', 'kenton', 'kentucki', 'kenya', 'kept', 'kermit', 'kerouac', 'kersey', 'kessler', 'kevin', 'key', 'kgb', 'khan', 'kick', 'kickbox', 'kid', 'kidd', 'kidnap', 'kidnapp', 'kidney', 'kill', 'killer', 'kim', 'kimberli', 'kimbl', 'kin', 'kind', 'kindergarten', 'kindli', 'kindr', 'king', 'kingdom', 'kingpin', 'kingsbi', 'kingsfield', 'kingston', 'kinsey', 'kip', 'kira', 'kirbi', 'kirk', 'kirshner', 'kirsti', 'kiss', 'kit', 'kitchen', 'kitten', 'kitti', 'kittredg', 'klan', 'klara', 'klau', 'klein', 'klingon', 'klump', 'klux', 'knee', 'knew', 'knife', 'knight', 'knit', 'knive', 'knock', 'know', 'knowledg', 'known', 'knox', 'kojima', 'kong', 'korda', 'korea', 'korean', 'kovac', 'krab', 'kraken', 'kramer', 'kri', 'kristen', 'kristina', 'krueger', 'krug', 'kruger', 'krypton', 'ku', 'kubrick', 'kumar', 'kung', 'kunlun', 'kuroda', 'kurt', 'kwan', 'kyle', 'kyra', 'l', 'la', 'lab', 'label', 'labor', 'laboratori', 'labour', 'lace', 'lacey', 'lack', 'lackey', 'lacon', 'lad', 'ladder', 'laden', 'ladi', 'lago', 'laid', 'lair', 'lake', 'lalita', 'lamar', 'lamb', 'lambert', 'lament', 'lamont', 'lan', 'lana', 'lanc', 'land', 'landa', 'landladi', 'landlord', 'landmark', 'landon', 'landown', 'landscap', 'lane', 'lang', 'langdon', 'languag', 'lantern', 'lao', 'lap', 'lapd', 'lar', 'lara', 'larg', 'larger', 'largest', 'larkin', 'larrabe', 'larri', 'larson', 'laser', 'lash', 'lassard', 'lassparri', 'last', 'late', 'later', 'latest', 'latin', 'latrel', 'latter', 'laugh', 'laughter', 'launch', 'launder', 'laundri', 'laura', 'laurel', 'lauren', 'laurenc', 'laurent', 'lauri', 'lavern', 'lavish', 'lavond', 'law', 'lawless', 'lawman', 'lawn', 'lawrenc', 'lawson', 'lawsuit', 'lawyer', 'lay', 'layer', 'layn', 'lazaru', 'lazi', 'le', 'lea', 'lead', 'leader', 'leadership', 'leaf', 'leagu', 'leaguer', 'leah', 'leak', 'lean', 'leap', 'leari', 'learn', 'leash', 'least', 'leather', 'leav', 'lecter', 'lectur', 'led', 'ledg', 'lee', 'left', 'leg', 'legaci', 'legal', 'legend', 'legendari', 'legion', 'legitim', 'leibowitz', 'leigh', 'leisur', 'leland', 'lem', 'len', 'lena', 'lend', 'length', 'lenni', 'lennon', 'lennox', 'lenor', 'lenora', 'lent', 'leo', 'leon', 'leonard', 'leonida', 'leonora', 'leopard', 'leopold', 'leprechaun', 'leroy', 'lesbian', 'lesli', 'lessen', 'lesson', 'lester', 'let', 'lethal', 'letter', 'letti', 'leukemia', 'level', 'levi', 'lew', 'lewi', 'lexi', 'li', 'liaison', 'liam', 'liar', 'libbi', 'libel', 'liber', 'liberti', 'librari', 'librarian', 'licens', 'lie', 'liesel', 'lieuten', 'life', 'lifeboat', 'lifeform', 'lifeguard', 'lifelong', 'lifer', 'lifestyl', 'lifetim', 'lift', 'light', 'lightcap', 'lighten', 'lightfoot', 'lightn', 'like', 'lila', 'lili', 'lilith', 'lilli', 'lillian', 'limb', 'limbo', 'limit', 'limo', 'limousin', 'limp', 'lin', 'lina', 'lincoln', 'linda', 'lindsey', 'line', 'liner', 'link', 'linnekar', 'linu', 'lion', 'lionel', 'lip', 'lipstick', 'liquid', 'liquor', 'lisa', 'lissa', 'list', 'listen', 'lit', 'liter', 'literari', 'literatur', 'littl', 'liu', 'liv', 'live', 'livelihood', 'livingston', 'liz', 'lizard', 'lizzi', 'lloyd', 'lo', 'load', 'loan', 'loath', 'lobbi', 'lobbyist', 'local', 'locat', 'lock', 'locker', 'lodg', 'loft', 'log', 'logan', 'logic', 'loi', 'loki', 'lola', 'lolita', 'lon', 'london', 'lone', 'loneli', 'loner', 'lonesom', 'long', 'longer', 'longest', 'longtim', 'lonnegan', 'lonni', 'loo', 'look', 'lookout', 'loom', 'loomi', 'looney', 'loop', 'loot', 'lopez', 'lord', 'lore', 'loretta', 'lori', 'lorna', 'lorrain', 'lose', 'loser', 'loss', 'lost', 'lot', 'lott', 'lotteri', 'lou', 'loud', 'louden', 'loui', 'louie', 'louis', 'louisa', 'louisiana', 'loung', 'lovabl', 'love', 'lovecraft', 'loveless', 'lover', 'low', 'lower', 'lowest', 'lowli', 'lowlif', 'loyal', 'loyalti', 'lt', 'luc', 'luca', 'luci', 'lucia', 'lucian', 'lucid', 'lucil', 'lucinda', 'luciu', 'luck', 'lucki', 'luckili', 'lucr', 'ludwig', 'luggag', 'lui', 'luke', 'luna', 'lunat', 'lunch', 'lung', 'lure', 'lurk', 'lush', 'lust', 'luther', 'luthor', 'luxuri', 'lycan', 'lydia', 'lyle', 'lyman', 'lynch', 'lyndon', 'lynn', 'lyon', 'lyric', 'lyssa', 'm', 'mabel', 'mac', 'macabr', 'macdonald', 'macfarlan', 'machin', 'macho', 'maci', 'mack', 'mackelway', 'mackenzi', 'mackey', 'macon', 'mad', 'madam', 'madcap', 'madden', 'maddi', 'made', 'madea', 'madelein', 'madelin', 'madg', 'madison', 'madli', 'madman', 'madonna', 'mae', 'mafia', 'magazin', 'maggi', 'magic', 'magician', 'magnat', 'magneto', 'magnific', 'mahoney', 'maid', 'maiden', 'mail', 'main', 'mainland', 'mainli', 'mainstream', 'maintain', 'mainten', 'maisi', 'majest', 'major', 'make', 'maker', 'makeshift', 'makeup', 'mal', 'malcolm', 'male', 'malefic', 'malevol', 'malfunct', 'malibu', 'malici', 'malik', 'mall', 'malley', 'mallori', 'malloy', 'malon', 'mama', 'mameha', 'mammoth', 'man', 'manag', 'manhattan', 'manhood', 'manhunt', 'mani', 'maniac', 'manic', 'manifest', 'manion', 'manipul', 'mankind', 'mannequin', 'manner', 'manni', 'manor', 'manserv', 'mansion', 'manual', 'manuel', 'manufactur', 'manuscript', 'map', 'mar', 'marathon', 'maraud', 'marc', 'march', 'marci', 'marcia', 'marco', 'marcu', 'marg', 'margaret', 'margi', 'margin', 'margo', 'margot', 'mari', 'maria', 'marian', 'mariann', 'marijuana', 'marilyn', 'marin', 'marina', 'marion', 'marit', 'marjori', 'mark', 'market', 'marlin', 'marlon', 'marlow', 'maroon', 'marqui', 'marri', 'marriag', 'marrow', 'marsh', 'marshal', 'martha', 'marti', 'martial', 'martian', 'martin', 'marv', 'marvel', 'marvin', 'marx', 'maryland', 'masazuka', 'mascot', 'masculin', 'mask', 'mason', 'masquerad', 'mass', 'massachusett', 'massacr', 'massag', 'massiv', 'master', 'mastermind', 'masterpiec', 'masturb', 'matahi', 'match', 'matchmak', 'mate', 'mater', 'materi', 'matern', 'math', 'matriarch', 'matrix', 'matt', 'matter', 'matthew', 'matti', 'matur', 'maud', 'maureen', 'mauric', 'maverick', 'mavi', 'max', 'maximum', 'maxin', 'maxwel', 'may', 'maya', 'mayan', 'mayb', 'mayhem', 'maynard', 'mayor', 'maze', 'mccabe', 'mccall', 'mccann', 'mccarthi', 'mcclane', 'mcclintock', 'mccloud', 'mccord', 'mccormick', 'mccoy', 'mcdonald', 'mcgee', 'mcginti', 'mcguir', 'mckay', 'mckenna', 'mcnamara', 'mcp', 'mcq', 'mcqueen', 'meadow', 'meal', 'mean', 'meaning', 'meaningless', 'meant', 'meantim', 'meanwhil', 'measur', 'meat', 'mechan', 'med', 'medal', 'meddl', 'medic', 'medici', 'medicin', 'mediev', 'mediocr', 'mediterranean', 'medium', 'medusa', 'meek', 'meet', 'meg', 'mega', 'megamind', 'megan', 'mel', 'melani', 'melissa', 'melodi', 'melsa', 'melt', 'meltdown', 'melvin', 'member', 'memoir', 'memor', 'memori', 'memphi', 'men', 'menac', 'mend', 'mendez', 'mengel', 'menial', 'mental', 'mention', 'mentor', 'merced', 'mercenari', 'mercer', 'merchandis', 'merchant', 'merci', 'merciless', 'mercilessli', 'mercuri', 'mere', 'meredith', 'merg', 'merger', 'merida', 'merivel', 'merl', 'merlin', 'mermaid', 'merri', 'merrick', 'merrin', 'mesh', 'mesmer', 'mess', 'messag', 'messala', 'messeng', 'messi', 'met', 'metal', 'metaphor', 'meteor', 'meteorit', 'meth', 'method', 'meticul', 'metro', 'metropoli', 'mexican', 'mexico', 'meyer', 'mgm', 'mi', 'mia', 'miami', 'micah', 'michael', 'michel', 'michelangelo', 'michigan', 'mick', 'mickey', 'microfilm', 'mid', 'middl', 'midg', 'midget', 'midnight', 'midst', 'midwest', 'midwestern', 'might', 'mighti', 'migrain', 'miguel', 'mika', 'mikael', 'mike', 'mikey', 'mikhail', 'mild', 'mildr', 'mile', 'milgram', 'militari', 'militia', 'milk', 'mill', 'millennium', 'miller', 'milli', 'millic', 'million', 'millionair', 'milo', 'milquetoast', 'milton', 'milwauke', 'mimi', 'mimic', 'min', 'mina', 'mind', 'minded', 'mindi', 'mine', 'miner', 'ming', 'mini', 'miniatur', 'minimum', 'minion', 'minist', 'ministri', 'minnesota', 'minni', 'minor', 'minstrel', 'minut', 'mira', 'miracl', 'miracul', 'miranda', 'mire', 'miriam', 'miro', 'mirror', 'misadventur', 'mischief', 'mischiev', 'miser', 'miseri', 'misfit', 'misfortun', 'misgiv', 'misguid', 'mishap', 'mishima', 'mismatch', 'miss', 'missi', 'missil', 'mission', 'missionari', 'mississippi', 'missouri', 'misstep', 'mist', 'mistak', 'mistaken', 'mistakenli', 'misti', 'mistreat', 'mistress', 'mistrust', 'misunderstand', 'mit', 'mitch', 'mitchel', 'mix', 'mixtur', 'miyagi', 'mk', 'mo', 'mob', 'mobil', 'mobster', 'mock', 'mockumentari', 'model', 'moder', 'modern', 'modest', 'modifi', 'mogul', 'mogwai', 'mole', 'molest', 'molina', 'moll', 'molli', 'mom', 'moment', 'momma', 'mona', 'monahan', 'monasteri', 'monday', 'money', 'monica', 'monitor', 'monk', 'monkey', 'monro', 'monsignor', 'monster', 'monstrou', 'mont', 'montana', 'montero', 'montgomeri', 'month', 'monti', 'montini', 'montreal', 'monument', 'moo', 'mood', 'moodi', 'moon', 'moonlight', 'moonshin', 'moor', 'moral', 'moran', 'moreau', 'morgan', 'morgu', 'mormon', 'morn', 'morocco', 'moron', 'morri', 'morrison', 'mort', 'mortal', 'mortgag', 'morti', 'mortim', 'morton', 'moscow', 'mose', 'moss', 'mostli', 'motaba', 'motel', 'mother', 'motion', 'motiv', 'motley', 'motor', 'motorcycl', 'motown', 'motto', 'mount', 'mountain', 'mourn', 'mous', 'mouse', 'mouth', 'move', 'movement', 'mover', 'movi', 'mowgli', 'mr', 'mt', 'mtv', 'much', 'mud', 'mug', 'mugger', 'mulder', 'muldoon', 'mule', 'muller', 'mullin', 'multi', 'multin', 'multipl', 'multipli', 'mulwray', 'mumbl', 'mummi', 'muna', 'mundan', 'munro', 'muppet', 'murder', 'murdoch', 'murdock', 'murphi', 'murray', 'murtaugh', 'muscl', 'muse', 'museum', 'musgrav', 'music', 'musician', 'musket', 'muslim', 'must', 'mustang', 'muster', 'mutant', 'mutat', 'mute', 'mutil', 'mutini', 'muto', 'mutual', 'myer', 'myle', 'myra', 'myron', 'myrtl', 'mysteri', 'mystic', 'myth', 'mythic', 'mytholog', 'n', 'nab', 'naboo', 'nadin', 'nag', 'nail', 'naiv', 'nake', 'nam', 'name', 'nanci', 'nanett', 'nanni', 'naomi', 'nap', 'napoleon', 'narcot', 'narr', 'narrat', 'narrow', 'narrowli', 'nasa', 'nascar', 'nash', 'nasti', 'nat', 'natali', 'natalia', 'natasha', 'nate', 'nathan', 'nation', 'nationalist', 'nationwid', 'nativ', 'natur', 'naughti', 'naval', 'navarr', 'navi', 'navig', 'nayland', 'nazi', 'nba', 'nd', 'neal', 'neanderth', 'near', 'nearbi', 'nearest', 'nearli', 'nebraska', 'necess', 'necessari', 'necessarili', 'neck', 'neckbon', 'necklac', 'ned', 'need', 'needi', 'needl', 'nefari', 'neg', 'neglect', 'negoti', 'neighbor', 'neighborhood', 'neighbour', 'neighbourhood', 'neil', 'neill', 'neither', 'nel', 'nell', 'nella', 'nelson', 'nemesi', 'nemo', 'neo', 'nephew', 'neptun', 'nerd', 'nerdi', 'nerv', 'nervou', 'nest', 'nestor', 'net', 'network', 'neuros', 'neurot', 'neutral', 'nevada', 'never', 'nevertheless', 'nevil', 'new', 'newborn', 'newcom', 'newest', 'newfound', 'newli', 'newlyw', 'newman', 'news', 'newspap', 'newsreel', 'newton', 'next', 'nfl', 'nic', 'nice', 'nichola', 'nicholson', 'nick', 'nicki', 'nicknam', 'nico', 'nicol', 'niec', 'nigel', 'night', 'nightclub', 'nightmar', 'nightmarish', 'nikki', 'nikolai', 'nile', 'nim', 'nina', 'nine', 'nineteen', 'nineteenth', 'nineti', 'ninja', 'ninth', 'nixon', 'noah', 'nobel', 'nobita', 'nobl', 'nobleman', 'nobodi', 'noel', 'noell', 'noir', 'nois', 'nola', 'nolan', 'nomad', 'nomin', 'nomine', 'non', 'none', 'nonetheless', 'nonsens', 'nora', 'norah', 'norm', 'norma', 'normal', 'norman', 'norri', 'north', 'northern', 'norval', 'norway', 'norwegian', 'nose', 'nosi', 'nostalg', 'notabl', 'note', 'noth', 'notic', 'notion', 'notori', 'nottingham', 'nova', 'novale', 'novel', 'novelist', 'novemb', 'novic', 'nowher', 'nsa', 'nuclear', 'nude', 'nuke', 'number', 'numer', 'nun', 'nurs', 'nurseri', 'nurtur', 'nut', 'ny', 'nyc', 'nypd', 'née', 'oak', 'ob', 'obes', 'obey', 'obi', 'object', 'oblig', 'obliter', 'oblivi', 'obnoxi', 'obscen', 'obscur', 'observ', 'obstacl', 'obtain', 'obviou', 'obvious', 'occas', 'occasion', 'occult', 'occup', 'occupi', 'occur', 'occurr', 'ocean', 'octob', 'octopu', 'odd', 'oddbal', 'odessa', 'odett', 'odin', 'odiou', 'odyssey', 'offbeat', 'offend', 'offens', 'offer', 'offic', 'offici', 'offspr', 'often', 'oh', 'ohio', 'oil', 'ok', 'oklahoma', 'old', 'older', 'oldest', 'ole', 'olin', 'oliv', 'olivia', 'olli', 'olymp', 'olympu', 'omar', 'omega', 'omin', 'omnipres', 'oncom', 'one', 'ongo', 'onlin', 'onset', 'onto', 'oona', 'ooz', 'op', 'open', 'openli', 'oper', 'opera', 'opinion', 'oppon', 'opportun', 'opportunist', 'oppos', 'opposit', 'oppress', 'opt', 'optim', 'option', 'oral', 'orang', 'orb', 'orbit', 'orca', 'orchestr', 'orchestra', 'ordeal', 'order', 'ordinari', 'oregon', 'organ', 'orient', 'origin', 'orin', 'orlando', 'orlean', 'orphan', 'orphanag', 'orsini', 'orvil', 'osama', 'osborn', 'osbourn', 'oscar', 'osmond', 'ostens', 'oswald', 'othello', 'otherwis', 'oti', 'otto', 'oust', 'outbreak', 'outburst', 'outcast', 'outcom', 'outer', 'outfit', 'outgo', 'outlaw', 'outlin', 'outlook', 'outpost', 'outrag', 'outsid', 'outskirt', 'outspoken', 'outstand', 'outward', 'outwardli', 'outwit', 'overal', 'overbear', 'overboard', 'overcom', 'overdos', 'overgrown', 'overhear', 'overheard', 'overli', 'overlook', 'overnight', 'overpow', 'overprotect', 'overse', 'oversea', 'overthrow', 'overtli', 'overturn', 'overweight', 'overwhelm', 'overwork', 'owe', 'owen', 'owl', 'owner', 'ownership', 'oxford', 'oxygen', 'oz', 'p', 'pa', 'pablo', 'pace', 'pacif', 'pacifist', 'pack', 'packag', 'packard', 'paco', 'pact', 'pad', 'page', 'pageant', 'paid', 'paig', 'pain', 'paint', 'painter', 'pair', 'pakistan', 'pal', 'palac', 'paleontologist', 'palestinian', 'palm', 'palmer', 'palpatin', 'pam', 'pamela', 'pan', 'panama', 'pandemonium', 'panic', 'panick', 'pant', 'panther', 'paolo', 'papa', 'paparazzo', 'paper', 'paperboy', 'pappa', 'parachut', 'parad', 'paradis', 'parallel', 'paralyz', 'paramed', 'paranoia', 'paranoid', 'paranorm', 'parasit', 'pardon', 'parent', 'parenthood', 'pari', 'parish', 'parisian', 'park', 'parker', 'parkinson', 'parkman', 'parliament', 'parlor', 'parodi', 'parol', 'parri', 'parrish', 'part', 'partak', 'parti', 'partial', 'particip', 'particular', 'particularli', 'partli', 'partner', 'partnership', 'pas', 'pasadena', 'passag', 'passeng', 'passion', 'passiv', 'passport', 'password', 'past', 'pasteur', 'pastor', 'pat', 'patch', 'patel', 'patern', 'path', 'pathet', 'patienc', 'patient', 'patriarch', 'patric', 'patricia', 'patrick', 'patriot', 'patrol', 'patrolman', 'patron', 'patsi', 'pattern', 'patti', 'patton', 'paul', 'paula', 'pauli', 'paulin', 'paulina', 'paulo', 'paw', 'pawn', 'pawnshop', 'pay', 'payback', 'paycheck', 'payment', 'payn', 'payoff', 'payrol', 'pd', 'peabodi', 'peac', 'peachi', 'peak', 'peanut', 'pearc', 'pearl', 'pearli', 'peasant', 'peck', 'pedophil', 'pedro', 'pee', 'peekay', 'peel', 'peep', 'peer', 'peg', 'peggi', 'pen', 'penal', 'penchant', 'pend', 'pendleton', 'penelop', 'penetr', 'penguin', 'penitentiari', 'penn', 'penni', 'penniless', 'pennsylvania', 'pension', 'pentagon', 'pentecost', 'penthous', 'peopl', 'pepper', 'per', 'perceiv', 'percent', 'percept', 'perci', 'perez', 'perfect', 'perfectli', 'perform', 'perfum', 'perhap', 'peril', 'period', 'perish', 'perkin', 'perman', 'permiss', 'permit', 'perpetr', 'perpetu', 'perret', 'perri', 'persecut', 'perseu', 'persever', 'persian', 'persist', 'person', 'persona', 'personnel', 'perspect', 'persuad', 'persuas', 'pervers', 'pervert', 'pest', 'pet', 'pete', 'peter', 'petersburg', 'petersen', 'peterson', 'petit', 'petti', 'peyton', 'pha', 'phantom', 'pharaoh', 'pharmaceut', 'pharmaci', 'phase', 'phelp', 'phenomenon', 'phibe', 'phil', 'philadelphia', 'philand', 'philander', 'philip', 'philipp', 'phillip', 'philosoph', 'philosophi', 'phobia', 'phoeb', 'phoenix', 'phone', 'phoni', 'photo', 'photograph', 'photographi', 'photojournalist', 'phrase', 'phylli', 'physic', 'physician', 'physicist', 'pi', 'pianist', 'piano', 'picard', 'picasso', 'piccolo', 'pick', 'picket', 'pickup', 'picnic', 'pictur', 'pie', 'piec', 'piedmont', 'pierc', 'pierr', 'pierson', 'pig', 'piggi', 'piglet', 'pike', 'pile', 'pilgrim', 'pill', 'pillag', 'pilot', 'pimp', 'pin', 'pine', 'ping', 'pink', 'pinki', 'pint', 'pioneer', 'pipe', 'piper', 'pippa', 'piqu', 'piranha', 'pirat', 'pistol', 'pit', 'pitch', 'pitcher', 'piti', 'pittsburgh', 'pivot', 'pizza', 'più', 'place', 'placement', 'plagu', 'plain', 'plan', 'plane', 'planet', 'plankton', 'planner', 'plant', 'plantat', 'plastic', 'plate', 'platform', 'plato', 'platon', 'platoon', 'play', 'playboy', 'player', 'playwright', 'plaza', 'plea', 'plead', 'pleasant', 'pleasur', 'pledg', 'plenti', 'plethora', 'plight', 'plot', 'ploy', 'plu', 'pluck', 'plum', 'plunder', 'plung', 'plunkett', 'pluto', 'pm', 'po', 'poacher', 'pocahonta', 'pocket', 'pod', 'poe', 'poem', 'poet', 'poetic', 'poetri', 'pogu', 'poi', 'poignant', 'point', 'poison', 'poke', 'poker', 'poland', 'polanski', 'polar', 'pole', 'polic', 'policeman', 'polici', 'polish', 'polit', 'politician', 'poll', 'polli', 'pollitt', 'pollut', 'pomeroy', 'pompou', 'poncelet', 'pond', 'ponder', 'pong', 'pont', 'ponti', 'pooh', 'pool', 'poor', 'poorli', 'pop', 'pope', 'popey', 'poplin', 'poppi', 'popul', 'populac', 'popular', 'porch', 'porki', 'porn', 'pornograph', 'pornographi', 'porsch', 'port', 'portal', 'porter', 'portland', 'portrait', 'portray', 'portugues', 'pose', 'posh', 'posit', 'posse', 'possibl', 'post', 'postal', 'poster', 'postpon', 'pot', 'potato', 'potent', 'potenti', 'pothead', 'potion', 'potter', 'pound', 'pour', 'poverti', 'pow', 'powel', 'power', 'powerless', 'pr', 'practic', 'practition', 'pragmat', 'pragu', 'prais', 'prank', 'prankster', 'pratt', 'pray', 'prayer', 'pre', 'preach', 'preacher', 'precari', 'preced', 'precinct', 'preciou', 'precis', 'precoci', 'predat', 'predecessor', 'predica', 'predict', 'predilect', 'prefer', 'pregnanc', 'pregnant', 'prehistor', 'prejean', 'prejudic', 'prematur', 'premier', 'premis', 'premonit', 'preoccupi', 'prep', 'prepar', 'prescott', 'prescrib', 'presenc', 'present', 'preserv', 'presid', 'presidenti', 'presley', 'press', 'pressur', 'prestigi', 'preston', 'presum', 'preteen', 'pretend', 'pretens', 'pretenti', 'pretext', 'pretoriu', 'pretti', 'prevail', 'prevent', 'previou', 'previous', 'prey', 'price', 'priceless', 'pride', 'priest', 'primal', 'primari', 'primarili', 'prime', 'primit', 'primo', 'princ', 'princess', 'princeton', 'princip', 'principl', 'print', 'prior', 'prioriti', 'priscilla', 'prison', 'privaci', 'privat', 'privileg', 'prix', 'prize', 'pro', 'probabl', 'probat', 'probe', 'problem', 'problemat', 'proce', 'procedur', 'proceed', 'process', 'proclaim', 'procur', 'prodigi', 'produc', 'product', 'prof', 'profan', 'profess', 'profession', 'professor', 'profil', 'profion', 'profit', 'profound', 'profoundli', 'program', 'programm', 'progress', 'prohibit', 'project', 'projectionist', 'prolif', 'prolong', 'prom', 'promin', 'promis', 'promiscu', 'promot', 'prompt', 'promptli', 'prone', 'pronounc', 'proof', 'prop', 'propaganda', 'propel', 'proper', 'properli', 'properti', 'propheci', 'prophesi', 'prophet', 'proport', 'propos', 'proprietor', 'prosecut', 'prosecutor', 'prospect', 'prosper', 'prospero', 'prosthet', 'prostitut', 'protagonist', 'protect', 'protector', 'protest', 'proteu', 'protocol', 'prototyp', 'protégé', 'proud', 'prove', 'proverbi', 'provid', 'provinc', 'provoc', 'provok', 'prowess', 'prowl', 'pruitt', 'prynn', 'pryor', 'pseudo', 'pseudonym', 'psych', 'psychiatr', 'psychiatrist', 'psychic', 'psycho', 'psycholog', 'psychologist', 'psychopath', 'psychot', 'pt', 'pub', 'public', 'publicist', 'publicli', 'publish', 'puerto', 'pulitz', 'pull', 'pulp', 'pump', 'pumpkin', 'punch', 'punctuat', 'punish', 'punk', 'pupil', 'puppet', 'puppi', 'purchas', 'pure', 'purg', 'puritan', 'purportedli', 'purpos', 'purs', 'pursu', 'pursuer', 'pursuit', 'push', 'put', 'puzzl', 'pyle', 'pyramid', 'q', 'quack', 'quaid', 'quaker', 'qualif', 'qualifi', 'qualiti', 'quantiti', 'quantum', 'quarantin', 'quarrel', 'quarter', 'quarterback', 'quartet', 'quasimodo', 'que', 'queen', 'quell', 'quentin', 'quest', 'question', 'quick', 'quickli', 'quiet', 'quietli', 'quigley', 'quill', 'quinci', 'quinlan', 'quinn', 'quirki', 'quit', 'quiz', 'r', 'rabbi', 'rabbit', 'rabid', 'raccoon', 'race', 'racer', 'rachel', 'racial', 'racism', 'racist', 'rack', 'racket', 'radar', 'radiat', 'radic', 'radio', 'radioact', 'radisson', 'radium', 'rae', 'rafe', 'rafi', 'raft', 'rag', 'rage', 'ragtag', 'raid', 'raider', 'raig', 'rail', 'railroad', 'railton', 'railway', 'rain', 'rainbow', 'raini', 'rainwood', 'rais', 'raizo', 'rake', 'ralli', 'ralph', 'ralphi', 'ram', 'ramon', 'ramona', 'rampag', 'rampant', 'ramsey', 'ran', 'ranch', 'rancher', 'rand', 'randal', 'randi', 'random', 'randomli', 'rang', 'ranger', 'rank', 'ransom', 'rant', 'raoul', 'rap', 'rape', 'rapid', 'rapidli', 'rapist', 'rapper', 'rapunzel', 'rare', 'rascal', 'rash', 'rat', 'rate', 'rather', 'ration', 'raucou', 'raul', 'ravag', 'rave', 'raven', 'ravenna', 'raw', 'ray', 'raymond', 'rayn', 'razor', 'rd', 'reach', 'reacher', 'react', 'reaction', 'read', 'reader', 'readi', 'real', 'realis', 'realist', 'realiti', 'realiz', 'realli', 'realm', 'reanim', 'reappear', 'rear', 'rearden', 'reardon', 'reason', 'reassign', 'rebecca', 'rebel', 'rebelli', 'rebellion', 'rebound', 'rebuild', 'recal', 'recaptur', 'receiv', 'recent', 'recept', 'receptionist', 'recess', 'recip', 'recipi', 'recit', 'reckless', 'reckon', 'reclaim', 'reclus', 'recogn', 'recognit', 'recollect', 'recommend', 'reconcil', 'reconcili', 'reconnaiss', 'reconnect', 'reconsid', 'reconstruct', 'record', 'recount', 'recov', 'recoveri', 'recreat', 'recruit', 'recuper', 'recur', 'red', 'redeem', 'redempt', 'rediscov', 'redneck', 'reduc', 'ree', 'reed', 'reel', 'reenact', 'rees', 'reev', 'reevalu', 'refer', 'refin', 'reflect', 'reform', 'refug', 'refuge', 'refus', 'regain', 'regard', 'regardless', 'regener', 'reggi', 'regi', 'regim', 'regiment', 'regina', 'region', 'regist', 'regret', 'regul', 'regular', 'regularli', 'rehab', 'rehabilit', 'rehears', 'reich', 'reid', 'reign', 'reilli', 'reincarn', 'reindeer', 'reinforc', 'reinstat', 'reinvent', 'reisman', 'reject', 'rekindl', 'rel', 'relat', 'relationship', 'relax', 'relay', 'releas', 'releg', 'relentless', 'relentlessli', 'reli', 'relic', 'relief', 'reliev', 'religi', 'religion', 'reliv', 'reloc', 'reluct', 'reluctantli', 'remain', 'remaind', 'remak', 'remark', 'remarri', 'rememb', 'remi', 'remind', 'reminisc', 'remnant', 'remors', 'remot', 'remov', 'render', 'rendezv', 'rene', 'renegad', 'renew', 'reno', 'renov', 'renown', 'rent', 'rental', 'reopen', 'repair', 'repay', 'repeat', 'repeatedli', 'repel', 'replac', 'repli', 'replic', 'replica', 'report', 'repossess', 'repres', 'repress', 'republ', 'republican', 'repuls', 'reput', 'request', 'requir', 'rescu', 'research', 'resembl', 'resent', 'reserv', 'resid', 'resign', 'resili', 'resist', 'resolut', 'resolv', 'reson', 'resort', 'resourc', 'respect', 'respond', 'respons', 'rest', 'restart', 'restaur', 'restaurateur', 'restless', 'reston', 'restor', 'restrain', 'restrict', 'restroom', 'result', 'resum', 'resurfac', 'resurrect', 'retail', 'retain', 'retali', 'retel', 'rethink', 'retir', 'retreat', 'retribut', 'retriev', 'retrospect', 'return', 'reuben', 'reunion', 'reunit', 'reuven', 'rev', 'reveal', 'revel', 'reveng', 'revenu', 'rever', 'reverend', 'revers', 'revert', 'review', 'revisit', 'revit', 'reviv', 'revolt', 'revolut', 'revolutionari', 'revolv', 'revu', 'reward', 'rex', 'reynold', 'rhoda', 'rhode', 'rhonda', 'ribbl', 'ribbon', 'rican', 'ricardo', 'rice', 'rich', 'richard', 'richest', 'richi', 'rick', 'ricki', 'rico', 'rid', 'ridden', 'riddick', 'riddl', 'ride', 'rider', 'ridicul', 'riff', 'rifl', 'rift', 'rig', 'rigbi', 'rigg', 'riggan', 'right', 'rigid', 'riley', 'ring', 'rink', 'rio', 'riot', 'rip', 'ripley', 'ripper', 'rise', 'risk', 'riski', 'rita', 'ritchi', 'rite', 'ritter', 'ritual', 'rival', 'rivalri', 'river', 'rivet', 'riviera', 'rizzo', 'rj', 'road', 'roadblock', 'roadsid', 'roam', 'roar', 'roark', 'rob', 'robber', 'robberi', 'robbi', 'robbin', 'robert', 'roberta', 'robertson', 'robin', 'robinson', 'robocop', 'robot', 'rocco', 'rochel', 'rochest', 'rock', 'rocker', 'rocket', 'rocki', 'rockwel', 'rod', 'rodeo', 'roderick', 'rodger', 'rodney', 'rodolph', 'rodrigo', 'rodriguez', 'roger', 'rogu', 'roland', 'role', 'roll', 'roller', 'rolli', 'rollin', 'rollo', 'roman', 'romanc', 'romania', 'romanian', 'romant', 'rome', 'romeo', 'romero', 'romp', 'romulu', 'ron', 'ronald', 'ronan', 'ronin', 'ronni', 'roo', 'roof', 'rooftop', 'rooki', 'room', 'roommat', 'rooney', 'rooster', 'root', 'rope', 'roper', 'rori', 'rosa', 'rosale', 'rosali', 'rosalind', 'rosanoff', 'rosario', 'rosco', 'rose', 'rosemari', 'rosi', 'ross', 'rossi', 'rostov', 'roth', 'rough', 'roulett', 'round', 'rous', 'rout', 'routin', 'rove', 'row', 'rowdi', 'roxann', 'roxi', 'roy', 'royal', 'royalti', 'roz', 'rub', 'rubi', 'rudd', 'rude', 'rudi', 'rudina', 'rudolph', 'ruechang', 'rufu', 'rug', 'ruin', 'rule', 'ruler', 'rumbl', 'rumor', 'run', 'runaway', 'rundown', 'runner', 'rupert', 'rural', 'rus', 'ruse', 'rush', 'russel', 'russia', 'russian', 'rusti', 'ruth', 'ruthless', 'rutledg', 'rv', 'ryan', 'ryden', 'ryder', 'ryker', 's', 'sabbath', 'sabotag', 'sack', 'sacr', 'sacrif', 'sacrific', 'sad', 'saddl', 'sadi', 'sadist', 'safari', 'safe', 'safeti', 'saga', 'said', 'saigon', 'sail', 'sailor', 'saint', 'saito', 'sake', 'sal', 'salari', 'sale', 'salem', 'salesman', 'salli', 'salmon', 'salomon', 'salon', 'saloon', 'salt', 'salvag', 'salvat', 'sam', 'samantha', 'samir', 'sammi', 'sampl', 'sampson', 'samson', 'samuel', 'samurai', 'san', 'sanchez', 'sanction', 'sanctuari', 'sand', 'sander', 'sanderson', 'sandi', 'sandman', 'sandra', 'sane', 'sanford', 'saniti', 'santa', 'santiago', 'santo', 'sara', 'sarah', 'sascha', 'sasha', 'sassi', 'sat', 'satan', 'satellit', 'satir', 'satisfact', 'satisfi', 'saturday', 'saucer', 'saudi', 'saunder', 'savag', 'savannah', 'save', 'savior', 'savvi', 'saw', 'sawyer', 'say', 'sayer', 'sayuri', 'scale', 'scalp', 'scam', 'scandal', 'scanner', 'scar', 'scare', 'scarecrow', 'scari', 'scarlet', 'scarlett', 'scatter', 'scaveng', 'scenario', 'scene', 'scent', 'scepter', 'schedul', 'scheme', 'schizophren', 'schmidt', 'scholar', 'scholarship', 'school', 'schooler', 'schoolmat', 'schoolteach', 'schultz', 'schuyler', 'schwartz', 'sci', 'scienc', 'scientif', 'scientist', 'scoop', 'scope', 'scorch', 'score', 'scorn', 'scorpio', 'scorpion', 'scorses', 'scotland', 'scott', 'scottish', 'scottsboro', 'scout', 'scrambl', 'scrap', 'scrape', 'scratch', 'scrawni', 'scream', 'screen', 'screenplay', 'screenwrit', 'screw', 'screwfac', 'script', 'scroll', 'scroog', 'scrutini', 'scuba', 'scudder', 'sculli', 'sculptor', 'sea', 'seal', 'seaman', 'sean', 'search', 'seasid', 'season', 'seat', 'seattl', 'seaview', 'sebastian', 'sebastien', 'seclud', 'second', 'secondari', 'secret', 'secretari', 'secretli', 'section', 'secur', 'seduc', 'seduct', 'see', 'seed', 'seedi', 'seek', 'seeker', 'seem', 'seemingli', 'seen', 'sefton', 'segment', 'seiz', 'seizur', 'seldom', 'select', 'selen', 'self', 'selfish', 'selina', 'sell', 'seller', 'selv', 'sematari', 'semest', 'semi', 'seminar', 'seminari', 'seminol', 'sen', 'senat', 'send', 'senil', 'senior', 'sensat', 'sensibl', 'sensit', 'sensual', 'sent', 'sentenc', 'sentiment', 'sentinel', 'separ', 'separatist', 'septemb', 'sequel', 'sequenc', 'serbian', 'serena', 'sergeant', 'seri', 'serial', 'seriou', 'serious', 'serum', 'serv', 'servant', 'servic', 'serviceman', 'session', 'set', 'seth', 'seti', 'seton', 'settl', 'settlement', 'settler', 'seven', 'seventeen', 'seventh', 'seventi', 'sever', 'sew', 'sewer', 'sex', 'sexi', 'sexist', 'sexual', 'seymour', 'sgt', 'shack', 'shadi', 'shadow', 'shadowi', 'shaft', 'shahbandar', 'shake', 'shaken', 'shakespear', 'shale', 'shall', 'shallow', 'shaman', 'shambl', 'shame', 'shane', 'shanghai', 'shannon', 'shanté', 'shape', 'share', 'shark', 'sharon', 'sharp', 'shatter', 'shaun', 'shave', 'shaw', 'shawn', 'shea', 'shear', 'shed', 'sheep', 'sheer', 'sheet', 'sheik', 'sheila', 'shelbi', 'sheldon', 'sheldrak', 'shell', 'shelley', 'shelli', 'shelter', 'shep', 'shepherd', 'sheridan', 'sheriff', 'sherlock', 'sherman', 'sherri', 'sherwood', 'shi', 'shield', 'shift', 'shine', 'ship', 'shipment', 'shipwreck', 'shirley', 'shirt', 'shock', 'shoe', 'shogun', 'shoot', 'shooter', 'shootout', 'shop', 'shore', 'short', 'shortag', 'shortcut', 'shorti', 'shortli', 'shot', 'shotgun', 'shoulder', 'show', 'showcas', 'showdown', 'shower', 'showgirl', 'showman', 'shown', 'shrek', 'shrew', 'shrink', 'shuffl', 'shun', 'shut', 'shuttl', 'si', 'siames', 'sibl', 'sibyl', 'sicilian', 'sick', 'sickli', 'sid', 'side', 'sidekick', 'sideshow', 'sidney', 'sieg', 'sierra', 'sight', 'sign', 'signal', 'signific', 'silenc', 'silent', 'silli', 'silo', 'silva', 'silver', 'silvia', 'similar', 'similarli', 'simm', 'simmon', 'simon', 'simpl', 'simpli', 'simpson', 'simul', 'simultan', 'sin', 'sinbad', 'sinc', 'sincer', 'sinclair', 'sing', 'singer', 'singl', 'singleton', 'singular', 'sinist', 'sink', 'sinner', 'sioux', 'sir', 'sister', 'sit', 'site', 'sitter', 'situat', 'six', 'sixteen', 'sixth', 'sixti', 'sizabl', 'size', 'skate', 'skateboard', 'skater', 'skeeter', 'skeleton', 'skeletor', 'skeptic', 'sketch', 'ski', 'skid', 'skill', 'skin', 'skinni', 'skip', 'skipper', 'skirt', 'skull', 'sky', 'skydiv', 'skynet', 'skywalk', 'slacker', 'slade', 'slain', 'slam', 'slang', 'slap', 'slapstick', 'slash', 'slasher', 'slate', 'slater', 'slaughter', 'slaughterhous', 'slave', 'slaveri', 'slay', 'slayer', 'sleazi', 'sled', 'sleep', 'sleepi', 'sleepwalk', 'sleev', 'slept', 'sli', 'slice', 'slick', 'slicker', 'slide', 'slight', 'slightli', 'slim', 'sling', 'slip', 'sloan', 'sloper', 'slow', 'slowli', 'slug', 'slum', 'slut', 'small', 'smaller', 'smalltim', 'smart', 'smarter', 'smash', 'smell', 'smile', 'smiley', 'smith', 'smithe', 'smithvil', 'smitten', 'smoke', 'smokey', 'smooth', 'smoothli', 'smuggl', 'smuggler', 'smurf', 'smyth', 'snack', 'snag', 'snail', 'snake', 'snap', 'snatch', 'sneak', 'snif', 'sniper', 'snob', 'snobbish', 'snoop', 'snoopi', 'snow', 'snowi', 'snowstorm', 'snuff', 'snyder', 'soap', 'sober', 'soccer', 'social', 'socialit', 'societi', 'sociopath', 'sofia', 'soft', 'softbal', 'softwar', 'soil', 'sol', 'solac', 'solar', 'sold', 'soldier', 'sole', 'solid', 'solitari', 'solitud', 'solo', 'solomon', 'solut', 'solv', 'somebodi', 'someday', 'somehow', 'someon', 'someth', 'sometim', 'somewhat', 'somewher', 'son', 'sondra', 'song', 'songwrit', 'sonia', 'sonja', 'sonni', 'sonora', 'sonya', 'soo', 'soon', 'sooner', 'sophi', 'sophia', 'sophist', 'sophomor', 'soprano', 'sorcer', 'sorceress', 'soror', 'sorri', 'sorrow', 'sort', 'sought', 'soul', 'sound', 'soundtrack', 'soup', 'sour', 'sourc', 'south', 'southern', 'southwest', 'soviet', 'sox', 'spa', 'space', 'spacecraft', 'spaceship', 'spain', 'span', 'spanish', 'spare', 'spark', 'sparrow', 'sparta', 'spartan', 'speak', 'speaker', 'spear', 'speci', 'special', 'specialist', 'specif', 'speck', 'spectacular', 'specul', 'speech', 'speed', 'speedi', 'spell', 'spencer', 'spend', 'spent', 'sperm', 'sphere', 'spi', 'spice', 'spider', 'spike', 'spill', 'spin', 'spinal', 'spine', 'spinster', 'spiral', 'spirit', 'spiritu', 'spit', 'spite', 'splinter', 'split', 'spoil', 'spoiler', 'spoken', 'spongebob', 'sponsor', 'spontan', 'spoof', 'spooki', 'sport', 'spot', 'spous', 'spray', 'spread', 'spree', 'spring', 'springfield', 'spur', 'squad', 'squadron', 'squander', 'squar', 'squeez', 'squir', 'squirrel', 'sr', 'st', 'stab', 'stabil', 'stabl', 'staci', 'stack', 'stadium', 'staff', 'stage', 'stagecoach', 'staid', 'stain', 'stair', 'stake', 'stakeout', 'stalk', 'stalker', 'stall', 'stallion', 'stamper', 'stan', 'stand', 'standard', 'standoff', 'stanford', 'stanley', 'stanton', 'stapl', 'star', 'stardom', 'stare', 'starfleet', 'stargat', 'stark', 'starl', 'starla', 'starlet', 'starr', 'starship', 'start', 'startl', 'starv', 'starvat', 'stash', 'state', 'statement', 'station', 'statu', 'stay', 'steadi', 'steal', 'steam', 'steel', 'steer', 'stefan', 'stella', 'stem', 'step', 'stepdaught', 'stepfath', 'steph', 'stephani', 'stephen', 'stepmoth', 'stepsist', 'stepson', 'stereotyp', 'sterl', 'stern', 'steve', 'steven', 'stevenson', 'stevi', 'stew', 'steward', 'stewart', 'stick', 'stiff', 'stifl', 'stile', 'still', 'stimul', 'sting', 'stint', 'stipul', 'stir', 'stock', 'stockhold', 'stoddard', 'stole', 'stolen', 'stomach', 'stone', 'stoneman', 'stoner', 'stonewal', 'stoney', 'stood', 'stoog', 'stop', 'storag', 'store', 'stori', 'stork', 'storm', 'stormi', 'stow', 'stowaway', 'straight', 'straighten', 'straightforward', 'strain', 'strait', 'strand', 'strang', 'stranger', 'strangl', 'strangler', 'strap', 'strateg', 'strategi', 'strato', 'straw', 'stray', 'streak', 'street', 'streetcar', 'streetwis', 'strength', 'strengthen', 'stress', 'stretch', 'stricken', 'strict', 'strictli', 'stride', 'strife', 'strike', 'striker', 'string', 'strip', 'stripe', 'stripper', 'strive', 'strode', 'stroke', 'strong', 'stronger', 'strongest', 'stronghold', 'strongli', 'stroud', 'struck', 'structur', 'struggl', 'strung', 'strutt', 'stu', 'stuart', 'stubborn', 'stuck', 'stud', 'student', 'studi', 'studio', 'stuf', 'stuff', 'stuffi', 'stumbl', 'stun', 'stung', 'stunt', 'stupid', 'stutter', 'style', 'stylish', 'stylist', 'su', 'suav', 'sub', 'subconsci', 'subcultur', 'subdu', 'subject', 'submarin', 'submiss', 'submit', 'subordin', 'subplot', 'subsequ', 'subsid', 'substanc', 'substitut', 'subtl', 'suburb', 'suburban', 'subway', 'succe', 'succeed', 'success', 'successor', 'succumb', 'suck', 'sudan', 'sudden', 'suddenli', 'sue', 'suffer', 'suffici', 'suffoc', 'sugar', 'suggest', 'suicid', 'suit', 'suitabl', 'suitcas', 'suitor', 'sullen', 'sulli', 'sullivan', 'sultan', 'sultri', 'sum', 'summer', 'summit', 'summon', 'sun', 'sundanc', 'sunday', 'sunk', 'sunlight', 'sunni', 'sunset', 'sunshin', 'super', 'superfici', 'superhero', 'superior', 'superman', 'supermarket', 'supernatur', 'superpow', 'superstar', 'superstiti', 'supervis', 'supervisor', 'suppli', 'supplier', 'support', 'suppos', 'supposedli', 'suppress', 'suprem', 'supremaci', 'sur', 'sure', 'surf', 'surfac', 'surfer', 'surg', 'surgeon', 'surgeri', 'surgic', 'surmis', 'surpass', 'surpris', 'surprisingli', 'surreal', 'surrealist', 'surrend', 'surrog', 'surround', 'surveil', 'survey', 'surviv', 'survivor', 'susan', 'susanna', 'susi', 'suspect', 'suspend', 'suspens', 'suspici', 'suspicion', 'sustain', 'sutter', 'suv', 'suzann', 'suzi', 'swamp', 'swan', 'swann', 'swap', 'swarm', 'swat', 'sway', 'swear', 'sweat', 'swede', 'sweden', 'swedish', 'sweeney', 'sweep', 'sweet', 'sweetheart', 'swell', 'swept', 'swift', 'swim', 'swimmer', 'swindl', 'swindler', 'swing', 'swirl', 'swiss', 'switch', 'switzerland', 'sword', 'swore', 'sworn', 'sy', 'sybil', 'syd', 'sydney', 'syke', 'sylvia', 'symbiot', 'symbol', 'sympath', 'sympathet', 'sympathi', 'symphoni', 'symptom', 'synagogu', 'syndic', 'syndrom', 'synthet', 'system', 'systemat', 'tab', 'tabl', 'tablet', 'tabloid', 'taboo', 'tackl', 'tactic', 'tad', 'taft', 'tag', 'taggart', 'tahiti', 'tai', 'tail', 'tailor', 'taint', 'take', 'taken', 'takeov', 'taker', 'talan', 'talbot', 'tale', 'talent', 'talk', 'tall', 'tame', 'tammi', 'tan', 'tangl', 'tango', 'tank', 'tannen', 'tanya', 'tap', 'tape', 'tara', 'target', 'tarji', 'tarot', 'tarzan', 'task', 'tast', 'tate', 'tattoo', 'taught', 'taunt', 'tax', 'taxi', 'taylor', 'te', 'tea', 'teach', 'teacher', 'teal', 'team', 'teammat', 'teamwork', 'tear', 'tec', 'tech', 'technic', 'technician', 'techniqu', 'technolog', 'ted', 'teddi', 'teen', 'teenag', 'teeter', 'teeth', 'telegram', 'telegraph', 'telekinet', 'telepath', 'telephon', 'teleport', 'televis', 'tell', 'teller', 'telli', 'temp', 'temper', 'tempera', 'temperatur', 'templ', 'templar', 'templeton', 'temporari', 'temporarili', 'tempt', 'temptat', 'ten', 'tenaci', 'tenant', 'tend', 'tendenc', 'tender', 'tenement', 'tennesse', 'tenni', 'tenor', 'tension', 'tent', 'tentacl', 'tenth', 'tenuou', 'tenur', 'teresa', 'term', 'termin', 'terrain', 'terrestri', 'terri', 'terribl', 'terrier', 'terrif', 'terrifi', 'territori', 'terror', 'terrorist', 'terwillik', 'test', 'testament', 'testifi', 'testimoni', 'texa', 'texan', 'text', 'th', 'thad', 'thaddeu', 'thank', 'thanksgiv', 'thea', 'theater', 'theatr', 'theft', 'thelma', 'theme', 'theo', 'theodor', 'theodora', 'theori', 'therapi', 'therapist', 'thereaft', 'therebi', 'therefor', 'theresa', 'thesi', 'thick', 'thief', 'thiev', 'thin', 'thing', 'think', 'third', 'thirst', 'thirteen', 'thirti', 'thoma', 'thompson', 'thor', 'thorin', 'thorn', 'thorndyk', 'thorp', 'though', 'thought', 'thousand', 'thrash', 'thread', 'threat', 'threaten', 'three', 'threesom', 'threw', 'thrill', 'thriller', 'thrive', 'throat', 'throne', 'throughout', 'throw', 'thrown', 'thrust', 'thu', 'thug', 'thumb', 'thunderbolt', 'thursday', 'thwart', 'thx', 'tia', 'tibb', 'tick', 'ticket', 'tide', 'tie', 'tiffani', 'tiger', 'tigger', 'tight', 'till', 'tilli', 'tim', 'time', 'timeless', 'timer', 'timid', 'timmi', 'timothi', 'tin', 'tina', 'tingl', 'tini', 'tip', 'tire', 'tish', 'titan', 'titl', 'tivoli', 'tobacco', 'tobi', 'tobin', 'tod', 'today', 'todd', 'toddi', 'toddler', 'toe', 'togeth', 'toilet', 'tokyo', 'told', 'toler', 'toll', 'tom', 'tomato', 'tomb', 'tomboy', 'tomkin', 'tommi', 'tomorrow', 'ton', 'tone', 'tong', 'tongu', 'toni', 'tonto', 'took', 'tool', 'tooth', 'top', 'topic', 'topper', 'torch', 'torment', 'torn', 'tornado', 'toro', 'torpedo', 'tortur', 'toss', 'total', 'tote', 'touch', 'tough', 'tougher', 'toughest', 'tour', 'tourist', 'tournament', 'tow', 'toward', 'tower', 'town', 'townsend', 'townsfolk', 'townspeopl', 'toxic', 'toxin', 'toy', 'trace', 'traci', 'track', 'trade', 'trader', 'tradit', 'traffic', 'traffick', 'tragedi', 'tragic', 'trail', 'trailer', 'train', 'traine', 'trainer', 'trait', 'traitor', 'trajectori', 'tramp', 'tran', 'tranc', 'tranquil', 'transact', 'transcend', 'transfer', 'transform', 'transit', 'translat', 'transmiss', 'transmit', 'transplant', 'transport', 'transylvania', 'trant', 'trap', 'trapez', 'trapper', 'trash', 'trask', 'trauma', 'traumat', 'travel', 'traver', 'travi', 'treacher', 'treason', 'treasur', 'treasuri', 'treat', 'treati', 'treatment', 'tredway', 'tree', 'trek', 'tremain', 'tremend', 'trench', 'trend', 'trendi', 'trent', 'trespass', 'trevor', 'trey', 'tri', 'triad', 'trial', 'triangl', 'tribal', 'tribe', 'tribesman', 'tribul', 'tribut', 'trick', 'tricki', 'trigger', 'trina', 'trio', 'trip', 'tripl', 'tripp', 'trippi', 'trish', 'tristan', 'triumph', 'triumphant', 'trixi', 'troll', 'tromavil', 'troop', 'trooper', 'trophi', 'tropic', 'troubadour', 'troubl', 'troublemak', 'troup', 'troy', 'truck', 'trucker', 'trudi', 'true', 'truli', 'truman', 'trumbul', 'trump', 'trumpet', 'trunk', 'trust', 'trusti', 'truth', 'tryst', 'tub', 'tuberculosi', 'tuck', 'tucker', 'tuco', 'tug', 'tuition', 'tulio', 'tum', 'tumbl', 'tumor', 'tumultu', 'tune', 'tunnel', 'tunstal', 'turbo', 'turbul', 'turf', 'turk', 'turkey', 'turkish', 'turmoil', 'turn', 'turner', 'turpin', 'turtl', 'tutor', 'tv', 'twain', 'twelv', 'twenti', 'twentieth', 'twice', 'twilight', 'twin', 'twist', 'two', 'ty', 'tycoon', 'tyler', 'type', 'typic', 'tyrann', 'tyranni', 'tyrant', 'tyron', 'u', 'ucla', 'ufo', 'ugli', 'uk', 'ukrain', 'ule', 'ulrich', 'ulterior', 'ultim', 'ultimatum', 'ultra', 'ulyss', 'umbrella', 'un', 'una', 'unabl', 'unannounc', 'unassum', 'unawar', 'unbalanc', 'unbeknown', 'unbeknownst', 'unbeliev', 'unbend', 'unborn', 'unceremoni', 'uncertain', 'uncertainti', 'unchart', 'uncl', 'unclear', 'uncomfort', 'uncondit', 'unconsci', 'uncontrol', 'unconvent', 'uncov', 'undead', 'undeni', 'underachiev', 'underbelli', 'undercov', 'underdog', 'undergo', 'underground', 'underli', 'undermin', 'underneath', 'understand', 'understood', 'undertak', 'underwat', 'underworld', 'undisciplin', 'undisclos', 'undiscov', 'undo', 'undocu', 'unearth', 'uneasi', 'uneduc', 'unemploy', 'uneth', 'unexpect', 'unexpectedli', 'unexplain', 'unfaith', 'unfamiliar', 'unfinish', 'unfit', 'unfold', 'unforeseen', 'unforgett', 'unfortun', 'unfriendli', 'unfulfil', 'ungermey', 'unhappi', 'unhappili', 'unicorn', 'unidentifi', 'uniform', 'unilater', 'unimagin', 'unintent', 'union', 'uniqu', 'unisol', 'unit', 'univers', 'unknowingli', 'unknown', 'unleash', 'unless', 'unlik', 'unlock', 'unlucki', 'unmarri', 'unmotiv', 'unnam', 'unoffici', 'unorthodox', 'unpaid', 'unpleas', 'unpopular', 'unpreced', 'unpredict', 'unprepar', 'unravel', 'unrealist', 'unrel', 'unreli', 'unrequit', 'unresolv', 'unrest', 'unruli', 'unsatisfi', 'unscrupul', 'unseen', 'unsettl', 'unsolv', 'unspeak', 'unspoken', 'unstabl', 'unstopp', 'unsuccess', 'unsur', 'unsuspect', 'unthink', 'untim', 'untold', 'untouch', 'unusu', 'unveil', 'unwant', 'unwil', 'unwillingli', 'unwit', 'unwittingli', 'upbring', 'upcom', 'updat', 'upon', 'upper', 'upris', 'upscal', 'upset', 'upsid', 'upstair', 'upstart', 'upstat', 'uptight', 'urban', 'urg', 'urgent', 'uri', 'ursula', 'us', 'usa', 'use', 'useless', 'user', 'usher', 'ussr', 'usual', 'usurp', 'utah', 'util', 'utopia', 'utterli', 'v', 'vacat', 'vacuou', 'vagu', 'vain', 'val', 'valdemar', 'vale', 'valedictorian', 'valentin', 'valentino', 'valeri', 'valet', 'valid', 'valjean', 'valley', 'valu', 'valuabl', 'vampir', 'van', 'vanc', 'vandal', 'vanessa', 'vanish', 'vaniti', 'varga', 'vari', 'varieti', 'variou', 'varsiti', 'vast', 'vastli', 'vatican', 'vaudevil', 'vaughn', 'vault', 'veer', 'vega', 'veget', 'vehicl', 'velma', 'venabl', 'vendetta', 'vendor', 'vener', 'venezuela', 'veng', 'vengeanc', 'venic', 'venom', 'vent', 'ventur', 'venu', 'veracruz', 'verbal', 'verdict', 'verg', 'vermont', 'vern', 'verna', 'vernon', 'verona', 'veronica', 'version', 'versu', 'vessel', 'vet', 'veteran', 'veterinarian', 'vetter', 'vi', 'via', 'vibrant', 'vic', 'vicari', 'vice', 'viciou', 'vicious', 'vicker', 'vicki', 'victim', 'victor', 'victori', 'victoria', 'victorian', 'video', 'videotap', 'vienna', 'vietnam', 'vietnames', 'view', 'viewer', 'vigilant', 'vignett', 'vigo', 'vike', 'viktor', 'villa', 'villag', 'villain', 'vinc', 'vincent', 'vindic', 'vineyard', 'vinni', 'vintag', 'viola', 'violat', 'violenc', 'violent', 'violet', 'violin', 'violinist', 'virgil', 'virgin', 'virginia', 'virtual', 'viru', 'visa', 'visibl', 'vision', 'visionari', 'visit', 'visitor', 'visual', 'vita', 'vital', 'vito', 'vivaci', 'vivian', 'vladimir', 'vocal', 'vocat', 'vogel', 'voic', 'void', 'volatil', 'volcano', 'voldemort', 'volunt', 'voluntarili', 'von', 'voodoo', 'voorhe', 'vortex', 'vote', 'vow', 'voyag', 'vp', 'vronski', 'vulgar', 'vulner', 'w', 'wacki', 'wade', 'wage', 'wager', 'waggleberri', 'wagner', 'wagon', 'wait', 'waiter', 'waitress', 'wake', 'waldo', 'waldron', 'wale', 'walk', 'walker', 'wall', 'wallac', 'wallet', 'walli', 'wallow', 'walsh', 'walt', 'walter', 'waltham', 'wan', 'wanda', 'wander', 'wane', 'wang', 'wanna', 'wannab', 'want', 'war', 'ward', 'warden', 'warehous', 'warfar', 'warhead', 'warhol', 'warlock', 'warlord', 'warm', 'warn', 'warner', 'warp', 'warrant', 'warren', 'warrior', 'warship', 'wartim', 'wash', 'washburn', 'washington', 'wasp', 'wast', 'wasteland', 'watch', 'watchman', 'water', 'waterfront', 'waterg', 'watson', 'watt', 'wave', 'wax', 'way', 'wayn', 'wayward', 'wcw', 'weak', 'wealth', 'wealthi', 'wealthiest', 'weapon', 'weaponri', 'wear', 'weari', 'weather', 'weav', 'weaver', 'web', 'webb', 'websit', 'webster', 'wed', 'wee', 'weed', 'week', 'weekend', 'weekli', 'wei', 'weigh', 'weight', 'weird', 'weirdo', 'welcom', 'weld', 'welfar', 'well', 'wellington', 'welsh', 'wendel', 'wendi', 'went', 'werewolf', 'werewolv', 'wesley', 'west', 'western', 'westley', 'weston', 'wet', 'wexler', 'whale', 'whatev', 'wheel', 'wheelchair', 'wheeler', 'whenev', 'wherea', 'whereabout', 'wherein', 'wherev', 'whether', 'whilst', 'whip', 'whirlwind', 'whiskey', 'whisper', 'whistl', 'whistler', 'whit', 'white', 'whitey', 'whitlock', 'whitney', 'whiz', 'whoever', 'whole', 'wholesom', 'whore', 'whose', 'wi', 'wick', 'wide', 'widow', 'wield', 'wife', 'wilbur', 'wild', 'wilder', 'wildli', 'wildlif', 'wile', 'wilford', 'wili', 'wilk', 'willa', 'willard', 'willi', 'william', 'willingli', 'willow', 'wilson', 'wimpi', 'win', 'wind', 'window', 'wine', 'wing', 'wink', 'winner', 'winni', 'winslow', 'winston', 'winter', 'winthrop', 'wipe', 'wire', 'wisconsin', 'wisdom', 'wise', 'wisecrack', 'wish', 'wit', 'witch', 'witchcraft', 'withdraw', 'withdrawn', 'wither', 'within', 'without', 'withstand', 'witti', 'wive', 'wizard', 'woe', 'wolf', 'wolv', 'woman', 'womanhood', 'wonder', 'wonderland', 'wong', 'wonka', 'woo', 'wood', 'wooden', 'woodi', 'woodsboro', 'woodstock', 'woodward', 'word', 'work', 'workahol', 'worker', 'workplac', 'world', 'worldli', 'worldwid', 'worm', 'worri', 'wors', 'worsen', 'worship', 'worst', 'worth', 'worthi', 'worthless', 'would', 'wound', 'wrap', 'wrath', 'wreak', 'wreck', 'wreckag', 'wrench', 'wrestl', 'wrestler', 'wright', 'wrist', 'write', 'writer', 'written', 'wrong', 'wrongli', 'wrote', 'ww', 'wwi', 'wwii', 'wyatt', 'wyom', 'x', 'xavier', 'xerx', 'xiu', 'xxx', 'yaakov', 'yacht', 'yakuza', 'yale', 'yang', 'yanke', 'yanko', 'yard', 'yardley', 'yashida', 'yasmin', 'ye', 'year', 'yearn', 'yell', 'yellow', 'yen', 'yentl', 'yet', 'ygor', 'yield', 'yorga', 'york', 'yorker', 'yosemit', 'young', 'younger', 'youngest', 'youngster', 'youth', 'yulaw', 'yuppi', 'yuri', 'z', 'zach', 'zachari', 'zack', 'zak', 'zane', 'zardoz', 'zebra', 'zed', 'zeena', 'zeke', 'zen', 'zero', 'zeu', 'zoe', 'zombi', 'zone', 'zoo', 'zorba', 'zorro']\n"
     ]
    },
    {
     "data": {
      "text/plain": [
       "9000"
      ]
     },
     "execution_count": 78,
     "metadata": {},
     "output_type": "execute_result"
    }
   ],
   "source": [
    "##Vocabulario\n",
    "vocabulary = {x: idx + 1 for idx, x in enumerate(set(voc))}\n",
    "print(sorted(vocabulary))\n",
    "len(vocabulary)"
   ]
  },
  {
   "cell_type": "markdown",
   "metadata": {},
   "source": [
    "### Train / Test"
   ]
  },
  {
   "cell_type": "code",
   "execution_count": 83,
   "metadata": {},
   "outputs": [
    {
     "name": "stdout",
     "output_type": "stream",
     "text": [
      "(5921, 9000) (5921, 24)\n",
      "(1974, 9000) (1974, 24)\n"
     ]
    }
   ],
   "source": [
    "X_train, X_test, y_train, y_test = train_test_split(X_pad, y, test_size=0.25, random_state=42)\n",
    "print(X_train.shape,y_train.shape)\n",
    "print(X_test.shape,y_test.shape)"
   ]
  },
  {
   "cell_type": "code",
   "execution_count": 84,
   "metadata": {},
   "outputs": [
    {
     "data": {
      "text/plain": [
       "array([[0, 0, 0, ..., 0, 0, 0],\n",
       "       [0, 0, 0, ..., 0, 0, 0],\n",
       "       [0, 0, 0, ..., 0, 0, 0],\n",
       "       ...,\n",
       "       [0, 0, 0, ..., 0, 0, 0],\n",
       "       [0, 0, 0, ..., 0, 0, 0],\n",
       "       [0, 0, 0, ..., 0, 0, 0]])"
      ]
     },
     "execution_count": 84,
     "metadata": {},
     "output_type": "execute_result"
    }
   ],
   "source": [
    "X_train"
   ]
  },
  {
   "cell_type": "code",
   "execution_count": 85,
   "metadata": {},
   "outputs": [
    {
     "data": {
      "text/plain": [
       "array([[0, 0, 0, ..., 0, 0, 0],\n",
       "       [0, 0, 0, ..., 0, 0, 0],\n",
       "       [0, 0, 0, ..., 0, 0, 0],\n",
       "       ...,\n",
       "       [0, 0, 0, ..., 0, 0, 0],\n",
       "       [0, 0, 0, ..., 0, 0, 0],\n",
       "       [0, 0, 0, ..., 0, 0, 0]])"
      ]
     },
     "execution_count": 85,
     "metadata": {},
     "output_type": "execute_result"
    }
   ],
   "source": [
    "X_test"
   ]
  },
  {
   "cell_type": "code",
   "execution_count": 86,
   "metadata": {},
   "outputs": [
    {
     "data": {
      "text/plain": [
       "array([[0, 0, 0, ..., 0, 0, 0],\n",
       "       [0, 0, 0, ..., 0, 0, 0],\n",
       "       [0, 1, 0, ..., 0, 1, 0],\n",
       "       ...,\n",
       "       [0, 0, 0, ..., 0, 0, 0],\n",
       "       [0, 0, 0, ..., 1, 0, 0],\n",
       "       [0, 0, 1, ..., 0, 0, 0]])"
      ]
     },
     "execution_count": 86,
     "metadata": {},
     "output_type": "execute_result"
    }
   ],
   "source": [
    "y_train"
   ]
  },
  {
   "cell_type": "code",
   "execution_count": 87,
   "metadata": {},
   "outputs": [
    {
     "data": {
      "text/plain": [
       "array([[0, 0, 0, ..., 1, 0, 0],\n",
       "       [0, 1, 0, ..., 0, 1, 0],\n",
       "       [0, 0, 0, ..., 0, 0, 0],\n",
       "       ...,\n",
       "       [0, 0, 0, ..., 0, 0, 0],\n",
       "       [0, 0, 0, ..., 0, 0, 0],\n",
       "       [0, 0, 0, ..., 1, 0, 0]])"
      ]
     },
     "execution_count": 87,
     "metadata": {},
     "output_type": "execute_result"
    }
   ],
   "source": [
    "y_test"
   ]
  },
  {
   "cell_type": "markdown",
   "metadata": {},
   "source": [
    "### Model"
   ]
  },
  {
   "cell_type": "code",
   "execution_count": 88,
   "metadata": {},
   "outputs": [],
   "source": [
    "from keras.models import Sequential\n",
    "from keras.layers.core import Dense, Dropout, Activation, Flatten\n",
    "from keras.preprocessing.text import Tokenizer\n",
    "import tensorflow as tf\n",
    "from keras import layers\n",
    "import keras.optimizers as opts\n",
    "from keras import backend as K\n",
    "from keras.layers.recurrent import LSTM\n",
    "from keras.layers.embeddings import Embedding\n",
    "from keras.preprocessing import sequence\n",
    "from livelossplot import PlotLossesKeras\n",
    "#from keras.optimizers import SGD\n",
    "from keras.layers import GaussianNoise\n",
    "from tensorflow import keras\n",
    "from tensorflow.keras.callbacks import EarlyStopping"
   ]
  },
  {
   "cell_type": "code",
   "execution_count": 93,
   "metadata": {},
   "outputs": [
    {
     "name": "stdout",
     "output_type": "stream",
     "text": [
      "Model: \"sequential\"\n",
      "_________________________________________________________________\n",
      "Layer (type)                 Output Shape              Param #   \n",
      "=================================================================\n",
      "embedding (Embedding)        (None, 9000, 6)           54006     \n",
      "_________________________________________________________________\n",
      "flatten (Flatten)            (None, 54000)             0         \n",
      "_________________________________________________________________\n",
      "dropout (Dropout)            (None, 54000)             0         \n",
      "_________________________________________________________________\n",
      "dense (Dense)                (None, 400)               21600400  \n",
      "_________________________________________________________________\n",
      "gaussian_noise (GaussianNois (None, 400)               0         \n",
      "_________________________________________________________________\n",
      "dense_1 (Dense)              (None, 24)                9624      \n",
      "=================================================================\n",
      "Total params: 21,664,030\n",
      "Trainable params: 21,664,030\n",
      "Non-trainable params: 0\n",
      "_________________________________________________________________\n"
     ]
    }
   ],
   "source": [
    "# Model\n",
    "K.clear_session()\n",
    "model = Sequential()\n",
    "model.add(layers.Embedding(input_dim=len(vocabulary) + 1, output_dim=6,   input_length=X_train.shape[1]))  \n",
    "model.add(layers.Flatten())\n",
    "model.add(Dropout(0.1))\n",
    "model.add(layers.Dense(400,activation='sigmoid')) \n",
    "model.add(GaussianNoise(0.1))\n",
    "model.add(layers.Dense(24, activation='sigmoid'))\n",
    "metric = tf.keras.metrics.AUC(multi_label = True)\n",
    "model.compile(loss='binary_crossentropy', optimizer='rmsprop', metrics=[metric]) \n",
    "model.summary()"
   ]
  },
  {
   "cell_type": "code",
   "execution_count": 94,
   "metadata": {},
   "outputs": [
    {
     "data": {
      "image/png": "[encoded data removed]",
      "text/plain": [
       "<Figure size 864x576 with 2 Axes>"
      ]
     },
     "metadata": {
      "needs_background": "light"
     },
     "output_type": "display_data"
    },
    {
     "name": "stdout",
     "output_type": "stream",
     "text": [
      "auc\n",
      "\ttraining         \t (min:    0.501, max:    0.855, cur:    0.855)\n",
      "\tvalidation       \t (min:    0.503, max:    0.862, cur:    0.862)\n",
      "Loss\n",
      "\ttraining         \t (min:    0.072, max:    0.306, cur:    0.072)\n",
      "\tvalidation       \t (min:    0.209, max:    0.300, cur:    0.231)\n"
     ]
    },
    {
     "data": {
      "text/plain": [
       "<keras.callbacks.History at 0x7fd48721c430>"
      ]
     },
     "execution_count": 94,
     "metadata": {},
     "output_type": "execute_result"
    }
   ],
   "source": [
    "model.fit(X_train, y_train, validation_data=(X_test, y_test), batch_size=128, epochs=10, verbose=1,\n",
    "          callbacks=[PlotLossesKeras()])"
   ]
  },
  {
   "cell_type": "code",
   "execution_count": 100,
   "metadata": {},
   "outputs": [
    {
     "data": {
      "text/plain": [
       "0.8846028737772631"
      ]
     },
     "execution_count": 100,
     "metadata": {},
     "output_type": "execute_result"
    }
   ],
   "source": [
    "y_pred = model.predict_proba(X_test)\n",
    "roc_auc_score(y_test, y_pred, average='macro')"
   ]
  },
  {
   "cell_type": "markdown",
   "metadata": {},
   "source": [
    "### Precit over test dataframe"
   ]
  },
  {
   "cell_type": "code",
   "execution_count": 96,
   "metadata": {},
   "outputs": [
    {
     "data": {
      "text/plain": [
       "array([[0, 0, 0, ..., 0, 0, 0],\n",
       "       [0, 0, 0, ..., 0, 0, 0],\n",
       "       [5, 0, 0, ..., 0, 0, 0],\n",
       "       ...,\n",
       "       [0, 0, 0, ..., 0, 0, 0],\n",
       "       [0, 0, 0, ..., 0, 0, 0],\n",
       "       [0, 0, 0, ..., 0, 0, 0]])"
      ]
     },
     "execution_count": 96,
     "metadata": {},
     "output_type": "execute_result"
    }
   ],
   "source": [
    "# Lemmatization\n",
    "X1_dtm = vect.fit_transform(X1)\n",
    "X1_pad=X1_dtm.toarray()\n",
    "X1_pad"
   ]
  },
  {
   "cell_type": "code",
   "execution_count": 97,
   "metadata": {},
   "outputs": [
    {
     "name": "stdout",
     "output_type": "stream",
     "text": [
      "[array(['meet', 'fate', 'shall', 'seal', 'osborn', 'run', 'along', 'beach',\n",
      "       'stumbl', 'upon', 'bottl', 'wash', 'shore', 'insid', 'messag',\n",
      "       'read', 'letter', 'feel', 'move', 'yet', 'felt', 'violat',\n",
      "       'someon', 'thought', 'love', 'man', 'never', 'met', 'track',\n",
      "       'author', 'small', 'town', 'two', 'lover', 'cross', 'path', 'one',\n",
      "       'let', 'go', 'past'], dtype='<U16')]\n",
      "who meets by fate   shall be sealed by fate   theresa osborne is running along the beach when she stumbles upon a bottle washed up on the shore   inside is a message   reading the letter she feels so moved and yet she felt as if she has violated someone  s thoughts   in love with a man she has never met   theresa tracks down the author of the letter to a small town in wilmington   two lovers with crossed paths   but yet one can  t let go of their past \n"
     ]
    }
   ],
   "source": [
    "print(vect.inverse_transform(X1_dtm[0]))\n",
    "print(X1.tolist()[0])"
   ]
  },
  {
   "cell_type": "code",
   "execution_count": 102,
   "metadata": {},
   "outputs": [],
   "source": [
    "# Predict over df_test\n",
    "\n",
    "cols = ['p_Action', 'p_Adventure', 'p_Animation', 'p_Biography', 'p_Comedy', 'p_Crime', 'p_Documentary', 'p_Drama', 'p_Family',\n",
    "        'p_Fantasy', 'p_Film-Noir', 'p_History', 'p_Horror', 'p_Music', 'p_Musical', 'p_Mystery', 'p_News', 'p_Romance',\n",
    "        'p_Sci-Fi', 'p_Short', 'p_Sport', 'p_Thriller', 'p_War', 'p_Western']\n",
    "\n",
    "y_pred_m0=model.predict_proba(X1_pad)\n",
    "y_pred_m0=pd.DataFrame(y_pred_m0, index=df_test.index, columns=cols)"
   ]
  },
  {
   "cell_type": "code",
   "execution_count": 103,
   "metadata": {},
   "outputs": [],
   "source": [
    "# Export\n",
    "y_pred_m0.to_csv('pred_genres_text_NN-3.csv', index_label='ID')"
   ]
  },
  {
   "cell_type": "code",
   "execution_count": null,
   "metadata": {},
   "outputs": [],
   "source": []
  }
 ],
 "metadata": {
  "kernelspec": {
   "display_name": "Python 3",
   "language": "python",
   "name": "python3"
  },
  "language_info": {
   "codemirror_mode": {
    "name": "ipython",
    "version": 3
   },
   "file_extension": ".py",
   "mimetype": "text/x-python",
   "name": "python",
   "nbconvert_exporter": "python",
   "pygments_lexer": "ipython3",
   "version": "3.8.5"
  }
 },
 "nbformat": 4,
 "nbformat_minor": 4
}
